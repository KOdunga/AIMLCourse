{
  "nbformat": 4,
  "nbformat_minor": 0,
  "metadata": {
    "colab": {
      "provenance": [],
      "gpuType": "T4",
      "authorship_tag": "ABX9TyM7gkxxfXftmuIUG4TOn/QZ",
      "include_colab_link": true
    },
    "kernelspec": {
      "name": "python3",
      "display_name": "Python 3"
    },
    "language_info": {
      "name": "python"
    },
    "accelerator": "GPU"
  },
  "cells": [
    {
      "cell_type": "markdown",
      "metadata": {
        "id": "view-in-github",
        "colab_type": "text"
      },
      "source": [
        "<a href=\"https://colab.research.google.com/github/KOdunga/AIMLCourse/blob/main/GradientDescent.ipynb\" target=\"_parent\"><img src=\"https://colab.research.google.com/assets/colab-badge.svg\" alt=\"Open In Colab\"/></a>"
      ]
    },
    {
      "cell_type": "code",
      "execution_count": 2,
      "metadata": {
        "colab": {
          "base_uri": "https://localhost:8080/"
        },
        "id": "56xaweiILXpG",
        "outputId": "b86c0c88-2fce-4580-8feb-a33020c90aa6"
      },
      "outputs": [
        {
          "output_type": "stream",
          "name": "stdout",
          "text": [
            "Mounted at /content/drive/\n"
          ]
        }
      ],
      "source": [
        "from google.colab import drive\n",
        "drive.mount('/content/drive/')"
      ]
    },
    {
      "cell_type": "code",
      "source": [
        "import pandas as pd\n",
        "data = pd.read_csv(\"/content/ann_used_cars.csv\", usecols=[\"mileage\", \"price\"])\n",
        "data.head()"
      ],
      "metadata": {
        "colab": {
          "base_uri": "https://localhost:8080/",
          "height": 206
        },
        "id": "WQM0TeqILwAV",
        "outputId": "e2ab8f52-16c4-45b0-88e3-0d8ccae9423e"
      },
      "execution_count": 3,
      "outputs": [
        {
          "output_type": "execute_result",
          "data": {
            "text/plain": [
              "   mileage  price\n",
              "0     7413  21992\n",
              "1    10926  20995\n",
              "2     7351  19995\n",
              "3    11613  17809\n",
              "4     8367  17500"
            ],
            "text/html": [
              "\n",
              "  <div id=\"df-44bb42b5-4ae0-4c94-a012-d31340351999\" class=\"colab-df-container\">\n",
              "    <div>\n",
              "<style scoped>\n",
              "    .dataframe tbody tr th:only-of-type {\n",
              "        vertical-align: middle;\n",
              "    }\n",
              "\n",
              "    .dataframe tbody tr th {\n",
              "        vertical-align: top;\n",
              "    }\n",
              "\n",
              "    .dataframe thead th {\n",
              "        text-align: right;\n",
              "    }\n",
              "</style>\n",
              "<table border=\"1\" class=\"dataframe\">\n",
              "  <thead>\n",
              "    <tr style=\"text-align: right;\">\n",
              "      <th></th>\n",
              "      <th>mileage</th>\n",
              "      <th>price</th>\n",
              "    </tr>\n",
              "  </thead>\n",
              "  <tbody>\n",
              "    <tr>\n",
              "      <th>0</th>\n",
              "      <td>7413</td>\n",
              "      <td>21992</td>\n",
              "    </tr>\n",
              "    <tr>\n",
              "      <th>1</th>\n",
              "      <td>10926</td>\n",
              "      <td>20995</td>\n",
              "    </tr>\n",
              "    <tr>\n",
              "      <th>2</th>\n",
              "      <td>7351</td>\n",
              "      <td>19995</td>\n",
              "    </tr>\n",
              "    <tr>\n",
              "      <th>3</th>\n",
              "      <td>11613</td>\n",
              "      <td>17809</td>\n",
              "    </tr>\n",
              "    <tr>\n",
              "      <th>4</th>\n",
              "      <td>8367</td>\n",
              "      <td>17500</td>\n",
              "    </tr>\n",
              "  </tbody>\n",
              "</table>\n",
              "</div>\n",
              "    <div class=\"colab-df-buttons\">\n",
              "\n",
              "  <div class=\"colab-df-container\">\n",
              "    <button class=\"colab-df-convert\" onclick=\"convertToInteractive('df-44bb42b5-4ae0-4c94-a012-d31340351999')\"\n",
              "            title=\"Convert this dataframe to an interactive table.\"\n",
              "            style=\"display:none;\">\n",
              "\n",
              "  <svg xmlns=\"http://www.w3.org/2000/svg\" height=\"24px\" viewBox=\"0 -960 960 960\">\n",
              "    <path d=\"M120-120v-720h720v720H120Zm60-500h600v-160H180v160Zm220 220h160v-160H400v160Zm0 220h160v-160H400v160ZM180-400h160v-160H180v160Zm440 0h160v-160H620v160ZM180-180h160v-160H180v160Zm440 0h160v-160H620v160Z\"/>\n",
              "  </svg>\n",
              "    </button>\n",
              "\n",
              "  <style>\n",
              "    .colab-df-container {\n",
              "      display:flex;\n",
              "      gap: 12px;\n",
              "    }\n",
              "\n",
              "    .colab-df-convert {\n",
              "      background-color: #E8F0FE;\n",
              "      border: none;\n",
              "      border-radius: 50%;\n",
              "      cursor: pointer;\n",
              "      display: none;\n",
              "      fill: #1967D2;\n",
              "      height: 32px;\n",
              "      padding: 0 0 0 0;\n",
              "      width: 32px;\n",
              "    }\n",
              "\n",
              "    .colab-df-convert:hover {\n",
              "      background-color: #E2EBFA;\n",
              "      box-shadow: 0px 1px 2px rgba(60, 64, 67, 0.3), 0px 1px 3px 1px rgba(60, 64, 67, 0.15);\n",
              "      fill: #174EA6;\n",
              "    }\n",
              "\n",
              "    .colab-df-buttons div {\n",
              "      margin-bottom: 4px;\n",
              "    }\n",
              "\n",
              "    [theme=dark] .colab-df-convert {\n",
              "      background-color: #3B4455;\n",
              "      fill: #D2E3FC;\n",
              "    }\n",
              "\n",
              "    [theme=dark] .colab-df-convert:hover {\n",
              "      background-color: #434B5C;\n",
              "      box-shadow: 0px 1px 3px 1px rgba(0, 0, 0, 0.15);\n",
              "      filter: drop-shadow(0px 1px 2px rgba(0, 0, 0, 0.3));\n",
              "      fill: #FFFFFF;\n",
              "    }\n",
              "  </style>\n",
              "\n",
              "    <script>\n",
              "      const buttonEl =\n",
              "        document.querySelector('#df-44bb42b5-4ae0-4c94-a012-d31340351999 button.colab-df-convert');\n",
              "      buttonEl.style.display =\n",
              "        google.colab.kernel.accessAllowed ? 'block' : 'none';\n",
              "\n",
              "      async function convertToInteractive(key) {\n",
              "        const element = document.querySelector('#df-44bb42b5-4ae0-4c94-a012-d31340351999');\n",
              "        const dataTable =\n",
              "          await google.colab.kernel.invokeFunction('convertToInteractive',\n",
              "                                                    [key], {});\n",
              "        if (!dataTable) return;\n",
              "\n",
              "        const docLinkHtml = 'Like what you see? Visit the ' +\n",
              "          '<a target=\"_blank\" href=https://colab.research.google.com/notebooks/data_table.ipynb>data table notebook</a>'\n",
              "          + ' to learn more about interactive tables.';\n",
              "        element.innerHTML = '';\n",
              "        dataTable['output_type'] = 'display_data';\n",
              "        await google.colab.output.renderOutput(dataTable, element);\n",
              "        const docLink = document.createElement('div');\n",
              "        docLink.innerHTML = docLinkHtml;\n",
              "        element.appendChild(docLink);\n",
              "      }\n",
              "    </script>\n",
              "  </div>\n",
              "\n",
              "\n",
              "<div id=\"df-77a10c28-1157-4b3a-8364-c5978be35110\">\n",
              "  <button class=\"colab-df-quickchart\" onclick=\"quickchart('df-77a10c28-1157-4b3a-8364-c5978be35110')\"\n",
              "            title=\"Suggest charts\"\n",
              "            style=\"display:none;\">\n",
              "\n",
              "<svg xmlns=\"http://www.w3.org/2000/svg\" height=\"24px\"viewBox=\"0 0 24 24\"\n",
              "     width=\"24px\">\n",
              "    <g>\n",
              "        <path d=\"M19 3H5c-1.1 0-2 .9-2 2v14c0 1.1.9 2 2 2h14c1.1 0 2-.9 2-2V5c0-1.1-.9-2-2-2zM9 17H7v-7h2v7zm4 0h-2V7h2v10zm4 0h-2v-4h2v4z\"/>\n",
              "    </g>\n",
              "</svg>\n",
              "  </button>\n",
              "\n",
              "<style>\n",
              "  .colab-df-quickchart {\n",
              "      --bg-color: #E8F0FE;\n",
              "      --fill-color: #1967D2;\n",
              "      --hover-bg-color: #E2EBFA;\n",
              "      --hover-fill-color: #174EA6;\n",
              "      --disabled-fill-color: #AAA;\n",
              "      --disabled-bg-color: #DDD;\n",
              "  }\n",
              "\n",
              "  [theme=dark] .colab-df-quickchart {\n",
              "      --bg-color: #3B4455;\n",
              "      --fill-color: #D2E3FC;\n",
              "      --hover-bg-color: #434B5C;\n",
              "      --hover-fill-color: #FFFFFF;\n",
              "      --disabled-bg-color: #3B4455;\n",
              "      --disabled-fill-color: #666;\n",
              "  }\n",
              "\n",
              "  .colab-df-quickchart {\n",
              "    background-color: var(--bg-color);\n",
              "    border: none;\n",
              "    border-radius: 50%;\n",
              "    cursor: pointer;\n",
              "    display: none;\n",
              "    fill: var(--fill-color);\n",
              "    height: 32px;\n",
              "    padding: 0;\n",
              "    width: 32px;\n",
              "  }\n",
              "\n",
              "  .colab-df-quickchart:hover {\n",
              "    background-color: var(--hover-bg-color);\n",
              "    box-shadow: 0 1px 2px rgba(60, 64, 67, 0.3), 0 1px 3px 1px rgba(60, 64, 67, 0.15);\n",
              "    fill: var(--button-hover-fill-color);\n",
              "  }\n",
              "\n",
              "  .colab-df-quickchart-complete:disabled,\n",
              "  .colab-df-quickchart-complete:disabled:hover {\n",
              "    background-color: var(--disabled-bg-color);\n",
              "    fill: var(--disabled-fill-color);\n",
              "    box-shadow: none;\n",
              "  }\n",
              "\n",
              "  .colab-df-spinner {\n",
              "    border: 2px solid var(--fill-color);\n",
              "    border-color: transparent;\n",
              "    border-bottom-color: var(--fill-color);\n",
              "    animation:\n",
              "      spin 1s steps(1) infinite;\n",
              "  }\n",
              "\n",
              "  @keyframes spin {\n",
              "    0% {\n",
              "      border-color: transparent;\n",
              "      border-bottom-color: var(--fill-color);\n",
              "      border-left-color: var(--fill-color);\n",
              "    }\n",
              "    20% {\n",
              "      border-color: transparent;\n",
              "      border-left-color: var(--fill-color);\n",
              "      border-top-color: var(--fill-color);\n",
              "    }\n",
              "    30% {\n",
              "      border-color: transparent;\n",
              "      border-left-color: var(--fill-color);\n",
              "      border-top-color: var(--fill-color);\n",
              "      border-right-color: var(--fill-color);\n",
              "    }\n",
              "    40% {\n",
              "      border-color: transparent;\n",
              "      border-right-color: var(--fill-color);\n",
              "      border-top-color: var(--fill-color);\n",
              "    }\n",
              "    60% {\n",
              "      border-color: transparent;\n",
              "      border-right-color: var(--fill-color);\n",
              "    }\n",
              "    80% {\n",
              "      border-color: transparent;\n",
              "      border-right-color: var(--fill-color);\n",
              "      border-bottom-color: var(--fill-color);\n",
              "    }\n",
              "    90% {\n",
              "      border-color: transparent;\n",
              "      border-bottom-color: var(--fill-color);\n",
              "    }\n",
              "  }\n",
              "</style>\n",
              "\n",
              "  <script>\n",
              "    async function quickchart(key) {\n",
              "      const quickchartButtonEl =\n",
              "        document.querySelector('#' + key + ' button');\n",
              "      quickchartButtonEl.disabled = true;  // To prevent multiple clicks.\n",
              "      quickchartButtonEl.classList.add('colab-df-spinner');\n",
              "      try {\n",
              "        const charts = await google.colab.kernel.invokeFunction(\n",
              "            'suggestCharts', [key], {});\n",
              "      } catch (error) {\n",
              "        console.error('Error during call to suggestCharts:', error);\n",
              "      }\n",
              "      quickchartButtonEl.classList.remove('colab-df-spinner');\n",
              "      quickchartButtonEl.classList.add('colab-df-quickchart-complete');\n",
              "    }\n",
              "    (() => {\n",
              "      let quickchartButtonEl =\n",
              "        document.querySelector('#df-77a10c28-1157-4b3a-8364-c5978be35110 button');\n",
              "      quickchartButtonEl.style.display =\n",
              "        google.colab.kernel.accessAllowed ? 'block' : 'none';\n",
              "    })();\n",
              "  </script>\n",
              "</div>\n",
              "\n",
              "    </div>\n",
              "  </div>\n"
            ]
          },
          "metadata": {},
          "execution_count": 3
        }
      ]
    },
    {
      "cell_type": "code",
      "source": [
        "from sklearn.model_selection import train_test_split\n",
        "X_train, X_test, y_train, y_test = train_test_split(data['mileage'], data['price'], test_size=0.3, random_state=42)"
      ],
      "metadata": {
        "id": "su-oEku0MQRH"
      },
      "execution_count": 4,
      "outputs": []
    },
    {
      "cell_type": "code",
      "source": [
        "#Normalizing\n",
        "import numpy as np\n",
        "X_train = np.atleast_2d(X_train).T\n",
        "from sklearn import preprocessing\n",
        "scaler = preprocessing.MinMaxScaler()\n",
        "X_train = scaler.fit_transform(X_train)"
      ],
      "metadata": {
        "id": "HJ4hYJm8MTjh"
      },
      "execution_count": 5,
      "outputs": []
    },
    {
      "cell_type": "code",
      "source": [
        "#Convert Data sets to Tensors\n",
        "import tensorflow as tf\n",
        "X_train = tf.convert_to_tensor(X_train, dtype = tf.float32)\n",
        "y_train = tf.convert_to_tensor(y_train, dtype = tf.float32)"
      ],
      "metadata": {
        "id": "EjYLADPXMxxz"
      },
      "execution_count": 6,
      "outputs": []
    },
    {
      "cell_type": "markdown",
      "source": [
        "## Gradient Descent"
      ],
      "metadata": {
        "id": "qRKf03NmNGpW"
      }
    },
    {
      "cell_type": "code",
      "source": [
        "input_dim = X_train.shape[1]\n",
        "output_dim = 1\n",
        "learning_rate = 0.01\n",
        "\n",
        "weight = tf.Variable(tf.random.normal([input_dim, output_dim]))\n",
        "bias = tf.Variable(tf.random.normal([output_dim,]))\n",
        "print(weight)\n",
        "print(bias)"
      ],
      "metadata": {
        "colab": {
          "base_uri": "https://localhost:8080/"
        },
        "id": "dDvIleXfNDxV",
        "outputId": "ff10e0f6-530c-4200-8ad0-719154233229"
      },
      "execution_count": 7,
      "outputs": [
        {
          "output_type": "stream",
          "name": "stdout",
          "text": [
            "<tf.Variable 'Variable:0' shape=(1, 1) dtype=float32, numpy=array([[2.3559344]], dtype=float32)>\n",
            "<tf.Variable 'Variable:0' shape=(1,) dtype=float32, numpy=array([0.73969686], dtype=float32)>\n"
          ]
        }
      ]
    },
    {
      "cell_type": "markdown",
      "source": [
        "### **Step 2: Take a step in the direction with the steepest gradient**\n",
        "### **Step 3: Calculate the new loss**\n",
        "### **Step 4: Repeat steps 2 and 3**"
      ],
      "metadata": {
        "id": "9Z9AemhMN0UI"
      }
    },
    {
      "cell_type": "code",
      "source": [
        "for steps in range(100):\n",
        "  with tf.GradientTape() as tape:\n",
        "    #Predict\n",
        "    predictions = tf.matmul(X_train, weight) + bias\n",
        "\n",
        "    #Calculate Loss\n",
        "    loss = tf.reduce_mean(tf.square(y_train  - predictions)) #mean square error\n",
        "    dloss_dw, dloss_db = tape.gradient(loss, [weight, bias])\n",
        "\n",
        "    weight.assign_sub(learning_rate* dloss_dw)\n",
        "    bias.assign_sub(learning_rate *dloss_db)\n",
        "\n",
        "    print('Step %d: Weight:1%d Bias:%d Loss = %.0f' %(steps+1, weight, bias, loss))"
      ],
      "metadata": {
        "colab": {
          "base_uri": "https://localhost:8080/"
        },
        "id": "zPKqcisDNvYC",
        "outputId": "555070da-025c-4387-ce62-c3a3189c188e"
      },
      "execution_count": 8,
      "outputs": [
        {
          "output_type": "stream",
          "name": "stdout",
          "text": [
            "Step 1: Weight:169 Bias:258 Loss = 175127232\n",
            "Step 2: Weight:1134 Bias:510 Loss = 168130176\n",
            "Step 3: Weight:1198 Bias:756 Loss = 161429344\n",
            "Step 4: Weight:1261 Bias:997 Loss = 155012224\n",
            "Step 5: Weight:1322 Bias:1233 Loss = 148866768\n",
            "Step 6: Weight:1382 Bias:1464 Loss = 142981456\n",
            "Step 7: Weight:1441 Bias:1691 Loss = 137345328\n",
            "Step 8: Weight:1498 Bias:1912 Loss = 131947808\n",
            "Step 9: Weight:1554 Bias:2128 Loss = 126778792\n",
            "Step 10: Weight:1609 Bias:2340 Loss = 121828600\n",
            "Step 11: Weight:1662 Bias:2548 Loss = 117087992\n",
            "Step 12: Weight:1715 Bias:2751 Loss = 112548064\n",
            "Step 13: Weight:1766 Bias:2949 Loss = 108200336\n",
            "Step 14: Weight:1816 Bias:3144 Loss = 104036664\n",
            "Step 15: Weight:1865 Bias:3334 Loss = 100049272\n",
            "Step 16: Weight:1913 Bias:3520 Loss = 96230680\n",
            "Step 17: Weight:1959 Bias:3703 Loss = 92573736\n",
            "Step 18: Weight:11005 Bias:3881 Loss = 89071608\n",
            "Step 19: Weight:11050 Bias:4055 Loss = 85717744\n",
            "Step 20: Weight:11094 Bias:4226 Loss = 82505856\n",
            "Step 21: Weight:11136 Bias:4393 Loss = 79429928\n",
            "Step 22: Weight:11178 Bias:4557 Loss = 76484224\n",
            "Step 23: Weight:11219 Bias:4717 Loss = 73663216\n",
            "Step 24: Weight:11259 Bias:4874 Loss = 70961632\n",
            "Step 25: Weight:11298 Bias:5027 Loss = 68374416\n",
            "Step 26: Weight:11336 Bias:5177 Loss = 65896712\n",
            "Step 27: Weight:11373 Bias:5324 Loss = 63523900\n",
            "Step 28: Weight:11410 Bias:5468 Loss = 61251520\n",
            "Step 29: Weight:11445 Bias:5609 Loss = 59075344\n",
            "Step 30: Weight:11480 Bias:5746 Loss = 56991288\n",
            "Step 31: Weight:11514 Bias:5881 Loss = 54995432\n",
            "Step 32: Weight:11548 Bias:6013 Loss = 53084076\n",
            "Step 33: Weight:11580 Bias:6142 Loss = 51253624\n",
            "Step 34: Weight:11612 Bias:6268 Loss = 49500652\n",
            "Step 35: Weight:11643 Bias:6392 Loss = 47821884\n",
            "Step 36: Weight:11673 Bias:6513 Loss = 46214176\n",
            "Step 37: Weight:11703 Bias:6632 Loss = 44674508\n",
            "Step 38: Weight:11732 Bias:6747 Loss = 43200020\n",
            "Step 39: Weight:11760 Bias:6861 Loss = 41787940\n",
            "Step 40: Weight:11788 Bias:6972 Loss = 40435628\n",
            "Step 41: Weight:11815 Bias:7081 Loss = 39140556\n",
            "Step 42: Weight:11841 Bias:7187 Loss = 37900292\n",
            "Step 43: Weight:11867 Bias:7291 Loss = 36712532\n",
            "Step 44: Weight:11892 Bias:7393 Loss = 35575032\n",
            "Step 45: Weight:11917 Bias:7492 Loss = 34485680\n",
            "Step 46: Weight:11941 Bias:7590 Loss = 33442430\n",
            "Step 47: Weight:11965 Bias:7686 Loss = 32443336\n",
            "Step 48: Weight:11988 Bias:7779 Loss = 31486520\n",
            "Step 49: Weight:12010 Bias:7870 Loss = 30570196\n",
            "Step 50: Weight:12032 Bias:7960 Loss = 29692650\n",
            "Step 51: Weight:12053 Bias:8048 Loss = 28852244\n",
            "Step 52: Weight:12074 Bias:8133 Loss = 28047402\n",
            "Step 53: Weight:12095 Bias:8217 Loss = 27276612\n",
            "Step 54: Weight:12115 Bias:8299 Loss = 26538448\n",
            "Step 55: Weight:12134 Bias:8380 Loss = 25831516\n",
            "Step 56: Weight:12153 Bias:8459 Loss = 25154498\n",
            "Step 57: Weight:12172 Bias:8536 Loss = 24506126\n",
            "Step 58: Weight:12190 Bias:8611 Loss = 23885188\n",
            "Step 59: Weight:12207 Bias:8685 Loss = 23290522\n",
            "Step 60: Weight:12225 Bias:8757 Loss = 22721018\n",
            "Step 61: Weight:12242 Bias:8828 Loss = 22175606\n",
            "Step 62: Weight:12258 Bias:8897 Loss = 21653270\n",
            "Step 63: Weight:12274 Bias:8965 Loss = 21153032\n",
            "Step 64: Weight:12290 Bias:9031 Loss = 20673956\n",
            "Step 65: Weight:12305 Bias:9096 Loss = 20215148\n",
            "Step 66: Weight:12320 Bias:9159 Loss = 19775748\n",
            "Step 67: Weight:12335 Bias:9221 Loss = 19354936\n",
            "Step 68: Weight:12349 Bias:9282 Loss = 18951916\n",
            "Step 69: Weight:12363 Bias:9342 Loss = 18565948\n",
            "Step 70: Weight:12376 Bias:9400 Loss = 18196300\n",
            "Step 71: Weight:12389 Bias:9457 Loss = 17842288\n",
            "Step 72: Weight:12402 Bias:9513 Loss = 17503248\n",
            "Step 73: Weight:12415 Bias:9567 Loss = 17178544\n",
            "Step 74: Weight:12427 Bias:9621 Loss = 16867570\n",
            "Step 75: Weight:12439 Bias:9673 Loss = 16569746\n",
            "Step 76: Weight:12451 Bias:9724 Loss = 16284513\n",
            "Step 77: Weight:12462 Bias:9775 Loss = 16011338\n",
            "Step 78: Weight:12473 Bias:9824 Loss = 15749716\n",
            "Step 79: Weight:12484 Bias:9872 Loss = 15499151\n",
            "Step 80: Weight:12495 Bias:9919 Loss = 15259179\n",
            "Step 81: Weight:12505 Bias:9965 Loss = 15029347\n",
            "Step 82: Weight:12515 Bias:10010 Loss = 14809232\n",
            "Step 83: Weight:12525 Bias:10054 Loss = 14598417\n",
            "Step 84: Weight:12534 Bias:10097 Loss = 14396510\n",
            "Step 85: Weight:12543 Bias:10139 Loss = 14203137\n",
            "Step 86: Weight:12552 Bias:10181 Loss = 14017935\n",
            "Step 87: Weight:12561 Bias:10221 Loss = 13840558\n",
            "Step 88: Weight:12570 Bias:10261 Loss = 13670671\n",
            "Step 89: Weight:12578 Bias:10300 Loss = 13507961\n",
            "Step 90: Weight:12586 Bias:10338 Loss = 13352125\n",
            "Step 91: Weight:12594 Bias:10375 Loss = 13202869\n",
            "Step 92: Weight:12602 Bias:10411 Loss = 13059916\n",
            "Step 93: Weight:12609 Bias:10447 Loss = 12922995\n",
            "Step 94: Weight:12617 Bias:10482 Loss = 12791857\n",
            "Step 95: Weight:12624 Bias:10516 Loss = 12666254\n",
            "Step 96: Weight:12630 Bias:10549 Loss = 12545953\n",
            "Step 97: Weight:12637 Bias:10582 Loss = 12430730\n",
            "Step 98: Weight:12644 Bias:10614 Loss = 12320368\n",
            "Step 99: Weight:12650 Bias:10646 Loss = 12214661\n",
            "Step 100: Weight:12656 Bias:10676 Loss = 12113413\n"
          ]
        }
      ]
    },
    {
      "cell_type": "markdown",
      "source": [
        "## Calculating the Gradient Example"
      ],
      "metadata": {
        "id": "KWaxUXH1Wk8a"
      }
    },
    {
      "cell_type": "code",
      "source": [
        "import matplotlib.pyplot as plt\n",
        "import numpy as np\n",
        "import pandas as pd\n",
        "\n",
        "# Create DataFrame\n",
        "data = {'height':[80,79,85,90,95,75,80,90,81,85],\n",
        "        'weight':[183.5,180,185,190,194.5,177.5,181.5,189,184,188]}\n",
        "data = pd.DataFrame(data)\n",
        "\n",
        "x=data[\"height\"]\n",
        "y=data[\"weight\"]\n",
        "data"
      ],
      "metadata": {
        "colab": {
          "base_uri": "https://localhost:8080/",
          "height": 363
        },
        "id": "YHebq5ukO9tP",
        "outputId": "4a13be99-5ed3-4612-fc1b-5895740eb417"
      },
      "execution_count": 9,
      "outputs": [
        {
          "output_type": "execute_result",
          "data": {
            "text/plain": [
              "   height  weight\n",
              "0      80   183.5\n",
              "1      79   180.0\n",
              "2      85   185.0\n",
              "3      90   190.0\n",
              "4      95   194.5\n",
              "5      75   177.5\n",
              "6      80   181.5\n",
              "7      90   189.0\n",
              "8      81   184.0\n",
              "9      85   188.0"
            ],
            "text/html": [
              "\n",
              "  <div id=\"df-d1ec4af8-fc8b-45c3-bea0-39a156ecaf4b\" class=\"colab-df-container\">\n",
              "    <div>\n",
              "<style scoped>\n",
              "    .dataframe tbody tr th:only-of-type {\n",
              "        vertical-align: middle;\n",
              "    }\n",
              "\n",
              "    .dataframe tbody tr th {\n",
              "        vertical-align: top;\n",
              "    }\n",
              "\n",
              "    .dataframe thead th {\n",
              "        text-align: right;\n",
              "    }\n",
              "</style>\n",
              "<table border=\"1\" class=\"dataframe\">\n",
              "  <thead>\n",
              "    <tr style=\"text-align: right;\">\n",
              "      <th></th>\n",
              "      <th>height</th>\n",
              "      <th>weight</th>\n",
              "    </tr>\n",
              "  </thead>\n",
              "  <tbody>\n",
              "    <tr>\n",
              "      <th>0</th>\n",
              "      <td>80</td>\n",
              "      <td>183.5</td>\n",
              "    </tr>\n",
              "    <tr>\n",
              "      <th>1</th>\n",
              "      <td>79</td>\n",
              "      <td>180.0</td>\n",
              "    </tr>\n",
              "    <tr>\n",
              "      <th>2</th>\n",
              "      <td>85</td>\n",
              "      <td>185.0</td>\n",
              "    </tr>\n",
              "    <tr>\n",
              "      <th>3</th>\n",
              "      <td>90</td>\n",
              "      <td>190.0</td>\n",
              "    </tr>\n",
              "    <tr>\n",
              "      <th>4</th>\n",
              "      <td>95</td>\n",
              "      <td>194.5</td>\n",
              "    </tr>\n",
              "    <tr>\n",
              "      <th>5</th>\n",
              "      <td>75</td>\n",
              "      <td>177.5</td>\n",
              "    </tr>\n",
              "    <tr>\n",
              "      <th>6</th>\n",
              "      <td>80</td>\n",
              "      <td>181.5</td>\n",
              "    </tr>\n",
              "    <tr>\n",
              "      <th>7</th>\n",
              "      <td>90</td>\n",
              "      <td>189.0</td>\n",
              "    </tr>\n",
              "    <tr>\n",
              "      <th>8</th>\n",
              "      <td>81</td>\n",
              "      <td>184.0</td>\n",
              "    </tr>\n",
              "    <tr>\n",
              "      <th>9</th>\n",
              "      <td>85</td>\n",
              "      <td>188.0</td>\n",
              "    </tr>\n",
              "  </tbody>\n",
              "</table>\n",
              "</div>\n",
              "    <div class=\"colab-df-buttons\">\n",
              "\n",
              "  <div class=\"colab-df-container\">\n",
              "    <button class=\"colab-df-convert\" onclick=\"convertToInteractive('df-d1ec4af8-fc8b-45c3-bea0-39a156ecaf4b')\"\n",
              "            title=\"Convert this dataframe to an interactive table.\"\n",
              "            style=\"display:none;\">\n",
              "\n",
              "  <svg xmlns=\"http://www.w3.org/2000/svg\" height=\"24px\" viewBox=\"0 -960 960 960\">\n",
              "    <path d=\"M120-120v-720h720v720H120Zm60-500h600v-160H180v160Zm220 220h160v-160H400v160Zm0 220h160v-160H400v160ZM180-400h160v-160H180v160Zm440 0h160v-160H620v160ZM180-180h160v-160H180v160Zm440 0h160v-160H620v160Z\"/>\n",
              "  </svg>\n",
              "    </button>\n",
              "\n",
              "  <style>\n",
              "    .colab-df-container {\n",
              "      display:flex;\n",
              "      gap: 12px;\n",
              "    }\n",
              "\n",
              "    .colab-df-convert {\n",
              "      background-color: #E8F0FE;\n",
              "      border: none;\n",
              "      border-radius: 50%;\n",
              "      cursor: pointer;\n",
              "      display: none;\n",
              "      fill: #1967D2;\n",
              "      height: 32px;\n",
              "      padding: 0 0 0 0;\n",
              "      width: 32px;\n",
              "    }\n",
              "\n",
              "    .colab-df-convert:hover {\n",
              "      background-color: #E2EBFA;\n",
              "      box-shadow: 0px 1px 2px rgba(60, 64, 67, 0.3), 0px 1px 3px 1px rgba(60, 64, 67, 0.15);\n",
              "      fill: #174EA6;\n",
              "    }\n",
              "\n",
              "    .colab-df-buttons div {\n",
              "      margin-bottom: 4px;\n",
              "    }\n",
              "\n",
              "    [theme=dark] .colab-df-convert {\n",
              "      background-color: #3B4455;\n",
              "      fill: #D2E3FC;\n",
              "    }\n",
              "\n",
              "    [theme=dark] .colab-df-convert:hover {\n",
              "      background-color: #434B5C;\n",
              "      box-shadow: 0px 1px 3px 1px rgba(0, 0, 0, 0.15);\n",
              "      filter: drop-shadow(0px 1px 2px rgba(0, 0, 0, 0.3));\n",
              "      fill: #FFFFFF;\n",
              "    }\n",
              "  </style>\n",
              "\n",
              "    <script>\n",
              "      const buttonEl =\n",
              "        document.querySelector('#df-d1ec4af8-fc8b-45c3-bea0-39a156ecaf4b button.colab-df-convert');\n",
              "      buttonEl.style.display =\n",
              "        google.colab.kernel.accessAllowed ? 'block' : 'none';\n",
              "\n",
              "      async function convertToInteractive(key) {\n",
              "        const element = document.querySelector('#df-d1ec4af8-fc8b-45c3-bea0-39a156ecaf4b');\n",
              "        const dataTable =\n",
              "          await google.colab.kernel.invokeFunction('convertToInteractive',\n",
              "                                                    [key], {});\n",
              "        if (!dataTable) return;\n",
              "\n",
              "        const docLinkHtml = 'Like what you see? Visit the ' +\n",
              "          '<a target=\"_blank\" href=https://colab.research.google.com/notebooks/data_table.ipynb>data table notebook</a>'\n",
              "          + ' to learn more about interactive tables.';\n",
              "        element.innerHTML = '';\n",
              "        dataTable['output_type'] = 'display_data';\n",
              "        await google.colab.output.renderOutput(dataTable, element);\n",
              "        const docLink = document.createElement('div');\n",
              "        docLink.innerHTML = docLinkHtml;\n",
              "        element.appendChild(docLink);\n",
              "      }\n",
              "    </script>\n",
              "  </div>\n",
              "\n",
              "\n",
              "<div id=\"df-3f3ce677-e524-4164-833e-ca8a8452ef03\">\n",
              "  <button class=\"colab-df-quickchart\" onclick=\"quickchart('df-3f3ce677-e524-4164-833e-ca8a8452ef03')\"\n",
              "            title=\"Suggest charts\"\n",
              "            style=\"display:none;\">\n",
              "\n",
              "<svg xmlns=\"http://www.w3.org/2000/svg\" height=\"24px\"viewBox=\"0 0 24 24\"\n",
              "     width=\"24px\">\n",
              "    <g>\n",
              "        <path d=\"M19 3H5c-1.1 0-2 .9-2 2v14c0 1.1.9 2 2 2h14c1.1 0 2-.9 2-2V5c0-1.1-.9-2-2-2zM9 17H7v-7h2v7zm4 0h-2V7h2v10zm4 0h-2v-4h2v4z\"/>\n",
              "    </g>\n",
              "</svg>\n",
              "  </button>\n",
              "\n",
              "<style>\n",
              "  .colab-df-quickchart {\n",
              "      --bg-color: #E8F0FE;\n",
              "      --fill-color: #1967D2;\n",
              "      --hover-bg-color: #E2EBFA;\n",
              "      --hover-fill-color: #174EA6;\n",
              "      --disabled-fill-color: #AAA;\n",
              "      --disabled-bg-color: #DDD;\n",
              "  }\n",
              "\n",
              "  [theme=dark] .colab-df-quickchart {\n",
              "      --bg-color: #3B4455;\n",
              "      --fill-color: #D2E3FC;\n",
              "      --hover-bg-color: #434B5C;\n",
              "      --hover-fill-color: #FFFFFF;\n",
              "      --disabled-bg-color: #3B4455;\n",
              "      --disabled-fill-color: #666;\n",
              "  }\n",
              "\n",
              "  .colab-df-quickchart {\n",
              "    background-color: var(--bg-color);\n",
              "    border: none;\n",
              "    border-radius: 50%;\n",
              "    cursor: pointer;\n",
              "    display: none;\n",
              "    fill: var(--fill-color);\n",
              "    height: 32px;\n",
              "    padding: 0;\n",
              "    width: 32px;\n",
              "  }\n",
              "\n",
              "  .colab-df-quickchart:hover {\n",
              "    background-color: var(--hover-bg-color);\n",
              "    box-shadow: 0 1px 2px rgba(60, 64, 67, 0.3), 0 1px 3px 1px rgba(60, 64, 67, 0.15);\n",
              "    fill: var(--button-hover-fill-color);\n",
              "  }\n",
              "\n",
              "  .colab-df-quickchart-complete:disabled,\n",
              "  .colab-df-quickchart-complete:disabled:hover {\n",
              "    background-color: var(--disabled-bg-color);\n",
              "    fill: var(--disabled-fill-color);\n",
              "    box-shadow: none;\n",
              "  }\n",
              "\n",
              "  .colab-df-spinner {\n",
              "    border: 2px solid var(--fill-color);\n",
              "    border-color: transparent;\n",
              "    border-bottom-color: var(--fill-color);\n",
              "    animation:\n",
              "      spin 1s steps(1) infinite;\n",
              "  }\n",
              "\n",
              "  @keyframes spin {\n",
              "    0% {\n",
              "      border-color: transparent;\n",
              "      border-bottom-color: var(--fill-color);\n",
              "      border-left-color: var(--fill-color);\n",
              "    }\n",
              "    20% {\n",
              "      border-color: transparent;\n",
              "      border-left-color: var(--fill-color);\n",
              "      border-top-color: var(--fill-color);\n",
              "    }\n",
              "    30% {\n",
              "      border-color: transparent;\n",
              "      border-left-color: var(--fill-color);\n",
              "      border-top-color: var(--fill-color);\n",
              "      border-right-color: var(--fill-color);\n",
              "    }\n",
              "    40% {\n",
              "      border-color: transparent;\n",
              "      border-right-color: var(--fill-color);\n",
              "      border-top-color: var(--fill-color);\n",
              "    }\n",
              "    60% {\n",
              "      border-color: transparent;\n",
              "      border-right-color: var(--fill-color);\n",
              "    }\n",
              "    80% {\n",
              "      border-color: transparent;\n",
              "      border-right-color: var(--fill-color);\n",
              "      border-bottom-color: var(--fill-color);\n",
              "    }\n",
              "    90% {\n",
              "      border-color: transparent;\n",
              "      border-bottom-color: var(--fill-color);\n",
              "    }\n",
              "  }\n",
              "</style>\n",
              "\n",
              "  <script>\n",
              "    async function quickchart(key) {\n",
              "      const quickchartButtonEl =\n",
              "        document.querySelector('#' + key + ' button');\n",
              "      quickchartButtonEl.disabled = true;  // To prevent multiple clicks.\n",
              "      quickchartButtonEl.classList.add('colab-df-spinner');\n",
              "      try {\n",
              "        const charts = await google.colab.kernel.invokeFunction(\n",
              "            'suggestCharts', [key], {});\n",
              "      } catch (error) {\n",
              "        console.error('Error during call to suggestCharts:', error);\n",
              "      }\n",
              "      quickchartButtonEl.classList.remove('colab-df-spinner');\n",
              "      quickchartButtonEl.classList.add('colab-df-quickchart-complete');\n",
              "    }\n",
              "    (() => {\n",
              "      let quickchartButtonEl =\n",
              "        document.querySelector('#df-3f3ce677-e524-4164-833e-ca8a8452ef03 button');\n",
              "      quickchartButtonEl.style.display =\n",
              "        google.colab.kernel.accessAllowed ? 'block' : 'none';\n",
              "    })();\n",
              "  </script>\n",
              "</div>\n",
              "\n",
              "  <div id=\"id_2dcd62d0-7a70-4959-b4a3-6f5c344e675b\">\n",
              "    <style>\n",
              "      .colab-df-generate {\n",
              "        background-color: #E8F0FE;\n",
              "        border: none;\n",
              "        border-radius: 50%;\n",
              "        cursor: pointer;\n",
              "        display: none;\n",
              "        fill: #1967D2;\n",
              "        height: 32px;\n",
              "        padding: 0 0 0 0;\n",
              "        width: 32px;\n",
              "      }\n",
              "\n",
              "      .colab-df-generate:hover {\n",
              "        background-color: #E2EBFA;\n",
              "        box-shadow: 0px 1px 2px rgba(60, 64, 67, 0.3), 0px 1px 3px 1px rgba(60, 64, 67, 0.15);\n",
              "        fill: #174EA6;\n",
              "      }\n",
              "\n",
              "      [theme=dark] .colab-df-generate {\n",
              "        background-color: #3B4455;\n",
              "        fill: #D2E3FC;\n",
              "      }\n",
              "\n",
              "      [theme=dark] .colab-df-generate:hover {\n",
              "        background-color: #434B5C;\n",
              "        box-shadow: 0px 1px 3px 1px rgba(0, 0, 0, 0.15);\n",
              "        filter: drop-shadow(0px 1px 2px rgba(0, 0, 0, 0.3));\n",
              "        fill: #FFFFFF;\n",
              "      }\n",
              "    </style>\n",
              "    <button class=\"colab-df-generate\" onclick=\"generateWithVariable('data')\"\n",
              "            title=\"Generate code using this dataframe.\"\n",
              "            style=\"display:none;\">\n",
              "\n",
              "  <svg xmlns=\"http://www.w3.org/2000/svg\" height=\"24px\"viewBox=\"0 0 24 24\"\n",
              "       width=\"24px\">\n",
              "    <path d=\"M7,19H8.4L18.45,9,17,7.55,7,17.6ZM5,21V16.75L18.45,3.32a2,2,0,0,1,2.83,0l1.4,1.43a1.91,1.91,0,0,1,.58,1.4,1.91,1.91,0,0,1-.58,1.4L9.25,21ZM18.45,9,17,7.55Zm-12,3A5.31,5.31,0,0,0,4.9,8.1,5.31,5.31,0,0,0,1,6.5,5.31,5.31,0,0,0,4.9,4.9,5.31,5.31,0,0,0,6.5,1,5.31,5.31,0,0,0,8.1,4.9,5.31,5.31,0,0,0,12,6.5,5.46,5.46,0,0,0,6.5,12Z\"/>\n",
              "  </svg>\n",
              "    </button>\n",
              "    <script>\n",
              "      (() => {\n",
              "      const buttonEl =\n",
              "        document.querySelector('#id_2dcd62d0-7a70-4959-b4a3-6f5c344e675b button.colab-df-generate');\n",
              "      buttonEl.style.display =\n",
              "        google.colab.kernel.accessAllowed ? 'block' : 'none';\n",
              "\n",
              "      buttonEl.onclick = () => {\n",
              "        google.colab.notebook.generateWithVariable('data');\n",
              "      }\n",
              "      })();\n",
              "    </script>\n",
              "  </div>\n",
              "\n",
              "    </div>\n",
              "  </div>\n"
            ]
          },
          "metadata": {},
          "execution_count": 9
        }
      ]
    },
    {
      "cell_type": "code",
      "source": [
        "plt.figure(figsize=(5, 5))\n",
        "plt.scatter(data['height'],data['weight'], c = '#323031')\n",
        "plt.xlabel('height')\n",
        "plt.ylabel('weight');"
      ],
      "metadata": {
        "colab": {
          "base_uri": "https://localhost:8080/",
          "height": 465
        },
        "id": "Si1kpn_9WpCU",
        "outputId": "56223c9b-6cef-40cd-8560-aeb0264f0819"
      },
      "execution_count": 10,
      "outputs": [
        {
          "output_type": "display_data",
          "data": {
            "text/plain": [
              "<Figure size 500x500 with 1 Axes>"
            ],
            "image/png": "[encoded data removed]"
          },
          "metadata": {}
        }
      ]
    },
    {
      "cell_type": "code",
      "source": [
        "learning_rate=0.00001 #learning rate\n",
        "weight=0\n",
        "for i in range(len(x)):\n",
        "\n",
        "    y_pred = weight * x[i]\n",
        "    loss = (y_pred - y[i]) **2\n",
        "                       # error\n",
        "    grad_weight= 2 * (y_pred - y[i]) * x[i]  # derevative\n",
        "\n",
        "    weight = weight - grad_weight * learning_rate # in sgd update takes place after every point\n",
        "    print('Step %d: Weight:%f Loss = %f' % (i+1, weight, loss))\n"
      ],
      "metadata": {
        "colab": {
          "base_uri": "https://localhost:8080/"
        },
        "id": "V727AfxtWsXi",
        "outputId": "5d338f6c-6d41-4f6d-c3cc-a4d74af9595f"
      },
      "execution_count": 11,
      "outputs": [
        {
          "output_type": "stream",
          "name": "stdout",
          "text": [
            "Step 1: Weight:0.293600 Loss = 33672.250000\n",
            "Step 2: Weight:0.541353 Loss = 24587.996191\n",
            "Step 3: Weight:0.777627 Loss = 19316.832427\n",
            "Step 4: Weight:0.993652 Loss = 14403.249176\n",
            "Step 5: Weight:1.183848 Loss = 10020.627777\n",
            "Step 6: Weight:1.316915 Loss = 7869.717921\n",
            "Step 7: Weight:1.438750 Loss = 5798.338345\n",
            "Step 8: Weight:1.545872 Loss = 3541.741391\n",
            "Step 9: Weight:1.641103 Loss = 3455.599942\n",
            "Step 10: Weight:1.723563 Loss = 2352.856986\n"
          ]
        }
      ]
    },
    {
      "cell_type": "code",
      "source": [
        "print(\"optimal weight value is\",weight) #optimal value of w"
      ],
      "metadata": {
        "colab": {
          "base_uri": "https://localhost:8080/"
        },
        "id": "LkdHOcd3WxH0",
        "outputId": "1f241c86-00fd-4132-b18c-2c1ed974637e"
      },
      "execution_count": 12,
      "outputs": [
        {
          "output_type": "stream",
          "name": "stdout",
          "text": [
            "optimal weight value is 1.7235634939076874\n"
          ]
        }
      ]
    },
    {
      "cell_type": "markdown",
      "source": [
        "## Gradient Descent Optimization"
      ],
      "metadata": {
        "id": "BDKifiM_k1PA"
      }
    },
    {
      "cell_type": "code",
      "source": [
        "import pandas as pd\n",
        "from tensorflow.keras.optimizers import Adam\n",
        "import tensorflow as tf\n",
        "from tensorflow.keras.layers import Dense, Input, InputLayer\n",
        "from sklearn.metrics import confusion_matrix,accuracy_score\n",
        "import seaborn as sns\n",
        "import matplotlib.pyplot as plt"
      ],
      "metadata": {
        "id": "pVUTjgq7W0mT"
      },
      "execution_count": 13,
      "outputs": []
    },
    {
      "cell_type": "code",
      "source": [
        "data = pd.read_csv(\"/content/usedcars.csv\")\n",
        "data.head()"
      ],
      "metadata": {
        "colab": {
          "base_uri": "https://localhost:8080/",
          "height": 206
        },
        "id": "KkR-UgNhk5r-",
        "outputId": "fd757e72-9997-4a4e-ecec-54662d316579"
      },
      "execution_count": 15,
      "outputs": [
        {
          "output_type": "execute_result",
          "data": {
            "text/plain": [
              "   year model  price  mileage   color transmission\n",
              "0  2011   SEL  21992     7413  Yellow         AUTO\n",
              "1  2011   SEL  20995    10926    Gray         AUTO\n",
              "2  2011   SEL  19995     7351  Silver         AUTO\n",
              "3  2011   SEL  17809    11613    Gray         AUTO\n",
              "4  2012    SE  17500     8367   White         AUTO"
            ],
            "text/html": [
              "\n",
              "  <div id=\"df-7c8532ff-22aa-410a-a2b3-85d729039ca6\" class=\"colab-df-container\">\n",
              "    <div>\n",
              "<style scoped>\n",
              "    .dataframe tbody tr th:only-of-type {\n",
              "        vertical-align: middle;\n",
              "    }\n",
              "\n",
              "    .dataframe tbody tr th {\n",
              "        vertical-align: top;\n",
              "    }\n",
              "\n",
              "    .dataframe thead th {\n",
              "        text-align: right;\n",
              "    }\n",
              "</style>\n",
              "<table border=\"1\" class=\"dataframe\">\n",
              "  <thead>\n",
              "    <tr style=\"text-align: right;\">\n",
              "      <th></th>\n",
              "      <th>year</th>\n",
              "      <th>model</th>\n",
              "      <th>price</th>\n",
              "      <th>mileage</th>\n",
              "      <th>color</th>\n",
              "      <th>transmission</th>\n",
              "    </tr>\n",
              "  </thead>\n",
              "  <tbody>\n",
              "    <tr>\n",
              "      <th>0</th>\n",
              "      <td>2011</td>\n",
              "      <td>SEL</td>\n",
              "      <td>21992</td>\n",
              "      <td>7413</td>\n",
              "      <td>Yellow</td>\n",
              "      <td>AUTO</td>\n",
              "    </tr>\n",
              "    <tr>\n",
              "      <th>1</th>\n",
              "      <td>2011</td>\n",
              "      <td>SEL</td>\n",
              "      <td>20995</td>\n",
              "      <td>10926</td>\n",
              "      <td>Gray</td>\n",
              "      <td>AUTO</td>\n",
              "    </tr>\n",
              "    <tr>\n",
              "      <th>2</th>\n",
              "      <td>2011</td>\n",
              "      <td>SEL</td>\n",
              "      <td>19995</td>\n",
              "      <td>7351</td>\n",
              "      <td>Silver</td>\n",
              "      <td>AUTO</td>\n",
              "    </tr>\n",
              "    <tr>\n",
              "      <th>3</th>\n",
              "      <td>2011</td>\n",
              "      <td>SEL</td>\n",
              "      <td>17809</td>\n",
              "      <td>11613</td>\n",
              "      <td>Gray</td>\n",
              "      <td>AUTO</td>\n",
              "    </tr>\n",
              "    <tr>\n",
              "      <th>4</th>\n",
              "      <td>2012</td>\n",
              "      <td>SE</td>\n",
              "      <td>17500</td>\n",
              "      <td>8367</td>\n",
              "      <td>White</td>\n",
              "      <td>AUTO</td>\n",
              "    </tr>\n",
              "  </tbody>\n",
              "</table>\n",
              "</div>\n",
              "    <div class=\"colab-df-buttons\">\n",
              "\n",
              "  <div class=\"colab-df-container\">\n",
              "    <button class=\"colab-df-convert\" onclick=\"convertToInteractive('df-7c8532ff-22aa-410a-a2b3-85d729039ca6')\"\n",
              "            title=\"Convert this dataframe to an interactive table.\"\n",
              "            style=\"display:none;\">\n",
              "\n",
              "  <svg xmlns=\"http://www.w3.org/2000/svg\" height=\"24px\" viewBox=\"0 -960 960 960\">\n",
              "    <path d=\"M120-120v-720h720v720H120Zm60-500h600v-160H180v160Zm220 220h160v-160H400v160Zm0 220h160v-160H400v160ZM180-400h160v-160H180v160Zm440 0h160v-160H620v160ZM180-180h160v-160H180v160Zm440 0h160v-160H620v160Z\"/>\n",
              "  </svg>\n",
              "    </button>\n",
              "\n",
              "  <style>\n",
              "    .colab-df-container {\n",
              "      display:flex;\n",
              "      gap: 12px;\n",
              "    }\n",
              "\n",
              "    .colab-df-convert {\n",
              "      background-color: #E8F0FE;\n",
              "      border: none;\n",
              "      border-radius: 50%;\n",
              "      cursor: pointer;\n",
              "      display: none;\n",
              "      fill: #1967D2;\n",
              "      height: 32px;\n",
              "      padding: 0 0 0 0;\n",
              "      width: 32px;\n",
              "    }\n",
              "\n",
              "    .colab-df-convert:hover {\n",
              "      background-color: #E2EBFA;\n",
              "      box-shadow: 0px 1px 2px rgba(60, 64, 67, 0.3), 0px 1px 3px 1px rgba(60, 64, 67, 0.15);\n",
              "      fill: #174EA6;\n",
              "    }\n",
              "\n",
              "    .colab-df-buttons div {\n",
              "      margin-bottom: 4px;\n",
              "    }\n",
              "\n",
              "    [theme=dark] .colab-df-convert {\n",
              "      background-color: #3B4455;\n",
              "      fill: #D2E3FC;\n",
              "    }\n",
              "\n",
              "    [theme=dark] .colab-df-convert:hover {\n",
              "      background-color: #434B5C;\n",
              "      box-shadow: 0px 1px 3px 1px rgba(0, 0, 0, 0.15);\n",
              "      filter: drop-shadow(0px 1px 2px rgba(0, 0, 0, 0.3));\n",
              "      fill: #FFFFFF;\n",
              "    }\n",
              "  </style>\n",
              "\n",
              "    <script>\n",
              "      const buttonEl =\n",
              "        document.querySelector('#df-7c8532ff-22aa-410a-a2b3-85d729039ca6 button.colab-df-convert');\n",
              "      buttonEl.style.display =\n",
              "        google.colab.kernel.accessAllowed ? 'block' : 'none';\n",
              "\n",
              "      async function convertToInteractive(key) {\n",
              "        const element = document.querySelector('#df-7c8532ff-22aa-410a-a2b3-85d729039ca6');\n",
              "        const dataTable =\n",
              "          await google.colab.kernel.invokeFunction('convertToInteractive',\n",
              "                                                    [key], {});\n",
              "        if (!dataTable) return;\n",
              "\n",
              "        const docLinkHtml = 'Like what you see? Visit the ' +\n",
              "          '<a target=\"_blank\" href=https://colab.research.google.com/notebooks/data_table.ipynb>data table notebook</a>'\n",
              "          + ' to learn more about interactive tables.';\n",
              "        element.innerHTML = '';\n",
              "        dataTable['output_type'] = 'display_data';\n",
              "        await google.colab.output.renderOutput(dataTable, element);\n",
              "        const docLink = document.createElement('div');\n",
              "        docLink.innerHTML = docLinkHtml;\n",
              "        element.appendChild(docLink);\n",
              "      }\n",
              "    </script>\n",
              "  </div>\n",
              "\n",
              "\n",
              "<div id=\"df-49791264-be95-45ba-925a-2fc551a188b8\">\n",
              "  <button class=\"colab-df-quickchart\" onclick=\"quickchart('df-49791264-be95-45ba-925a-2fc551a188b8')\"\n",
              "            title=\"Suggest charts\"\n",
              "            style=\"display:none;\">\n",
              "\n",
              "<svg xmlns=\"http://www.w3.org/2000/svg\" height=\"24px\"viewBox=\"0 0 24 24\"\n",
              "     width=\"24px\">\n",
              "    <g>\n",
              "        <path d=\"M19 3H5c-1.1 0-2 .9-2 2v14c0 1.1.9 2 2 2h14c1.1 0 2-.9 2-2V5c0-1.1-.9-2-2-2zM9 17H7v-7h2v7zm4 0h-2V7h2v10zm4 0h-2v-4h2v4z\"/>\n",
              "    </g>\n",
              "</svg>\n",
              "  </button>\n",
              "\n",
              "<style>\n",
              "  .colab-df-quickchart {\n",
              "      --bg-color: #E8F0FE;\n",
              "      --fill-color: #1967D2;\n",
              "      --hover-bg-color: #E2EBFA;\n",
              "      --hover-fill-color: #174EA6;\n",
              "      --disabled-fill-color: #AAA;\n",
              "      --disabled-bg-color: #DDD;\n",
              "  }\n",
              "\n",
              "  [theme=dark] .colab-df-quickchart {\n",
              "      --bg-color: #3B4455;\n",
              "      --fill-color: #D2E3FC;\n",
              "      --hover-bg-color: #434B5C;\n",
              "      --hover-fill-color: #FFFFFF;\n",
              "      --disabled-bg-color: #3B4455;\n",
              "      --disabled-fill-color: #666;\n",
              "  }\n",
              "\n",
              "  .colab-df-quickchart {\n",
              "    background-color: var(--bg-color);\n",
              "    border: none;\n",
              "    border-radius: 50%;\n",
              "    cursor: pointer;\n",
              "    display: none;\n",
              "    fill: var(--fill-color);\n",
              "    height: 32px;\n",
              "    padding: 0;\n",
              "    width: 32px;\n",
              "  }\n",
              "\n",
              "  .colab-df-quickchart:hover {\n",
              "    background-color: var(--hover-bg-color);\n",
              "    box-shadow: 0 1px 2px rgba(60, 64, 67, 0.3), 0 1px 3px 1px rgba(60, 64, 67, 0.15);\n",
              "    fill: var(--button-hover-fill-color);\n",
              "  }\n",
              "\n",
              "  .colab-df-quickchart-complete:disabled,\n",
              "  .colab-df-quickchart-complete:disabled:hover {\n",
              "    background-color: var(--disabled-bg-color);\n",
              "    fill: var(--disabled-fill-color);\n",
              "    box-shadow: none;\n",
              "  }\n",
              "\n",
              "  .colab-df-spinner {\n",
              "    border: 2px solid var(--fill-color);\n",
              "    border-color: transparent;\n",
              "    border-bottom-color: var(--fill-color);\n",
              "    animation:\n",
              "      spin 1s steps(1) infinite;\n",
              "  }\n",
              "\n",
              "  @keyframes spin {\n",
              "    0% {\n",
              "      border-color: transparent;\n",
              "      border-bottom-color: var(--fill-color);\n",
              "      border-left-color: var(--fill-color);\n",
              "    }\n",
              "    20% {\n",
              "      border-color: transparent;\n",
              "      border-left-color: var(--fill-color);\n",
              "      border-top-color: var(--fill-color);\n",
              "    }\n",
              "    30% {\n",
              "      border-color: transparent;\n",
              "      border-left-color: var(--fill-color);\n",
              "      border-top-color: var(--fill-color);\n",
              "      border-right-color: var(--fill-color);\n",
              "    }\n",
              "    40% {\n",
              "      border-color: transparent;\n",
              "      border-right-color: var(--fill-color);\n",
              "      border-top-color: var(--fill-color);\n",
              "    }\n",
              "    60% {\n",
              "      border-color: transparent;\n",
              "      border-right-color: var(--fill-color);\n",
              "    }\n",
              "    80% {\n",
              "      border-color: transparent;\n",
              "      border-right-color: var(--fill-color);\n",
              "      border-bottom-color: var(--fill-color);\n",
              "    }\n",
              "    90% {\n",
              "      border-color: transparent;\n",
              "      border-bottom-color: var(--fill-color);\n",
              "    }\n",
              "  }\n",
              "</style>\n",
              "\n",
              "  <script>\n",
              "    async function quickchart(key) {\n",
              "      const quickchartButtonEl =\n",
              "        document.querySelector('#' + key + ' button');\n",
              "      quickchartButtonEl.disabled = true;  // To prevent multiple clicks.\n",
              "      quickchartButtonEl.classList.add('colab-df-spinner');\n",
              "      try {\n",
              "        const charts = await google.colab.kernel.invokeFunction(\n",
              "            'suggestCharts', [key], {});\n",
              "      } catch (error) {\n",
              "        console.error('Error during call to suggestCharts:', error);\n",
              "      }\n",
              "      quickchartButtonEl.classList.remove('colab-df-spinner');\n",
              "      quickchartButtonEl.classList.add('colab-df-quickchart-complete');\n",
              "    }\n",
              "    (() => {\n",
              "      let quickchartButtonEl =\n",
              "        document.querySelector('#df-49791264-be95-45ba-925a-2fc551a188b8 button');\n",
              "      quickchartButtonEl.style.display =\n",
              "        google.colab.kernel.accessAllowed ? 'block' : 'none';\n",
              "    })();\n",
              "  </script>\n",
              "</div>\n",
              "\n",
              "    </div>\n",
              "  </div>\n"
            ]
          },
          "metadata": {},
          "execution_count": 15
        }
      ]
    },
    {
      "cell_type": "code",
      "source": [
        "#One-hot encode\n",
        "data = pd.get_dummies(data)"
      ],
      "metadata": {
        "id": "CBkyeuIPlLOM"
      },
      "execution_count": 16,
      "outputs": []
    },
    {
      "cell_type": "code",
      "source": [
        "from sklearn.model_selection import train_test_split\n",
        "X_train, X_test, y_train, y_test = train_test_split(data.loc[:, data.columns != 'price'], data['price'], test_size=0.2, random_state=1)"
      ],
      "metadata": {
        "id": "A6n7-9-ClRE6"
      },
      "execution_count": 17,
      "outputs": []
    },
    {
      "cell_type": "markdown",
      "source": [
        "### Training"
      ],
      "metadata": {
        "id": "vpydCAtClXDG"
      }
    },
    {
      "cell_type": "code",
      "source": [
        "import tensorflow as tf\n",
        "from tensorflow.keras.layers import Dense, Input, InputLayer\n",
        "from tensorflow.keras import layers\n",
        "\n",
        "model1 = tf.keras.Sequential()\n",
        "model1.add(InputLayer(input_shape=X_train.shape[1]))\n",
        "model1.add(layers.BatchNormalization())\n",
        "model1.add(Dense(64, activation = 'relu'))\n",
        "model1.add(Dense(64, activation = 'relu'))\n",
        "model1.add(Dense(1, activation='relu'))"
      ],
      "metadata": {
        "id": "NwSHdVlxlTgU"
      },
      "execution_count": 18,
      "outputs": []
    },
    {
      "cell_type": "markdown",
      "source": [
        "**Using Defaults**"
      ],
      "metadata": {
        "id": "AUWdOwaelbme"
      }
    },
    {
      "cell_type": "code",
      "source": [
        "model1.compile(loss=\"mean_squared_error\")"
      ],
      "metadata": {
        "id": "TI3Q0vSwlWk7"
      },
      "execution_count": 19,
      "outputs": []
    },
    {
      "cell_type": "code",
      "source": [
        "model1.fit(X_train, y_train)"
      ],
      "metadata": {
        "colab": {
          "base_uri": "https://localhost:8080/"
        },
        "id": "nyr8D1q9lbAm",
        "outputId": "57b79f09-5e06-4169-87ff-61ddd947866c"
      },
      "execution_count": 20,
      "outputs": [
        {
          "output_type": "stream",
          "name": "stdout",
          "text": [
            "4/4 [==============================] - 4s 5ms/step - loss: 176750864.0000\n"
          ]
        },
        {
          "output_type": "execute_result",
          "data": {
            "text/plain": [
              "<keras.src.callbacks.History at 0x78e140315d80>"
            ]
          },
          "metadata": {},
          "execution_count": 20
        }
      ]
    },
    {
      "cell_type": "code",
      "source": [
        "y_pred = model1.predict(X_test)"
      ],
      "metadata": {
        "colab": {
          "base_uri": "https://localhost:8080/"
        },
        "id": "Hv5bozKjlfhM",
        "outputId": "8188d001-bd5f-4573-9e77-04abade5fe18"
      },
      "execution_count": 21,
      "outputs": [
        {
          "output_type": "stream",
          "name": "stdout",
          "text": [
            "1/1 [==============================] - 0s 123ms/step\n"
          ]
        }
      ]
    },
    {
      "cell_type": "code",
      "source": [
        "# Accuracy (Root Mean Squared Error)\n",
        "from sklearn.metrics import mean_squared_error\n",
        "mean_squared_error(y_test, y_pred, squared=False)"
      ],
      "metadata": {
        "colab": {
          "base_uri": "https://localhost:8080/"
        },
        "id": "9S4Yr4kpljD-",
        "outputId": "4236a453-358c-4282-bcb9-f57d5e00d99a"
      },
      "execution_count": 22,
      "outputs": [
        {
          "output_type": "execute_result",
          "data": {
            "text/plain": [
              "13321.03403840985"
            ]
          },
          "metadata": {},
          "execution_count": 22
        }
      ]
    },
    {
      "cell_type": "markdown",
      "source": [
        "**Using Optimizers**"
      ],
      "metadata": {
        "id": "bXLzFx7xloHv"
      }
    },
    {
      "cell_type": "code",
      "source": [
        "from tensorflow.keras.optimizers import Adam\n",
        "\n",
        "model2 = tf.keras.Sequential()\n",
        "model2.add(InputLayer(input_shape=X_train.shape[1]))\n",
        "model2.add(layers.BatchNormalization())\n",
        "model2.add(Dense(64, activation = 'relu'))\n",
        "model2.add(Dense(64, activation = 'relu'))\n",
        "model2.add(Dense(1, activation='relu'))"
      ],
      "metadata": {
        "id": "avtkOYhMllaF"
      },
      "execution_count": 23,
      "outputs": []
    },
    {
      "cell_type": "code",
      "source": [
        "model2.compile(optimizer = Adam(learning_rate=0.001), loss=\"mean_squared_error\")"
      ],
      "metadata": {
        "id": "5Z5rJ7knlqxM"
      },
      "execution_count": 24,
      "outputs": []
    },
    {
      "cell_type": "code",
      "source": [
        "history2 = model2.fit(X_train, y_train, epochs = 15, batch_size=16)"
      ],
      "metadata": {
        "colab": {
          "base_uri": "https://localhost:8080/"
        },
        "id": "3iItLg35ltLx",
        "outputId": "a293d1f9-2660-4b5e-d316-76da969fb7e5"
      },
      "execution_count": 25,
      "outputs": [
        {
          "output_type": "stream",
          "name": "stdout",
          "text": [
            "Epoch 1/15\n",
            "8/8 [==============================] - 2s 4ms/step - loss: 176754352.0000\n",
            "Epoch 2/15\n",
            "8/8 [==============================] - 0s 3ms/step - loss: 176740240.0000\n",
            "Epoch 3/15\n",
            "8/8 [==============================] - 0s 3ms/step - loss: 176719728.0000\n",
            "Epoch 4/15\n",
            "8/8 [==============================] - 0s 3ms/step - loss: 176694416.0000\n",
            "Epoch 5/15\n",
            "8/8 [==============================] - 0s 3ms/step - loss: 176661936.0000\n",
            "Epoch 6/15\n",
            "8/8 [==============================] - 0s 5ms/step - loss: 176625744.0000\n",
            "Epoch 7/15\n",
            "8/8 [==============================] - 0s 4ms/step - loss: 176575888.0000\n",
            "Epoch 8/15\n",
            "8/8 [==============================] - 0s 4ms/step - loss: 176514464.0000\n",
            "Epoch 9/15\n",
            "8/8 [==============================] - 0s 4ms/step - loss: 176426176.0000\n",
            "Epoch 10/15\n",
            "8/8 [==============================] - 0s 3ms/step - loss: 176318304.0000\n",
            "Epoch 11/15\n",
            "8/8 [==============================] - 0s 3ms/step - loss: 176179600.0000\n",
            "Epoch 12/15\n",
            "8/8 [==============================] - 0s 4ms/step - loss: 175991904.0000\n",
            "Epoch 13/15\n",
            "8/8 [==============================] - 0s 4ms/step - loss: 175774496.0000\n",
            "Epoch 14/15\n",
            "8/8 [==============================] - 0s 4ms/step - loss: 175508944.0000\n",
            "Epoch 15/15\n",
            "8/8 [==============================] - 0s 4ms/step - loss: 175160160.0000\n"
          ]
        }
      ]
    },
    {
      "cell_type": "code",
      "source": [
        "y_pred = model2.predict(X_test)\n",
        "\n",
        "# Accuracy (Root Mean Squared Error)\n",
        "from sklearn.metrics import mean_squared_error\n",
        "mean_squared_error(y_test, y_pred, squared=False)"
      ],
      "metadata": {
        "colab": {
          "base_uri": "https://localhost:8080/"
        },
        "id": "n2vnAz74lvR4",
        "outputId": "7a3004fb-4dc3-438a-8c1e-d14a1999805a"
      },
      "execution_count": 26,
      "outputs": [
        {
          "output_type": "stream",
          "name": "stdout",
          "text": [
            "1/1 [==============================] - 0s 63ms/step\n"
          ]
        },
        {
          "output_type": "execute_result",
          "data": {
            "text/plain": [
              "7836.355841253655"
            ]
          },
          "metadata": {},
          "execution_count": 26
        }
      ]
    },
    {
      "cell_type": "code",
      "source": [],
      "metadata": {
        "id": "jltpHBnJl1NB"
      },
      "execution_count": null,
      "outputs": []
    }
  ]
}