{
  "nbformat": 4,
  "nbformat_minor": 0,
  "metadata": {
    "colab": {
      "provenance": [],
      "authorship_tag": "ABX9TyMxHzljyKKZKXWUAjE2JNcC",
      "include_colab_link": true
    },
    "kernelspec": {
      "name": "python3",
      "display_name": "Python 3"
    },
    "language_info": {
      "name": "python"
    }
  },
  "cells": [
    {
      "cell_type": "markdown",
      "metadata": {
        "id": "view-in-github",
        "colab_type": "text"
      },
      "source": [
        "<a href=\"https://colab.research.google.com/github/KOdunga/AIMLCourse/blob/main/numpy_basics.ipynb\" target=\"_parent\"><img src=\"https://colab.research.google.com/assets/colab-badge.svg\" alt=\"Open In Colab\"/></a>"
      ]
    },
    {
      "cell_type": "code",
      "execution_count": 2,
      "metadata": {
        "id": "gqahlff1Hbjp"
      },
      "outputs": [],
      "source": [
        "import numpy as np # Import numpy and abbreviate is as np. From now on we will call it using np"
      ]
    },
    {
      "cell_type": "markdown",
      "source": [
        "Numpy Arrays"
      ],
      "metadata": {
        "id": "DF9ksqEfIJav"
      }
    },
    {
      "cell_type": "markdown",
      "source": [
        "- Like a list but can only accomodate the same data type for every entry\n",
        "- A list can be converted to a numpy array"
      ],
      "metadata": {
        "id": "S9rU8eH7IX7Y"
      }
    },
    {
      "cell_type": "code",
      "source": [
        "array_str = ['Merc', 'BMW','Toyota','Range','Tesla']\n",
        "arr_num = [5,6,2,7,8]"
      ],
      "metadata": {
        "id": "7oMMllt9Hq7x"
      },
      "execution_count": 3,
      "outputs": []
    },
    {
      "cell_type": "code",
      "source": [
        "#converting a list to an array. Creating an array from a list\n",
        "np_arr_str = np.array(array_str)\n",
        "np_arr_num = np.array(arr_num)"
      ],
      "metadata": {
        "id": "voYfL8paI4NX"
      },
      "execution_count": 4,
      "outputs": []
    },
    {
      "cell_type": "code",
      "source": [
        "print(np_arr_str)\n",
        "print(np_arr_num)"
      ],
      "metadata": {
        "colab": {
          "base_uri": "https://localhost:8080/"
        },
        "id": "6SYoTZEoJSOH",
        "outputId": "155cb8a8-4bfe-48dc-ba24-0ff12117aa7a"
      },
      "execution_count": 5,
      "outputs": [
        {
          "output_type": "stream",
          "name": "stdout",
          "text": [
            "['Merc' 'BMW' 'Toyota' 'Range' 'Tesla']\n",
            "[5 6 2 7 8]\n"
          ]
        }
      ]
    },
    {
      "cell_type": "code",
      "source": [
        "type(np_arr_num)"
      ],
      "metadata": {
        "colab": {
          "base_uri": "https://localhost:8080/"
        },
        "id": "gVa6kR0qJgde",
        "outputId": "f1c3c7ca-53d3-4866-9651-e52e3a168f41"
      },
      "execution_count": 6,
      "outputs": [
        {
          "output_type": "execute_result",
          "data": {
            "text/plain": [
              "numpy.ndarray"
            ]
          },
          "metadata": {},
          "execution_count": 6
        }
      ]
    },
    {
      "cell_type": "code",
      "source": [
        "type(arr_num)"
      ],
      "metadata": {
        "colab": {
          "base_uri": "https://localhost:8080/"
        },
        "id": "-XZw_XzHJlOh",
        "outputId": "39c6afc1-c589-4477-acbe-1179cf6b5225"
      },
      "execution_count": 7,
      "outputs": [
        {
          "output_type": "execute_result",
          "data": {
            "text/plain": [
              "list"
            ]
          },
          "metadata": {},
          "execution_count": 7
        }
      ]
    },
    {
      "cell_type": "markdown",
      "source": [
        "Numpy Matrix\n",
        "\n",
        "- A 2 Dimensional data structure where elements are arranged as rows and columns\n",
        "- Can be created using list of lists"
      ],
      "metadata": {
        "id": "O_bWf3NYKG6g"
      }
    },
    {
      "cell_type": "code",
      "source": [
        "matrix = np.array([[1,2,3],[4,5,6],[7,8,9]])\n",
        "print(matrix)"
      ],
      "metadata": {
        "colab": {
          "base_uri": "https://localhost:8080/"
        },
        "id": "_xA7J7QPJr3s",
        "outputId": "aa83b7d0-f71e-48ca-896e-edc220450417"
      },
      "execution_count": 8,
      "outputs": [
        {
          "output_type": "stream",
          "name": "stdout",
          "text": [
            "[[1 2 3]\n",
            " [4 5 6]\n",
            " [7 8 9]]\n"
          ]
        }
      ]
    },
    {
      "cell_type": "code",
      "source": [
        "print(type(matrix))"
      ],
      "metadata": {
        "colab": {
          "base_uri": "https://localhost:8080/"
        },
        "id": "rVJnCX7sKfpg",
        "outputId": "254b7568-4758-45bc-8b91-6b725dfe7402"
      },
      "execution_count": 9,
      "outputs": [
        {
          "output_type": "stream",
          "name": "stdout",
          "text": [
            "<class 'numpy.ndarray'>\n"
          ]
        }
      ]
    },
    {
      "cell_type": "code",
      "source": [
        "print(matrix)"
      ],
      "metadata": {
        "colab": {
          "base_uri": "https://localhost:8080/"
        },
        "id": "P3E_OsiSKj1W",
        "outputId": "1ca2dd31-31dc-4d6f-a597-76abf7421633"
      },
      "execution_count": 10,
      "outputs": [
        {
          "output_type": "stream",
          "name": "stdout",
          "text": [
            "[[1 2 3]\n",
            " [4 5 6]\n",
            " [7 8 9]]\n"
          ]
        }
      ]
    },
    {
      "cell_type": "markdown",
      "source": [
        "Numpy Functions\n",
        "- Different ways to create numpy arrays using inbuilt functions"
      ],
      "metadata": {
        "id": "ia-c91HhMNhv"
      }
    },
    {
      "cell_type": "markdown",
      "source": [
        "Arange\n",
        "- Returns an array of numbers from the given start point to a given end point(exclude) and a given step point\n",
        "- Default start value is 0\n",
        "- Default step value is 1\n",
        "- No default stop value"
      ],
      "metadata": {
        "id": "aTQjbaWlOOlr"
      }
    },
    {
      "cell_type": "code",
      "source": [
        "\n",
        "arr = np.arange(start = 0, stop = 10, step = 2) #define start =0, stop = 10, effectively, the value before 10\n",
        "print(arr)"
      ],
      "metadata": {
        "colab": {
          "base_uri": "https://localhost:8080/"
        },
        "id": "EPv5LgkcKmqW",
        "outputId": "3ee9ab68-968c-48bf-aea7-fac7b9f21592"
      },
      "execution_count": 11,
      "outputs": [
        {
          "output_type": "stream",
          "name": "stdout",
          "text": [
            "[0 2 4 6 8]\n"
          ]
        }
      ]
    },
    {
      "cell_type": "code",
      "source": [
        "arr = np.arange(0,10) #stat is 0, stop is 10-1, default interval of 1\n",
        "arr"
      ],
      "metadata": {
        "colab": {
          "base_uri": "https://localhost:8080/"
        },
        "id": "WY9WIG_AM6iG",
        "outputId": "63ec4288-07f8-4aef-ce5d-18e0ab560d84"
      },
      "execution_count": 12,
      "outputs": [
        {
          "output_type": "execute_result",
          "data": {
            "text/plain": [
              "array([0, 1, 2, 3, 4, 5, 6, 7, 8, 9])"
            ]
          },
          "metadata": {},
          "execution_count": 12
        }
      ]
    },
    {
      "cell_type": "code",
      "source": [
        "arr = np.arange(3,10,2) # start is 3, stop is 10-1, imntervals of 2\n",
        "print(arr)"
      ],
      "metadata": {
        "colab": {
          "base_uri": "https://localhost:8080/"
        },
        "id": "4LCfetR_M-NP",
        "outputId": "c61d6744-9a7b-4619-cd7c-92ff48621da1"
      },
      "execution_count": 13,
      "outputs": [
        {
          "output_type": "stream",
          "name": "stdout",
          "text": [
            "[3 5 7 9]\n"
          ]
        }
      ]
    },
    {
      "cell_type": "code",
      "source": [
        "arr = np.arange(9) #default start is 0, default step size is 1. end has to be defined\n",
        "print(arr)"
      ],
      "metadata": {
        "colab": {
          "base_uri": "https://localhost:8080/"
        },
        "id": "b2uyuzcWNH73",
        "outputId": "598aef90-03ab-4138-c2b9-f6ab93478eb4"
      },
      "execution_count": 14,
      "outputs": [
        {
          "output_type": "stream",
          "name": "stdout",
          "text": [
            "[0 1 2 3 4 5 6 7 8]\n"
          ]
        }
      ]
    },
    {
      "cell_type": "markdown",
      "source": [
        "Linspace\n",
        "- Returns a range of equally spaced values between two given numbers\n",
        "- Default values returned is 50"
      ],
      "metadata": {
        "id": "ov0oYphYOR3k"
      }
    },
    {
      "cell_type": "code",
      "source": [
        "lin_array = np.linspace(0,5)\n",
        "print(lin_array)"
      ],
      "metadata": {
        "colab": {
          "base_uri": "https://localhost:8080/"
        },
        "id": "7hBWoIh1Nhae",
        "outputId": "36351ea8-40b9-4fed-ab1a-ffd28e2332eb"
      },
      "execution_count": 15,
      "outputs": [
        {
          "output_type": "stream",
          "name": "stdout",
          "text": [
            "[0.         0.10204082 0.20408163 0.30612245 0.40816327 0.51020408\n",
            " 0.6122449  0.71428571 0.81632653 0.91836735 1.02040816 1.12244898\n",
            " 1.2244898  1.32653061 1.42857143 1.53061224 1.63265306 1.73469388\n",
            " 1.83673469 1.93877551 2.04081633 2.14285714 2.24489796 2.34693878\n",
            " 2.44897959 2.55102041 2.65306122 2.75510204 2.85714286 2.95918367\n",
            " 3.06122449 3.16326531 3.26530612 3.36734694 3.46938776 3.57142857\n",
            " 3.67346939 3.7755102  3.87755102 3.97959184 4.08163265 4.18367347\n",
            " 4.28571429 4.3877551  4.48979592 4.59183673 4.69387755 4.79591837\n",
            " 4.89795918 5.        ]\n"
          ]
        }
      ]
    },
    {
      "cell_type": "code",
      "source": [
        "lin_array"
      ],
      "metadata": {
        "colab": {
          "base_uri": "https://localhost:8080/"
        },
        "id": "c_NrKZ_MPtLe",
        "outputId": "1f9bd320-3595-4273-933d-f4fa2290706f"
      },
      "execution_count": 16,
      "outputs": [
        {
          "output_type": "execute_result",
          "data": {
            "text/plain": [
              "array([0.        , 0.10204082, 0.20408163, 0.30612245, 0.40816327,\n",
              "       0.51020408, 0.6122449 , 0.71428571, 0.81632653, 0.91836735,\n",
              "       1.02040816, 1.12244898, 1.2244898 , 1.32653061, 1.42857143,\n",
              "       1.53061224, 1.63265306, 1.73469388, 1.83673469, 1.93877551,\n",
              "       2.04081633, 2.14285714, 2.24489796, 2.34693878, 2.44897959,\n",
              "       2.55102041, 2.65306122, 2.75510204, 2.85714286, 2.95918367,\n",
              "       3.06122449, 3.16326531, 3.26530612, 3.36734694, 3.46938776,\n",
              "       3.57142857, 3.67346939, 3.7755102 , 3.87755102, 3.97959184,\n",
              "       4.08163265, 4.18367347, 4.28571429, 4.3877551 , 4.48979592,\n",
              "       4.59183673, 4.69387755, 4.79591837, 4.89795918, 5.        ])"
            ]
          },
          "metadata": {},
          "execution_count": 16
        }
      ]
    },
    {
      "cell_type": "code",
      "source": [
        "lin_array = np.linspace(0,15,16) #Start at 0, stop at 15 (inclusive), return 16 values\n",
        "print(lin_array)"
      ],
      "metadata": {
        "colab": {
          "base_uri": "https://localhost:8080/"
        },
        "id": "YS4-scpxQAsK",
        "outputId": "16728013-142d-4302-a922-242ff6571670"
      },
      "execution_count": 17,
      "outputs": [
        {
          "output_type": "stream",
          "name": "stdout",
          "text": [
            "[ 0.  1.  2.  3.  4.  5.  6.  7.  8.  9. 10. 11. 12. 13. 14. 15.]\n"
          ]
        }
      ]
    },
    {
      "cell_type": "markdown",
      "source": [
        "np.zeros()\n",
        "- Used to create a matrix with only zeroes. Usefull when initiating a matrix\n",
        "- You give the rows and columns.\n",
        "- One can also specify the data type but by default it is float"
      ],
      "metadata": {
        "id": "oxvzoWhQRKMD"
      }
    },
    {
      "cell_type": "code",
      "source": [
        "arr_zero = np.zeros([3,5]) # rows =3 , columns = 5. rows first\n",
        "arr_zero"
      ],
      "metadata": {
        "colab": {
          "base_uri": "https://localhost:8080/"
        },
        "id": "rYW3PWZfQKPw",
        "outputId": "3d3106e2-db4b-4d84-f79b-b6649e7a5a9a"
      },
      "execution_count": 18,
      "outputs": [
        {
          "output_type": "execute_result",
          "data": {
            "text/plain": [
              "array([[0., 0., 0., 0., 0.],\n",
              "       [0., 0., 0., 0., 0.],\n",
              "       [0., 0., 0., 0., 0.]])"
            ]
          },
          "metadata": {},
          "execution_count": 18
        }
      ]
    },
    {
      "cell_type": "markdown",
      "source": [
        "np.ones()"
      ],
      "metadata": {
        "id": "x5KjGg2iR9jO"
      }
    },
    {
      "cell_type": "code",
      "source": [
        "arr_one= np.ones([4,6])\n",
        "arr_one"
      ],
      "metadata": {
        "colab": {
          "base_uri": "https://localhost:8080/"
        },
        "id": "wjdXR_uZRjVN",
        "outputId": "e5ceecc0-840a-4002-8f11-58ef07ef1b7c"
      },
      "execution_count": 19,
      "outputs": [
        {
          "output_type": "execute_result",
          "data": {
            "text/plain": [
              "array([[1., 1., 1., 1., 1., 1.],\n",
              "       [1., 1., 1., 1., 1., 1.],\n",
              "       [1., 1., 1., 1., 1., 1.],\n",
              "       [1., 1., 1., 1., 1., 1.]])"
            ]
          },
          "metadata": {},
          "execution_count": 19
        }
      ]
    },
    {
      "cell_type": "markdown",
      "source": [
        "Identity Matrix\n",
        "- This is a square matrix, where number of rows is equal to number of columns and all values are zero except the number where row = column == 1 (elements of the principal diagonal are equal to 1)\n",
        "- This is used in linear algebraic functions\n",
        "- The np.eye() funtion is used and only the number of rows / columns is entered as a parameter"
      ],
      "metadata": {
        "id": "Jc36QHkYSprl"
      }
    },
    {
      "cell_type": "code",
      "source": [
        "arr_i = np.eye(5)\n",
        "print(arr_i)"
      ],
      "metadata": {
        "colab": {
          "base_uri": "https://localhost:8080/"
        },
        "id": "TaxFxHg0SF57",
        "outputId": "24109b33-68da-4c23-9346-4cf74ac30cda"
      },
      "execution_count": 20,
      "outputs": [
        {
          "output_type": "stream",
          "name": "stdout",
          "text": [
            "[[1. 0. 0. 0. 0.]\n",
            " [0. 1. 0. 0. 0.]\n",
            " [0. 0. 1. 0. 0.]\n",
            " [0. 0. 0. 1. 0.]\n",
            " [0. 0. 0. 0. 1.]]\n"
          ]
        }
      ]
    },
    {
      "cell_type": "markdown",
      "source": [
        "Manipulating Arrays using Reshape Function\n",
        "- Allows us to reshape a list into the number of rows and columns that we want\n",
        "- These are specified in a tuple parameter submitted to the reshae() function\n",
        "- The output is a return value that has to be assigned to new variable as the initial one remians unchanged"
      ],
      "metadata": {
        "id": "Vw5oCDCMVgMB"
      }
    },
    {
      "cell_type": "code",
      "source": [
        "arr4 = np.arange(0,10)\n",
        "arr4"
      ],
      "metadata": {
        "colab": {
          "base_uri": "https://localhost:8080/"
        },
        "id": "8afk6FiKTHnI",
        "outputId": "98c1d97b-3510-480c-9e7a-634e4dc3f1b0"
      },
      "execution_count": 21,
      "outputs": [
        {
          "output_type": "execute_result",
          "data": {
            "text/plain": [
              "array([0, 1, 2, 3, 4, 5, 6, 7, 8, 9])"
            ]
          },
          "metadata": {},
          "execution_count": 21
        }
      ]
    },
    {
      "cell_type": "code",
      "source": [
        "arr4_reshaped = arr4.reshape(2,5) #Reshape the input from arr4 into a 2 rows by 5 columns output and assign it to a variable called arr4_reshaped\n",
        "arr4_reshaped"
      ],
      "metadata": {
        "colab": {
          "base_uri": "https://localhost:8080/"
        },
        "id": "PbR8s_JSWB85",
        "outputId": "132ab1f7-1c11-4e7f-db6d-1773668f5041"
      },
      "execution_count": 22,
      "outputs": [
        {
          "output_type": "execute_result",
          "data": {
            "text/plain": [
              "array([[0, 1, 2, 3, 4],\n",
              "       [5, 6, 7, 8, 9]])"
            ]
          },
          "metadata": {},
          "execution_count": 22
        }
      ]
    },
    {
      "cell_type": "code",
      "source": [
        "arr4"
      ],
      "metadata": {
        "colab": {
          "base_uri": "https://localhost:8080/"
        },
        "id": "i_mJxTOfWJq3",
        "outputId": "85aae835-2a37-4de3-d625-7579c39e0ae1"
      },
      "execution_count": 23,
      "outputs": [
        {
          "output_type": "execute_result",
          "data": {
            "text/plain": [
              "array([0, 1, 2, 3, 4, 5, 6, 7, 8, 9])"
            ]
          },
          "metadata": {},
          "execution_count": 23
        }
      ]
    },
    {
      "cell_type": "markdown",
      "source": [
        "Mathematical functions of numpy"
      ],
      "metadata": {
        "id": "fWB0cLy3W_s8"
      }
    },
    {
      "cell_type": "code",
      "source": [
        "np.sin(4) # calculates the sin of 4 and returns in radians"
      ],
      "metadata": {
        "colab": {
          "base_uri": "https://localhost:8080/"
        },
        "id": "qfVECkdYWWP6",
        "outputId": "292085c2-bff9-4ee8-8ceb-2cdc09491510"
      },
      "execution_count": 24,
      "outputs": [
        {
          "output_type": "execute_result",
          "data": {
            "text/plain": [
              "-0.7568024953079282"
            ]
          },
          "metadata": {},
          "execution_count": 24
        }
      ]
    },
    {
      "cell_type": "code",
      "source": [
        "np.tan(4) # tangent of 4"
      ],
      "metadata": {
        "colab": {
          "base_uri": "https://localhost:8080/"
        },
        "id": "d5NE5M1QWZo3",
        "outputId": "2607a8d0-b5fa-4340-f7e1-f73bb5c95e61"
      },
      "execution_count": 25,
      "outputs": [
        {
          "output_type": "execute_result",
          "data": {
            "text/plain": [
              "1.1578212823495775"
            ]
          },
          "metadata": {},
          "execution_count": 25
        }
      ]
    },
    {
      "cell_type": "code",
      "source": [
        "np.sin(arr4) # calculates the sin of every single entry in arr4."
      ],
      "metadata": {
        "colab": {
          "base_uri": "https://localhost:8080/"
        },
        "id": "1hxzYRslXIwF",
        "outputId": "9eb6de95-1a90-4de6-a757-68024bb1de14"
      },
      "execution_count": 26,
      "outputs": [
        {
          "output_type": "execute_result",
          "data": {
            "text/plain": [
              "array([ 0.        ,  0.84147098,  0.90929743,  0.14112001, -0.7568025 ,\n",
              "       -0.95892427, -0.2794155 ,  0.6569866 ,  0.98935825,  0.41211849])"
            ]
          },
          "metadata": {},
          "execution_count": 26
        }
      ]
    },
    {
      "cell_type": "code",
      "source": [
        "np.tan(arr4_reshaped)"
      ],
      "metadata": {
        "colab": {
          "base_uri": "https://localhost:8080/"
        },
        "id": "e1JKhCiCXUmc",
        "outputId": "b6f3fe26-2ab9-4f9c-df2e-05d7d61a1da5"
      },
      "execution_count": 27,
      "outputs": [
        {
          "output_type": "execute_result",
          "data": {
            "text/plain": [
              "array([[ 0.        ,  1.55740772, -2.18503986, -0.14254654,  1.15782128],\n",
              "       [-3.38051501, -0.29100619,  0.87144798, -6.79971146, -0.45231566]])"
            ]
          },
          "metadata": {},
          "execution_count": 27
        }
      ]
    },
    {
      "cell_type": "code",
      "source": [
        "#Natural exponential\n",
        "np.exp(2)"
      ],
      "metadata": {
        "colab": {
          "base_uri": "https://localhost:8080/"
        },
        "id": "zXKp0TMtXo3S",
        "outputId": "39a32182-ff52-4a50-8c4e-9dd23110e42d"
      },
      "execution_count": 28,
      "outputs": [
        {
          "output_type": "execute_result",
          "data": {
            "text/plain": [
              "7.38905609893065"
            ]
          },
          "metadata": {},
          "execution_count": 28
        }
      ]
    },
    {
      "cell_type": "code",
      "source": [
        "arr5 =np.exp(arr4)\n",
        "arr5"
      ],
      "metadata": {
        "colab": {
          "base_uri": "https://localhost:8080/"
        },
        "id": "XU0ajj1kXzjv",
        "outputId": "4a97ef32-173a-47dc-d9d5-2e33723dce08"
      },
      "execution_count": 29,
      "outputs": [
        {
          "output_type": "execute_result",
          "data": {
            "text/plain": [
              "array([1.00000000e+00, 2.71828183e+00, 7.38905610e+00, 2.00855369e+01,\n",
              "       5.45981500e+01, 1.48413159e+02, 4.03428793e+02, 1.09663316e+03,\n",
              "       2.98095799e+03, 8.10308393e+03])"
            ]
          },
          "metadata": {},
          "execution_count": 29
        }
      ]
    },
    {
      "cell_type": "code",
      "source": [
        "np.exp([4,5,6]) #input a list"
      ],
      "metadata": {
        "colab": {
          "base_uri": "https://localhost:8080/"
        },
        "id": "Z-oy9KLTX1XT",
        "outputId": "7970d790-85ea-4e4b-84f9-67dc7cb34f47"
      },
      "execution_count": 30,
      "outputs": [
        {
          "output_type": "execute_result",
          "data": {
            "text/plain": [
              "array([ 54.59815003, 148.4131591 , 403.42879349])"
            ]
          },
          "metadata": {},
          "execution_count": 30
        }
      ]
    },
    {
      "cell_type": "code",
      "source": [
        "#Logarithms. By default, numpy uses log base e\n",
        "np.log(2)"
      ],
      "metadata": {
        "colab": {
          "base_uri": "https://localhost:8080/"
        },
        "id": "eaqrhzjEX6rM",
        "outputId": "05fc24fc-2679-4478-ad06-3e54661e495e"
      },
      "execution_count": 31,
      "outputs": [
        {
          "output_type": "execute_result",
          "data": {
            "text/plain": [
              "0.6931471805599453"
            ]
          },
          "metadata": {},
          "execution_count": 31
        }
      ]
    },
    {
      "cell_type": "code",
      "source": [
        "np.log(arr5)"
      ],
      "metadata": {
        "colab": {
          "base_uri": "https://localhost:8080/"
        },
        "id": "1bxjcS8JYE7B",
        "outputId": "bc43cb9b-f749-47d5-aeaf-40df2e80496f"
      },
      "execution_count": 32,
      "outputs": [
        {
          "output_type": "execute_result",
          "data": {
            "text/plain": [
              "array([0., 1., 2., 3., 4., 5., 6., 7., 8., 9.])"
            ]
          },
          "metadata": {},
          "execution_count": 32
        }
      ]
    },
    {
      "cell_type": "code",
      "source": [
        "#log with base 10\n",
        "np.log10(1)"
      ],
      "metadata": {
        "colab": {
          "base_uri": "https://localhost:8080/"
        },
        "id": "tkwxsUQVYL_c",
        "outputId": "b3015514-38d1-437f-b3ac-a4510e415c81"
      },
      "execution_count": 33,
      "outputs": [
        {
          "output_type": "execute_result",
          "data": {
            "text/plain": [
              "0.0"
            ]
          },
          "metadata": {},
          "execution_count": 33
        }
      ]
    },
    {
      "cell_type": "code",
      "source": [
        "np.log10(0)"
      ],
      "metadata": {
        "colab": {
          "base_uri": "https://localhost:8080/"
        },
        "id": "RbJRgiB_YeSQ",
        "outputId": "653a3831-efcc-48a3-eb92-23d675e7ea67"
      },
      "execution_count": 34,
      "outputs": [
        {
          "output_type": "stream",
          "name": "stderr",
          "text": [
            "<ipython-input-34-fb8478a94c6a>:1: RuntimeWarning: divide by zero encountered in log10\n",
            "  np.log10(0)\n"
          ]
        },
        {
          "output_type": "execute_result",
          "data": {
            "text/plain": [
              "-inf"
            ]
          },
          "metadata": {},
          "execution_count": 34
        }
      ]
    },
    {
      "cell_type": "code",
      "source": [
        "np.log2(8) #log base 2"
      ],
      "metadata": {
        "colab": {
          "base_uri": "https://localhost:8080/"
        },
        "id": "Q9HESHbNYgWi",
        "outputId": "ab47d7b9-1d4d-41cf-d03c-8014a896d4f8"
      },
      "execution_count": 35,
      "outputs": [
        {
          "output_type": "execute_result",
          "data": {
            "text/plain": [
              "3.0"
            ]
          },
          "metadata": {},
          "execution_count": 35
        }
      ]
    },
    {
      "cell_type": "markdown",
      "source": [
        "Arithmetic Operations on Numpy Arrays"
      ],
      "metadata": {
        "id": "TBGIdsTCZGiX"
      }
    },
    {
      "cell_type": "code",
      "source": [
        "l1 = [1,2,3,4]\n",
        "l2 = [3,4,5,6]\n",
        "l1+l2 #only concatenates the list and does not do the internal additions"
      ],
      "metadata": {
        "colab": {
          "base_uri": "https://localhost:8080/"
        },
        "id": "i1i05AxQYke2",
        "outputId": "1c98d745-3729-4d6f-8086-79a526dc27da"
      },
      "execution_count": 36,
      "outputs": [
        {
          "output_type": "execute_result",
          "data": {
            "text/plain": [
              "[1, 2, 3, 4, 3, 4, 5, 6]"
            ]
          },
          "metadata": {},
          "execution_count": 36
        }
      ]
    },
    {
      "cell_type": "code",
      "source": [
        "l1_array = np.array(l1)\n",
        "l2_array = np.array(l2)\n",
        "l1_array+l2_array #After converting to arrays, we can now do mathematics on the values"
      ],
      "metadata": {
        "colab": {
          "base_uri": "https://localhost:8080/"
        },
        "id": "LtLRm1RLZ0wk",
        "outputId": "19830a3c-7e3b-4cda-f6e4-451c2f457b95"
      },
      "execution_count": 37,
      "outputs": [
        {
          "output_type": "execute_result",
          "data": {
            "text/plain": [
              "array([ 4,  6,  8, 10])"
            ]
          },
          "metadata": {},
          "execution_count": 37
        }
      ]
    },
    {
      "cell_type": "code",
      "source": [
        "l2_array- l1_array"
      ],
      "metadata": {
        "colab": {
          "base_uri": "https://localhost:8080/"
        },
        "id": "WNK4by_6aCmh",
        "outputId": "786b6c5e-a69c-4bbc-8908-273861ee1f21"
      },
      "execution_count": 38,
      "outputs": [
        {
          "output_type": "execute_result",
          "data": {
            "text/plain": [
              "array([2, 2, 2, 2])"
            ]
          },
          "metadata": {},
          "execution_count": 38
        }
      ]
    },
    {
      "cell_type": "code",
      "source": [
        "l1_array*l2_array #Returns an element wise multiplication"
      ],
      "metadata": {
        "colab": {
          "base_uri": "https://localhost:8080/"
        },
        "id": "doq6IJE0aTUW",
        "outputId": "f12306a4-86f1-49fd-e5ef-cbc63c4dc4a2"
      },
      "execution_count": 39,
      "outputs": [
        {
          "output_type": "execute_result",
          "data": {
            "text/plain": [
              "array([ 3,  8, 15, 24])"
            ]
          },
          "metadata": {},
          "execution_count": 39
        }
      ]
    },
    {
      "cell_type": "code",
      "source": [
        "l2_array/l1_array"
      ],
      "metadata": {
        "colab": {
          "base_uri": "https://localhost:8080/"
        },
        "id": "UUrFbFbRaY33",
        "outputId": "4b06efad-ca50-4ff4-e637-1446ce89169b"
      },
      "execution_count": 40,
      "outputs": [
        {
          "output_type": "execute_result",
          "data": {
            "text/plain": [
              "array([3.        , 2.        , 1.66666667, 1.5       ])"
            ]
          },
          "metadata": {},
          "execution_count": 40
        }
      ]
    },
    {
      "cell_type": "code",
      "source": [
        "1/l1_array #Inverse"
      ],
      "metadata": {
        "colab": {
          "base_uri": "https://localhost:8080/"
        },
        "id": "vrBp1w4iak6f",
        "outputId": "41759722-7587-4370-8258-de9432a5fc47"
      },
      "execution_count": 41,
      "outputs": [
        {
          "output_type": "execute_result",
          "data": {
            "text/plain": [
              "array([1.        , 0.5       , 0.33333333, 0.25      ])"
            ]
          },
          "metadata": {},
          "execution_count": 41
        }
      ]
    },
    {
      "cell_type": "code",
      "source": [
        "l2_array**l1_array # Double star is used for powers in python. DO not use the carat ^ like in other languages"
      ],
      "metadata": {
        "colab": {
          "base_uri": "https://localhost:8080/"
        },
        "id": "_xQft2P6auvS",
        "outputId": "939a3363-cf14-4ba3-8d82-469cfae30fcb"
      },
      "execution_count": 42,
      "outputs": [
        {
          "output_type": "execute_result",
          "data": {
            "text/plain": [
              "array([   3,   16,  125, 1296])"
            ]
          },
          "metadata": {},
          "execution_count": 42
        }
      ]
    },
    {
      "cell_type": "markdown",
      "source": [
        "Operation on Matrices"
      ],
      "metadata": {
        "id": "DmOiGxNbbiPS"
      }
    },
    {
      "cell_type": "code",
      "source": [
        "matrix1 = np.arange(1,10).reshape(3,3)\n",
        "matrix2 = np.eye(3)\n",
        "print(matrix1)\n",
        "print(matrix2)"
      ],
      "metadata": {
        "colab": {
          "base_uri": "https://localhost:8080/"
        },
        "id": "KDyEffmBa8us",
        "outputId": "162f6ea3-3b4c-4b6e-a194-b35e5ca6a16c"
      },
      "execution_count": 43,
      "outputs": [
        {
          "output_type": "stream",
          "name": "stdout",
          "text": [
            "[[1 2 3]\n",
            " [4 5 6]\n",
            " [7 8 9]]\n",
            "[[1. 0. 0.]\n",
            " [0. 1. 0.]\n",
            " [0. 0. 1.]]\n"
          ]
        }
      ]
    },
    {
      "cell_type": "code",
      "source": [
        "matrix1+matrix2"
      ],
      "metadata": {
        "colab": {
          "base_uri": "https://localhost:8080/"
        },
        "id": "MkjCiITLbscQ",
        "outputId": "2f2a525d-90f7-4902-baab-592402f87a84"
      },
      "execution_count": 44,
      "outputs": [
        {
          "output_type": "execute_result",
          "data": {
            "text/plain": [
              "array([[ 2.,  2.,  3.],\n",
              "       [ 4.,  6.,  6.],\n",
              "       [ 7.,  8., 10.]])"
            ]
          },
          "metadata": {},
          "execution_count": 44
        }
      ]
    },
    {
      "cell_type": "code",
      "source": [
        "print(matrix1/matrix2)"
      ],
      "metadata": {
        "colab": {
          "base_uri": "https://localhost:8080/"
        },
        "id": "9kbv5EsocJNt",
        "outputId": "5b720a3e-d752-4645-b435-8c03da57d34b"
      },
      "execution_count": 45,
      "outputs": [
        {
          "output_type": "stream",
          "name": "stdout",
          "text": [
            "[[ 1. inf inf]\n",
            " [inf  5. inf]\n",
            " [inf inf  9.]]\n"
          ]
        },
        {
          "output_type": "stream",
          "name": "stderr",
          "text": [
            "<ipython-input-45-c079c72c35c0>:1: RuntimeWarning: divide by zero encountered in divide\n",
            "  print(matrix1/matrix2)\n"
          ]
        }
      ]
    },
    {
      "cell_type": "markdown",
      "source": [
        "Perfoming a true linear algebra matrix dot product"
      ],
      "metadata": {
        "id": "fuovEMCa4eMz"
      }
    },
    {
      "cell_type": "code",
      "source": [
        "matrixa = np.arange(1,5).reshape(2,2)\n",
        "matrixb= np.arange(3,7).reshape(2,2)\n",
        "print(matrixa)\n",
        "print(matrixb)"
      ],
      "metadata": {
        "colab": {
          "base_uri": "https://localhost:8080/"
        },
        "id": "hoI5_-yJcocs",
        "outputId": "09921278-16a7-44f6-b239-f2dde4368925"
      },
      "execution_count": 46,
      "outputs": [
        {
          "output_type": "stream",
          "name": "stdout",
          "text": [
            "[[1 2]\n",
            " [3 4]]\n",
            "[[3 4]\n",
            " [5 6]]\n"
          ]
        }
      ]
    },
    {
      "cell_type": "code",
      "source": [
        "matrixa*matrixb # normal element by element matrix mulitplication"
      ],
      "metadata": {
        "colab": {
          "base_uri": "https://localhost:8080/"
        },
        "id": "8-9vl_qb45UX",
        "outputId": "f02eaae4-e944-4566-e31c-fff0c64b30ab"
      },
      "execution_count": 49,
      "outputs": [
        {
          "output_type": "execute_result",
          "data": {
            "text/plain": [
              "array([[ 3,  8],\n",
              "       [15, 24]])"
            ]
          },
          "metadata": {},
          "execution_count": 49
        }
      ]
    },
    {
      "cell_type": "code",
      "source": [
        "matrixa@matrixb #Linear algebraic dot product matrix multiplication"
      ],
      "metadata": {
        "colab": {
          "base_uri": "https://localhost:8080/"
        },
        "id": "p2xJo6Uc5Duh",
        "outputId": "bcefe3fd-8d38-4a07-b3ca-40eebf104773"
      },
      "execution_count": 51,
      "outputs": [
        {
          "output_type": "execute_result",
          "data": {
            "text/plain": [
              "array([[13, 16],\n",
              "       [29, 36]])"
            ]
          },
          "metadata": {},
          "execution_count": 51
        }
      ]
    },
    {
      "cell_type": "markdown",
      "source": [
        "Transposing a matrix using transpose() or.T"
      ],
      "metadata": {
        "id": "8W2kzC9N7FBL"
      }
    },
    {
      "cell_type": "code",
      "source": [
        "matrix1"
      ],
      "metadata": {
        "colab": {
          "base_uri": "https://localhost:8080/"
        },
        "id": "NpX5OwVs7MPr",
        "outputId": "9321e10b-e110-47a8-eb54-a5214f3f2e75"
      },
      "execution_count": 53,
      "outputs": [
        {
          "output_type": "execute_result",
          "data": {
            "text/plain": [
              "array([[1, 2, 3],\n",
              "       [4, 5, 6],\n",
              "       [7, 8, 9]])"
            ]
          },
          "metadata": {},
          "execution_count": 53
        }
      ]
    },
    {
      "cell_type": "code",
      "source": [
        "matrix1.T"
      ],
      "metadata": {
        "colab": {
          "base_uri": "https://localhost:8080/"
        },
        "id": "Se9w_cDn5JuQ",
        "outputId": "c9df495b-35d2-4421-a566-4f02635deabe"
      },
      "execution_count": 54,
      "outputs": [
        {
          "output_type": "execute_result",
          "data": {
            "text/plain": [
              "array([[1, 4, 7],\n",
              "       [2, 5, 8],\n",
              "       [3, 6, 9]])"
            ]
          },
          "metadata": {},
          "execution_count": 54
        }
      ]
    },
    {
      "cell_type": "code",
      "source": [
        "np.transpose(matrix1)"
      ],
      "metadata": {
        "colab": {
          "base_uri": "https://localhost:8080/"
        },
        "id": "T1etchff7SCu",
        "outputId": "79ce85cd-981b-4500-f2ee-57bb2b34d63e"
      },
      "execution_count": 55,
      "outputs": [
        {
          "output_type": "execute_result",
          "data": {
            "text/plain": [
              "array([[1, 4, 7],\n",
              "       [2, 5, 8],\n",
              "       [3, 6, 9]])"
            ]
          },
          "metadata": {},
          "execution_count": 55
        }
      ]
    },
    {
      "cell_type": "markdown",
      "source": [
        "Other Functions"
      ],
      "metadata": {
        "id": "yeY_H42_8G-q"
      }
    },
    {
      "cell_type": "code",
      "source": [
        "print(\"Minimum\",np.min(matrix1)) #get the smallest value"
      ],
      "metadata": {
        "colab": {
          "base_uri": "https://localhost:8080/"
        },
        "id": "Jq7FSBag7WeM",
        "outputId": "c9b4e5b0-0f7d-409c-8a03-74a5f8b866b7"
      },
      "execution_count": 56,
      "outputs": [
        {
          "output_type": "stream",
          "name": "stdout",
          "text": [
            "Minimum 1\n"
          ]
        }
      ]
    },
    {
      "cell_type": "code",
      "source": [
        "print(\"Max\",np.max(matrix1)) #get the largest value"
      ],
      "metadata": {
        "colab": {
          "base_uri": "https://localhost:8080/"
        },
        "id": "mb7BfduZ8Mlh",
        "outputId": "cbaad13f-dd00-4ff9-8a73-e4a2e644fc3f"
      },
      "execution_count": 58,
      "outputs": [
        {
          "output_type": "stream",
          "name": "stdout",
          "text": [
            "Max 9\n"
          ]
        }
      ]
    },
    {
      "cell_type": "markdown",
      "source": [
        "Function to generate random numbers\n",
        "- matrix.random.rand(n) where n is the number of values to generate\n",
        "- Usually generates values between 0 and 1, randomly."
      ],
      "metadata": {
        "id": "mQ_5hwIW9TBg"
      }
    },
    {
      "cell_type": "code",
      "source": [
        "rand_num = np.random.rand(5)\n",
        "print(rand_num)"
      ],
      "metadata": {
        "colab": {
          "base_uri": "https://localhost:8080/"
        },
        "id": "aCBGmN1J8WBA",
        "outputId": "0b89e4e5-da05-4216-dd6d-ac8d72051479"
      },
      "execution_count": 61,
      "outputs": [
        {
          "output_type": "stream",
          "name": "stdout",
          "text": [
            "[0.56346079 0.45243319 0.05003666 0.78720005 0.82061571]\n"
          ]
        }
      ]
    },
    {
      "cell_type": "code",
      "source": [
        "rand_num"
      ],
      "metadata": {
        "colab": {
          "base_uri": "https://localhost:8080/"
        },
        "id": "SHjjZYrk9oNY",
        "outputId": "ab0c5c52-244c-4a94-d90c-5e5ed195a387"
      },
      "execution_count": 62,
      "outputs": [
        {
          "output_type": "execute_result",
          "data": {
            "text/plain": [
              "array([0.56346079, 0.45243319, 0.05003666, 0.78720005, 0.82061571])"
            ]
          },
          "metadata": {},
          "execution_count": 62
        }
      ]
    },
    {
      "cell_type": "code",
      "source": [
        "rand_num_matrix = np.random.rand(5,5) #generate a 5 by 5 matrix with random numbers\n",
        "print(rand_num_matrix)"
      ],
      "metadata": {
        "colab": {
          "base_uri": "https://localhost:8080/"
        },
        "id": "3MJghJ029wF9",
        "outputId": "73ca224e-2bee-4a0c-f730-805d40ac4cc0"
      },
      "execution_count": 63,
      "outputs": [
        {
          "output_type": "stream",
          "name": "stdout",
          "text": [
            "[[0.2681048  0.95072161 0.8282465  0.58616999 0.35725964]\n",
            " [0.20004129 0.23484462 0.61342091 0.64902964 0.4887067 ]\n",
            " [0.43181858 0.55883116 0.72767741 0.10880188 0.33483344]\n",
            " [0.18258392 0.93633465 0.56604082 0.65229219 0.79020795]\n",
            " [0.82711226 0.20276598 0.34734815 0.91291969 0.27978687]]\n"
          ]
        }
      ]
    },
    {
      "cell_type": "markdown",
      "source": [
        "The rand functions generates probability random numbers (between 0 and 1, or 0% to 100%).\n",
        "If you want to generate numbers randomly from the standard normal distribution (Gaussian distribution) you use the randn() function instead."
      ],
      "metadata": {
        "id": "5OovsYCr-1U8"
      }
    },
    {
      "cell_type": "code",
      "source": [
        "normal_rand_numbers = np.random.randn(5)\n",
        "print(normal_rand_numbers)"
      ],
      "metadata": {
        "colab": {
          "base_uri": "https://localhost:8080/"
        },
        "id": "xJGC2mIH99bW",
        "outputId": "7219c070-e435-4358-e31f-09776e0f9d6a"
      },
      "execution_count": 66,
      "outputs": [
        {
          "output_type": "stream",
          "name": "stdout",
          "text": [
            "[ 0.15233874  1.1547239  -0.20685422 -1.27060819 -1.67179813]\n"
          ]
        }
      ]
    },
    {
      "cell_type": "code",
      "source": [
        "normal_rand_matrix = np.random.randn(5,5)\n",
        "print(normal_rand_matrix)"
      ],
      "metadata": {
        "colab": {
          "base_uri": "https://localhost:8080/"
        },
        "id": "xuSAO7hN_JFN",
        "outputId": "bca764a2-50ed-48d7-d07e-ffbde7208a3f"
      },
      "execution_count": 77,
      "outputs": [
        {
          "output_type": "stream",
          "name": "stdout",
          "text": [
            "[[ 0.36016312 -0.96602203 -1.44699746 -0.72511209  2.08682802]\n",
            " [ 2.41063866 -0.77168586 -0.76623311 -1.49072407 -0.08403522]\n",
            " [-0.49990276 -0.92424274  0.50192952 -1.25697867 -0.36609825]\n",
            " [ 1.4118525   1.18369032  0.16004799 -0.80168233 -0.1527975 ]\n",
            " [-0.55396235  1.20664578 -0.97291762 -0.85317359 -0.27189043]]\n"
          ]
        }
      ]
    },
    {
      "cell_type": "code",
      "source": [
        "np.mean(rand_num_matrix)"
      ],
      "metadata": {
        "colab": {
          "base_uri": "https://localhost:8080/"
        },
        "id": "C18CsdJ3_y7u",
        "outputId": "b7c18238-e29b-45b0-8dde-90c93a6efc9d"
      },
      "execution_count": 78,
      "outputs": [
        {
          "output_type": "execute_result",
          "data": {
            "text/plain": [
              "0.5214360260661203"
            ]
          },
          "metadata": {},
          "execution_count": 78
        }
      ]
    },
    {
      "cell_type": "code",
      "source": [
        "np.std(rand_num_matrix)"
      ],
      "metadata": {
        "colab": {
          "base_uri": "https://localhost:8080/"
        },
        "id": "8VDb6R6z_8qj",
        "outputId": "4a0faa51-47d1-4821-b045-5cbb24a2c2aa"
      },
      "execution_count": 79,
      "outputs": [
        {
          "output_type": "execute_result",
          "data": {
            "text/plain": [
              "0.25747202491398097"
            ]
          },
          "metadata": {},
          "execution_count": 79
        }
      ]
    },
    {
      "cell_type": "markdown",
      "source": [
        "Generate random integer numbers\n",
        "- Use randint fucntion inside of random function()\n",
        "- Specify the start (inclusive) and the stop (exclusive) and the size, i.e number of elements to generate"
      ],
      "metadata": {
        "id": "43X6knodAmks"
      }
    },
    {
      "cell_type": "code",
      "source": [
        "random_integers = np.random.randint(1,5,10)\n",
        "print(random_integers)"
      ],
      "metadata": {
        "colab": {
          "base_uri": "https://localhost:8080/"
        },
        "id": "Dpvby7rrADbH",
        "outputId": "88fb415f-37f8-4466-ec34-b6866749b535"
      },
      "execution_count": 82,
      "outputs": [
        {
          "output_type": "stream",
          "name": "stdout",
          "text": [
            "[3 2 4 2 2 1 1 4 3 3]\n"
          ]
        }
      ]
    },
    {
      "cell_type": "code",
      "source": [
        "#Making a random integer matrix\n",
        "random_integers = np.random.randint(1,10,[5,5]) # Make us of a list in the size parameter\n",
        "print(random_integers)"
      ],
      "metadata": {
        "colab": {
          "base_uri": "https://localhost:8080/"
        },
        "id": "IdWQgj_LBBxZ",
        "outputId": "3111a26c-34bb-4ec9-cfd3-8bc0a0998136"
      },
      "execution_count": 87,
      "outputs": [
        {
          "output_type": "stream",
          "name": "stdout",
          "text": [
            "[[4 9 8 4 5]\n",
            " [5 9 8 6 7]\n",
            " [2 3 4 8 1]\n",
            " [3 7 1 2 7]\n",
            " [3 7 1 6 7]]\n"
          ]
        }
      ]
    },
    {
      "cell_type": "markdown",
      "source": [
        "Accessing Numpy Arrays"
      ],
      "metadata": {
        "id": "L87PUpoAByT2"
      }
    },
    {
      "cell_type": "code",
      "source": [
        "rand_arr = np.random.randn(10)\n",
        "print(rand_arr)"
      ],
      "metadata": {
        "colab": {
          "base_uri": "https://localhost:8080/"
        },
        "id": "Ar-ibAraBP7o",
        "outputId": "98dfe609-aa1b-4020-95be-4eb96e8483e8"
      },
      "execution_count": 99,
      "outputs": [
        {
          "output_type": "stream",
          "name": "stdout",
          "text": [
            "[-1.00073088 -1.974555   -0.1950381  -0.23868358 -0.87920163  1.1808772\n",
            "  0.1748269   0.47034843  2.47566485  0.54235607]\n"
          ]
        }
      ]
    },
    {
      "cell_type": "code",
      "source": [
        "print(rand_arr[6]) #the sixth element, same as in lists"
      ],
      "metadata": {
        "colab": {
          "base_uri": "https://localhost:8080/"
        },
        "id": "-hkfzwQ1B869",
        "outputId": "870ad29d-e24a-40af-c3be-027fea870229"
      },
      "execution_count": 100,
      "outputs": [
        {
          "output_type": "stream",
          "name": "stdout",
          "text": [
            "0.1748269029015549\n"
          ]
        }
      ]
    },
    {
      "cell_type": "code",
      "source": [
        "print(rand_arr[4:9])"
      ],
      "metadata": {
        "colab": {
          "base_uri": "https://localhost:8080/"
        },
        "id": "GQz-9tgQCCvo",
        "outputId": "43e177ea-2416-4d92-80e6-a80591c17eee"
      },
      "execution_count": 101,
      "outputs": [
        {
          "output_type": "stream",
          "name": "stdout",
          "text": [
            "[-0.87920163  1.1808772   0.1748269   0.47034843  2.47566485]\n"
          ]
        }
      ]
    },
    {
      "cell_type": "code",
      "source": [
        "print(rand_arr[4:-3])"
      ],
      "metadata": {
        "colab": {
          "base_uri": "https://localhost:8080/"
        },
        "id": "490EotoQCPo4",
        "outputId": "f50345a5-a378-466d-84c1-3843cfebdf16"
      },
      "execution_count": 102,
      "outputs": [
        {
          "output_type": "stream",
          "name": "stdout",
          "text": [
            "[-0.87920163  1.1808772   0.1748269 ]\n"
          ]
        }
      ]
    },
    {
      "cell_type": "code",
      "source": [
        "print(rand_arr[np.arange(3,10,3)])"
      ],
      "metadata": {
        "colab": {
          "base_uri": "https://localhost:8080/"
        },
        "id": "udWNPvVQCV2o",
        "outputId": "a259939e-ec23-4539-9684-213ea6b86800"
      },
      "execution_count": 103,
      "outputs": [
        {
          "output_type": "stream",
          "name": "stdout",
          "text": [
            "[-0.23868358  0.1748269   0.54235607]\n"
          ]
        }
      ]
    },
    {
      "cell_type": "markdown",
      "source": [
        "Accessing items using logical indexing"
      ],
      "metadata": {
        "id": "yqpyLt70Cs8S"
      }
    },
    {
      "cell_type": "code",
      "source": [
        "print(rand_arr)"
      ],
      "metadata": {
        "colab": {
          "base_uri": "https://localhost:8080/"
        },
        "id": "rEYlsMyFCjg9",
        "outputId": "8bf6af97-a55a-4893-da1f-3c33e14481f6"
      },
      "execution_count": 104,
      "outputs": [
        {
          "output_type": "stream",
          "name": "stdout",
          "text": [
            "[-1.00073088 -1.974555   -0.1950381  -0.23868358 -0.87920163  1.1808772\n",
            "  0.1748269   0.47034843  2.47566485  0.54235607]\n"
          ]
        }
      ]
    },
    {
      "cell_type": "code",
      "source": [
        "print('Values greater than 0: ', rand_arr>0)"
      ],
      "metadata": {
        "colab": {
          "base_uri": "https://localhost:8080/"
        },
        "id": "AKrU-da_CxQG",
        "outputId": "0908a681-1f41-4753-f1aa-ff064dee031e"
      },
      "execution_count": 105,
      "outputs": [
        {
          "output_type": "stream",
          "name": "stdout",
          "text": [
            "Values greater than 0:  [False False False False False  True  True  True  True  True]\n"
          ]
        }
      ]
    },
    {
      "cell_type": "code",
      "source": [
        "print('Values greater than 0: ', rand_arr[rand_arr>0])"
      ],
      "metadata": {
        "colab": {
          "base_uri": "https://localhost:8080/"
        },
        "id": "C0MBOPJqC3n8",
        "outputId": "2df20915-6946-4818-f62d-88a1f25d0416"
      },
      "execution_count": 108,
      "outputs": [
        {
          "output_type": "stream",
          "name": "stdout",
          "text": [
            "Values greater than 0:  [1.1808772  0.1748269  0.47034843 2.47566485 0.54235607]\n"
          ]
        }
      ]
    },
    {
      "cell_type": "code",
      "source": [
        "print('Values greater than 0: ', rand_arr[rand_arr<0])"
      ],
      "metadata": {
        "colab": {
          "base_uri": "https://localhost:8080/"
        },
        "id": "JdC5uz-aDWMC",
        "outputId": "9cd46559-aa7d-4872-cdbc-600088414b16"
      },
      "execution_count": 109,
      "outputs": [
        {
          "output_type": "stream",
          "name": "stdout",
          "text": [
            "Values greater than 0:  [-1.00073088 -1.974555   -0.1950381  -0.23868358 -0.87920163]\n"
          ]
        }
      ]
    },
    {
      "cell_type": "markdown",
      "source": [
        "Accesing Values in a Matrix"
      ],
      "metadata": {
        "id": "BCOmC7ptDydg"
      }
    },
    {
      "cell_type": "code",
      "source": [
        "rand_matrix = np.random.randn(5,5)\n",
        "rand_matrix"
      ],
      "metadata": {
        "colab": {
          "base_uri": "https://localhost:8080/"
        },
        "id": "MYeF4HbMDq33",
        "outputId": "0a14b217-d1a1-40e5-f421-32264f872a86"
      },
      "execution_count": 112,
      "outputs": [
        {
          "output_type": "execute_result",
          "data": {
            "text/plain": [
              "array([[-1.17519884, -0.06632196,  0.55368892, -3.19116873, -1.86611526],\n",
              "       [-1.10279344,  1.1646984 ,  0.14928526, -1.45319514, -0.98552686],\n",
              "       [-0.2386818 , -1.09290935, -0.30560246, -0.44992808,  1.97548348],\n",
              "       [-0.7614005 ,  0.09423889,  0.28760082,  0.1354341 ,  0.46080232],\n",
              "       [ 1.7139424 ,  0.16845018,  0.20657327, -0.72794513,  2.3701577 ]])"
            ]
          },
          "metadata": {},
          "execution_count": 112
        }
      ]
    },
    {
      "cell_type": "code",
      "source": [
        "rand_matrix[1] #return only the first row"
      ],
      "metadata": {
        "colab": {
          "base_uri": "https://localhost:8080/"
        },
        "id": "b-t_pHnDD4hi",
        "outputId": "a5e59bab-fbcf-4eeb-cde8-1700f297d319"
      },
      "execution_count": 114,
      "outputs": [
        {
          "output_type": "execute_result",
          "data": {
            "text/plain": [
              "array([-1.10279344,  1.1646984 ,  0.14928526, -1.45319514, -0.98552686])"
            ]
          },
          "metadata": {},
          "execution_count": 114
        }
      ]
    },
    {
      "cell_type": "code",
      "source": [
        "print(rand_matrix[1][2]) #To return a particulr value of a matrix\n",
        "#or it can lso be implemented using a comma separated row, column value\n",
        "\n",
        "print(rand_matrix[1,2])"
      ],
      "metadata": {
        "colab": {
          "base_uri": "https://localhost:8080/"
        },
        "id": "uw3P5HtgEFWF",
        "outputId": "4b6e7913-173c-45f5-aa83-5baa44b3892f"
      },
      "execution_count": 117,
      "outputs": [
        {
          "output_type": "stream",
          "name": "stdout",
          "text": [
            "0.14928526404829215\n",
            "0.14928526404829215\n"
          ]
        }
      ]
    },
    {
      "cell_type": "code",
      "source": [
        "#accesing rows 0 and 1 and columns 1 and 2\n",
        "print(rand_matrix[0:2,1:3])"
      ],
      "metadata": {
        "colab": {
          "base_uri": "https://localhost:8080/"
        },
        "id": "60AkNm_dENy9",
        "outputId": "a67f5fd8-7c8f-4c95-c2f1-33873f7bc1be"
      },
      "execution_count": 119,
      "outputs": [
        {
          "output_type": "stream",
          "name": "stdout",
          "text": [
            "[[-0.06632196  0.55368892]\n",
            " [ 1.1646984   0.14928526]]\n"
          ]
        }
      ]
    },
    {
      "cell_type": "code",
      "source": [
        "print('Values that are greater than 0:\\n\\n', rand_matrix[rand_matrix>0]) #This command will abandon the matrix structure and just return a list"
      ],
      "metadata": {
        "colab": {
          "base_uri": "https://localhost:8080/"
        },
        "id": "LgLQdoWSEQp8",
        "outputId": "a365dd46-393c-403c-f12d-0cf07fc02432"
      },
      "execution_count": 124,
      "outputs": [
        {
          "output_type": "stream",
          "name": "stdout",
          "text": [
            "Values that are greater than 0:\n",
            "\n",
            " [0.55368892 1.1646984  0.14928526 1.97548348 0.09423889 0.28760082\n",
            " 0.1354341  0.46080232 1.7139424  0.16845018 0.20657327 2.3701577 ]\n"
          ]
        }
      ]
    },
    {
      "cell_type": "markdown",
      "source": [
        "Modifying Values of an Array"
      ],
      "metadata": {
        "id": "0kUEjByxF0sr"
      }
    },
    {
      "cell_type": "code",
      "source": [
        "print(rand_matrix)"
      ],
      "metadata": {
        "colab": {
          "base_uri": "https://localhost:8080/"
        },
        "id": "leyoIvm9Fc2v",
        "outputId": "706c222f-866b-4262-9491-eac6a0fac275"
      },
      "execution_count": 126,
      "outputs": [
        {
          "output_type": "stream",
          "name": "stdout",
          "text": [
            "[[-1.17519884 -0.06632196  0.55368892 -3.19116873 -1.86611526]\n",
            " [-1.10279344  1.1646984   0.14928526 -1.45319514 -0.98552686]\n",
            " [-0.2386818  -1.09290935 -0.30560246 -0.44992808  1.97548348]\n",
            " [-0.7614005   0.09423889  0.28760082  0.1354341   0.46080232]\n",
            " [ 1.7139424   0.16845018  0.20657327 -0.72794513  2.3701577 ]]\n"
          ]
        }
      ]
    },
    {
      "cell_type": "code",
      "source": [
        "rand_matrix[3:5] = 7\n",
        "print(rand_matrix)"
      ],
      "metadata": {
        "colab": {
          "base_uri": "https://localhost:8080/"
        },
        "id": "LP_UvkFyF4eG",
        "outputId": "d7b0ede6-773a-484e-d9e6-a06e43a02007"
      },
      "execution_count": 127,
      "outputs": [
        {
          "output_type": "stream",
          "name": "stdout",
          "text": [
            "[[-1.17519884 -0.06632196  0.55368892 -3.19116873 -1.86611526]\n",
            " [-1.10279344  1.1646984   0.14928526 -1.45319514 -0.98552686]\n",
            " [-0.2386818  -1.09290935 -0.30560246 -0.44992808  1.97548348]\n",
            " [ 7.          7.          7.          7.          7.        ]\n",
            " [ 7.          7.          7.          7.          7.        ]]\n"
          ]
        }
      ]
    },
    {
      "cell_type": "code",
      "source": [
        "rand_matrix[rand_matrix>6] = 8 #Modification using logiaca references\n",
        "rand_matrix"
      ],
      "metadata": {
        "colab": {
          "base_uri": "https://localhost:8080/"
        },
        "id": "PrOhMGqfGCpq",
        "outputId": "db63347b-3690-4604-9440-d6b0885f2f41"
      },
      "execution_count": 132,
      "outputs": [
        {
          "output_type": "execute_result",
          "data": {
            "text/plain": [
              "array([[-1.17519884, -0.06632196,  0.55368892, -3.19116873, -1.86611526],\n",
              "       [-1.10279344,  1.1646984 ,  0.14928526, -1.45319514, -0.98552686],\n",
              "       [-0.2386818 , -1.09290935, -0.30560246, -0.44992808,  1.97548348],\n",
              "       [ 8.        ,  8.        ,  8.        ,  8.        ,  8.        ],\n",
              "       [ 8.        ,  8.        ,  8.        ,  8.        ,  8.        ]])"
            ]
          },
          "metadata": {},
          "execution_count": 132
        }
      ]
    },
    {
      "cell_type": "code",
      "source": [
        "new_matrix = np.random.randint(5,100,[5,5])\n",
        "print(new_matrix)"
      ],
      "metadata": {
        "colab": {
          "base_uri": "https://localhost:8080/"
        },
        "id": "NI8jM-zeGdg7",
        "outputId": "0c080e4e-41f5-4c97-d801-e8403d61475c"
      },
      "execution_count": 138,
      "outputs": [
        {
          "output_type": "stream",
          "name": "stdout",
          "text": [
            "[[47 77 82 21 24]\n",
            " [42 39 65 55 84]\n",
            " [77 59 75 61 55]\n",
            " [41 52 15 12 37]\n",
            " [14 98 16 21 32]]\n"
          ]
        }
      ]
    },
    {
      "cell_type": "code",
      "source": [
        "new_matrix[1:3,3:5] = 0\n",
        "print(new_matrix)"
      ],
      "metadata": {
        "colab": {
          "base_uri": "https://localhost:8080/"
        },
        "id": "wyB4ejP3OArD",
        "outputId": "5f0561cf-b695-4d26-fcf2-5516cdda9586"
      },
      "execution_count": 139,
      "outputs": [
        {
          "output_type": "stream",
          "name": "stdout",
          "text": [
            "[[47 77 82 21 24]\n",
            " [42 39 65  0  0]\n",
            " [77 59 75  0  0]\n",
            " [41 52 15 12 37]\n",
            " [14 98 16 21 32]]\n"
          ]
        }
      ]
    },
    {
      "cell_type": "code",
      "source": [
        "sub_mat = new_matrix[0:2,1:4]\n",
        "print(sub_mat)"
      ],
      "metadata": {
        "colab": {
          "base_uri": "https://localhost:8080/"
        },
        "id": "Qo5sm0kTOfTC",
        "outputId": "ffd6ec50-f6b2-41c5-c61c-689cae1b2b62"
      },
      "execution_count": 142,
      "outputs": [
        {
          "output_type": "stream",
          "name": "stdout",
          "text": [
            "[[77 82 21]\n",
            " [39 65  0]]\n"
          ]
        }
      ]
    },
    {
      "cell_type": "code",
      "source": [
        "sub_mat[:]=3\n",
        "print(sub_mat)"
      ],
      "metadata": {
        "colab": {
          "base_uri": "https://localhost:8080/"
        },
        "id": "3kQj0EMIOowk",
        "outputId": "0679f66c-5306-4ffb-e30f-2c3cac22b0bd"
      },
      "execution_count": 143,
      "outputs": [
        {
          "output_type": "stream",
          "name": "stdout",
          "text": [
            "[[3 3 3]\n",
            " [3 3 3]]\n"
          ]
        }
      ]
    },
    {
      "cell_type": "code",
      "source": [
        "print(new_matrix) # original matrix is also changed"
      ],
      "metadata": {
        "colab": {
          "base_uri": "https://localhost:8080/"
        },
        "id": "Inaf-5I9O3ei",
        "outputId": "918c3222-609b-466d-f1ea-3f71feb1795e"
      },
      "execution_count": 145,
      "outputs": [
        {
          "output_type": "stream",
          "name": "stdout",
          "text": [
            "[[47  3  3  3 24]\n",
            " [42  3  3  3  0]\n",
            " [77 59 75  0  0]\n",
            " [41 52 15 12 37]\n",
            " [14 98 16 21 32]]\n"
          ]
        }
      ]
    },
    {
      "cell_type": "code",
      "source": [
        "#To avoid this, you can make a copy of the original matrix using .copy() function\n",
        "rand_mat = np.random.randn(5,5)\n",
        "print(\"Original Rand Matrix\\n\",rand_mat)\n",
        "sub_mat = rand_mat[0:2,1:3].copy() #copy command\n",
        "print(\"Original submat\\n\",sub_mat)\n",
        "sub_mat[:] = 4\n",
        "print(\"Modified Submat\\n\",sub_mat)\n",
        "print(\"Unmodified original matrix\\n\",rand_mat)\n"
      ],
      "metadata": {
        "colab": {
          "base_uri": "https://localhost:8080/"
        },
        "id": "nhJIOcYhO__h",
        "outputId": "929ce107-f779-427b-ae1e-2010c86a3f9a"
      },
      "execution_count": 152,
      "outputs": [
        {
          "output_type": "stream",
          "name": "stdout",
          "text": [
            "Original Rand Matrix\n",
            " [[ 0.28425802  0.72517688 -0.85764492  0.06973897  0.95105695]\n",
            " [-1.54449666  0.44660157 -0.50852673  1.73898327  0.72686543]\n",
            " [ 0.37870147  1.07663698  0.63586275  0.60110056  0.18863228]\n",
            " [ 2.20339853 -0.99219165 -0.43672567  1.79433636  0.44002743]\n",
            " [-0.21495316 -1.18472925 -0.82280758  2.19074423  0.3363827 ]]\n",
            "Original submat\n",
            " [[ 0.72517688 -0.85764492]\n",
            " [ 0.44660157 -0.50852673]]\n",
            "Modified Submat\n",
            " [[4. 4.]\n",
            " [4. 4.]]\n",
            "Unmodified original matrix\n",
            " [[ 0.28425802  0.72517688 -0.85764492  0.06973897  0.95105695]\n",
            " [-1.54449666  0.44660157 -0.50852673  1.73898327  0.72686543]\n",
            " [ 0.37870147  1.07663698  0.63586275  0.60110056  0.18863228]\n",
            " [ 2.20339853 -0.99219165 -0.43672567  1.79433636  0.44002743]\n",
            " [-0.21495316 -1.18472925 -0.82280758  2.19074423  0.3363827 ]]\n"
          ]
        }
      ]
    },
    {
      "cell_type": "markdown",
      "source": [
        "Saving FIles"
      ],
      "metadata": {
        "id": "oNQlvvCoSRzO"
      }
    },
    {
      "cell_type": "code",
      "source": [
        "#Use np.save\n",
        "#you have to mount your drive to google drive first\n",
        "np.save('/content/sample_data', random_integers)\n",
        "#savez() will save multiple files at one go"
      ],
      "metadata": {
        "id": "h2k8m_ukPzMN"
      },
      "execution_count": 157,
      "outputs": []
    },
    {
      "cell_type": "markdown",
      "source": [
        "Loading Files"
      ],
      "metadata": {
        "id": "jFVYWcDVTv3L"
      }
    },
    {
      "cell_type": "code",
      "source": [
        "loaded_arr = np.load('/content/sample_data.npy')\n",
        "print(loaded_arr)"
      ],
      "metadata": {
        "colab": {
          "base_uri": "https://localhost:8080/"
        },
        "id": "QqSF_hH8RrTc",
        "outputId": "c710621e-dd04-41d7-adb8-f93b94064ae8"
      },
      "execution_count": 158,
      "outputs": [
        {
          "output_type": "stream",
          "name": "stdout",
          "text": [
            "[[4 9 8 4 5]\n",
            " [5 9 8 6 7]\n",
            " [2 3 4 8 1]\n",
            " [3 7 1 2 7]\n",
            " [3 7 1 6 7]]\n"
          ]
        }
      ]
    },
    {
      "cell_type": "code",
      "source": [],
      "metadata": {
        "id": "OQsqmHN-T63n"
      },
      "execution_count": null,
      "outputs": []
    }
  ]
}