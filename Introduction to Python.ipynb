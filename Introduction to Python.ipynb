{
 "cells": [
  {
   "cell_type": "markdown",
   "id": "a1e88628",
   "metadata": {},
   "source": [
    "Introduction to Python"
   ]
  },
  {
   "cell_type": "code",
   "execution_count": 1,
   "id": "4cf97d4e",
   "metadata": {},
   "outputs": [],
   "source": [
    "# Creating variables and assigning them values\n",
    "num = 3"
   ]
  },
  {
   "cell_type": "code",
   "execution_count": 2,
   "id": "d6b86690",
   "metadata": {},
   "outputs": [
    {
     "data": {
      "text/plain": [
       "3"
      ]
     },
     "execution_count": 2,
     "metadata": {},
     "output_type": "execute_result"
    }
   ],
   "source": [
    "num"
   ]
  },
  {
   "cell_type": "code",
   "execution_count": 3,
   "id": "fd9d6fe7",
   "metadata": {},
   "outputs": [
    {
     "data": {
      "text/plain": [
       "4"
      ]
     },
     "execution_count": 3,
     "metadata": {},
     "output_type": "execute_result"
    }
   ],
   "source": [
    "num=4\n",
    "num"
   ]
  },
  {
   "cell_type": "code",
   "execution_count": 4,
   "id": "7fad2a22",
   "metadata": {},
   "outputs": [
    {
     "data": {
      "text/plain": [
       "4"
      ]
     },
     "execution_count": 4,
     "metadata": {},
     "output_type": "execute_result"
    }
   ],
   "source": [
    "x=y=z= 4\n",
    "y"
   ]
  },
  {
   "cell_type": "code",
   "execution_count": 5,
   "id": "6952a006",
   "metadata": {},
   "outputs": [
    {
     "data": {
      "text/plain": [
       "4"
      ]
     },
     "execution_count": 5,
     "metadata": {},
     "output_type": "execute_result"
    }
   ],
   "source": [
    "z"
   ]
  },
  {
   "cell_type": "code",
   "execution_count": 6,
   "id": "2138cad2",
   "metadata": {},
   "outputs": [],
   "source": [
    "#String variables\n",
    "a = 'great learning'"
   ]
  },
  {
   "cell_type": "code",
   "execution_count": 7,
   "id": "e9ecb41f",
   "metadata": {},
   "outputs": [
    {
     "data": {
      "text/plain": [
       "'great learning'"
      ]
     },
     "execution_count": 7,
     "metadata": {},
     "output_type": "execute_result"
    }
   ],
   "source": [
    "a"
   ]
  },
  {
   "cell_type": "code",
   "execution_count": 8,
   "id": "51f0a400",
   "metadata": {},
   "outputs": [
    {
     "data": {
      "text/plain": [
       "'Ken'"
      ]
     },
     "execution_count": 8,
     "metadata": {},
     "output_type": "execute_result"
    }
   ],
   "source": [
    "x, y = 45,'Ken'\n",
    "y"
   ]
  },
  {
   "cell_type": "code",
   "execution_count": 9,
   "id": "025b55b1",
   "metadata": {},
   "outputs": [
    {
     "data": {
      "text/plain": [
       "int"
      ]
     },
     "execution_count": 9,
     "metadata": {},
     "output_type": "execute_result"
    }
   ],
   "source": [
    "#Integer, Float and Complex\n",
    "type(x)"
   ]
  },
  {
   "cell_type": "code",
   "execution_count": 10,
   "id": "03e5bff8",
   "metadata": {},
   "outputs": [
    {
     "data": {
      "text/plain": [
       "float"
      ]
     },
     "execution_count": 10,
     "metadata": {},
     "output_type": "execute_result"
    }
   ],
   "source": [
    "a = 3.1\n",
    "type(a)"
   ]
  },
  {
   "cell_type": "markdown",
   "id": "9ff679e7",
   "metadata": {},
   "source": [
    "floating point"
   ]
  },
  {
   "cell_type": "code",
   "execution_count": 11,
   "id": "fb3126c0",
   "metadata": {},
   "outputs": [
    {
     "data": {
      "text/plain": [
       "(3+4j)"
      ]
     },
     "execution_count": 11,
     "metadata": {},
     "output_type": "execute_result"
    }
   ],
   "source": [
    "x = 3+4j\n",
    "x"
   ]
  },
  {
   "cell_type": "code",
   "execution_count": 12,
   "id": "7701d58f",
   "metadata": {},
   "outputs": [
    {
     "data": {
      "text/plain": [
       "complex"
      ]
     },
     "execution_count": 12,
     "metadata": {},
     "output_type": "execute_result"
    }
   ],
   "source": [
    "type(x)"
   ]
  },
  {
   "cell_type": "code",
   "execution_count": 13,
   "id": "2e698e68",
   "metadata": {},
   "outputs": [
    {
     "data": {
      "text/plain": [
       "'Great Learning'"
      ]
     },
     "execution_count": 13,
     "metadata": {},
     "output_type": "execute_result"
    }
   ],
   "source": [
    "#Operations on strings\n",
    "str1 = 'Great'\n",
    "str2 = ' Learning'\n",
    "str1+str2"
   ]
  },
  {
   "cell_type": "code",
   "execution_count": 14,
   "id": "68d9651c",
   "metadata": {},
   "outputs": [
    {
     "data": {
      "text/plain": [
       "'ACTGACTGACTGACTGACTGACTGACTGACTGACTGACTG'"
      ]
     },
     "execution_count": 14,
     "metadata": {},
     "output_type": "execute_result"
    }
   ],
   "source": [
    "str4 = 'ACTG'\n",
    "str4*10"
   ]
  },
  {
   "cell_type": "code",
   "execution_count": 15,
   "id": "9288b7a0",
   "metadata": {},
   "outputs": [
    {
     "data": {
      "text/plain": [
       "'A'"
      ]
     },
     "execution_count": 15,
     "metadata": {},
     "output_type": "execute_result"
    }
   ],
   "source": [
    "str4[0]"
   ]
  },
  {
   "cell_type": "code",
   "execution_count": 16,
   "id": "62a47d5c",
   "metadata": {},
   "outputs": [
    {
     "data": {
      "text/plain": [
       "'G'"
      ]
     },
     "execution_count": 16,
     "metadata": {},
     "output_type": "execute_result"
    }
   ],
   "source": [
    "str4[-1]"
   ]
  },
  {
   "cell_type": "code",
   "execution_count": 17,
   "id": "983b3d80",
   "metadata": {},
   "outputs": [
    {
     "data": {
      "text/plain": [
       "'Gre'"
      ]
     },
     "execution_count": 17,
     "metadata": {},
     "output_type": "execute_result"
    }
   ],
   "source": [
    "str1[0:3]"
   ]
  },
  {
   "cell_type": "code",
   "execution_count": 18,
   "id": "1144db52",
   "metadata": {},
   "outputs": [
    {
     "data": {
      "text/plain": [
       "'PythonPython'"
      ]
     },
     "execution_count": 18,
     "metadata": {},
     "output_type": "execute_result"
    }
   ],
   "source": [
    "string= 'Python'\n",
    "string*2"
   ]
  },
  {
   "cell_type": "code",
   "execution_count": 19,
   "id": "c6f0062f",
   "metadata": {},
   "outputs": [
    {
     "data": {
      "text/plain": [
       "'PythonPython'"
      ]
     },
     "execution_count": 19,
     "metadata": {},
     "output_type": "execute_result"
    }
   ],
   "source": [
    "string+string"
   ]
  },
  {
   "cell_type": "code",
   "execution_count": 20,
   "id": "1fde872f",
   "metadata": {},
   "outputs": [
    {
     "data": {
      "text/plain": [
       "bool"
      ]
     },
     "execution_count": 20,
     "metadata": {},
     "output_type": "execute_result"
    }
   ],
   "source": [
    "var = True\n",
    "type(var)"
   ]
  },
  {
   "cell_type": "code",
   "execution_count": 21,
   "id": "61169d30",
   "metadata": {},
   "outputs": [
    {
     "data": {
      "text/plain": [
       "True"
      ]
     },
     "execution_count": 21,
     "metadata": {},
     "output_type": "execute_result"
    }
   ],
   "source": [
    "10>9"
   ]
  },
  {
   "cell_type": "code",
   "execution_count": 22,
   "id": "374d1518",
   "metadata": {},
   "outputs": [
    {
     "data": {
      "text/plain": [
       "1"
      ]
     },
     "execution_count": 22,
     "metadata": {},
     "output_type": "execute_result"
    }
   ],
   "source": [
    "True+ False"
   ]
  },
  {
   "cell_type": "markdown",
   "id": "7c48ceb4",
   "metadata": {},
   "source": [
    "print statements"
   ]
  },
  {
   "cell_type": "code",
   "execution_count": 23,
   "id": "3be1fa3c",
   "metadata": {},
   "outputs": [
    {
     "name": "stdout",
     "output_type": "stream",
     "text": [
      "x  =  (3+4j)\n"
     ]
    }
   ],
   "source": [
    "print(\"x  = \",x)"
   ]
  },
  {
   "cell_type": "code",
   "execution_count": 24,
   "id": "4bb9aa07",
   "metadata": {},
   "outputs": [
    {
     "name": "stdout",
     "output_type": "stream",
     "text": [
      "x =  7\n",
      "\n",
      "y =  9 \t\n"
     ]
    }
   ],
   "source": [
    "#use of \\n\n",
    "x = 7\n",
    "y = 9\n",
    "print('x = ',x,end = '\\n\\n')\n",
    "print('y = ',9,'\\t')"
   ]
  },
  {
   "cell_type": "code",
   "execution_count": 25,
   "id": "0555ca42",
   "metadata": {},
   "outputs": [
    {
     "name": "stdout",
     "output_type": "stream",
     "text": [
      "Enter your age65\n"
     ]
    }
   ],
   "source": [
    "age = int(input(\"Enter your age\"))"
   ]
  },
  {
   "cell_type": "code",
   "execution_count": 26,
   "id": "66cdf836",
   "metadata": {},
   "outputs": [
    {
     "data": {
      "text/plain": [
       "65"
      ]
     },
     "execution_count": 26,
     "metadata": {},
     "output_type": "execute_result"
    }
   ],
   "source": [
    "age"
   ]
  },
  {
   "cell_type": "code",
   "execution_count": 27,
   "id": "78daf2e5",
   "metadata": {},
   "outputs": [
    {
     "name": "stdout",
     "output_type": "stream",
     "text": [
      "Enter your age45\n"
     ]
    }
   ],
   "source": [
    "aged = float(input(\"Enter your age\"))"
   ]
  },
  {
   "cell_type": "code",
   "execution_count": 28,
   "id": "6cd5c12b",
   "metadata": {},
   "outputs": [
    {
     "data": {
      "text/plain": [
       "45.0"
      ]
     },
     "execution_count": 28,
     "metadata": {},
     "output_type": "execute_result"
    }
   ],
   "source": [
    "aged"
   ]
  },
  {
   "cell_type": "markdown",
   "id": "37d1e6d4",
   "metadata": {},
   "source": [
    "Arithmetic Operations"
   ]
  },
  {
   "cell_type": "code",
   "execution_count": 29,
   "id": "9bcf3c28",
   "metadata": {},
   "outputs": [
    {
     "data": {
      "text/plain": [
       "144"
      ]
     },
     "execution_count": 29,
     "metadata": {},
     "output_type": "execute_result"
    }
   ],
   "source": [
    "a= 12\n",
    "b= 2\n",
    "a**b"
   ]
  },
  {
   "cell_type": "code",
   "execution_count": 30,
   "id": "1b2519ce",
   "metadata": {},
   "outputs": [
    {
     "name": "stdout",
     "output_type": "stream",
     "text": [
      "a+b =  14\n"
     ]
    }
   ],
   "source": [
    "print('a+b = ', a+b)"
   ]
  },
  {
   "cell_type": "code",
   "execution_count": 31,
   "id": "861adf47",
   "metadata": {},
   "outputs": [
    {
     "data": {
      "text/plain": [
       "0"
      ]
     },
     "execution_count": 31,
     "metadata": {},
     "output_type": "execute_result"
    }
   ],
   "source": [
    "(14%2)"
   ]
  },
  {
   "cell_type": "markdown",
   "id": "124a19eb",
   "metadata": {},
   "source": [
    "Comparison Operators"
   ]
  },
  {
   "cell_type": "code",
   "execution_count": 32,
   "id": "d41b8973",
   "metadata": {},
   "outputs": [
    {
     "data": {
      "text/plain": [
       "True"
      ]
     },
     "execution_count": 32,
     "metadata": {},
     "output_type": "execute_result"
    }
   ],
   "source": [
    "a>b"
   ]
  },
  {
   "cell_type": "code",
   "execution_count": 33,
   "id": "4e59e89b",
   "metadata": {},
   "outputs": [
    {
     "data": {
      "text/plain": [
       "False"
      ]
     },
     "execution_count": 33,
     "metadata": {},
     "output_type": "execute_result"
    }
   ],
   "source": [
    "a==b"
   ]
  },
  {
   "cell_type": "code",
   "execution_count": 34,
   "id": "b456c275",
   "metadata": {},
   "outputs": [
    {
     "name": "stdout",
     "output_type": "stream",
     "text": [
      "a!=b is  True\n"
     ]
    }
   ],
   "source": [
    "print(\"a!=b is \", a!=b)"
   ]
  },
  {
   "cell_type": "code",
   "execution_count": 35,
   "id": "8be7c5e0",
   "metadata": {},
   "outputs": [
    {
     "data": {
      "text/plain": [
       "True"
      ]
     },
     "execution_count": 35,
     "metadata": {},
     "output_type": "execute_result"
    }
   ],
   "source": [
    "(4/2!= 2.0)== False"
   ]
  },
  {
   "cell_type": "markdown",
   "id": "dd3c9c84",
   "metadata": {},
   "source": [
    "Logical Operators`"
   ]
  },
  {
   "cell_type": "code",
   "execution_count": 36,
   "id": "a8d177e4",
   "metadata": {},
   "outputs": [
    {
     "data": {
      "text/plain": [
       "True"
      ]
     },
     "execution_count": 36,
     "metadata": {},
     "output_type": "execute_result"
    }
   ],
   "source": [
    "x = 11\n",
    "a = x>10 or x<20\n",
    "a"
   ]
  },
  {
   "cell_type": "markdown",
   "id": "39dd81d5",
   "metadata": {},
   "source": [
    "Lists"
   ]
  },
  {
   "cell_type": "code",
   "execution_count": 37,
   "id": "d9644e50",
   "metadata": {},
   "outputs": [],
   "source": [
    "empty_list = []"
   ]
  },
  {
   "cell_type": "code",
   "execution_count": 38,
   "id": "2cd9162c",
   "metadata": {},
   "outputs": [
    {
     "data": {
      "text/plain": [
       "[]"
      ]
     },
     "execution_count": 38,
     "metadata": {},
     "output_type": "execute_result"
    }
   ],
   "source": [
    "empty_list"
   ]
  },
  {
   "cell_type": "code",
   "execution_count": 39,
   "id": "b11e2057",
   "metadata": {},
   "outputs": [],
   "source": [
    "nested_list = [['a','b','c'],[1,2,3]]"
   ]
  },
  {
   "cell_type": "code",
   "execution_count": 40,
   "id": "f4a87172",
   "metadata": {},
   "outputs": [
    {
     "data": {
      "text/plain": [
       "[['a', 'b', 'c'], [1, 2, 3]]"
      ]
     },
     "execution_count": 40,
     "metadata": {},
     "output_type": "execute_result"
    }
   ],
   "source": [
    "nested_list"
   ]
  },
  {
   "cell_type": "code",
   "execution_count": 41,
   "id": "c07571c7",
   "metadata": {},
   "outputs": [],
   "source": [
    "course = ['math', 'english','science','cre','chemistry']"
   ]
  },
  {
   "cell_type": "code",
   "execution_count": 42,
   "id": "f484fb05",
   "metadata": {},
   "outputs": [
    {
     "data": {
      "text/plain": [
       "'math'"
      ]
     },
     "execution_count": 42,
     "metadata": {},
     "output_type": "execute_result"
    }
   ],
   "source": [
    "course[0]"
   ]
  },
  {
   "cell_type": "code",
   "execution_count": 43,
   "id": "53856796",
   "metadata": {},
   "outputs": [
    {
     "data": {
      "text/plain": [
       "'chemistry'"
      ]
     },
     "execution_count": 43,
     "metadata": {},
     "output_type": "execute_result"
    }
   ],
   "source": [
    "course[-1]"
   ]
  },
  {
   "cell_type": "code",
   "execution_count": 44,
   "id": "1b263f1e",
   "metadata": {},
   "outputs": [
    {
     "data": {
      "text/plain": [
       "['science', 'cre']"
      ]
     },
     "execution_count": 44,
     "metadata": {},
     "output_type": "execute_result"
    }
   ],
   "source": [
    "course[2:4]"
   ]
  },
  {
   "cell_type": "code",
   "execution_count": 45,
   "id": "075a8c3a",
   "metadata": {},
   "outputs": [
    {
     "data": {
      "text/plain": [
       "['math', 'english', 'science', 'cre']"
      ]
     },
     "execution_count": 45,
     "metadata": {},
     "output_type": "execute_result"
    }
   ],
   "source": [
    "course[:4]"
   ]
  },
  {
   "cell_type": "code",
   "execution_count": 46,
   "id": "da5e3d20",
   "metadata": {},
   "outputs": [
    {
     "data": {
      "text/plain": [
       "['math', 'english', 'science', 'cre', 'chemistry']"
      ]
     },
     "execution_count": 46,
     "metadata": {},
     "output_type": "execute_result"
    }
   ],
   "source": [
    "course[:]"
   ]
  },
  {
   "cell_type": "code",
   "execution_count": 47,
   "id": "c73d290f",
   "metadata": {},
   "outputs": [
    {
     "data": {
      "text/plain": [
       "['science', 'cre', 'chemistry']"
      ]
     },
     "execution_count": 47,
     "metadata": {},
     "output_type": "execute_result"
    }
   ],
   "source": [
    "course[2:]"
   ]
  },
  {
   "cell_type": "code",
   "execution_count": 48,
   "id": "9e44f701",
   "metadata": {},
   "outputs": [],
   "source": [
    "#changing an item\n",
    "course[2] ='statistics'"
   ]
  },
  {
   "cell_type": "code",
   "execution_count": 49,
   "id": "a60f0212",
   "metadata": {},
   "outputs": [
    {
     "data": {
      "text/plain": [
       "['math', 'english', 'statistics', 'cre', 'chemistry']"
      ]
     },
     "execution_count": 49,
     "metadata": {},
     "output_type": "execute_result"
    }
   ],
   "source": [
    "course"
   ]
  },
  {
   "cell_type": "code",
   "execution_count": 50,
   "id": "9f184ec4",
   "metadata": {},
   "outputs": [
    {
     "name": "stdout",
     "output_type": "stream",
     "text": [
      "[3, 5, 7]\n"
     ]
    }
   ],
   "source": [
    "a = [1,2,3,4,5,6,7,8,9,10]\n",
    "print(a[2:7:2])"
   ]
  },
  {
   "cell_type": "markdown",
   "id": "b08ef2fc",
   "metadata": {},
   "source": [
    "Methods - Built in methods that are inherited upon creation of a particular data type"
   ]
  },
  {
   "cell_type": "markdown",
   "id": "5a741560",
   "metadata": {},
   "source": [
    "- append()\n",
    "- insert()\n",
    "- pop()\n",
    "- del\n",
    "- remove()\n",
    "- extend()\n",
    "- reverse()"
   ]
  },
  {
   "cell_type": "code",
   "execution_count": 51,
   "id": "2ea827b9",
   "metadata": {},
   "outputs": [],
   "source": [
    "#append -  add a list into a list\n",
    "course.append(a)"
   ]
  },
  {
   "cell_type": "code",
   "execution_count": 52,
   "id": "a41f602d",
   "metadata": {},
   "outputs": [
    {
     "data": {
      "text/plain": [
       "['math',\n",
       " 'english',\n",
       " 'statistics',\n",
       " 'cre',\n",
       " 'chemistry',\n",
       " [1, 2, 3, 4, 5, 6, 7, 8, 9, 10]]"
      ]
     },
     "execution_count": 52,
     "metadata": {},
     "output_type": "execute_result"
    }
   ],
   "source": [
    "course"
   ]
  },
  {
   "cell_type": "code",
   "execution_count": 53,
   "id": "412fe79a",
   "metadata": {},
   "outputs": [],
   "source": [
    "#Insert - Insert an item into a list\n",
    "a.insert(7,10)"
   ]
  },
  {
   "cell_type": "code",
   "execution_count": 54,
   "id": "72538b2e",
   "metadata": {},
   "outputs": [
    {
     "data": {
      "text/plain": [
       "[1, 2, 3, 4, 5, 6, 7, 10, 8, 9, 10]"
      ]
     },
     "execution_count": 54,
     "metadata": {},
     "output_type": "execute_result"
    }
   ],
   "source": [
    "a"
   ]
  },
  {
   "cell_type": "code",
   "execution_count": 55,
   "id": "61542d61",
   "metadata": {},
   "outputs": [],
   "source": [
    "#Extend - Increase a list with contents of another list, insert but only at the end\n",
    "a.extend(a)"
   ]
  },
  {
   "cell_type": "code",
   "execution_count": 56,
   "id": "1f76cf04",
   "metadata": {},
   "outputs": [
    {
     "data": {
      "text/plain": [
       "[1, 2, 3, 4, 5, 6, 7, 10, 8, 9, 10, 1, 2, 3, 4, 5, 6, 7, 10, 8, 9, 10]"
      ]
     },
     "execution_count": 56,
     "metadata": {},
     "output_type": "execute_result"
    }
   ],
   "source": [
    "a"
   ]
  },
  {
   "cell_type": "code",
   "execution_count": 57,
   "id": "6c457209",
   "metadata": {},
   "outputs": [],
   "source": [
    "#Delete an item\n",
    "del a[0]"
   ]
  },
  {
   "cell_type": "code",
   "execution_count": 58,
   "id": "a63f1a54",
   "metadata": {},
   "outputs": [
    {
     "data": {
      "text/plain": [
       "[2, 3, 4, 5, 6, 7, 10, 8, 9, 10, 1, 2, 3, 4, 5, 6, 7, 10, 8, 9, 10]"
      ]
     },
     "execution_count": 58,
     "metadata": {},
     "output_type": "execute_result"
    }
   ],
   "source": [
    "a"
   ]
  },
  {
   "cell_type": "code",
   "execution_count": 59,
   "id": "10839a18",
   "metadata": {},
   "outputs": [],
   "source": [
    "#remove - a method approach to applying delete\n",
    "a.remove(2) \n",
    "#this will remove the first occurence of the item 7"
   ]
  },
  {
   "cell_type": "code",
   "execution_count": 60,
   "id": "bc23301b",
   "metadata": {},
   "outputs": [
    {
     "data": {
      "text/plain": [
       "[3, 4, 5, 6, 7, 10, 8, 9, 10, 1, 2, 3, 4, 5, 6, 7, 10, 8, 9, 10]"
      ]
     },
     "execution_count": 60,
     "metadata": {},
     "output_type": "execute_result"
    }
   ],
   "source": [
    "a"
   ]
  },
  {
   "cell_type": "code",
   "execution_count": 61,
   "id": "74a06e7d",
   "metadata": {},
   "outputs": [
    {
     "data": {
      "text/plain": [
       "[3, 4, 5, 6, 7, 10, 8, 9, 10, 1, 2, 3, 4, 5, 6, 7, 10, 8, 9, 10]"
      ]
     },
     "execution_count": 61,
     "metadata": {},
     "output_type": "execute_result"
    }
   ],
   "source": [
    "#pop - will identify the last element\n",
    "#if you give pop an argument it will return the item at the position of the argument\n",
    "course.pop()"
   ]
  },
  {
   "cell_type": "code",
   "execution_count": 62,
   "id": "089ee67d",
   "metadata": {},
   "outputs": [
    {
     "data": {
      "text/plain": [
       "'english'"
      ]
     },
     "execution_count": 62,
     "metadata": {},
     "output_type": "execute_result"
    }
   ],
   "source": [
    "course.pop(1)"
   ]
  },
  {
   "cell_type": "code",
   "execution_count": 63,
   "id": "ca7ae4f5",
   "metadata": {},
   "outputs": [
    {
     "data": {
      "text/plain": [
       "['math', 'statistics', 'cre', 'chemistry']"
      ]
     },
     "execution_count": 63,
     "metadata": {},
     "output_type": "execute_result"
    }
   ],
   "source": [
    "#reverse - Reverses a list\n",
    "course"
   ]
  },
  {
   "cell_type": "code",
   "execution_count": 64,
   "id": "5d2f44ea",
   "metadata": {},
   "outputs": [],
   "source": [
    "course.reverse()"
   ]
  },
  {
   "cell_type": "code",
   "execution_count": 65,
   "id": "f3d4bea1",
   "metadata": {},
   "outputs": [
    {
     "data": {
      "text/plain": [
       "['chemistry', 'cre', 'statistics', 'math']"
      ]
     },
     "execution_count": 65,
     "metadata": {},
     "output_type": "execute_result"
    }
   ],
   "source": [
    "course"
   ]
  },
  {
   "cell_type": "markdown",
   "id": "f6c058a8",
   "metadata": {},
   "source": [
    "You can also add lists through concatenation and repetition"
   ]
  },
  {
   "cell_type": "code",
   "execution_count": 66,
   "id": "4ec9824c",
   "metadata": {},
   "outputs": [
    {
     "data": {
      "text/plain": [
       "['chemistry',\n",
       " 'cre',\n",
       " 'statistics',\n",
       " 'math',\n",
       " 3,\n",
       " 4,\n",
       " 5,\n",
       " 6,\n",
       " 7,\n",
       " 10,\n",
       " 8,\n",
       " 9,\n",
       " 10,\n",
       " 1,\n",
       " 2,\n",
       " 3,\n",
       " 4,\n",
       " 5,\n",
       " 6,\n",
       " 7,\n",
       " 10,\n",
       " 8,\n",
       " 9,\n",
       " 10]"
      ]
     },
     "execution_count": 66,
     "metadata": {},
     "output_type": "execute_result"
    }
   ],
   "source": [
    "course+a"
   ]
  },
  {
   "cell_type": "code",
   "execution_count": 67,
   "id": "26321e0b",
   "metadata": {},
   "outputs": [
    {
     "data": {
      "text/plain": [
       "['chemistry',\n",
       " 'cre',\n",
       " 'statistics',\n",
       " 'math',\n",
       " 'chemistry',\n",
       " 'cre',\n",
       " 'statistics',\n",
       " 'math']"
      ]
     },
     "execution_count": 67,
     "metadata": {},
     "output_type": "execute_result"
    }
   ],
   "source": [
    "course*2"
   ]
  },
  {
   "cell_type": "markdown",
   "id": "61d2ab2f",
   "metadata": {},
   "source": [
    "### Tuples"
   ]
  },
  {
   "cell_type": "markdown",
   "id": "cc8e80cc",
   "metadata": {},
   "source": [
    "- Have orders and allow for calculations to be done, unlike lists\n",
    "- Created with the normal brackets\n",
    "- Can contain int, strings, lists etc"
   ]
  },
  {
   "cell_type": "code",
   "execution_count": 68,
   "id": "8fc878be",
   "metadata": {},
   "outputs": [
    {
     "data": {
      "text/plain": [
       "(1, 2, 'a', 'b', ['x', 'y', 'z'])"
      ]
     },
     "execution_count": 68,
     "metadata": {},
     "output_type": "execute_result"
    }
   ],
   "source": [
    "my_tuple = (1,2,'a','b',['x','y','z'])\n",
    "my_tuple"
   ]
  },
  {
   "cell_type": "code",
   "execution_count": 69,
   "id": "5b3ce38f",
   "metadata": {},
   "outputs": [
    {
     "data": {
      "text/plain": [
       "1"
      ]
     },
     "execution_count": 69,
     "metadata": {},
     "output_type": "execute_result"
    }
   ],
   "source": [
    "#accessing an item in a tuple\n",
    "my_tuple[0]"
   ]
  },
  {
   "cell_type": "code",
   "execution_count": 70,
   "id": "66113032",
   "metadata": {},
   "outputs": [
    {
     "name": "stdout",
     "output_type": "stream",
     "text": [
      "['x', 'y', 'z']\n"
     ]
    }
   ],
   "source": [
    "print(my_tuple[4])"
   ]
  },
  {
   "cell_type": "markdown",
   "id": "44c1ae9d",
   "metadata": {},
   "source": [
    "Tuples are immutable. This means you cannot delete items in the tuple or edit them. But you can alter items inside the tuple such as list items"
   ]
  },
  {
   "cell_type": "code",
   "execution_count": 71,
   "id": "ec05bc00",
   "metadata": {},
   "outputs": [],
   "source": [
    "my_tuple[4][1]= 5"
   ]
  },
  {
   "cell_type": "code",
   "execution_count": 72,
   "id": "1560004e",
   "metadata": {},
   "outputs": [
    {
     "data": {
      "text/plain": [
       "(1, 2, 'a', 'b', ['x', 5, 'z'])"
      ]
     },
     "execution_count": 72,
     "metadata": {},
     "output_type": "execute_result"
    }
   ],
   "source": [
    "my_tuple"
   ]
  },
  {
   "cell_type": "code",
   "execution_count": 73,
   "id": "2b03930c",
   "metadata": {},
   "outputs": [],
   "source": [
    "del my_tuple[4][1]"
   ]
  },
  {
   "cell_type": "code",
   "execution_count": 74,
   "id": "f5c1ebc6",
   "metadata": {},
   "outputs": [
    {
     "data": {
      "text/plain": [
       "(1, 2, 'a', 'b', ['x', 'z'])"
      ]
     },
     "execution_count": 74,
     "metadata": {},
     "output_type": "execute_result"
    }
   ],
   "source": [
    "my_tuple"
   ]
  },
  {
   "cell_type": "markdown",
   "id": "d1e6c9c0",
   "metadata": {},
   "source": [
    "### Tuples Methods"
   ]
  },
  {
   "cell_type": "markdown",
   "id": "c516da19",
   "metadata": {},
   "source": [
    "- count\n",
    "- index\n",
    "-sorted"
   ]
  },
  {
   "cell_type": "code",
   "execution_count": 75,
   "id": "5fcd0044",
   "metadata": {},
   "outputs": [
    {
     "data": {
      "text/plain": [
       "2"
      ]
     },
     "execution_count": 75,
     "metadata": {},
     "output_type": "execute_result"
    }
   ],
   "source": [
    "new_tuple = ('a','b','a')\n",
    "new_tuple.count('a')"
   ]
  },
  {
   "cell_type": "code",
   "execution_count": 76,
   "id": "ad59e3ac",
   "metadata": {},
   "outputs": [
    {
     "data": {
      "text/plain": [
       "1"
      ]
     },
     "execution_count": 76,
     "metadata": {},
     "output_type": "execute_result"
    }
   ],
   "source": [
    "new_tuple.index('b')"
   ]
  },
  {
   "cell_type": "code",
   "execution_count": 77,
   "id": "44a57205",
   "metadata": {},
   "outputs": [
    {
     "data": {
      "text/plain": [
       "['a', 'a', 'b']"
      ]
     },
     "execution_count": 77,
     "metadata": {},
     "output_type": "execute_result"
    }
   ],
   "source": [
    "sorted(new_tuple)\n",
    "#sorted function cannot sort a mix of numbers and letter. Just one type, either numbers only or letters only"
   ]
  },
  {
   "cell_type": "code",
   "execution_count": 78,
   "id": "81193312",
   "metadata": {},
   "outputs": [
    {
     "data": {
      "text/plain": [
       "('a', 'b', 'a')"
      ]
     },
     "execution_count": 78,
     "metadata": {},
     "output_type": "execute_result"
    }
   ],
   "source": [
    "new_tuple"
   ]
  },
  {
   "cell_type": "markdown",
   "id": "d1363b05",
   "metadata": {},
   "source": [
    "## Dictionaries"
   ]
  },
  {
   "cell_type": "markdown",
   "id": "08bbcdaf",
   "metadata": {},
   "source": [
    "- Created using curly brackets\n",
    "- Key value pairs\n",
    "- Separate a key and value using a colon and separate entries using a comma"
   ]
  },
  {
   "cell_type": "code",
   "execution_count": 79,
   "id": "277a5586",
   "metadata": {},
   "outputs": [
    {
     "data": {
      "text/plain": [
       "{'ken': 13000, 'Clare': 14000, 'yvonne': 12000}"
      ]
     },
     "execution_count": 79,
     "metadata": {},
     "output_type": "execute_result"
    }
   ],
   "source": [
    "balance = {'ken': 13000, 'Clare': 14000, 'yvonne':12000}\n",
    "balance"
   ]
  },
  {
   "cell_type": "markdown",
   "id": "6460144e",
   "metadata": {},
   "source": [
    "Accessing items in a dictionary"
   ]
  },
  {
   "cell_type": "code",
   "execution_count": 80,
   "id": "e73d4ca3",
   "metadata": {},
   "outputs": [
    {
     "data": {
      "text/plain": [
       "14000"
      ]
     },
     "execution_count": 80,
     "metadata": {},
     "output_type": "execute_result"
    }
   ],
   "source": [
    "balance['Clare']"
   ]
  },
  {
   "cell_type": "code",
   "execution_count": 81,
   "id": "dc660fb9",
   "metadata": {},
   "outputs": [
    {
     "data": {
      "text/plain": [
       "13000"
      ]
     },
     "execution_count": 81,
     "metadata": {},
     "output_type": "execute_result"
    }
   ],
   "source": [
    "balance.get('ken')"
   ]
  },
  {
   "cell_type": "code",
   "execution_count": 82,
   "id": "8be020af",
   "metadata": {},
   "outputs": [],
   "source": [
    "balance['ken'] = 18000"
   ]
  },
  {
   "cell_type": "code",
   "execution_count": 83,
   "id": "4751b324",
   "metadata": {},
   "outputs": [
    {
     "data": {
      "text/plain": [
       "{'ken': 18000, 'Clare': 14000, 'yvonne': 12000}"
      ]
     },
     "execution_count": 83,
     "metadata": {},
     "output_type": "execute_result"
    }
   ],
   "source": [
    "balance"
   ]
  },
  {
   "cell_type": "code",
   "execution_count": 84,
   "id": "a894e240",
   "metadata": {},
   "outputs": [
    {
     "name": "stdout",
     "output_type": "stream",
     "text": [
      "3\n"
     ]
    }
   ],
   "source": [
    "print(len(balance))"
   ]
  },
  {
   "cell_type": "markdown",
   "id": "d538c951",
   "metadata": {},
   "source": [
    "Dictionary Methods\n",
    "- pop()\n",
    "- popitem()\n",
    "- del\n",
    "- clear"
   ]
  },
  {
   "cell_type": "code",
   "execution_count": 85,
   "id": "55074de7",
   "metadata": {},
   "outputs": [
    {
     "data": {
      "text/plain": [
       "18000"
      ]
     },
     "execution_count": 85,
     "metadata": {},
     "output_type": "execute_result"
    }
   ],
   "source": [
    "#pop - removes a specified item\n",
    "balance.pop('ken')"
   ]
  },
  {
   "cell_type": "code",
   "execution_count": 86,
   "id": "5b330e6a",
   "metadata": {},
   "outputs": [
    {
     "data": {
      "text/plain": [
       "{'Clare': 14000, 'yvonne': 12000}"
      ]
     },
     "execution_count": 86,
     "metadata": {},
     "output_type": "execute_result"
    }
   ],
   "source": [
    "balance"
   ]
  },
  {
   "cell_type": "code",
   "execution_count": 87,
   "id": "803f0c86",
   "metadata": {},
   "outputs": [
    {
     "data": {
      "text/plain": [
       "('yvonne', 12000)"
      ]
     },
     "execution_count": 87,
     "metadata": {},
     "output_type": "execute_result"
    }
   ],
   "source": [
    "#popitem removes the last item\n",
    "balance.popitem()"
   ]
  },
  {
   "cell_type": "code",
   "execution_count": 88,
   "id": "4bf76990",
   "metadata": {},
   "outputs": [
    {
     "data": {
      "text/plain": [
       "{'Clare': 14000}"
      ]
     },
     "execution_count": 88,
     "metadata": {},
     "output_type": "execute_result"
    }
   ],
   "source": [
    "balance"
   ]
  },
  {
   "cell_type": "code",
   "execution_count": 89,
   "id": "5eac7393",
   "metadata": {},
   "outputs": [],
   "source": [
    "del balance['Clare']"
   ]
  },
  {
   "cell_type": "code",
   "execution_count": 90,
   "id": "58b30b4b",
   "metadata": {},
   "outputs": [
    {
     "data": {
      "text/plain": [
       "{}"
      ]
     },
     "execution_count": 90,
     "metadata": {},
     "output_type": "execute_result"
    }
   ],
   "source": [
    "balance"
   ]
  },
  {
   "cell_type": "code",
   "execution_count": 91,
   "id": "298407ed",
   "metadata": {},
   "outputs": [
    {
     "name": "stdout",
     "output_type": "stream",
     "text": [
      "\f",
      "\n"
     ]
    }
   ],
   "source": [
    "clear(balance) # empties a dictionary"
   ]
  },
  {
   "cell_type": "code",
   "execution_count": 92,
   "id": "dcae6ac0",
   "metadata": {},
   "outputs": [
    {
     "data": {
      "text/plain": [
       "{}"
      ]
     },
     "execution_count": 92,
     "metadata": {},
     "output_type": "execute_result"
    }
   ],
   "source": [
    "balance"
   ]
  },
  {
   "cell_type": "code",
   "execution_count": 93,
   "id": "501024e9",
   "metadata": {},
   "outputs": [
    {
     "data": {
      "text/plain": [
       "{2015: 20000, 2016: 160000, 2017: 179000}"
      ]
     },
     "execution_count": 93,
     "metadata": {},
     "output_type": "execute_result"
    }
   ],
   "source": [
    "year_sales = {\n",
    "    2015: 20000,\n",
    "    2016:160000,\n",
    "    2017:179000\n",
    "}\n",
    "year_sales"
   ]
  },
  {
   "cell_type": "code",
   "execution_count": 94,
   "id": "7966b123",
   "metadata": {},
   "outputs": [],
   "source": [
    "copy_year_sales = year_sales.copy()"
   ]
  },
  {
   "cell_type": "code",
   "execution_count": 95,
   "id": "47e4300b",
   "metadata": {},
   "outputs": [
    {
     "data": {
      "text/plain": [
       "{2015: 20000, 2016: 160000, 2017: 179000}"
      ]
     },
     "execution_count": 95,
     "metadata": {},
     "output_type": "execute_result"
    }
   ],
   "source": [
    "copy_year_sales"
   ]
  },
  {
   "cell_type": "code",
   "execution_count": 96,
   "id": "69957b49",
   "metadata": {},
   "outputs": [],
   "source": [
    "year_sales.update({2016:75000})"
   ]
  },
  {
   "cell_type": "code",
   "execution_count": 97,
   "id": "e3f2026b",
   "metadata": {},
   "outputs": [
    {
     "data": {
      "text/plain": [
       "{2015: 20000, 2016: 75000, 2017: 179000}"
      ]
     },
     "execution_count": 97,
     "metadata": {},
     "output_type": "execute_result"
    }
   ],
   "source": [
    "year_sales"
   ]
  },
  {
   "cell_type": "code",
   "execution_count": 98,
   "id": "c51edc6b",
   "metadata": {},
   "outputs": [
    {
     "data": {
      "text/plain": [
       "[2015, 2016, 2017]"
      ]
     },
     "execution_count": 98,
     "metadata": {},
     "output_type": "execute_result"
    }
   ],
   "source": [
    "sorted(year_sales)"
   ]
  },
  {
   "cell_type": "markdown",
   "id": "a89694e9",
   "metadata": {},
   "source": [
    "## Sets"
   ]
  },
  {
   "cell_type": "markdown",
   "id": "edf804c6",
   "metadata": {},
   "source": [
    "- A list of only distinct elements in a content and ignores the replications\n",
    "- Uses curly brackets like dictionary"
   ]
  },
  {
   "cell_type": "code",
   "execution_count": 99,
   "id": "512a7a81",
   "metadata": {},
   "outputs": [
    {
     "data": {
      "text/plain": [
       "{1, 2, 3, 4, 5}"
      ]
     },
     "execution_count": 99,
     "metadata": {},
     "output_type": "execute_result"
    }
   ],
   "source": [
    "s = {1,2,3,4,4,3,5,5}\n",
    "s"
   ]
  },
  {
   "cell_type": "code",
   "execution_count": 100,
   "id": "95cae9c3",
   "metadata": {},
   "outputs": [
    {
     "data": {
      "text/plain": [
       "{1, 3, 4, 5}"
      ]
     },
     "execution_count": 100,
     "metadata": {},
     "output_type": "execute_result"
    }
   ],
   "source": [
    "p ={1,4,5,3,3,5,4}\n",
    "p"
   ]
  },
  {
   "cell_type": "markdown",
   "id": "10990fbd",
   "metadata": {},
   "source": [
    "## Conditional Statements and Loops"
   ]
  },
  {
   "cell_type": "code",
   "execution_count": 101,
   "id": "7aee90d3",
   "metadata": {},
   "outputs": [
    {
     "name": "stdout",
     "output_type": "stream",
     "text": [
      "python is not in my list\n"
     ]
    }
   ],
   "source": [
    "my_string = 'python'\n",
    "my_list = ['java','c','pascal','r','vb']\n",
    "\n",
    "if my_string in my_list:\n",
    "\n",
    "    print(my_string + ' is in my list')\n",
    "else:\n",
    "    print(my_string + ' is not in my list')"
   ]
  },
  {
   "cell_type": "code",
   "execution_count": 102,
   "id": "92592d33",
   "metadata": {},
   "outputs": [
    {
     "name": "stdout",
     "output_type": "stream",
     "text": [
      "Enter your name: ken\n",
      "\n",
      "Enter your password: k\n",
      "\n",
      "Logged in Successfully\n"
     ]
    }
   ],
   "source": [
    "username = str(input('Enter your name: '))\n",
    "password = str(input('\\nEnter your password: '))\n",
    "\n",
    "if (username == 'ken' and password == 'k'):\n",
    "    print('\\nLogged in Successfully')\n",
    "else:\n",
    "    print('\\nWrong username or password')"
   ]
  },
  {
   "cell_type": "code",
   "execution_count": 103,
   "id": "ba9ecafb",
   "metadata": {},
   "outputs": [
    {
     "name": "stdout",
     "output_type": "stream",
     "text": [
      "Enter a number: 76\n",
      "Number is greater than 50\n"
     ]
    }
   ],
   "source": [
    "num = float(input('Enter a number: '))\n",
    "if (num == 0):\n",
    "    print('Number is 0')\n",
    "elif (num > 50):\n",
    "    print(\"Number is greater than 50\")\n",
    "else:\n",
    "    print('Number is less than 50')"
   ]
  },
  {
   "cell_type": "markdown",
   "id": "e17ceb34",
   "metadata": {},
   "source": [
    "## Loops"
   ]
  },
  {
   "cell_type": "code",
   "execution_count": 104,
   "id": "4a99b1de",
   "metadata": {},
   "outputs": [
    {
     "name": "stdout",
     "output_type": "stream",
     "text": [
      "The sum of numbers in the list is 496\n"
     ]
    }
   ],
   "source": [
    "sums = 0\n",
    "num_list = [23,4,56,76,33,52,76,78,98]\n",
    "\n",
    "for num in num_list:\n",
    "    sums += num\n",
    "print('The sum of numbers in the list is', sums)"
   ]
  },
  {
   "cell_type": "code",
   "execution_count": 105,
   "id": "2a8b55fd",
   "metadata": {},
   "outputs": [
    {
     "name": "stdout",
     "output_type": "stream",
     "text": [
      "The sum of integers between 0 and 9 is 45\n"
     ]
    }
   ],
   "source": [
    "#calculate the sum of integers from 0 to 9\n",
    "\n",
    "n = 0\n",
    "total = 0\n",
    "while n<10:\n",
    "    total +=n\n",
    "    n+=1\n",
    "print('The sum of integers between 0 and 9 is', total)"
   ]
  },
  {
   "cell_type": "markdown",
   "id": "b3ab27dc",
   "metadata": {},
   "source": [
    "### Break and Continue Statements"
   ]
  },
  {
   "cell_type": "code",
   "execution_count": 106,
   "id": "ead330f7",
   "metadata": {},
   "outputs": [
    {
     "name": "stdout",
     "output_type": "stream",
     "text": [
      "56\n",
      "-0\n",
      "-9\n",
      "Met negative number -9\n"
     ]
    }
   ],
   "source": [
    "for i in range(5):\n",
    "    a = int(input())\n",
    "    if a<0:\n",
    "        print('Met negative number', a)\n",
    "        break\n",
    "else:\n",
    "    print('Not met any negative number')"
   ]
  },
  {
   "cell_type": "code",
   "execution_count": 107,
   "id": "dd34a8e6",
   "metadata": {},
   "outputs": [
    {
     "name": "stdout",
     "output_type": "stream",
     "text": [
      "1 2 3 4 5 7 8 9 10 "
     ]
    }
   ],
   "source": [
    "for i in range(1,11):\n",
    "    if i== 6:\n",
    "        continue\n",
    "    else:\n",
    "        print(i, end = ' ')"
   ]
  }
 ],
 "metadata": {
  "kernelspec": {
   "display_name": "Python 3 (ipykernel)",
   "language": "python",
   "name": "python3"
  },
  "language_info": {
   "codemirror_mode": {
    "name": "ipython",
    "version": 3
   },
   "file_extension": ".py",
   "mimetype": "text/x-python",
   "name": "python",
   "nbconvert_exporter": "python",
   "pygments_lexer": "ipython3",
   "version": "3.9.12"
  }
 },
 "nbformat": 4,
 "nbformat_minor": 5
}
