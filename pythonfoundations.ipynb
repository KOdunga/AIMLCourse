{
  "nbformat": 4,
  "nbformat_minor": 0,
  "metadata": {
    "colab": {
      "provenance": [],
      "authorship_tag": "ABX9TyNxpCRZCPUQPpb3NHiVnC1g",
      "include_colab_link": true
    },
    "kernelspec": {
      "name": "python3",
      "display_name": "Python 3"
    },
    "language_info": {
      "name": "python"
    }
  },
  "cells": [
    {
      "cell_type": "markdown",
      "metadata": {
        "id": "view-in-github",
        "colab_type": "text"
      },
      "source": [
        "<a href=\"https://colab.research.google.com/github/KOdunga/AIMLCourse/blob/main/pythonfoundations.ipynb\" target=\"_parent\"><img src=\"https://colab.research.google.com/assets/colab-badge.svg\" alt=\"Open In Colab\"/></a>"
      ]
    },
    {
      "cell_type": "markdown",
      "source": [
        "# An introduction to Python for Data Analysis\n"
      ],
      "metadata": {
        "id": "qkM0tAa_O-FW"
      }
    },
    {
      "cell_type": "code",
      "source": [
        "2+2"
      ],
      "metadata": {
        "colab": {
          "base_uri": "https://localhost:8080/"
        },
        "id": "DV7_VGo0QW_h",
        "outputId": "cca3bdcb-4302-4c99-b8a1-7c6208041a07"
      },
      "execution_count": 12,
      "outputs": [
        {
          "output_type": "execute_result",
          "data": {
            "text/plain": [
              "4"
            ]
          },
          "metadata": {},
          "execution_count": 12
        }
      ]
    },
    {
      "cell_type": "code",
      "source": [
        "print(2.2)\n",
        "print(4+4)"
      ],
      "metadata": {
        "colab": {
          "base_uri": "https://localhost:8080/"
        },
        "id": "NOmE8ZL4O41q",
        "outputId": "ad39cc0c-ec3b-432d-bbb0-b8cb732e08f8"
      },
      "execution_count": 13,
      "outputs": [
        {
          "output_type": "stream",
          "name": "stdout",
          "text": [
            "2.2\n",
            "8\n"
          ]
        }
      ]
    },
    {
      "cell_type": "code",
      "source": [
        "print('Hello',2,'World', sep=':') # Using sep to separate at the comma positions"
      ],
      "metadata": {
        "colab": {
          "base_uri": "https://localhost:8080/"
        },
        "id": "3SqDIwFqQ6XU",
        "outputId": "fd280065-e53f-4e0f-92f6-c90cbbd72558"
      },
      "execution_count": 14,
      "outputs": [
        {
          "output_type": "stream",
          "name": "stdout",
          "text": [
            "Hello:2:World\n"
          ]
        }
      ]
    },
    {
      "cell_type": "code",
      "source": [
        "#Input and output variables\n",
        "\n",
        "price = 900\n",
        "brand = 'Apple'\n",
        "ram = 4\n",
        "storage = 128\n",
        "\n",
        "print('The price of the phone is $',price,sep ='')\n",
        "print('\\nThe brand of the phone is',brand)\n",
        "print('\\nThe RAM of the phone is ',ram,'GB')\n",
        "print('\\nThe storage of the mobile is',storage,'GB')"
      ],
      "metadata": {
        "colab": {
          "base_uri": "https://localhost:8080/"
        },
        "id": "tSQqWJvVRpEl",
        "outputId": "6e14c07e-59b4-4f82-f5a7-49a403bf5432"
      },
      "execution_count": 15,
      "outputs": [
        {
          "output_type": "stream",
          "name": "stdout",
          "text": [
            "The price of the phone is $900\n",
            "\n",
            "The brand of the phone is Apple\n",
            "\n",
            "The RAM of the phone is  4 GB\n",
            "\n",
            "The storage of the mobile is 128 GB\n"
          ]
        }
      ]
    },
    {
      "cell_type": "code",
      "source": [
        "#Boolean Variable\n",
        "is_billed = True\n",
        "print(is_billed)"
      ],
      "metadata": {
        "colab": {
          "base_uri": "https://localhost:8080/"
        },
        "id": "HXEw_a2UT-4O",
        "outputId": "ed875f0f-2dec-421a-d501-c35df1d402ea"
      },
      "execution_count": 16,
      "outputs": [
        {
          "output_type": "stream",
          "name": "stdout",
          "text": [
            "True\n"
          ]
        }
      ]
    },
    {
      "cell_type": "code",
      "source": [
        "type(is_billed)"
      ],
      "metadata": {
        "colab": {
          "base_uri": "https://localhost:8080/"
        },
        "id": "OcCrjVBaVbYK",
        "outputId": "c510497c-a205-47a9-987c-a54b96a99230"
      },
      "execution_count": 17,
      "outputs": [
        {
          "output_type": "execute_result",
          "data": {
            "text/plain": [
              "bool"
            ]
          },
          "metadata": {},
          "execution_count": 17
        }
      ]
    },
    {
      "cell_type": "code",
      "source": [
        "type(brand)"
      ],
      "metadata": {
        "colab": {
          "base_uri": "https://localhost:8080/"
        },
        "id": "V0fhpyqDWXuq",
        "outputId": "3a5cd2bd-4300-4692-de1f-3d0a25c40907"
      },
      "execution_count": 18,
      "outputs": [
        {
          "output_type": "execute_result",
          "data": {
            "text/plain": [
              "str"
            ]
          },
          "metadata": {},
          "execution_count": 18
        }
      ]
    },
    {
      "cell_type": "code",
      "source": [
        "type(90)"
      ],
      "metadata": {
        "colab": {
          "base_uri": "https://localhost:8080/"
        },
        "id": "WPoI4yY8WjHO",
        "outputId": "e011487f-4142-4e58-a18d-a20a2d50a75d"
      },
      "execution_count": 19,
      "outputs": [
        {
          "output_type": "execute_result",
          "data": {
            "text/plain": [
              "int"
            ]
          },
          "metadata": {},
          "execution_count": 19
        }
      ]
    },
    {
      "cell_type": "code",
      "source": [
        "discount = 80\n",
        "new_price = price-discount\n",
        "print('The new price is $',new_price)"
      ],
      "metadata": {
        "colab": {
          "base_uri": "https://localhost:8080/"
        },
        "id": "PG2ZKl0rWvGf",
        "outputId": "6fa5b991-77f9-41e6-e53d-5227bb7820df"
      },
      "execution_count": 20,
      "outputs": [
        {
          "output_type": "stream",
          "name": "stdout",
          "text": [
            "The new price is $ 820\n"
          ]
        }
      ]
    },
    {
      "cell_type": "code",
      "source": [
        "print(price/2)\n",
        "print(price//2) # Double divide by forces the result of a division to be an integer.\n",
        "print(5//2) # Returns the floor value. Important for items that are whole numbers\n",
        "print(5/2)"
      ],
      "metadata": {
        "colab": {
          "base_uri": "https://localhost:8080/"
        },
        "id": "wP922VogXgR5",
        "outputId": "df0f5d56-70cb-4f6c-8582-a60531b9a420"
      },
      "execution_count": 21,
      "outputs": [
        {
          "output_type": "stream",
          "name": "stdout",
          "text": [
            "450.0\n",
            "450\n",
            "2\n",
            "2.5\n"
          ]
        }
      ]
    },
    {
      "cell_type": "code",
      "source": [
        "a = 30\n",
        "print('a is of type',type(a))"
      ],
      "metadata": {
        "colab": {
          "base_uri": "https://localhost:8080/"
        },
        "id": "TBU_MoIgX7GG",
        "outputId": "270c7b8d-e34a-4cde-acaa-934c064459cd"
      },
      "execution_count": 22,
      "outputs": [
        {
          "output_type": "stream",
          "name": "stdout",
          "text": [
            "a is of type <class 'int'>\n"
          ]
        }
      ]
    },
    {
      "cell_type": "code",
      "source": [
        "print('Forcing a chnage in type is called an explicit conversion '+ str(a))"
      ],
      "metadata": {
        "colab": {
          "base_uri": "https://localhost:8080/"
        },
        "id": "AN8pCn-AYo4n",
        "outputId": "f2d714ef-71c5-4f50-83d4-75b3a2033287"
      },
      "execution_count": 23,
      "outputs": [
        {
          "output_type": "stream",
          "name": "stdout",
          "text": [
            "Forcing a chnage in type is called an explicit conversion 30\n"
          ]
        }
      ]
    },
    {
      "cell_type": "code",
      "source": [
        "type(a) # type of a has not changed in the background"
      ],
      "metadata": {
        "colab": {
          "base_uri": "https://localhost:8080/"
        },
        "id": "ttMOaoiOZfF0",
        "outputId": "a51642c3-b04e-4a56-c98c-0be76a6a5255"
      },
      "execution_count": 24,
      "outputs": [
        {
          "output_type": "execute_result",
          "data": {
            "text/plain": [
              "int"
            ]
          },
          "metadata": {},
          "execution_count": 24
        }
      ]
    },
    {
      "cell_type": "markdown",
      "source": [
        "## Lists"
      ],
      "metadata": {
        "id": "m2EsFp9wbhJr"
      }
    },
    {
      "cell_type": "code",
      "source": [
        "brand_list = ['Apple', 'Samsung','LG','Apple']\n",
        "brand_list"
      ],
      "metadata": {
        "colab": {
          "base_uri": "https://localhost:8080/"
        },
        "id": "PlHXQyx4a8B_",
        "outputId": "76b500d8-d739-4f87-aa4f-8b34c353ddb4"
      },
      "execution_count": 25,
      "outputs": [
        {
          "output_type": "execute_result",
          "data": {
            "text/plain": [
              "['Apple', 'Samsung', 'LG', 'Apple']"
            ]
          },
          "metadata": {},
          "execution_count": 25
        }
      ]
    },
    {
      "cell_type": "code",
      "source": [
        "type(brand_list)"
      ],
      "metadata": {
        "colab": {
          "base_uri": "https://localhost:8080/"
        },
        "id": "I8W3c95obx4E",
        "outputId": "7913ac4d-29dd-4c8d-e343-305e4902b4ab"
      },
      "execution_count": 26,
      "outputs": [
        {
          "output_type": "execute_result",
          "data": {
            "text/plain": [
              "list"
            ]
          },
          "metadata": {},
          "execution_count": 26
        }
      ]
    },
    {
      "cell_type": "code",
      "source": [
        "type(brand_list[0])"
      ],
      "metadata": {
        "colab": {
          "base_uri": "https://localhost:8080/"
        },
        "id": "Vr80KmeUb2Is",
        "outputId": "87ce0bdb-125a-4272-91a5-e743d55f236d"
      },
      "execution_count": 27,
      "outputs": [
        {
          "output_type": "execute_result",
          "data": {
            "text/plain": [
              "str"
            ]
          },
          "metadata": {},
          "execution_count": 27
        }
      ]
    },
    {
      "cell_type": "code",
      "source": [
        "ram_list = [4,12,8,8]\n",
        "storage_list = [128,128,64,128]\n",
        "price_list = [900,899,600,1000]"
      ],
      "metadata": {
        "id": "RF0MqVMwcLv0"
      },
      "execution_count": 28,
      "outputs": []
    },
    {
      "cell_type": "code",
      "source": [
        "print(ram_list)"
      ],
      "metadata": {
        "colab": {
          "base_uri": "https://localhost:8080/"
        },
        "id": "q9WD9AbCeaUN",
        "outputId": "b930732d-5cd0-444d-fcec-f66e50068d40"
      },
      "execution_count": 29,
      "outputs": [
        {
          "output_type": "stream",
          "name": "stdout",
          "text": [
            "[4, 12, 8, 8]\n"
          ]
        }
      ]
    },
    {
      "cell_type": "code",
      "source": [
        "len(brand_list)"
      ],
      "metadata": {
        "colab": {
          "base_uri": "https://localhost:8080/"
        },
        "id": "LvCuNVnefciO",
        "outputId": "f9b5aa69-d63a-4f01-ede9-4e8371575c1d"
      },
      "execution_count": 30,
      "outputs": [
        {
          "output_type": "execute_result",
          "data": {
            "text/plain": [
              "4"
            ]
          },
          "metadata": {},
          "execution_count": 30
        }
      ]
    },
    {
      "cell_type": "code",
      "source": [
        "minprice= min(price_list)\n",
        "minprice"
      ],
      "metadata": {
        "colab": {
          "base_uri": "https://localhost:8080/"
        },
        "id": "El5VE1UifgZL",
        "outputId": "b3d6bc5d-a3ed-4ae9-90ff-609cf9237b2c"
      },
      "execution_count": 31,
      "outputs": [
        {
          "output_type": "execute_result",
          "data": {
            "text/plain": [
              "600"
            ]
          },
          "metadata": {},
          "execution_count": 31
        }
      ]
    },
    {
      "cell_type": "code",
      "source": [
        "print('The maximum price in the list is $' + str(max(price_list)))"
      ],
      "metadata": {
        "colab": {
          "base_uri": "https://localhost:8080/"
        },
        "id": "g_Uk6B3yfkpX",
        "outputId": "31de1b9c-a0cd-4ea5-96ee-b30d80a2e5b9"
      },
      "execution_count": 32,
      "outputs": [
        {
          "output_type": "stream",
          "name": "stdout",
          "text": [
            "The maximum price in the list is $1000\n"
          ]
        }
      ]
    },
    {
      "cell_type": "code",
      "source": [
        "price_list[0:3]"
      ],
      "metadata": {
        "colab": {
          "base_uri": "https://localhost:8080/"
        },
        "id": "15ad5-n5gDAs",
        "outputId": "00de35db-1568-43ab-a1c5-14357e83e4f1"
      },
      "execution_count": 33,
      "outputs": [
        {
          "output_type": "execute_result",
          "data": {
            "text/plain": [
              "[900, 899, 600]"
            ]
          },
          "metadata": {},
          "execution_count": 33
        }
      ]
    },
    {
      "cell_type": "code",
      "source": [
        "brand_list[-1]"
      ],
      "metadata": {
        "colab": {
          "base_uri": "https://localhost:8080/",
          "height": 36
        },
        "id": "v-Klrk-BhJZn",
        "outputId": "9b23d19f-7319-4148-e20d-1ddfe7fe0ea4"
      },
      "execution_count": 34,
      "outputs": [
        {
          "output_type": "execute_result",
          "data": {
            "text/plain": [
              "'Apple'"
            ],
            "application/vnd.google.colaboratory.intrinsic+json": {
              "type": "string"
            }
          },
          "metadata": {},
          "execution_count": 34
        }
      ]
    },
    {
      "cell_type": "code",
      "source": [
        "brand_list.pop()"
      ],
      "metadata": {
        "colab": {
          "base_uri": "https://localhost:8080/",
          "height": 36
        },
        "id": "tEuFJ_OQhN6c",
        "outputId": "34ddf100-9788-4639-9fa5-220800112cf1"
      },
      "execution_count": 35,
      "outputs": [
        {
          "output_type": "execute_result",
          "data": {
            "text/plain": [
              "'Apple'"
            ],
            "application/vnd.google.colaboratory.intrinsic+json": {
              "type": "string"
            }
          },
          "metadata": {},
          "execution_count": 35
        }
      ]
    },
    {
      "cell_type": "code",
      "source": [
        "brand_list"
      ],
      "metadata": {
        "colab": {
          "base_uri": "https://localhost:8080/"
        },
        "id": "T-MGDSlViNp4",
        "outputId": "3bf80bd0-e996-4886-afe9-60b4812b63cd"
      },
      "execution_count": 36,
      "outputs": [
        {
          "output_type": "execute_result",
          "data": {
            "text/plain": [
              "['Apple', 'Samsung', 'LG']"
            ]
          },
          "metadata": {},
          "execution_count": 36
        }
      ]
    },
    {
      "cell_type": "code",
      "source": [
        "brand_list.pop(1)"
      ],
      "metadata": {
        "colab": {
          "base_uri": "https://localhost:8080/",
          "height": 36
        },
        "id": "b8aPCR2yiPdl",
        "outputId": "31fa06e7-b98f-41ef-e9da-af393fecbf9b"
      },
      "execution_count": 37,
      "outputs": [
        {
          "output_type": "execute_result",
          "data": {
            "text/plain": [
              "'Samsung'"
            ],
            "application/vnd.google.colaboratory.intrinsic+json": {
              "type": "string"
            }
          },
          "metadata": {},
          "execution_count": 37
        }
      ]
    },
    {
      "cell_type": "code",
      "source": [
        "brand_list"
      ],
      "metadata": {
        "colab": {
          "base_uri": "https://localhost:8080/"
        },
        "id": "c36tTG2ciVG_",
        "outputId": "dbfe6856-f509-4113-bd89-3b205232d5b6"
      },
      "execution_count": 38,
      "outputs": [
        {
          "output_type": "execute_result",
          "data": {
            "text/plain": [
              "['Apple', 'LG']"
            ]
          },
          "metadata": {},
          "execution_count": 38
        }
      ]
    },
    {
      "cell_type": "code",
      "source": [
        "brand_list.append('Motorola')"
      ],
      "metadata": {
        "id": "RcTUjcl2iaoq"
      },
      "execution_count": 39,
      "outputs": []
    },
    {
      "cell_type": "code",
      "source": [
        "brand_list"
      ],
      "metadata": {
        "colab": {
          "base_uri": "https://localhost:8080/"
        },
        "id": "rPywA6wsihqW",
        "outputId": "3305519d-7bf6-4aa2-8df6-cb06a524dc99"
      },
      "execution_count": 40,
      "outputs": [
        {
          "output_type": "execute_result",
          "data": {
            "text/plain": [
              "['Apple', 'LG', 'Motorola']"
            ]
          },
          "metadata": {},
          "execution_count": 40
        }
      ]
    },
    {
      "cell_type": "code",
      "source": [
        "x = [10,'Range','Great',-54,11,12]\n",
        "print(x[1])"
      ],
      "metadata": {
        "colab": {
          "base_uri": "https://localhost:8080/"
        },
        "id": "hapSZ_hHijWD",
        "outputId": "f55a1b53-46e1-409f-a8ae-7d9c06297a33"
      },
      "execution_count": 41,
      "outputs": [
        {
          "output_type": "stream",
          "name": "stdout",
          "text": [
            "Range\n"
          ]
        }
      ]
    },
    {
      "cell_type": "code",
      "source": [
        "print(len(x[2:4]))"
      ],
      "metadata": {
        "colab": {
          "base_uri": "https://localhost:8080/"
        },
        "id": "s1FIMr8jjL84",
        "outputId": "87fa6ba1-f0ce-45c9-85fb-96e54e774fc9"
      },
      "execution_count": 42,
      "outputs": [
        {
          "output_type": "stream",
          "name": "stdout",
          "text": [
            "2\n"
          ]
        }
      ]
    },
    {
      "cell_type": "code",
      "source": [
        "print(x[2:-1])"
      ],
      "metadata": {
        "colab": {
          "base_uri": "https://localhost:8080/"
        },
        "id": "5wFBNB9zjR-v",
        "outputId": "45ba0c0d-5911-4a3a-8a79-09621a81799b"
      },
      "execution_count": 43,
      "outputs": [
        {
          "output_type": "stream",
          "name": "stdout",
          "text": [
            "['Great', -54, 11]\n"
          ]
        }
      ]
    },
    {
      "cell_type": "code",
      "source": [
        "print(x[-2:-1])"
      ],
      "metadata": {
        "colab": {
          "base_uri": "https://localhost:8080/"
        },
        "id": "SBdjDTAMjWUT",
        "outputId": "23860f9f-8a5e-420a-d2a8-01e1bd087e79"
      },
      "execution_count": 44,
      "outputs": [
        {
          "output_type": "stream",
          "name": "stdout",
          "text": [
            "[11]\n"
          ]
        }
      ]
    },
    {
      "cell_type": "code",
      "source": [
        "brand_list[0] = 'Huawei'"
      ],
      "metadata": {
        "id": "0ZxUfZzljd42"
      },
      "execution_count": 45,
      "outputs": []
    },
    {
      "cell_type": "code",
      "source": [
        "brand_list"
      ],
      "metadata": {
        "colab": {
          "base_uri": "https://localhost:8080/"
        },
        "id": "3NfwX4kQjsJj",
        "outputId": "c61cae47-c86d-4989-b71a-c1bfaea2536f"
      },
      "execution_count": 46,
      "outputs": [
        {
          "output_type": "execute_result",
          "data": {
            "text/plain": [
              "['Huawei', 'LG', 'Motorola']"
            ]
          },
          "metadata": {},
          "execution_count": 46
        }
      ]
    },
    {
      "cell_type": "markdown",
      "source": [
        "## Tuples"
      ],
      "metadata": {
        "id": "B-w_FE-5kKwr"
      }
    },
    {
      "cell_type": "code",
      "source": [
        "store = (32,64,128,256)\n",
        "print(store)"
      ],
      "metadata": {
        "colab": {
          "base_uri": "https://localhost:8080/"
        },
        "id": "JmzlUaZHjtOj",
        "outputId": "5c9aa234-addf-4d23-924c-dd560cdbcbfa"
      },
      "execution_count": 47,
      "outputs": [
        {
          "output_type": "stream",
          "name": "stdout",
          "text": [
            "(32, 64, 128, 256)\n"
          ]
        }
      ]
    },
    {
      "cell_type": "code",
      "source": [
        "type(store)"
      ],
      "metadata": {
        "colab": {
          "base_uri": "https://localhost:8080/"
        },
        "id": "5feFM3IokRo6",
        "outputId": "bc201aa3-d8d4-4f44-c1b9-048dec61396f"
      },
      "execution_count": 48,
      "outputs": [
        {
          "output_type": "execute_result",
          "data": {
            "text/plain": [
              "tuple"
            ]
          },
          "metadata": {},
          "execution_count": 48
        }
      ]
    },
    {
      "cell_type": "markdown",
      "source": [
        "## Dictionaries"
      ],
      "metadata": {
        "id": "V_ctRyk5__32"
      }
    },
    {
      "cell_type": "code",
      "source": [
        "# Index based on keys instead of numbers\n",
        "# Key:Value pairs\n",
        "attributes = {\n",
        "    'Brand':'Apple',\n",
        "    'RAM':4,\n",
        "    'Storage':128,\n",
        "    'Price':800\n",
        "}"
      ],
      "metadata": {
        "id": "O-exHxRYkT1d"
      },
      "execution_count": 49,
      "outputs": []
    },
    {
      "cell_type": "code",
      "source": [
        "attributes"
      ],
      "metadata": {
        "colab": {
          "base_uri": "https://localhost:8080/"
        },
        "id": "lYNc7evukU1P",
        "outputId": "f43132dc-a35c-40b7-9584-a8c9d750d20d"
      },
      "execution_count": 50,
      "outputs": [
        {
          "output_type": "execute_result",
          "data": {
            "text/plain": [
              "{'Brand': 'Apple', 'RAM': 4, 'Storage': 128, 'Price': 800}"
            ]
          },
          "metadata": {},
          "execution_count": 50
        }
      ]
    },
    {
      "cell_type": "code",
      "source": [
        "type(attributes)"
      ],
      "metadata": {
        "colab": {
          "base_uri": "https://localhost:8080/"
        },
        "id": "w2Jlv78dkeNp",
        "outputId": "a106aefa-8d5b-408c-d1dd-ff19d20adfe9"
      },
      "execution_count": 51,
      "outputs": [
        {
          "output_type": "execute_result",
          "data": {
            "text/plain": [
              "dict"
            ]
          },
          "metadata": {},
          "execution_count": 51
        }
      ]
    },
    {
      "cell_type": "code",
      "source": [
        "print(attributes)"
      ],
      "metadata": {
        "colab": {
          "base_uri": "https://localhost:8080/"
        },
        "id": "keQKh3z2Aiqg",
        "outputId": "cd3986f2-90b2-4f3b-a36c-9631354e7635"
      },
      "execution_count": 52,
      "outputs": [
        {
          "output_type": "stream",
          "name": "stdout",
          "text": [
            "{'Brand': 'Apple', 'RAM': 4, 'Storage': 128, 'Price': 800}\n"
          ]
        }
      ]
    },
    {
      "cell_type": "code",
      "source": [
        "print(attributes['Price'])"
      ],
      "metadata": {
        "colab": {
          "base_uri": "https://localhost:8080/"
        },
        "id": "_UmOxLyTAkK1",
        "outputId": "4a6651be-9174-4837-ef6b-751dc2cd3aeb"
      },
      "execution_count": 53,
      "outputs": [
        {
          "output_type": "stream",
          "name": "stdout",
          "text": [
            "800\n"
          ]
        }
      ]
    },
    {
      "cell_type": "code",
      "source": [
        "attributes['Price'] = 900"
      ],
      "metadata": {
        "id": "amABvZcBBA4D"
      },
      "execution_count": 54,
      "outputs": []
    },
    {
      "cell_type": "code",
      "source": [
        "attributes"
      ],
      "metadata": {
        "colab": {
          "base_uri": "https://localhost:8080/"
        },
        "id": "xfcFieuvBJWM",
        "outputId": "2f018ab9-e52c-4ad4-c6e2-55b1ab2dde9c"
      },
      "execution_count": 55,
      "outputs": [
        {
          "output_type": "execute_result",
          "data": {
            "text/plain": [
              "{'Brand': 'Apple', 'RAM': 4, 'Storage': 128, 'Price': 900}"
            ]
          },
          "metadata": {},
          "execution_count": 55
        }
      ]
    },
    {
      "cell_type": "code",
      "source": [
        "#creating a dictionary to store data using lists\n",
        "products = {\n",
        "    'Brand':brand_list,\n",
        "    'RAM':ram_list,\n",
        "    'Storage':storage_list,\n",
        "    'Price':price_list\n",
        "}\n",
        "print(products)"
      ],
      "metadata": {
        "colab": {
          "base_uri": "https://localhost:8080/"
        },
        "id": "iNxLHumcBK7G",
        "outputId": "b6af14eb-fd70-4af3-82ce-4c761024f55f"
      },
      "execution_count": 56,
      "outputs": [
        {
          "output_type": "stream",
          "name": "stdout",
          "text": [
            "{'Brand': ['Huawei', 'LG', 'Motorola'], 'RAM': [4, 12, 8, 8], 'Storage': [128, 128, 64, 128], 'Price': [900, 899, 600, 1000]}\n"
          ]
        }
      ]
    },
    {
      "cell_type": "code",
      "source": [
        "#Keys of a dictionary, use the keys method\n",
        "keys = products.keys()\n",
        "#Values of a dictionary\n",
        "values = products.values()\n",
        "print(keys)\n",
        "print(values)"
      ],
      "metadata": {
        "colab": {
          "base_uri": "https://localhost:8080/"
        },
        "id": "S7BTsQjCB0dW",
        "outputId": "5db9aae7-8c5c-436e-a644-e9b6e8bf72ce"
      },
      "execution_count": 60,
      "outputs": [
        {
          "output_type": "stream",
          "name": "stdout",
          "text": [
            "dict_keys(['Brand', 'RAM', 'Storage', 'Price'])\n",
            "dict_values([['Huawei', 'LG', 'Motorola'], [4, 12, 8, 8], [128, 128, 64, 128], [900, 899, 600, 1000]])\n"
          ]
        }
      ]
    },
    {
      "cell_type": "code",
      "source": [
        "#accss a single entry in a dictionary\n",
        "products['RAM'][1]"
      ],
      "metadata": {
        "colab": {
          "base_uri": "https://localhost:8080/"
        },
        "id": "CoDMEX8kCSZN",
        "outputId": "23d6bc76-74ed-4b50-ad53-a1584ffc331f"
      },
      "execution_count": 68,
      "outputs": [
        {
          "output_type": "execute_result",
          "data": {
            "text/plain": [
              "12"
            ]
          },
          "metadata": {},
          "execution_count": 68
        }
      ]
    },
    {
      "cell_type": "code",
      "source": [
        "attributes.update({'Price':700})"
      ],
      "metadata": {
        "id": "DMVQgsygCzvM"
      },
      "execution_count": 69,
      "outputs": []
    },
    {
      "cell_type": "code",
      "source": [
        "attributes"
      ],
      "metadata": {
        "colab": {
          "base_uri": "https://localhost:8080/"
        },
        "id": "1MY8-uebECuV",
        "outputId": "d046b6bb-3355-4495-be1d-7cef2b9e79dc"
      },
      "execution_count": 70,
      "outputs": [
        {
          "output_type": "execute_result",
          "data": {
            "text/plain": [
              "{'Brand': 'Apple', 'RAM': 4, 'Storage': 128, 'Price': 700}"
            ]
          },
          "metadata": {},
          "execution_count": 70
        }
      ]
    },
    {
      "cell_type": "code",
      "source": [
        "attributes.pop('Storage')"
      ],
      "metadata": {
        "colab": {
          "base_uri": "https://localhost:8080/"
        },
        "id": "I2TgsxxmEEhO",
        "outputId": "18081c24-9d3f-4d84-8b1d-7133b21110eb"
      },
      "execution_count": 72,
      "outputs": [
        {
          "output_type": "execute_result",
          "data": {
            "text/plain": [
              "128"
            ]
          },
          "metadata": {},
          "execution_count": 72
        }
      ]
    },
    {
      "cell_type": "code",
      "source": [
        "print(attributes)"
      ],
      "metadata": {
        "colab": {
          "base_uri": "https://localhost:8080/"
        },
        "id": "_oWx_UvZEP4i",
        "outputId": "dd18ee47-9b2b-43c9-d174-546639a136af"
      },
      "execution_count": 73,
      "outputs": [
        {
          "output_type": "stream",
          "name": "stdout",
          "text": [
            "{'Brand': 'Apple', 'RAM': 4, 'Price': 700}\n"
          ]
        }
      ]
    },
    {
      "cell_type": "markdown",
      "source": [
        "## Conditional Statements"
      ],
      "metadata": {
        "id": "c3aI-6N7FLwo"
      }
    },
    {
      "cell_type": "code",
      "source": [
        "price_list"
      ],
      "metadata": {
        "colab": {
          "base_uri": "https://localhost:8080/"
        },
        "id": "ocKXEyFUIlRo",
        "outputId": "1c772b2b-2412-4cd9-cc16-c76b17bf6359"
      },
      "execution_count": 80,
      "outputs": [
        {
          "output_type": "execute_result",
          "data": {
            "text/plain": [
              "[900, 899, 600, 1000]"
            ]
          },
          "metadata": {},
          "execution_count": 80
        }
      ]
    },
    {
      "cell_type": "code",
      "source": [
        "#If else statements\n",
        "budget = int(input('What is your budget in $ '))\n",
        "if (budget<price):\n",
        "  print('Sorry, You cannot afford the phone')\n",
        "else:\n",
        "  print('Congrats you can buy the phone!')"
      ],
      "metadata": {
        "colab": {
          "base_uri": "https://localhost:8080/"
        },
        "id": "xQm5Gh1REaxl",
        "outputId": "2585c1b6-1285-48d7-d4a6-294ee0f353ef"
      },
      "execution_count": 78,
      "outputs": [
        {
          "output_type": "stream",
          "name": "stdout",
          "text": [
            "What is your budget in $ 8999\n",
            "Congrats you can buy the phone!\n"
          ]
        }
      ]
    },
    {
      "cell_type": "code",
      "source": [
        "#Elif statement\n",
        "# Print the price of a phone based on the sizeof the memory\n",
        "mem_size = int(input('Enter the memory size, 32GB, 64GB or 128 GB : '))\n",
        "\n",
        "if mem_size == 32:\n",
        "  print('The price of the phone is $',price_list[0])\n",
        "elif mem_size == 64:\n",
        "  print('The price of the phone is $',price_list[1])\n",
        "elif mem_size == 128:\n",
        "  print('The price of the phone is $',price_list[2])\n",
        "else:\n",
        "  print('No such memory size')"
      ],
      "metadata": {
        "colab": {
          "base_uri": "https://localhost:8080/"
        },
        "id": "48H_2yqBGuGn",
        "outputId": "3a8e0954-7bdc-413a-fe78-f4aa1c01fc3d"
      },
      "execution_count": 83,
      "outputs": [
        {
          "output_type": "stream",
          "name": "stdout",
          "text": [
            "Enter the memory size, 32GB, 64GB or 128 GB : 128\n",
            "The price of the phone is $ 600\n"
          ]
        }
      ]
    },
    {
      "cell_type": "markdown",
      "source": [
        "## Looping Statements"
      ],
      "metadata": {
        "id": "-o2I8EbQLdpV"
      }
    },
    {
      "cell_type": "code",
      "source": [
        "#Introducing Range, commonly used for looping\n",
        "range(6)"
      ],
      "metadata": {
        "colab": {
          "base_uri": "https://localhost:8080/"
        },
        "id": "j5qV9oWbITWC",
        "outputId": "acce87e1-3e6c-4afc-8978-0a9caae65d4d"
      },
      "execution_count": 86,
      "outputs": [
        {
          "output_type": "execute_result",
          "data": {
            "text/plain": [
              "range(0, 6)"
            ]
          },
          "metadata": {},
          "execution_count": 86
        }
      ]
    },
    {
      "cell_type": "code",
      "source": [
        "print(range(6)) #start and 0 and end before 6"
      ],
      "metadata": {
        "colab": {
          "base_uri": "https://localhost:8080/"
        },
        "id": "I-y1hdKtLAB6",
        "outputId": "b0d0fd95-f110-43d6-d666-35e4ed44777c"
      },
      "execution_count": 88,
      "outputs": [
        {
          "output_type": "stream",
          "name": "stdout",
          "text": [
            "range(0, 6)\n"
          ]
        }
      ]
    },
    {
      "cell_type": "code",
      "source": [
        "#Casting the range as a list\n",
        "print(list(range(6)))"
      ],
      "metadata": {
        "colab": {
          "base_uri": "https://localhost:8080/"
        },
        "id": "nAB9QKbnLNHL",
        "outputId": "a39b3a4b-4766-417d-cad0-d402145a12ff"
      },
      "execution_count": 90,
      "outputs": [
        {
          "output_type": "stream",
          "name": "stdout",
          "text": [
            "[0, 1, 2, 3, 4, 5]\n"
          ]
        }
      ]
    },
    {
      "cell_type": "code",
      "source": [
        "#Show start and stop values\n",
        "print(list(range(2,8)))"
      ],
      "metadata": {
        "colab": {
          "base_uri": "https://localhost:8080/"
        },
        "id": "nLWy_kcDMOs7",
        "outputId": "2757ab64-7884-49d3-d3ce-793af02edf6c"
      },
      "execution_count": 92,
      "outputs": [
        {
          "output_type": "stream",
          "name": "stdout",
          "text": [
            "[2, 3, 4, 5, 6, 7]\n"
          ]
        }
      ]
    },
    {
      "cell_type": "code",
      "source": [
        "#Include the steps\n",
        "print(list(range(2,8,2)))"
      ],
      "metadata": {
        "colab": {
          "base_uri": "https://localhost:8080/"
        },
        "id": "3E5mI7Z8MZe4",
        "outputId": "3bc75875-dc05-473c-b02d-c4c680c6ecf2"
      },
      "execution_count": 94,
      "outputs": [
        {
          "output_type": "stream",
          "name": "stdout",
          "text": [
            "[2, 4, 6]\n"
          ]
        }
      ]
    },
    {
      "cell_type": "code",
      "source": [
        "#Implementing the for loop to show different cost of phones after different discounts of 5%, 10%, 15% and 20%\n",
        "\n",
        "price = 900\n",
        "for i in range(5,21,5):\n",
        "  discount = price * (i / 100)\n",
        "  discounted_price = price - discount\n",
        "  print('\\nThe new price after ',i,'% discount is $',int(discounted_price), sep = '')"
      ],
      "metadata": {
        "colab": {
          "base_uri": "https://localhost:8080/"
        },
        "id": "Geu5tNlNMgh9",
        "outputId": "dd407bbb-fffd-442f-cbac-1d9d29f5d693"
      },
      "execution_count": 103,
      "outputs": [
        {
          "output_type": "stream",
          "name": "stdout",
          "text": [
            "\n",
            "The new price after 5% discount is $855\n",
            "\n",
            "The new price after 10% discount is $810\n",
            "\n",
            "The new price after 15% discount is $765\n",
            "\n",
            "The new price after 20% discount is $720\n"
          ]
        }
      ]
    },
    {
      "cell_type": "code",
      "source": [
        "#Implementing the above using a while loop to show different cost of phones after different discounts of 5%, 10%, 15% and 20%\n",
        "\n",
        "price, i = 900,5\n",
        "while i <= 20:\n",
        "  discount = price * (i / 100)\n",
        "  discounted_price = price - discount\n",
        "  print('\\nThe new price after ',i,'% discount is $',int(discounted_price), sep = '')\n",
        "  i+=5"
      ],
      "metadata": {
        "colab": {
          "base_uri": "https://localhost:8080/"
        },
        "id": "H5Axhd_eOa_Z",
        "outputId": "1f1580b1-4d61-4c91-c91d-893db7805f36"
      },
      "execution_count": 107,
      "outputs": [
        {
          "output_type": "stream",
          "name": "stdout",
          "text": [
            "\n",
            "The new price after 5% discount is $855\n",
            "\n",
            "The new price after 10% discount is $810\n",
            "\n",
            "The new price after 15% discount is $765\n",
            "\n",
            "The new price after 20% discount is $720\n"
          ]
        }
      ]
    },
    {
      "cell_type": "code",
      "source": [
        "i"
      ],
      "metadata": {
        "colab": {
          "base_uri": "https://localhost:8080/"
        },
        "id": "uHH6RDmZRllh",
        "outputId": "967fda2a-83e3-4e17-eb9c-6b5af3ab2a53"
      },
      "execution_count": 108,
      "outputs": [
        {
          "output_type": "execute_result",
          "data": {
            "text/plain": [
              "25"
            ]
          },
          "metadata": {},
          "execution_count": 108
        }
      ]
    },
    {
      "cell_type": "code",
      "source": [
        "x = [1,2,3,4,5]\n",
        "while x:\n",
        "  print(x.pop(0))"
      ],
      "metadata": {
        "colab": {
          "base_uri": "https://localhost:8080/"
        },
        "id": "YMOr05EfSuMI",
        "outputId": "f555b69d-4e63-4cc0-a994-9dac86ab8e7c"
      },
      "execution_count": 109,
      "outputs": [
        {
          "output_type": "stream",
          "name": "stdout",
          "text": [
            "1\n",
            "2\n",
            "3\n",
            "4\n",
            "5\n"
          ]
        }
      ]
    },
    {
      "cell_type": "markdown",
      "source": [
        "## List Comprehensions"
      ],
      "metadata": {
        "id": "8M8jdywRTwDv"
      }
    },
    {
      "cell_type": "code",
      "source": [
        "# To apply a 5% discount on all the prices in the price list\n",
        "print('The current prices are',price_list)\n",
        "\n",
        "discounted_price_list = []\n",
        "for price in price_list:\n",
        "  discounted_price = price - (price * 5/100)\n",
        "  discounted_price_list.append(int(discounted_price))\n",
        "\n",
        "print('The new price list will be', discounted_price_list)"
      ],
      "metadata": {
        "colab": {
          "base_uri": "https://localhost:8080/"
        },
        "id": "fapqFB2XTTJD",
        "outputId": "7115fb32-3370-440f-d069-a0b5a6de5034"
      },
      "execution_count": 112,
      "outputs": [
        {
          "output_type": "stream",
          "name": "stdout",
          "text": [
            "The current prices are [900, 899, 600, 1000]\n",
            "The new price list will be [855, 854, 570, 950]\n"
          ]
        }
      ]
    },
    {
      "cell_type": "code",
      "source": [
        "# Using list comprehension, we can shorten the above code and make it faster to execute\n",
        "\n",
        "discounted_price_pythonic = [int(price - (price * 5/100)) for price in price_list]\n",
        "discounted_price_pythonic"
      ],
      "metadata": {
        "colab": {
          "base_uri": "https://localhost:8080/"
        },
        "id": "erJrjoJ7Uwas",
        "outputId": "93025848-df15-4986-d75a-e30ab3f59fa7"
      },
      "execution_count": 114,
      "outputs": [
        {
          "output_type": "execute_result",
          "data": {
            "text/plain": [
              "[855, 854, 570, 950]"
            ]
          },
          "metadata": {},
          "execution_count": 114
        }
      ]
    },
    {
      "cell_type": "code",
      "source": [
        "#USe a lsit comprehension to check the phones that a customer can afford after discounts are applied\n",
        "customer_budget = int(input('Enter customer budget in $:\\n '))\n",
        "\n",
        "affordable = ['Yes' if price<=customer_budget else 'No' for price in discounted_price_pythonic]\n",
        "\n",
        "print(affordable)"
      ],
      "metadata": {
        "colab": {
          "base_uri": "https://localhost:8080/"
        },
        "id": "QH0wT0k_jW8A",
        "outputId": "1138ef58-32f8-4f04-85ac-48a3a339c1c8"
      },
      "execution_count": 121,
      "outputs": [
        {
          "output_type": "stream",
          "name": "stdout",
          "text": [
            "Enter customer budget in $:\n",
            " 890\n",
            "['Yes', 'Yes', 'Yes', 'No']\n"
          ]
        }
      ]
    },
    {
      "cell_type": "markdown",
      "source": [
        "## Functions"
      ],
      "metadata": {
        "id": "CQ_cv0NYmhcl"
      }
    },
    {
      "cell_type": "code",
      "source": [
        "#Refer to user defined functions. Functions can also be internal to the system\n",
        "def display_phone_properties(): #Function definition\n",
        "  #When you hover the cursor, the lines below inside three quotaion marks will show up as function description\n",
        "  '''\n",
        "  display phone properties\n",
        "  '''\n",
        "  print('The phone has 2GB of RAM and 128GB of storage space')"
      ],
      "metadata": {
        "id": "7yfvcGgElWXL"
      },
      "execution_count": 134,
      "outputs": []
    },
    {
      "cell_type": "code",
      "source": [
        "display_phone_properties() #Calling a function"
      ],
      "metadata": {
        "colab": {
          "base_uri": "https://localhost:8080/"
        },
        "id": "qyUKMExUmN5-",
        "outputId": "27af7560-44f2-4a3d-f50e-4b3e93d9395e"
      },
      "execution_count": 127,
      "outputs": [
        {
          "output_type": "stream",
          "name": "stdout",
          "text": [
            "The phone has 2GB of RAM and 128GB of storage space\n"
          ]
        }
      ]
    },
    {
      "cell_type": "code",
      "source": [
        "def display_phone_properties(ram, storage): #Function definition with captures user input\n",
        "  #When you hover the cursor, the lines below inside three quotaion marks will show up as function description\n",
        "  '''\n",
        "  display phone properties\n",
        "  '''\n",
        "  print('The phone has',ram,' of RAM and ',storage,'GB of storage space')"
      ],
      "metadata": {
        "id": "LxRtYH3woulv"
      },
      "execution_count": 131,
      "outputs": []
    },
    {
      "cell_type": "code",
      "source": [
        "display_phone_properties(4,64) #call a function and parse attributes"
      ],
      "metadata": {
        "colab": {
          "base_uri": "https://localhost:8080/"
        },
        "id": "u3ve7-s9pTKG",
        "outputId": "248bd0ab-043f-48c2-96c0-902a9a4e6e5a"
      },
      "execution_count": 133,
      "outputs": [
        {
          "output_type": "stream",
          "name": "stdout",
          "text": [
            "The phone has 4  of RAM and  64 GB of storage space\n"
          ]
        }
      ]
    },
    {
      "cell_type": "code",
      "source": [
        "#Write a function that takes the discount percentage as input and returns the discounted price of a phone\n",
        "\n",
        "def discount_percent(disc_percent):\n",
        "  price = 900\n",
        "  discounted_price = price - price * (disc_percent /100)\n",
        "  return discounted_price"
      ],
      "metadata": {
        "id": "hA1Q7UJrpf2a"
      },
      "execution_count": 142,
      "outputs": []
    },
    {
      "cell_type": "code",
      "source": [
        "print(discount_percent(15))"
      ],
      "metadata": {
        "colab": {
          "base_uri": "https://localhost:8080/"
        },
        "id": "aOwSuDHWrbYt",
        "outputId": "3b7f2376-0348-4436-edb9-6072d47abab3"
      },
      "execution_count": 143,
      "outputs": [
        {
          "output_type": "stream",
          "name": "stdout",
          "text": [
            "765.0\n"
          ]
        }
      ]
    },
    {
      "cell_type": "markdown",
      "source": [
        "## Lambda Functions"
      ],
      "metadata": {
        "id": "t7e345c3s7ow"
      }
    },
    {
      "cell_type": "code",
      "source": [
        "#Pythonic and one line ways of defining robust functions\n",
        "#Use lambda instead of def to define the function. Syntax also changes\n",
        "#Has no return statement\n",
        "\n",
        "discounted_lambda = lambda discount: 900 - (900 *(discount/100))\n"
      ],
      "metadata": {
        "id": "hQ2JaCCZrsg-"
      },
      "execution_count": 147,
      "outputs": []
    },
    {
      "cell_type": "code",
      "source": [
        "discounted_lambda(8)"
      ],
      "metadata": {
        "colab": {
          "base_uri": "https://localhost:8080/"
        },
        "id": "ZvXNrAo_tV-k",
        "outputId": "6202a6a5-d057-4c30-dfe9-026779d61e70"
      },
      "execution_count": 148,
      "outputs": [
        {
          "output_type": "execute_result",
          "data": {
            "text/plain": [
              "828.0"
            ]
          },
          "metadata": {},
          "execution_count": 148
        }
      ]
    },
    {
      "cell_type": "code",
      "source": [
        "mul = lambda a,b: a*b\n",
        "mul(5,6)"
      ],
      "metadata": {
        "colab": {
          "base_uri": "https://localhost:8080/"
        },
        "id": "5tJSctNDtdfg",
        "outputId": "990ee9b5-1a42-460d-adf5-4afdf7cc5432"
      },
      "execution_count": 150,
      "outputs": [
        {
          "output_type": "execute_result",
          "data": {
            "text/plain": [
              "30"
            ]
          },
          "metadata": {},
          "execution_count": 150
        }
      ]
    },
    {
      "cell_type": "code",
      "source": [
        "(lambda x: (x+2)*5/2)(4)"
      ],
      "metadata": {
        "colab": {
          "base_uri": "https://localhost:8080/"
        },
        "id": "yMM5IzQntzzJ",
        "outputId": "f3970331-76ba-4c5d-a411-26058387b887"
      },
      "execution_count": 155,
      "outputs": [
        {
          "output_type": "execute_result",
          "data": {
            "text/plain": [
              "15.0"
            ]
          },
          "metadata": {},
          "execution_count": 155
        }
      ]
    },
    {
      "cell_type": "code",
      "source": [
        "n=8\n",
        "for i in  range(1,11):\n",
        "  print('{}^{}'.format(n,i),n**i)"
      ],
      "metadata": {
        "colab": {
          "base_uri": "https://localhost:8080/"
        },
        "id": "mpGNGDOLuVGc",
        "outputId": "de2c2a40-2363-4bbc-e4cc-0dc9a446481f"
      },
      "execution_count": 10,
      "outputs": [
        {
          "output_type": "stream",
          "name": "stdout",
          "text": [
            "8^1 8\n",
            "8^2 64\n",
            "8^3 512\n",
            "8^4 4096\n",
            "8^5 32768\n",
            "8^6 262144\n",
            "8^7 2097152\n",
            "8^8 16777216\n",
            "8^9 134217728\n",
            "8^10 1073741824\n"
          ]
        }
      ]
    },
    {
      "cell_type": "code",
      "source": [
        "a = 'ken'\n",
        "for i in range(0,5):\n",
        "  print(a)"
      ],
      "metadata": {
        "colab": {
          "base_uri": "https://localhost:8080/"
        },
        "id": "f8xpvtM-uqMv",
        "outputId": "28fd6671-3947-49b9-f6b4-afc447dfa9e5"
      },
      "execution_count": 12,
      "outputs": [
        {
          "output_type": "stream",
          "name": "stdout",
          "text": [
            "ken\n",
            "ken\n",
            "ken\n",
            "ken\n",
            "ken\n"
          ]
        }
      ]
    },
    {
      "cell_type": "markdown",
      "source": [
        "# Args and Kwargs command"
      ],
      "metadata": {
        "id": "PjsHpG_AlW2q"
      }
    },
    {
      "cell_type": "code",
      "source": [
        "# allows a function to be flexible in terms of the number of inputs that it can take as arguments\n",
        "# use *args or any word provided you start with *.\n",
        "#but use of args is common practise\n",
        "\n",
        "def total(*args):\n",
        "  total = 0\n",
        "  for arg in args:\n",
        "    total+=arg\n",
        "  print(total)"
      ],
      "metadata": {
        "id": "NKu88dInwYds"
      },
      "execution_count": 16,
      "outputs": []
    },
    {
      "cell_type": "code",
      "source": [
        "total(900,90,98,878,87,65,56,78)"
      ],
      "metadata": {
        "colab": {
          "base_uri": "https://localhost:8080/"
        },
        "id": "q88VtihtjylK",
        "outputId": "9a0755ff-b588-4fd8-ca20-9b31f2c88f79"
      },
      "execution_count": 18,
      "outputs": [
        {
          "output_type": "stream",
          "name": "stdout",
          "text": [
            "2252\n"
          ]
        }
      ]
    },
    {
      "cell_type": "code",
      "source": [
        "total(900,90,98,878,87,65,56,78,76,334,544,788)"
      ],
      "metadata": {
        "colab": {
          "base_uri": "https://localhost:8080/"
        },
        "id": "8oma-Goel2wB",
        "outputId": "188f4aa0-6ca1-4347-97a3-9f75bbd6c21a"
      },
      "execution_count": 19,
      "outputs": [
        {
          "output_type": "stream",
          "name": "stdout",
          "text": [
            "3994\n"
          ]
        }
      ]
    },
    {
      "cell_type": "code",
      "source": [
        "def total_marks(*marks): #Using a different name other than args\n",
        "  total_marks = 0\n",
        "  for mark in marks:\n",
        "    total_marks+=mark\n",
        "  print(total_marks)"
      ],
      "metadata": {
        "id": "Tyy7Ns5lmPpu"
      },
      "execution_count": 20,
      "outputs": []
    },
    {
      "cell_type": "code",
      "source": [
        "total_marks(90,45,87,90,38,99)"
      ],
      "metadata": {
        "colab": {
          "base_uri": "https://localhost:8080/"
        },
        "id": "F09cu_o_mpT_",
        "outputId": "14183d40-705f-479a-f761-6bea1818fd30"
      },
      "execution_count": 21,
      "outputs": [
        {
          "output_type": "stream",
          "name": "stdout",
          "text": [
            "449\n"
          ]
        }
      ]
    },
    {
      "cell_type": "code",
      "source": [
        "def function(var1=1, var2=4): # values 1 and 4 are like default values\n",
        "  var2= 6 # assigned values take top priority\n",
        "  var1=5\n",
        "  print(var1,var2) #local variables take precedence over global variables\n",
        "\n",
        "function(10,20)"
      ],
      "metadata": {
        "colab": {
          "base_uri": "https://localhost:8080/"
        },
        "id": "zJjAcplImsvZ",
        "outputId": "d4cdc54c-b775-4375-8a3a-e5fb7a957418"
      },
      "execution_count": 22,
      "outputs": [
        {
          "output_type": "stream",
          "name": "stdout",
          "text": [
            "5 6\n"
          ]
        }
      ]
    },
    {
      "cell_type": "code",
      "source": [
        "def total_amount(*prices, discount = 0.0):\n",
        "  total = 0\n",
        "  for price in prices:\n",
        "    total+=price\n",
        "\n",
        "  total_discount = total - discount*total\n",
        "  print(total_discount)"
      ],
      "metadata": {
        "id": "fVsAxJNUomSj"
      },
      "execution_count": 24,
      "outputs": []
    },
    {
      "cell_type": "code",
      "source": [
        "total_amount(900,90,98,878,87,65,56,78,76,334,544,788)"
      ],
      "metadata": {
        "colab": {
          "base_uri": "https://localhost:8080/"
        },
        "id": "tMsiItULsZZV",
        "outputId": "9a436f71-a2ff-4f31-9fe9-dfc58e3d6583"
      },
      "execution_count": 25,
      "outputs": [
        {
          "output_type": "stream",
          "name": "stdout",
          "text": [
            "3994.0\n"
          ]
        }
      ]
    },
    {
      "cell_type": "code",
      "source": [
        "total_amount(900,90,98,878,87,65,56,78,76,334,544,788, discount = 0.05)"
      ],
      "metadata": {
        "colab": {
          "base_uri": "https://localhost:8080/"
        },
        "id": "emz-RRPGueA_",
        "outputId": "963f8339-c2d0-42ea-9f92-55aaedcf63dd"
      },
      "execution_count": 29,
      "outputs": [
        {
          "output_type": "stream",
          "name": "stdout",
          "text": [
            "3794.3\n"
          ]
        }
      ]
    },
    {
      "cell_type": "code",
      "source": [
        "#Key word arguments flexibility is defined using **kwargs.\n",
        "#Key words arguments are supplied through a dictionary.\n",
        "def total_amount_spent(*prices, discount = 0.0,**kwargs):\n",
        "  total = 0\n",
        "  for price in prices:\n",
        "    total+=price\n",
        "\n",
        "  total_discount = total - discount*total\n",
        "\n",
        "  net_spend = total_discount - kwargs['cashback']\n",
        "  #print(total_discount)\n",
        "  return net_spend"
      ],
      "metadata": {
        "id": "8TLrQLUtuieH"
      },
      "execution_count": 32,
      "outputs": []
    },
    {
      "cell_type": "code",
      "source": [
        "additionals = {'cashback':5}\n",
        "print('Customer net spend is:', total_amount_spent(700,800,800,900,discount = 0.05,**additionals))"
      ],
      "metadata": {
        "colab": {
          "base_uri": "https://localhost:8080/"
        },
        "id": "p4lmY72twdXz",
        "outputId": "dc951dcb-f554-4429-a359-bb3122c3800d"
      },
      "execution_count": 33,
      "outputs": [
        {
          "output_type": "stream",
          "name": "stdout",
          "text": [
            "Customer net spend is: 3035.0\n"
          ]
        }
      ]
    },
    {
      "cell_type": "code",
      "source": [
        "def order_summary(*prices,**kwargs):\n",
        "  total = 0\n",
        "  for price in prices:\n",
        "    total+=price\n",
        "\n",
        "  net_spend = total - additionals['discount'] *total - additionals['cashback']\n",
        "\n",
        "  if total >= 10000:\n",
        "    reward_points = 300\n",
        "  elif total >= 5000:\n",
        "    reward_points = 200\n",
        "  elif total >= 2000:\n",
        "    reward_points = 100\n",
        "  else:\n",
        "    reward_points = 0\n",
        "\n",
        "  return total,net_spend,reward_points"
      ],
      "metadata": {
        "id": "1w_7bQUuwy4v"
      },
      "execution_count": 35,
      "outputs": []
    },
    {
      "cell_type": "code",
      "source": [
        "additionals = {'discount':0.05,'cashback':5}\n",
        "ta,ns,rp = order_summary(700,599,750,**additionals)\n",
        "print('Customer order summary:\\n','\\nTotal Amount:',ta,'\\nTotal Discounted Amount:',ns,'\\nReward Points Earned:',rp)"
      ],
      "metadata": {
        "colab": {
          "base_uri": "https://localhost:8080/"
        },
        "id": "uM-UcNWZyn3K",
        "outputId": "324ff7f2-d363-4b93-e591-3ed2c86807f1"
      },
      "execution_count": 39,
      "outputs": [
        {
          "output_type": "stream",
          "name": "stdout",
          "text": [
            "Customer order summary:\n",
            " \n",
            "Total Amount: 2049 \n",
            "Total Discounted Amount: 1941.55 \n",
            "Reward Points Earned: 100\n"
          ]
        }
      ]
    },
    {
      "cell_type": "code",
      "source": [],
      "metadata": {
        "id": "NPLLTgQrzXgQ"
      },
      "execution_count": null,
      "outputs": []
    }
  ]
}