{
  "cells": [
    {
      "cell_type": "markdown",
      "metadata": {
        "id": "view-in-github",
        "colab_type": "text"
      },
      "source": [
        "<a href=\"https://colab.research.google.com/github/KOdunga/AIMLCourse/blob/main/Practice_Exercise_Inferential_Statistics_Questions.ipynb\" target=\"_parent\"><img src=\"https://colab.research.google.com/assets/colab-badge.svg\" alt=\"Open In Colab\"/></a>"
      ]
    },
    {
      "cell_type": "markdown",
      "metadata": {
        "id": "XeV1U7GkVNZY"
      },
      "source": [
        "## **Importing necessary libraries**"
      ]
    },
    {
      "cell_type": "code",
      "execution_count": 1,
      "metadata": {
        "id": "219CEYUFVNZn"
      },
      "outputs": [],
      "source": [
        "#import the important packages\n",
        "import pandas as pd #library used for data manipulation and analysis\n",
        "import numpy as np # library used for working with arrays.\n",
        "import matplotlib.pyplot as plt # library for plots and visualisations\n",
        "import seaborn as sns # library for visualisations\n",
        "%matplotlib inline\n",
        "\n",
        "import scipy.stats as stats # this library contains a large number of probability distributions as well as a growing library of statistical functions."
      ]
    },
    {
      "cell_type": "markdown",
      "metadata": {
        "id": "zwbR4fdpVNZp"
      },
      "source": [
        "# **Binomial Distribution**"
      ]
    },
    {
      "cell_type": "markdown",
      "metadata": {
        "id": "iLvUFh_6VNZp"
      },
      "source": [
        "### **1) A LED bulb manufacturing company regularly conducts quality checks at specified periods on the products it manufactures.  Historically, the failure rate for LED light bulbs that the company manufactures is 5%. Suppose a random sample of 10 LED light  bulbs is selected. Find the probability distribution for the defective bulbs and answer the below asked questions.**"
      ]
    },
    {
      "cell_type": "markdown",
      "metadata": {
        "id": "U8C34C7HVNZr"
      },
      "source": [
        "**a) What is the probability that none of the LED bulbs are defective?**"
      ]
    },
    {
      "cell_type": "code",
      "execution_count": 6,
      "metadata": {
        "colab": {
          "base_uri": "https://localhost:8080/"
        },
        "id": "DYBa2d2kVNZs",
        "outputId": "6e930354-3a6c-4b9c-d810-96b7d14ccf89"
      },
      "outputs": [
        {
          "output_type": "execute_result",
          "data": {
            "text/plain": [
              "array([5.98736939e-01, 3.15124705e-01, 7.46347985e-02, 1.04750594e-02,\n",
              "       9.64808106e-04, 6.09352488e-05, 2.67259863e-06, 8.03789062e-08,\n",
              "       1.58642578e-09, 1.85546875e-11, 9.76562500e-14])"
            ]
          },
          "metadata": {},
          "execution_count": 6
        }
      ],
      "source": [
        "# import the required function\n",
        "from scipy.stats import binom\n",
        "\n",
        "k = np.arange(0,11)\n",
        "n = 10\n",
        "p = 0.05\n",
        "\n",
        "# use the binom.pmf() function to generate the probability distribution\n",
        "binomial = stats.binom.pmf(k=k, n=n, p=p)\n",
        "binomial"
      ]
    },
    {
      "cell_type": "code",
      "source": [
        "# plot the distribution\n",
        "plt.bar(k,binomial)\n",
        "plt.title('Binomial: n=%i , p=%.2f' % (n,p), fontsize=15)\n",
        "plt.xlabel('Number of Successes')\n",
        "plt.ylabel('Probability of Successes')\n",
        "plt.show()"
      ],
      "metadata": {
        "colab": {
          "base_uri": "https://localhost:8080/",
          "height": 474
        },
        "id": "x8Lea-T_FEiI",
        "outputId": "231b25d3-1a15-400e-b368-27b78138c554"
      },
      "execution_count": 7,
      "outputs": [
        {
          "output_type": "display_data",
          "data": {
            "text/plain": [
              "<Figure size 640x480 with 1 Axes>"
            ],
            "image/png": "[encoded data removed]"
          },
          "metadata": {}
        }
      ]
    },
    {
      "cell_type": "markdown",
      "metadata": {
        "id": "siKk2kFfVNZs"
      },
      "source": [
        "**b) What is the probability that exactly one of the LED bulbs is defective?**"
      ]
    },
    {
      "cell_type": "code",
      "execution_count": 8,
      "metadata": {
        "colab": {
          "base_uri": "https://localhost:8080/"
        },
        "id": "JvlpPRafVNZt",
        "outputId": "fca805e4-d61a-4ac5-aff5-1d013bd772ff"
      },
      "outputs": [
        {
          "output_type": "stream",
          "name": "stdout",
          "text": [
            "The probability that none of the LED bulbs are defective is 0.5987\n"
          ]
        }
      ],
      "source": [
        "print('The probability that none of the LED bulbs are defective is %1.4f' %binomial[0])"
      ]
    },
    {
      "cell_type": "markdown",
      "metadata": {
        "id": "sTKTp_VbVNZt"
      },
      "source": [
        "**c) What is the probability that two or fewer of the LED bulbs are defective?**"
      ]
    },
    {
      "cell_type": "markdown",
      "metadata": {
        "id": "_ETr7cSsVNZu"
      },
      "source": [
        "Hint:\n",
        "We need to calculate cumulative probability of two or fewer LED bulbs being defective"
      ]
    },
    {
      "cell_type": "code",
      "execution_count": null,
      "metadata": {
        "id": "ohej5x5tVNZv"
      },
      "outputs": [],
      "source": [
        "print('The probability that none of the LED bulbs are defective is %1.4f' %binomial[0])"
      ]
    },
    {
      "cell_type": "markdown",
      "metadata": {
        "id": "6D3d7vgNVNZv"
      },
      "source": [
        "**d) What is the probability that three or more of the LED bulbs are defective**"
      ]
    },
    {
      "cell_type": "markdown",
      "metadata": {
        "id": "-EnDIeiTVNZv"
      },
      "source": [
        "Hint: We need to subtract the cumulative probability up to 2 defective LED bulbs from 1."
      ]
    },
    {
      "cell_type": "code",
      "execution_count": 9,
      "metadata": {
        "colab": {
          "base_uri": "https://localhost:8080/"
        },
        "id": "mvuUJchzVNZw",
        "outputId": "47c3172d-029a-442e-d8e9-2bd9584a760a"
      },
      "outputs": [
        {
          "output_type": "execute_result",
          "data": {
            "text/plain": [
              "0.9884964426207031"
            ]
          },
          "metadata": {},
          "execution_count": 9
        }
      ],
      "source": [
        "# calculate cdf\n",
        "binom.cdf(k=2, n=n, p=p)"
      ]
    },
    {
      "cell_type": "code",
      "source": [
        "cumulative_binomial = stats.binom.cdf(k,n,p)\n",
        "cumulative_binomial[2]"
      ],
      "metadata": {
        "colab": {
          "base_uri": "https://localhost:8080/"
        },
        "id": "elrgu6J2FxjO",
        "outputId": "004350da-f728-477f-f785-72146487c78c"
      },
      "execution_count": 12,
      "outputs": [
        {
          "output_type": "execute_result",
          "data": {
            "text/plain": [
              "0.9884964426207031"
            ]
          },
          "metadata": {},
          "execution_count": 12
        }
      ]
    },
    {
      "cell_type": "markdown",
      "metadata": {
        "id": "g7pg-lWiVNZx"
      },
      "source": [
        "### **2) During an NBA game a basketball player has two foul shots (free throw), if he converts 93% of his free throw shots.**"
      ]
    },
    {
      "cell_type": "markdown",
      "metadata": {
        "id": "I1yejxesVNZx"
      },
      "source": [
        "**a) What is the probability that he will convert both the shots?**"
      ]
    },
    {
      "cell_type": "code",
      "execution_count": 13,
      "metadata": {
        "id": "SmwMFMOwVNZx"
      },
      "outputs": [],
      "source": [
        "success=0.93"
      ]
    },
    {
      "cell_type": "code",
      "source": [
        "print('The probability that he will convert both the shots is',round(stats.binom.pmf(2,2,0.93),4))"
      ],
      "metadata": {
        "colab": {
          "base_uri": "https://localhost:8080/"
        },
        "id": "4fZcUiAPGd4n",
        "outputId": "79a5e566-160d-437d-a8f8-7fb90e6cd4ec"
      },
      "execution_count": 14,
      "outputs": [
        {
          "output_type": "stream",
          "name": "stdout",
          "text": [
            "The probability that he will convert both the shots is 0.8649\n"
          ]
        }
      ]
    },
    {
      "cell_type": "markdown",
      "metadata": {
        "id": "0R1FriOVVNZy"
      },
      "source": [
        "**b) What is the probability that he will convert at least one shot?**"
      ]
    },
    {
      "cell_type": "code",
      "execution_count": 16,
      "metadata": {
        "colab": {
          "base_uri": "https://localhost:8080/"
        },
        "id": "LHvHcZIZVNZy",
        "outputId": "89a29d4c-f158-4cbf-a7f3-f6773d20a03d"
      },
      "outputs": [
        {
          "output_type": "stream",
          "name": "stdout",
          "text": [
            "The probability that he will convert at least one shot is 0.9951\n"
          ]
        }
      ],
      "source": [
        "print('The probability that he will convert at least one shot is',round((1 - stats.binom.cdf(0,2,0.93)),4))"
      ]
    },
    {
      "cell_type": "markdown",
      "metadata": {
        "id": "jeGWrHJhabri"
      },
      "source": [
        "### **3)\tOver a long period  in a large multinomial corporation, 10% of all sales trainees are rated as outstanding, 75% are rated as excellent, 10% are rated as satisfactory and 5% are considered unsatisfactory. Find the following probabilities for a sample of 10 trainees selected at random:**"
      ]
    },
    {
      "cell_type": "markdown",
      "metadata": {
        "id": "f0-NPUBiVNaG"
      },
      "source": [
        "**a) Two are rated as outstanding**"
      ]
    },
    {
      "cell_type": "code",
      "execution_count": 17,
      "metadata": {
        "id": "nJhIbOHmabrl",
        "outputId": "4f156034-36e4-4805-d0a0-a087abe9f8af",
        "colab": {
          "base_uri": "https://localhost:8080/"
        }
      },
      "outputs": [
        {
          "output_type": "stream",
          "name": "stdout",
          "text": [
            "Probability of two are rated as outstanding is 0.19371\n"
          ]
        }
      ],
      "source": [
        "p=0.1\n",
        "n=10\n",
        "k=2\n",
        "binomial = stats.binom.pmf(k,n,p)\n",
        "print('Probability of two are rated as outstanding is %1.5f' % binomial )"
      ]
    },
    {
      "cell_type": "markdown",
      "metadata": {
        "id": "RZCEMFSrVNaG"
      },
      "source": [
        "**b) Two or more are rated as outstanding**"
      ]
    },
    {
      "cell_type": "code",
      "execution_count": 19,
      "metadata": {
        "id": "KxHPMtooabrw",
        "outputId": "dc33a81d-a9f4-4426-e5c5-bd7dea5230c3",
        "colab": {
          "base_uri": "https://localhost:8080/"
        }
      },
      "outputs": [
        {
          "output_type": "stream",
          "name": "stdout",
          "text": [
            "Probability of two or more are rated as outstanding is 0.26390\n"
          ]
        }
      ],
      "source": [
        "#For this we will use cumulative probability\n",
        "p=0.1\n",
        "n=10\n",
        "k=1\n",
        "##To  answer this we need to calculate cumulative probability\n",
        "binomial = stats.binom.cdf(k,n,p)\n",
        "#since we have calculated for 1 or less, for two or more we will subtract this prob from 1\n",
        "print('Probability of two or more are rated as outstanding is %1.5f' % (1-binomial))"
      ]
    },
    {
      "cell_type": "markdown",
      "metadata": {
        "id": "u5_21Ab8VNaH"
      },
      "source": [
        "**c) Eight of the ten are rated either outstanding or excellent**"
      ]
    },
    {
      "cell_type": "code",
      "execution_count": 22,
      "metadata": {
        "id": "hUf08sVQabr3",
        "outputId": "816a6cb7-aa93-442d-b42b-a2127fb6e04c",
        "colab": {
          "base_uri": "https://localhost:8080/"
        }
      },
      "outputs": [
        {
          "output_type": "stream",
          "name": "stdout",
          "text": [
            "Probability of eight out of ten are rated excellent & outstanding is 0.27590\n"
          ]
        }
      ],
      "source": [
        "#prob of excellent & outstanding is 75+10\n",
        "p=0.85\n",
        "n=10\n",
        "k=8\n",
        "binomial = stats.binom.pmf(k,n,p)\n",
        "print('Probability of eight out of ten are rated excellent & outstanding is %1.5f' % binomial )"
      ]
    },
    {
      "cell_type": "markdown",
      "metadata": {
        "id": "by_BuepFVNaH"
      },
      "source": [
        "**d) None of the trainees are rated as unsatisfactory**"
      ]
    },
    {
      "cell_type": "code",
      "execution_count": 25,
      "metadata": {
        "id": "RHtn4WYzabsA",
        "outputId": "e716d328-feea-41c2-80df-759c516b4c22",
        "colab": {
          "base_uri": "https://localhost:8080/"
        }
      },
      "outputs": [
        {
          "output_type": "stream",
          "name": "stdout",
          "text": [
            "Probability of no trainees are unsatisfactory is 0.59874\n"
          ]
        }
      ],
      "source": [
        "p=0.05\n",
        "n=10\n",
        "k=0\n",
        "binomial = stats.binom.pmf(k,n,p)\n",
        "print('Probability of no trainees are unsatisfactory is %1.5f' % binomial )"
      ]
    },
    {
      "cell_type": "markdown",
      "metadata": {
        "id": "1-lP_U28aUuP"
      },
      "source": [
        "# **Uniform Distribution**\n",
        "\n",
        "### **1) A University records the amount of time  students take  to solve the statistics assignment in 'assignment.csv’. Plot the probability distribution this data follows and answer the following questions.**\n",
        "\n",
        "\n",
        "\n",
        "\n",
        "\n",
        "\n"
      ]
    },
    {
      "cell_type": "markdown",
      "metadata": {
        "id": "l46Ul-hMd7DD"
      },
      "source": [
        "#### **Reading the Data into the Dataframe**"
      ]
    },
    {
      "cell_type": "code",
      "execution_count": 26,
      "metadata": {
        "colab": {
          "base_uri": "https://localhost:8080/",
          "height": 206
        },
        "id": "C1zqTRCLd6BQ",
        "outputId": "ae7c854c-c2b8-4e59-ed7a-a54b2727bcf6"
      },
      "outputs": [
        {
          "output_type": "execute_result",
          "data": {
            "text/plain": [
              "   Student_ID  Time_taken\n",
              "0         955        2.79\n",
              "1         379        3.32\n",
              "2         922        1.35\n",
              "3         312        2.35\n",
              "4         670        1.98"
            ],
            "text/html": [
              "\n",
              "  <div id=\"df-5e6c1f75-4d35-49f8-b1ff-57c4d5683f24\" class=\"colab-df-container\">\n",
              "    <div>\n",
              "<style scoped>\n",
              "    .dataframe tbody tr th:only-of-type {\n",
              "        vertical-align: middle;\n",
              "    }\n",
              "\n",
              "    .dataframe tbody tr th {\n",
              "        vertical-align: top;\n",
              "    }\n",
              "\n",
              "    .dataframe thead th {\n",
              "        text-align: right;\n",
              "    }\n",
              "</style>\n",
              "<table border=\"1\" class=\"dataframe\">\n",
              "  <thead>\n",
              "    <tr style=\"text-align: right;\">\n",
              "      <th></th>\n",
              "      <th>Student_ID</th>\n",
              "      <th>Time_taken</th>\n",
              "    </tr>\n",
              "  </thead>\n",
              "  <tbody>\n",
              "    <tr>\n",
              "      <th>0</th>\n",
              "      <td>955</td>\n",
              "      <td>2.79</td>\n",
              "    </tr>\n",
              "    <tr>\n",
              "      <th>1</th>\n",
              "      <td>379</td>\n",
              "      <td>3.32</td>\n",
              "    </tr>\n",
              "    <tr>\n",
              "      <th>2</th>\n",
              "      <td>922</td>\n",
              "      <td>1.35</td>\n",
              "    </tr>\n",
              "    <tr>\n",
              "      <th>3</th>\n",
              "      <td>312</td>\n",
              "      <td>2.35</td>\n",
              "    </tr>\n",
              "    <tr>\n",
              "      <th>4</th>\n",
              "      <td>670</td>\n",
              "      <td>1.98</td>\n",
              "    </tr>\n",
              "  </tbody>\n",
              "</table>\n",
              "</div>\n",
              "    <div class=\"colab-df-buttons\">\n",
              "\n",
              "  <div class=\"colab-df-container\">\n",
              "    <button class=\"colab-df-convert\" onclick=\"convertToInteractive('df-5e6c1f75-4d35-49f8-b1ff-57c4d5683f24')\"\n",
              "            title=\"Convert this dataframe to an interactive table.\"\n",
              "            style=\"display:none;\">\n",
              "\n",
              "  <svg xmlns=\"http://www.w3.org/2000/svg\" height=\"24px\" viewBox=\"0 -960 960 960\">\n",
              "    <path d=\"M120-120v-720h720v720H120Zm60-500h600v-160H180v160Zm220 220h160v-160H400v160Zm0 220h160v-160H400v160ZM180-400h160v-160H180v160Zm440 0h160v-160H620v160ZM180-180h160v-160H180v160Zm440 0h160v-160H620v160Z\"/>\n",
              "  </svg>\n",
              "    </button>\n",
              "\n",
              "  <style>\n",
              "    .colab-df-container {\n",
              "      display:flex;\n",
              "      gap: 12px;\n",
              "    }\n",
              "\n",
              "    .colab-df-convert {\n",
              "      background-color: #E8F0FE;\n",
              "      border: none;\n",
              "      border-radius: 50%;\n",
              "      cursor: pointer;\n",
              "      display: none;\n",
              "      fill: #1967D2;\n",
              "      height: 32px;\n",
              "      padding: 0 0 0 0;\n",
              "      width: 32px;\n",
              "    }\n",
              "\n",
              "    .colab-df-convert:hover {\n",
              "      background-color: #E2EBFA;\n",
              "      box-shadow: 0px 1px 2px rgba(60, 64, 67, 0.3), 0px 1px 3px 1px rgba(60, 64, 67, 0.15);\n",
              "      fill: #174EA6;\n",
              "    }\n",
              "\n",
              "    .colab-df-buttons div {\n",
              "      margin-bottom: 4px;\n",
              "    }\n",
              "\n",
              "    [theme=dark] .colab-df-convert {\n",
              "      background-color: #3B4455;\n",
              "      fill: #D2E3FC;\n",
              "    }\n",
              "\n",
              "    [theme=dark] .colab-df-convert:hover {\n",
              "      background-color: #434B5C;\n",
              "      box-shadow: 0px 1px 3px 1px rgba(0, 0, 0, 0.15);\n",
              "      filter: drop-shadow(0px 1px 2px rgba(0, 0, 0, 0.3));\n",
              "      fill: #FFFFFF;\n",
              "    }\n",
              "  </style>\n",
              "\n",
              "    <script>\n",
              "      const buttonEl =\n",
              "        document.querySelector('#df-5e6c1f75-4d35-49f8-b1ff-57c4d5683f24 button.colab-df-convert');\n",
              "      buttonEl.style.display =\n",
              "        google.colab.kernel.accessAllowed ? 'block' : 'none';\n",
              "\n",
              "      async function convertToInteractive(key) {\n",
              "        const element = document.querySelector('#df-5e6c1f75-4d35-49f8-b1ff-57c4d5683f24');\n",
              "        const dataTable =\n",
              "          await google.colab.kernel.invokeFunction('convertToInteractive',\n",
              "                                                    [key], {});\n",
              "        if (!dataTable) return;\n",
              "\n",
              "        const docLinkHtml = 'Like what you see? Visit the ' +\n",
              "          '<a target=\"_blank\" href=https://colab.research.google.com/notebooks/data_table.ipynb>data table notebook</a>'\n",
              "          + ' to learn more about interactive tables.';\n",
              "        element.innerHTML = '';\n",
              "        dataTable['output_type'] = 'display_data';\n",
              "        await google.colab.output.renderOutput(dataTable, element);\n",
              "        const docLink = document.createElement('div');\n",
              "        docLink.innerHTML = docLinkHtml;\n",
              "        element.appendChild(docLink);\n",
              "      }\n",
              "    </script>\n",
              "  </div>\n",
              "\n",
              "\n",
              "<div id=\"df-49a5c11f-c80b-414f-9bcf-3e0f3258081d\">\n",
              "  <button class=\"colab-df-quickchart\" onclick=\"quickchart('df-49a5c11f-c80b-414f-9bcf-3e0f3258081d')\"\n",
              "            title=\"Suggest charts.\"\n",
              "            style=\"display:none;\">\n",
              "\n",
              "<svg xmlns=\"http://www.w3.org/2000/svg\" height=\"24px\"viewBox=\"0 0 24 24\"\n",
              "     width=\"24px\">\n",
              "    <g>\n",
              "        <path d=\"M19 3H5c-1.1 0-2 .9-2 2v14c0 1.1.9 2 2 2h14c1.1 0 2-.9 2-2V5c0-1.1-.9-2-2-2zM9 17H7v-7h2v7zm4 0h-2V7h2v10zm4 0h-2v-4h2v4z\"/>\n",
              "    </g>\n",
              "</svg>\n",
              "  </button>\n",
              "\n",
              "<style>\n",
              "  .colab-df-quickchart {\n",
              "      --bg-color: #E8F0FE;\n",
              "      --fill-color: #1967D2;\n",
              "      --hover-bg-color: #E2EBFA;\n",
              "      --hover-fill-color: #174EA6;\n",
              "      --disabled-fill-color: #AAA;\n",
              "      --disabled-bg-color: #DDD;\n",
              "  }\n",
              "\n",
              "  [theme=dark] .colab-df-quickchart {\n",
              "      --bg-color: #3B4455;\n",
              "      --fill-color: #D2E3FC;\n",
              "      --hover-bg-color: #434B5C;\n",
              "      --hover-fill-color: #FFFFFF;\n",
              "      --disabled-bg-color: #3B4455;\n",
              "      --disabled-fill-color: #666;\n",
              "  }\n",
              "\n",
              "  .colab-df-quickchart {\n",
              "    background-color: var(--bg-color);\n",
              "    border: none;\n",
              "    border-radius: 50%;\n",
              "    cursor: pointer;\n",
              "    display: none;\n",
              "    fill: var(--fill-color);\n",
              "    height: 32px;\n",
              "    padding: 0;\n",
              "    width: 32px;\n",
              "  }\n",
              "\n",
              "  .colab-df-quickchart:hover {\n",
              "    background-color: var(--hover-bg-color);\n",
              "    box-shadow: 0 1px 2px rgba(60, 64, 67, 0.3), 0 1px 3px 1px rgba(60, 64, 67, 0.15);\n",
              "    fill: var(--button-hover-fill-color);\n",
              "  }\n",
              "\n",
              "  .colab-df-quickchart-complete:disabled,\n",
              "  .colab-df-quickchart-complete:disabled:hover {\n",
              "    background-color: var(--disabled-bg-color);\n",
              "    fill: var(--disabled-fill-color);\n",
              "    box-shadow: none;\n",
              "  }\n",
              "\n",
              "  .colab-df-spinner {\n",
              "    border: 2px solid var(--fill-color);\n",
              "    border-color: transparent;\n",
              "    border-bottom-color: var(--fill-color);\n",
              "    animation:\n",
              "      spin 1s steps(1) infinite;\n",
              "  }\n",
              "\n",
              "  @keyframes spin {\n",
              "    0% {\n",
              "      border-color: transparent;\n",
              "      border-bottom-color: var(--fill-color);\n",
              "      border-left-color: var(--fill-color);\n",
              "    }\n",
              "    20% {\n",
              "      border-color: transparent;\n",
              "      border-left-color: var(--fill-color);\n",
              "      border-top-color: var(--fill-color);\n",
              "    }\n",
              "    30% {\n",
              "      border-color: transparent;\n",
              "      border-left-color: var(--fill-color);\n",
              "      border-top-color: var(--fill-color);\n",
              "      border-right-color: var(--fill-color);\n",
              "    }\n",
              "    40% {\n",
              "      border-color: transparent;\n",
              "      border-right-color: var(--fill-color);\n",
              "      border-top-color: var(--fill-color);\n",
              "    }\n",
              "    60% {\n",
              "      border-color: transparent;\n",
              "      border-right-color: var(--fill-color);\n",
              "    }\n",
              "    80% {\n",
              "      border-color: transparent;\n",
              "      border-right-color: var(--fill-color);\n",
              "      border-bottom-color: var(--fill-color);\n",
              "    }\n",
              "    90% {\n",
              "      border-color: transparent;\n",
              "      border-bottom-color: var(--fill-color);\n",
              "    }\n",
              "  }\n",
              "</style>\n",
              "\n",
              "  <script>\n",
              "    async function quickchart(key) {\n",
              "      const quickchartButtonEl =\n",
              "        document.querySelector('#' + key + ' button');\n",
              "      quickchartButtonEl.disabled = true;  // To prevent multiple clicks.\n",
              "      quickchartButtonEl.classList.add('colab-df-spinner');\n",
              "      try {\n",
              "        const charts = await google.colab.kernel.invokeFunction(\n",
              "            'suggestCharts', [key], {});\n",
              "      } catch (error) {\n",
              "        console.error('Error during call to suggestCharts:', error);\n",
              "      }\n",
              "      quickchartButtonEl.classList.remove('colab-df-spinner');\n",
              "      quickchartButtonEl.classList.add('colab-df-quickchart-complete');\n",
              "    }\n",
              "    (() => {\n",
              "      let quickchartButtonEl =\n",
              "        document.querySelector('#df-49a5c11f-c80b-414f-9bcf-3e0f3258081d button');\n",
              "      quickchartButtonEl.style.display =\n",
              "        google.colab.kernel.accessAllowed ? 'block' : 'none';\n",
              "    })();\n",
              "  </script>\n",
              "</div>\n",
              "    </div>\n",
              "  </div>\n"
            ]
          },
          "metadata": {},
          "execution_count": 26
        }
      ],
      "source": [
        "assign = pd.read_csv('assignment.csv')\n",
        "assign.head()"
      ]
    },
    {
      "cell_type": "code",
      "source": [
        "# visualize the distribution of the time needed for bug fixing\n",
        "plt.hist(assign[\"Time_taken\"], density=True)\n",
        "plt.xlabel(\"Time_taken\")\n",
        "plt.ylabel(\"Probability\")\n",
        "plt.title(\"Data Distribution\")\n",
        "plt.show()"
      ],
      "metadata": {
        "colab": {
          "base_uri": "https://localhost:8080/",
          "height": 472
        },
        "id": "tDn9rPtqIcnl",
        "outputId": "a56c2697-9d4e-4c90-e810-c3d65cfac1e0"
      },
      "execution_count": 30,
      "outputs": [
        {
          "output_type": "display_data",
          "data": {
            "text/plain": [
              "<Figure size 640x480 with 1 Axes>"
            ],
            "image/png": "[encoded data removed]"
          },
          "metadata": {}
        }
      ]
    },
    {
      "cell_type": "markdown",
      "metadata": {
        "id": "riMH9942kyzJ"
      },
      "source": [
        "**a) Find the probability that a randomly selected Student  requires atmost 2.5 hours to complete the assignment.**\n",
        "\n",
        "\n",
        "\n",
        "**CDF:** of a random variable(X) is the probability that X  will take the value less than or equal to x. It can be represented mathematically as below.\n",
        "\n",
        ">$F_X(x) = P(X\\leq x)$\n",
        "\n",
        "\n",
        "In our case, random variable(X) is the number of hours.\n",
        "\n",
        "$ P(X\\leq 2.5)$"
      ]
    },
    {
      "cell_type": "code",
      "execution_count": 31,
      "metadata": {
        "id": "j6Q_wOlPlh5g"
      },
      "outputs": [],
      "source": [
        "# import the required function\n",
        "from scipy.stats import uniform\n",
        "\n",
        "# use the uniform.pmf() function to generate the probability distribution\n",
        "x = np.linspace(1, 4, 50)\n",
        "probs = uniform.pdf(x, loc=1, scale=3)"
      ]
    },
    {
      "cell_type": "code",
      "source": [
        "# plot the probability distribution\n",
        "# We are plotting the distributions here to better visualize the calculations.\n",
        "# You can directly use the cdf function for probability calculations.\n",
        "x1 = np.linspace(1, 2.5, 50)\n",
        "plt.plot(x, probs)\n",
        "plt.fill_between(x, probs)\n",
        "plt.fill_between(x1, uniform.pdf(x=x1, loc=1, scale=3), color=\"r\")\n",
        "plt.xlabel(\"Time required to complete assignment\")\n",
        "plt.ylabel(\"Probability\")\n",
        "plt.title(\"Continuous Uniform Distribution: X ~ U(1,4)\")\n",
        "plt.show()"
      ],
      "metadata": {
        "colab": {
          "base_uri": "https://localhost:8080/",
          "height": 472
        },
        "id": "B54gXluSKNLr",
        "outputId": "7e96ab4c-b2d6-4722-a263-758f9730c812"
      },
      "execution_count": 35,
      "outputs": [
        {
          "output_type": "display_data",
          "data": {
            "text/plain": [
              "<Figure size 640x480 with 1 Axes>"
            ],
            "image/png": "[encoded data removed]"
          },
          "metadata": {}
        }
      ]
    },
    {
      "cell_type": "code",
      "source": [
        "uniform.cdf(x=2.5, loc=1, scale=3)"
      ],
      "metadata": {
        "colab": {
          "base_uri": "https://localhost:8080/"
        },
        "id": "IpUP95GJKvzE",
        "outputId": "68ea1634-3fca-4e7e-eb46-a268dc2e6bf8"
      },
      "execution_count": 36,
      "outputs": [
        {
          "output_type": "execute_result",
          "data": {
            "text/plain": [
              "0.5"
            ]
          },
          "metadata": {},
          "execution_count": 36
        }
      ]
    },
    {
      "cell_type": "markdown",
      "metadata": {
        "id": "C3TVqrPQlt1h"
      },
      "source": [
        "**b) Find the probability that a randomly selected student  requires atleast  3 hours to complete the quiz.**\n",
        "\n",
        "$ P(X>=3)$"
      ]
    },
    {
      "cell_type": "code",
      "execution_count": 39,
      "metadata": {
        "colab": {
          "base_uri": "https://localhost:8080/",
          "height": 472
        },
        "id": "qy9TT_38l108",
        "outputId": "bca5842a-e890-4638-bda0-005c0cc12864"
      },
      "outputs": [
        {
          "output_type": "display_data",
          "data": {
            "text/plain": [
              "<Figure size 640x480 with 1 Axes>"
            ],
            "image/png": "[encoded data removed]"
          },
          "metadata": {}
        }
      ],
      "source": [
        "# plot the probability distribution\n",
        "# We are plotting the distributions here to better visualize the calculations.\n",
        "# Of course you do not 'need' to create the following visualization to answer the question above.\n",
        "# You can directly use the cdf function for probability calculations.\n",
        "x1 = np.linspace(3, 4, 20)\n",
        "plt.plot(x, probs)\n",
        "plt.fill_between(x, probs)\n",
        "plt.fill_between(x1, uniform.pdf(x=x1, loc=1, scale=3), color=\"r\")\n",
        "plt.xlabel(\"Time required to complete assignment\")\n",
        "plt.ylabel(\"Probability\")\n",
        "plt.title(\"Continuous Uniform Distribution: X ~ U(1,4)\")\n",
        "plt.show()"
      ]
    },
    {
      "cell_type": "code",
      "source": [
        "round(1 - uniform.cdf(x = 3, loc = 1, scale = 3), 4)"
      ],
      "metadata": {
        "colab": {
          "base_uri": "https://localhost:8080/"
        },
        "id": "GJ6m4ERsLgMO",
        "outputId": "8286b782-d1fe-4725-e15c-51322b16840e"
      },
      "execution_count": 43,
      "outputs": [
        {
          "output_type": "execute_result",
          "data": {
            "text/plain": [
              "0.3333"
            ]
          },
          "metadata": {},
          "execution_count": 43
        }
      ]
    },
    {
      "cell_type": "markdown",
      "metadata": {
        "id": "ln66mUUsmad-"
      },
      "source": [
        "**c) Find the probability that a randomly selected student requires 1.5 to 3.5 hours to complete the quiz.**\n",
        "\n",
        "$ P(1.5<= X <=3.5)$"
      ]
    },
    {
      "cell_type": "code",
      "execution_count": 44,
      "metadata": {
        "colab": {
          "base_uri": "https://localhost:8080/"
        },
        "id": "oVS-Q3f3mZlj",
        "outputId": "3d1bc57e-c43d-426a-e9b1-3cdfaaa16134"
      },
      "outputs": [
        {
          "output_type": "execute_result",
          "data": {
            "text/plain": [
              "0.6667"
            ]
          },
          "metadata": {},
          "execution_count": 44
        }
      ],
      "source": [
        "round(uniform.cdf(x = 3.5, loc = 1, scale = 3) - uniform.cdf(x = 1.5, loc = 1, scale = 3), 4)"
      ]
    },
    {
      "cell_type": "markdown",
      "metadata": {
        "id": "xh7vsKOHVNZ8"
      },
      "source": [
        "# **Normal Distribution**"
      ]
    },
    {
      "cell_type": "markdown",
      "metadata": {
        "id": "yRiWnS4VabsT"
      },
      "source": [
        "### **1) According to the Telecommunication Industry the average monthly cell phone bill is Rs. 850 with a standard deviation of Rs. 150. Assuming that the monthly bill follows normal distribution answer the following:**"
      ]
    },
    {
      "cell_type": "markdown",
      "metadata": {
        "id": "MJ7wKYwvVNZ_"
      },
      "source": [
        "**a) What is the probability that a randomly selected cell phone bill is more than Rs 1200?**"
      ]
    },
    {
      "cell_type": "code",
      "execution_count": 46,
      "metadata": {
        "colab": {
          "base_uri": "https://localhost:8080/"
        },
        "id": "jJ1cXSf0absV",
        "outputId": "c3557f41-aac5-4e02-c0b8-e6384809b269"
      },
      "outputs": [
        {
          "output_type": "stream",
          "name": "stdout",
          "text": [
            "The probability that a randomly selected cell phone bill is more than Rs 1200 0.0098\n"
          ]
        }
      ],
      "source": [
        "# import the required function\n",
        "from scipy.stats import norm\n",
        "\n",
        "mu = 850\n",
        "sigma = 150\n",
        "\n",
        "prob_greater_than_1200 = 1 - norm.cdf(1200, mu, sigma)\n",
        "print(\n",
        "    \"The probability that a randomly selected cell phone bill is more than Rs 1200\",\n",
        "    round(prob_greater_than_1200, 4),\n",
        ")"
      ]
    },
    {
      "cell_type": "code",
      "source": [
        "#To calculate this, we will calculate the cumulative probability for less than 1200 and then will subtract from 1.\n",
        "\n",
        "round(1-stats.norm.cdf(1200,loc=850,scale=150), 4)"
      ],
      "metadata": {
        "colab": {
          "base_uri": "https://localhost:8080/"
        },
        "id": "DQ63MwJNPyF1",
        "outputId": "7a2f7a4b-5925-4c7f-dec1-47562a1cc165"
      },
      "execution_count": 47,
      "outputs": [
        {
          "output_type": "execute_result",
          "data": {
            "text/plain": [
              "0.0098"
            ]
          },
          "metadata": {},
          "execution_count": 47
        }
      ]
    },
    {
      "cell_type": "markdown",
      "metadata": {
        "id": "1eoJzslRVNZ_"
      },
      "source": [
        "**b) What is the probability that a randomly selected cell phone bill is between Rs 750 and Rs 1200?**"
      ]
    },
    {
      "cell_type": "code",
      "execution_count": 48,
      "metadata": {
        "colab": {
          "base_uri": "https://localhost:8080/"
        },
        "id": "1uU2mRzbabsh",
        "outputId": "f3d37a89-6eff-417e-97a3-54cbb7bdf8aa"
      },
      "outputs": [
        {
          "output_type": "execute_result",
          "data": {
            "text/plain": [
              "0.7376921338244318"
            ]
          },
          "metadata": {},
          "execution_count": 48
        }
      ],
      "source": [
        "stats.norm.cdf(1200,loc=850,scale=150) - stats.norm.cdf(750,loc=850,scale=150)"
      ]
    },
    {
      "cell_type": "markdown",
      "metadata": {
        "id": "tGxBocT6VNZ_"
      },
      "source": [
        "**c) What is the probability that a randomly selected cell phone bill is no more than Rs 650?**"
      ]
    },
    {
      "cell_type": "code",
      "execution_count": 49,
      "metadata": {
        "colab": {
          "base_uri": "https://localhost:8080/"
        },
        "id": "TqFcIHcUabsp",
        "outputId": "c2e6214f-1515-47b3-9040-1f836f79fcd3"
      },
      "outputs": [
        {
          "output_type": "execute_result",
          "data": {
            "text/plain": [
              "0.09121121972586788"
            ]
          },
          "metadata": {},
          "execution_count": 49
        }
      ],
      "source": [
        "stats.norm.cdf(650,loc=850,scale=150)"
      ]
    },
    {
      "cell_type": "markdown",
      "metadata": {
        "id": "oFmIG_sqVNaA"
      },
      "source": [
        "**d) What is the amount above which lies top 15% of cell phone bills?**"
      ]
    },
    {
      "cell_type": "code",
      "execution_count": 52,
      "metadata": {
        "colab": {
          "base_uri": "https://localhost:8080/"
        },
        "id": "_r55P6SNabs0",
        "outputId": "453f52f1-bf5f-4794-88e0-5e4681051b4b"
      },
      "outputs": [
        {
          "output_type": "stream",
          "name": "stdout",
          "text": [
            "The 9 top 15% of cell phone bills should be 1005\n"
          ]
        }
      ],
      "source": [
        "top_15_percent = norm.ppf(0.85, mu, sigma)\n",
        "print(\"The 9 top 15% of cell phone bills should be\", round(top_15_percent))"
      ]
    },
    {
      "cell_type": "code",
      "source": [
        "#Let the amount be M. P(X ≥ M) = 15% => 1 – P(X < M) = 0.85 . To calculate this we will use the percent point function i.e ppf.\n",
        "\n",
        "round(stats.norm.ppf(0.85,loc=850,scale=150), 4)"
      ],
      "metadata": {
        "colab": {
          "base_uri": "https://localhost:8080/"
        },
        "id": "63jhz3tMSoq3",
        "outputId": "f8f9545f-b920-4afd-9fcc-630c4df970f2"
      },
      "execution_count": 53,
      "outputs": [
        {
          "output_type": "execute_result",
          "data": {
            "text/plain": [
              "1005.465"
            ]
          },
          "metadata": {},
          "execution_count": 53
        }
      ]
    },
    {
      "cell_type": "markdown",
      "metadata": {
        "id": "_lNAMUvvVNaA"
      },
      "source": [
        "**e) What is the amount below which lies bottom 25% of cell phone bills?**"
      ]
    },
    {
      "cell_type": "code",
      "execution_count": 54,
      "metadata": {
        "colab": {
          "base_uri": "https://localhost:8080/"
        },
        "id": "-7OQk_Ftabs-",
        "outputId": "9011e245-92e0-4775-885b-2aca93672e6f"
      },
      "outputs": [
        {
          "output_type": "execute_result",
          "data": {
            "text/plain": [
              "748.8265"
            ]
          },
          "metadata": {},
          "execution_count": 54
        }
      ],
      "source": [
        "round(stats.norm.ppf(0.25,loc=850,scale=150), 4)"
      ]
    },
    {
      "cell_type": "markdown",
      "metadata": {
        "id": "QmtfulFDVNaH"
      },
      "source": [
        "### **2) The mean filling capacity for a coke bottle is 500 ml with a standard deviation of 20ml. Assume that it follows a normal distribution and answer the following questions:**"
      ]
    },
    {
      "cell_type": "markdown",
      "metadata": {
        "id": "ak4RyMGVVNaI"
      },
      "source": [
        "**a) What is the probability that the bottle filled less than 480 ml ?**"
      ]
    },
    {
      "cell_type": "code",
      "execution_count": 55,
      "metadata": {
        "colab": {
          "base_uri": "https://localhost:8080/"
        },
        "id": "7HZogLBGVNaI",
        "outputId": "38640d62-40d3-4d6f-d992-ec3d90d7cfc0"
      },
      "outputs": [
        {
          "output_type": "execute_result",
          "data": {
            "text/plain": [
              "0.15865525393145707"
            ]
          },
          "metadata": {},
          "execution_count": 55
        }
      ],
      "source": [
        "stats.norm.cdf(480,loc=500,scale=20)"
      ]
    },
    {
      "cell_type": "code",
      "source": [
        "mu = 500\n",
        "sigma= 20\n",
        "x1=480\n",
        "z1=(x1-mu)/sigma\n",
        "p=stats.norm.cdf(z1)\n",
        "print ('Probaility of bottle filled less than 480 ml is %1.4f' %p)"
      ],
      "metadata": {
        "colab": {
          "base_uri": "https://localhost:8080/"
        },
        "id": "I-c7lPNgTMgy",
        "outputId": "a7f43e92-c82e-498e-a408-4332a12cf48d"
      },
      "execution_count": 57,
      "outputs": [
        {
          "output_type": "stream",
          "name": "stdout",
          "text": [
            "Probaility of bottle filled less than 480 ml is 0.1587\n"
          ]
        }
      ]
    },
    {
      "cell_type": "markdown",
      "metadata": {
        "id": "ILDdv_5fVNaI"
      },
      "source": [
        "**b) What is the probability that the bottle filled more than  520 ml?**"
      ]
    },
    {
      "cell_type": "code",
      "execution_count": 58,
      "metadata": {
        "colab": {
          "base_uri": "https://localhost:8080/"
        },
        "id": "u42DGuDPVNaJ",
        "outputId": "6d7e54e6-9c23-4374-f63d-508137a7a006"
      },
      "outputs": [
        {
          "output_type": "execute_result",
          "data": {
            "text/plain": [
              "0.15865525393145707"
            ]
          },
          "metadata": {},
          "execution_count": 58
        }
      ],
      "source": [
        "1 - stats.norm.cdf(520,loc=500,scale=20)"
      ]
    },
    {
      "cell_type": "markdown",
      "metadata": {
        "id": "GDGLNR7dVNaJ"
      },
      "source": [
        "**c) What is the probability that the bottle filled between 470 ml to 525 ml?**"
      ]
    },
    {
      "cell_type": "code",
      "source": [],
      "metadata": {
        "id": "NNYELn6UUMdu"
      },
      "execution_count": null,
      "outputs": []
    },
    {
      "cell_type": "code",
      "execution_count": 59,
      "metadata": {
        "colab": {
          "base_uri": "https://localhost:8080/"
        },
        "id": "_uPKpbvtVNaK",
        "outputId": "c13b92c2-fbb9-48b1-87e1-a898d8e64ef2"
      },
      "outputs": [
        {
          "output_type": "execute_result",
          "data": {
            "text/plain": [
              "0.8275430250642866"
            ]
          },
          "metadata": {},
          "execution_count": 59
        }
      ],
      "source": [
        "stats.norm.cdf(525,loc=500,scale=20) - stats.norm.cdf(470,loc=500,scale=20)"
      ]
    },
    {
      "cell_type": "markdown",
      "metadata": {
        "id": "7WFVLPL-VNaM"
      },
      "source": [
        "### **3) In 2 Liter soft drink bottles the drink filled is normally distributed, with a mean of 2.0 liters and a standard deviation of 0.05 liter. If the bottles contain less than 95% of the listed net content(1.90 liters),  the manufacturer may be subject to penalty by the state office of consumer affairs. Bottles that have a net content above 2.1 liters may cause excess spillage upon opening. Answer the following questions:**"
      ]
    },
    {
      "cell_type": "markdown",
      "metadata": {
        "id": "KJh8EodMVNaM"
      },
      "source": [
        "**a) What is the probability that the bottle content is between 1.9 and 2.0 liters?**"
      ]
    },
    {
      "cell_type": "code",
      "execution_count": 60,
      "metadata": {
        "colab": {
          "base_uri": "https://localhost:8080/"
        },
        "id": "WfcWl231VNaM",
        "outputId": "114d5e3a-defe-490b-f816-e31d7f1d848c"
      },
      "outputs": [
        {
          "output_type": "execute_result",
          "data": {
            "text/plain": [
              "0.4772498680518209"
            ]
          },
          "metadata": {},
          "execution_count": 60
        }
      ],
      "source": [
        "stats.norm.cdf(2.0,loc=2.0,scale=0.05) - stats.norm.cdf(1.9,loc=2.0,scale=0.05)"
      ]
    },
    {
      "cell_type": "markdown",
      "metadata": {
        "id": "hZhrsYtoVNaN"
      },
      "source": [
        "**b)  What is the probability that the bottle content is between 1.9 and 2.1 liters?**"
      ]
    },
    {
      "cell_type": "code",
      "execution_count": 66,
      "metadata": {
        "colab": {
          "base_uri": "https://localhost:8080/"
        },
        "id": "wbnjjf0aVNaN",
        "outputId": "d78afa6d-662f-42d0-b1a2-d3a08bcae421"
      },
      "outputs": [
        {
          "output_type": "execute_result",
          "data": {
            "text/plain": [
              "0.9544997361036418"
            ]
          },
          "metadata": {},
          "execution_count": 66
        }
      ],
      "source": [
        "stats.norm.cdf(2.1,loc=2.0,scale=0.05) - stats.norm.cdf(1.9,loc=2.0,scale=0.05)"
      ]
    },
    {
      "cell_type": "markdown",
      "metadata": {
        "id": "H6fG71TVVNaN"
      },
      "source": [
        "**c) What is the probability that the bottle content is below 1.9 liters or above 2.1 liters?**"
      ]
    },
    {
      "cell_type": "code",
      "execution_count": 65,
      "metadata": {
        "colab": {
          "base_uri": "https://localhost:8080/"
        },
        "id": "1Z6O0xxHVNaO",
        "outputId": "04b30529-69ca-46b8-b9db-666bb1088be6"
      },
      "outputs": [
        {
          "output_type": "execute_result",
          "data": {
            "text/plain": [
              "0.045500263896358195"
            ]
          },
          "metadata": {},
          "execution_count": 65
        }
      ],
      "source": [
        "stats.norm.cdf(1.9,loc=2.0,scale=0.05) + (1- stats.norm.cdf(2.1,loc=2.0,scale=0.05))"
      ]
    },
    {
      "cell_type": "markdown",
      "metadata": {
        "id": "Qc1CMY6PVNaO"
      },
      "source": [
        "**d) 99% of the bottles atleast have how much soft drink in them?**"
      ]
    },
    {
      "cell_type": "code",
      "execution_count": 68,
      "metadata": {
        "colab": {
          "base_uri": "https://localhost:8080/"
        },
        "id": "vhoVgTxBVNaO",
        "outputId": "fee45492-42c6-4874-be3f-75b3c4559b56"
      },
      "outputs": [
        {
          "output_type": "execute_result",
          "data": {
            "text/plain": [
              "1.8837"
            ]
          },
          "metadata": {},
          "execution_count": 68
        }
      ],
      "source": [
        "round(stats.norm.ppf(0.01,loc=2.0,scale=0.05), 4)"
      ]
    },
    {
      "cell_type": "markdown",
      "metadata": {
        "id": "cfuKFTnCDTeA"
      },
      "source": [
        "# **Sampling Distribution**"
      ]
    },
    {
      "cell_type": "markdown",
      "metadata": {
        "id": "azEQu4DoC_Q5"
      },
      "source": [
        "### 1) **Suppose an automobile battery manufacturer claims that the mean lifetime of their battery is 60 months with a standard deviation of 6 months. Suppose the distribution of battery lives of is approximately normal. Find the probability that the mean lifetime of 40 randomly sampled batteries will be less than 58 months.**"
      ]
    },
    {
      "cell_type": "code",
      "execution_count": 69,
      "metadata": {
        "colab": {
          "base_uri": "https://localhost:8080/"
        },
        "id": "AiWFb0LCC9Wp",
        "outputId": "e6c4ef7a-1a94-4b86-dc62-cc9a9063d5ee"
      },
      "outputs": [
        {
          "output_type": "execute_result",
          "data": {
            "text/plain": [
              "0.0175"
            ]
          },
          "metadata": {},
          "execution_count": 69
        }
      ],
      "source": [
        "\n",
        "# import the required function\n",
        "from scipy.stats import norm\n",
        "# declare the value of mean lifetime of battery in mu\n",
        "mu = 60\n",
        "# declare the value of standard deviation of battery in std\n",
        "sigma = 6\n",
        "# sample size\n",
        "n = 40\n",
        "# find the sample standard deviation\n",
        "s = sigma/np.sqrt(40)\n",
        "# find the probability\n",
        "round(norm.cdf(58, loc = mu, scale = s), 4)"
      ]
    },
    {
      "cell_type": "markdown",
      "metadata": {
        "id": "1TFwIVHqBR8O"
      },
      "source": [
        "# **Interval Estimation**"
      ]
    },
    {
      "cell_type": "markdown",
      "metadata": {
        "id": "hyfZcgYs_LMD"
      },
      "source": [
        "### **1) A random sample of 40 households was selected as part of a study on electricity usage, and the number of kilowatt-hours (kWh) was recorded for each household in the sample for the March quarter of 2020. The average usage was found to be 310kWh. In a very large study in the March quarter of the previous year it was found that the standard deviation of the usage was 89kWh.**\n",
        "\n",
        "### **Assuming the standard deviation is unchanged and that the usage is normally distributed, provide an expression for calculating a 95% confidence interval for the mean usage in the March quarter of 2019.**\n",
        "\n"
      ]
    },
    {
      "cell_type": "code",
      "execution_count": 70,
      "metadata": {
        "colab": {
          "base_uri": "https://localhost:8080/"
        },
        "id": "uyAHorce_KaM",
        "outputId": "2fe0f779-923f-422b-e2f8-81e48c22c5d9"
      },
      "outputs": [
        {
          "output_type": "execute_result",
          "data": {
            "text/plain": [
              "array([281.54, 338.46])"
            ]
          },
          "metadata": {},
          "execution_count": 70
        }
      ],
      "source": [
        "n = 40\n",
        "mu = 310\n",
        "sigma = 89\n",
        "# import the required function\n",
        "from scipy.stats import t\n",
        "\n",
        "# set the values of sample mean and sample standard deviation\n",
        "x_bar, s = mu,sigma\n",
        "\n",
        "# set the value of sample size and degrees of freedom\n",
        "n = n\n",
        "k = n - 1\n",
        "\n",
        "# construct the confidence interval\n",
        "np.round(t.interval(0.95, df=k, loc=x_bar, scale=s / np.sqrt(n)), 2)\n"
      ]
    },
    {
      "cell_type": "code",
      "source": [
        "#import the required function\n",
        "from scipy.stats import norm\n",
        "import numpy as np\n",
        "\n",
        "#set the values of sample mean and sigma\n",
        "x_bar, sigma = 310, 89\n",
        "\n",
        "# set the value of sample size\n",
        "n = 40-1\n",
        "\n",
        "# construct the confidence interval\n",
        "np.round(norm.interval(0.95, loc = x_bar, scale = sigma/np.sqrt(n)), 2)"
      ],
      "metadata": {
        "colab": {
          "base_uri": "https://localhost:8080/"
        },
        "id": "HdkuOWeYYqfi",
        "outputId": "cd470874-b8ca-4b1a-ca6b-baf4dcb2db32"
      },
      "execution_count": 72,
      "outputs": [
        {
          "output_type": "execute_result",
          "data": {
            "text/plain": [
              "array([282.07, 337.93])"
            ]
          },
          "metadata": {},
          "execution_count": 72
        }
      ]
    },
    {
      "cell_type": "code",
      "source": [],
      "metadata": {
        "id": "H51EwUeGY1S-"
      },
      "execution_count": null,
      "outputs": []
    }
  ],
  "metadata": {
    "colab": {
      "collapsed_sections": [
        "g7pg-lWiVNZx",
        "l46Ul-hMd7DD"
      ],
      "provenance": [],
      "include_colab_link": true
    },
    "kernelspec": {
      "display_name": "Python 3",
      "language": "python",
      "name": "python3"
    },
    "language_info": {
      "codemirror_mode": {
        "name": "ipython",
        "version": 3
      },
      "file_extension": ".py",
      "mimetype": "text/x-python",
      "name": "python",
      "nbconvert_exporter": "python",
      "pygments_lexer": "ipython3",
      "version": "3.8.5"
    }
  },
  "nbformat": 4,
  "nbformat_minor": 0
}