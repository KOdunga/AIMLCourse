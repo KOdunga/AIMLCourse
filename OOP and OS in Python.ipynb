{
 "cells": [
  {
   "cell_type": "markdown",
   "id": "1e71142a",
   "metadata": {},
   "source": [
    "## Object Oriented Programming"
   ]
  },
  {
   "cell_type": "markdown",
   "id": "218ec8a3",
   "metadata": {},
   "source": [
    "The name of a class must always start with a capital letter"
   ]
  },
  {
   "cell_type": "code",
   "execution_count": 3,
   "id": "a29f4984",
   "metadata": {},
   "outputs": [
    {
     "name": "stdout",
     "output_type": "stream",
     "text": [
      "1.7\n",
      "3.74\n"
     ]
    }
   ],
   "source": [
    "class My_data_type: # Always capitalize the first letter of a class\n",
    "    def init_some_vals(self,val2): # Always pass self as the first variable in methods definition inside of classes\n",
    "        self.first_var = 1.7 # This is how you define an attribute of a method in a class\n",
    "        self.second_var = val2 # How to access an attribute inside the class, use self\n",
    "    def multiply_vals(self): # Even if the method is not taking an input, you must pass self as an argument\n",
    "        return self.first_var*self.second_var # in effect, this self refers to the name of the object calling the methiod\n",
    "    \n",
    "me = My_data_type()  # Declaration of an object called me of the class My_data_Type\n",
    "me.init_some_vals(2.2) # Dont give self as an input outside the class \n",
    "print(me.first_var) # How to access an attribute outside the class itself\n",
    "print(me.multiply_vals()) # Running a method outside the class\n",
    "    "
   ]
  },
  {
   "cell_type": "code",
   "execution_count": 8,
   "id": "8a25af79",
   "metadata": {},
   "outputs": [],
   "source": [
    "me.first_var = 3 # defining an attribute value outside a class. This is not advisable as the attribute will now have different values"
   ]
  },
  {
   "cell_type": "code",
   "execution_count": 9,
   "id": "070aa60c",
   "metadata": {},
   "outputs": [
    {
     "name": "stdout",
     "output_type": "stream",
     "text": [
      "3\n"
     ]
    }
   ],
   "source": [
    "print(me.first_var)"
   ]
  },
  {
   "cell_type": "code",
   "execution_count": 18,
   "id": "ef690ef6",
   "metadata": {},
   "outputs": [
    {
     "data": {
      "text/plain": [
       "1.7"
      ]
     },
     "execution_count": 18,
     "metadata": {},
     "output_type": "execute_result"
    }
   ],
   "source": [
    "you = My_data_type() # Declaring another object of the class My_data_type, calling it you\n",
    "you.init_some_vals(4) \n",
    "you.first_var"
   ]
  },
  {
   "cell_type": "code",
   "execution_count": 19,
   "id": "0238b1f9",
   "metadata": {},
   "outputs": [
    {
     "data": {
      "text/plain": [
       "6.8"
      ]
     },
     "execution_count": 19,
     "metadata": {},
     "output_type": "execute_result"
    }
   ],
   "source": [
    "you.multiply_vals()"
   ]
  },
  {
   "cell_type": "code",
   "execution_count": 21,
   "id": "f6b06157",
   "metadata": {},
   "outputs": [],
   "source": [
    "class Pet:\n",
    "    def __init__(self, animal_type,name,age,weight_lbs,color):\n",
    "        self.animal = animal_type\n",
    "        self.name = name\n",
    "        self.age  = age\n",
    "        self.weight_lbs = weight_lbs\n",
    "        self.color = color\n",
    "        self.weight_kgs = self.calc_weigth_in_kg()\n",
    "    def calc_weigth_in_kg(self):\n",
    "        return self.weight_lbs* 0.344\n",
    "    def describe_pet(self):\n",
    "        print(\"My pet is a \", self.color, self.animal)\n",
    "        print(\"The pet's name is \", self.name, \" and it is \",self.age,\" years old\")\n",
    "        print(\"This pet weighs \", self.weight_lbs,\" pounds, which is \",self.weight_kgs,\" in Kgs\")"
   ]
  },
  {
   "cell_type": "code",
   "execution_count": 25,
   "id": "aa96aebc",
   "metadata": {},
   "outputs": [
    {
     "name": "stdout",
     "output_type": "stream",
     "text": [
      "This pet is a  brown cat\n",
      "This pet's name is  jerry  and it is  2  years old\n",
      "This pet weighs  5.4  pounds, which is  1.8576  in Kgs\n"
     ]
    }
   ],
   "source": [
    "#Creating two objects of the class pet\n",
    "my_cat = Pet('cat','jerry',2, 5.4,'brown')\n",
    "my_dog = Pet('dog','jay',1,3,'black')\n",
    "my_cat.describe_pet()"
   ]
  },
  {
   "cell_type": "code",
   "execution_count": 26,
   "id": "617ddf4d",
   "metadata": {},
   "outputs": [
    {
     "name": "stdout",
     "output_type": "stream",
     "text": [
      "This pet is a  black dog\n",
      "This pet's name is  jay  and it is  1  years old\n",
      "This pet weighs  3  pounds, which is  1.032  in Kgs\n"
     ]
    }
   ],
   "source": [
    "my_dog.describe_pet() # accesssing individual methods in the class"
   ]
  },
  {
   "cell_type": "code",
   "execution_count": 27,
   "id": "f0379909",
   "metadata": {},
   "outputs": [
    {
     "name": "stdout",
     "output_type": "stream",
     "text": [
      "black\n"
     ]
    }
   ],
   "source": [
    "print(my_dog.color) # accessing individual attributes from the class"
   ]
  },
  {
   "cell_type": "code",
   "execution_count": 33,
   "id": "b3a6b8bf",
   "metadata": {},
   "outputs": [
    {
     "data": {
      "text/plain": [
       "{1: 2, 2: 3}"
      ]
     },
     "execution_count": 33,
     "metadata": {},
     "output_type": "execute_result"
    }
   ],
   "source": [
    "my_dict = {1: 2, 2:3}\n",
    "my_dict"
   ]
  },
  {
   "cell_type": "code",
   "execution_count": 34,
   "id": "df1628f9",
   "metadata": {},
   "outputs": [
    {
     "name": "stdout",
     "output_type": "stream",
     "text": [
      "0\n",
      "1\n",
      "2\n",
      "3\n",
      "4\n",
      "5\n"
     ]
    }
   ],
   "source": [
    "for i in range(6):\n",
    "    print(i)"
   ]
  },
  {
   "cell_type": "code",
   "execution_count": 39,
   "id": "7b5e77a1",
   "metadata": {},
   "outputs": [
    {
     "name": "stdout",
     "output_type": "stream",
     "text": [
      "1\n",
      "2\n",
      "3\n",
      "4\n",
      "5\n",
      "6\n"
     ]
    }
   ],
   "source": [
    "array = [1,2,3,4,5,6]\n",
    "for j in array:\n",
    "    print(j)"
   ]
  },
  {
   "cell_type": "code",
   "execution_count": 45,
   "id": "b6320a03",
   "metadata": {},
   "outputs": [
    {
     "name": "stdout",
     "output_type": "stream",
     "text": [
      "attr2 is equal to 6\n",
      "attr1 is equal to 5\n"
     ]
    },
    {
     "data": {
      "text/plain": [
       "6"
      ]
     },
     "execution_count": 45,
     "metadata": {},
     "output_type": "execute_result"
    }
   ],
   "source": [
    "class MyClass:\n",
    "    def __init__(self, attr1val, attr2val):\n",
    "        self.attr1 = attr1val\n",
    "        self.attr2  =attr2val\n",
    "        print(\"attr2 is equal to\", self.attr2)\n",
    "    \n",
    "myobj = MyClass(5,6)\n",
    "\n",
    "print('attr1 is equal to', myobj.attr1)\n",
    "myobj.attr2"
   ]
  },
  {
   "cell_type": "markdown",
   "id": "054e366a",
   "metadata": {},
   "source": [
    "## Operating System Calls"
   ]
  },
  {
   "cell_type": "markdown",
   "id": "0a9c41f0",
   "metadata": {},
   "source": [
    "Using python to perfoam command line calls"
   ]
  },
  {
   "cell_type": "code",
   "execution_count": 50,
   "id": "fa189611",
   "metadata": {},
   "outputs": [
    {
     "name": "stdout",
     "output_type": "stream",
     "text": [
      "nt\n"
     ]
    }
   ],
   "source": [
    "import os\n",
    "print(os.name)"
   ]
  },
  {
   "cell_type": "markdown",
   "id": "67c5dd89",
   "metadata": {},
   "source": [
    "#### Working directory"
   ]
  },
  {
   "cell_type": "code",
   "execution_count": 52,
   "id": "7e3015f4",
   "metadata": {},
   "outputs": [
    {
     "data": {
      "text/plain": [
       "'C:\\\\Users\\\\Kennedy.Odunga\\\\OneDrive - American Tower\\\\Desktop\\\\AIML'"
      ]
     },
     "execution_count": 52,
     "metadata": {},
     "output_type": "execute_result"
    }
   ],
   "source": [
    "os.getcwd()"
   ]
  },
  {
   "cell_type": "code",
   "execution_count": 53,
   "id": "cd2b25d8",
   "metadata": {},
   "outputs": [
    {
     "name": "stdout",
     "output_type": "stream",
     "text": [
      "C:\\Users\\Kennedy.Odunga\\OneDrive - American Tower\\Desktop\\AIML\n"
     ]
    }
   ],
   "source": [
    "print(os.getcwd())"
   ]
  },
  {
   "cell_type": "markdown",
   "id": "f669949e",
   "metadata": {},
   "source": [
    "#### Get  contents of the current working directory"
   ]
  },
  {
   "cell_type": "code",
   "execution_count": 54,
   "id": "ba5acafb",
   "metadata": {},
   "outputs": [
    {
     "data": {
      "text/plain": [
       "['.ipynb_checkpoints',\n",
       " 'Hands_on_notebook_introduction_to_Python_PW.ipynb',\n",
       " 'Introduction to Python.ipynb',\n",
       " 'OOP and OS in Python.ipynb']"
      ]
     },
     "execution_count": 54,
     "metadata": {},
     "output_type": "execute_result"
    }
   ],
   "source": [
    "os.listdir('.')"
   ]
  },
  {
   "cell_type": "code",
   "execution_count": 58,
   "id": "635a5275",
   "metadata": {},
   "outputs": [
    {
     "data": {
      "text/plain": [
       "['3Q Fcst 2023 Updated.pptx',\n",
       " 'AIML',\n",
       " 'April fiber',\n",
       " 'ATC Africa Fiber Strategy _KE Updated.pptx',\n",
       " 'ATC Site list.csv',\n",
       " 'Black Elegant Personal LinkedIn Banner (1).png',\n",
       " 'Budget And Rentals ver 3.xlsx',\n",
       " 'Budget And Rentals.xlsx',\n",
       " 'cert of participation.PNG',\n",
       " 'Customer Newsletter.pdf',\n",
       " 'Customer Update-May 2023 v1.pptx',\n",
       " 'Customer Update-May 2023 _Complete v2.pptx',\n",
       " 'Customer Update-May 2023.pptx',\n",
       " 'Desktop 25 June',\n",
       " 'desktop.ini',\n",
       " 'Detailed Escalation matrix .docx',\n",
       " 'DIANI FTTT',\n",
       " 'Diani PD Receipts',\n",
       " 'dt.py',\n",
       " 'Educational Assistance Application Form KOdunga.docx',\n",
       " 'Equity_Release2.1Mn.pdf',\n",
       " 'evaluate.py',\n",
       " 'Execution Screenshot.JPG',\n",
       " 'Fiber LRP.xlsx',\n",
       " 'Fiber to the Tower Fault Escalation Matrix.docx',\n",
       " 'Fiber to the Tower Fault Escalation Matrix.pdf',\n",
       " 'Fiber to the Tower Product Documentation v2.docx',\n",
       " 'Fiber to the Tower Product Documentation.docx',\n",
       " 'final_project_solution_notebook_model_monitoring.ipynb',\n",
       " 'FttT - Kenya-27112022 2200 POC 1250-2000m 1.20 Scale up.xlsm',\n",
       " 'FttT - Steerco Monthly Update - 14_09_2023.pptx',\n",
       " 'FttT - Steerco Monthly Update - 26_07_2023_KE.pptx',\n",
       " 'FttT - Steerco Monthly Update - 26_07_2023_KE_v2.pptx',\n",
       " 'FTTT Budget Breakdown.xlsx',\n",
       " 'FTTT Diani POC Minutes.pptx',\n",
       " 'FTTT Financials.xlsx',\n",
       " 'FTTT IC Review PC1 KE and PC2 NG R2.pptx',\n",
       " 'FTTT IC Review PC1 KE and PC2 NG ver 2.pptx',\n",
       " 'FTTT IC Review PC1 KE and PC2 NG ver 3.pptx',\n",
       " 'FTTT Incidence Responce Process v1.pptx',\n",
       " 'FTTT Incidence Responce Process.pptx',\n",
       " 'FTTT POC Project Review Report.docx',\n",
       " 'FTTT POC Project Snag Report_Ken Populated.docx',\n",
       " 'FTTT Project Review.pptx',\n",
       " 'FTTT Project Review_Final.pptx',\n",
       " 'FTTT Site surveys v1.xlsx',\n",
       " 'FTTT Site surveys v2.xlsx',\n",
       " 'FTTT Site surveys v3.xlsx',\n",
       " 'FTTT Site surveys.xlsx',\n",
       " 'GitHub Desktop.lnk',\n",
       " 'KE FTTT POC Project Review Report.docx',\n",
       " 'KE FTTT Project Review.pptx',\n",
       " 'KE FTTT Tower and Link Information.xlsx',\n",
       " 'ken.png',\n",
       " 'KENNEDY ODUNGA_June2023_Payslip.pdf',\n",
       " 'KENNEDY ODUNGA_May2023_Payslip.pdf',\n",
       " 'kennedy.odunga.pdf',\n",
       " 'Kenya FTTT PC2 v2.pptx',\n",
       " 'kodunga',\n",
       " 'KOdunga_CV.docx',\n",
       " 'Link by Link FIBER ACCEPTANCE CHECKLIST-With Build Vendor.docx',\n",
       " 'Master Tower Space Use Agreement - ATCKenya_SKYMAX.docx',\n",
       " 'Mortgage_5.6Mn.pdf',\n",
       " 'Movies',\n",
       " 'PhD Review',\n",
       " 'picq.JPG',\n",
       " 'Pipeline Screenshot.PNG',\n",
       " 'ppic.png',\n",
       " 'Sacco Mortgage',\n",
       " 'Sagemaker Pipeline Solution',\n",
       " 'Strategic Initiatives_Fiber Revised.xlsx',\n",
       " 'Strategic Initiatives_Fiber.xlsx',\n",
       " 'Target Colo for Safaricom.xlsx',\n",
       " 'TEAM MEMBER CANVAS_Narotso.pptx',\n",
       " 'torforepraconsultancy',\n",
       " 'transform.py',\n",
       " 'Visual Studio Code.lnk',\n",
       " 'website',\n",
       " '~$am Building Program v2.docx',\n",
       " '~$ATC_KoTDA Engagement v3_Ken.pptx',\n",
       " '~$ber to the Tower Fault Escalation Matrix.docx',\n",
       " '~$cudo sale poster.docx',\n",
       " '~$R SALE AGREEMENT.docx',\n",
       " '~$tailed Escalation matrix .docx',\n",
       " '~WRL2986.tmp']"
      ]
     },
     "execution_count": 58,
     "metadata": {},
     "output_type": "execute_result"
    }
   ],
   "source": [
    "os.listdir('C:\\\\Users\\\\Kennedy.Odunga\\\\OneDrive - American Tower\\\\Desktop')"
   ]
  },
  {
   "cell_type": "markdown",
   "id": "c482a2b8",
   "metadata": {},
   "source": [
    "#### Make and rename a directory"
   ]
  },
  {
   "cell_type": "code",
   "execution_count": 59,
   "id": "4ac26442",
   "metadata": {},
   "outputs": [],
   "source": [
    "os.mkdir('C:\\\\Users\\\\Kennedy.Odunga\\\\OneDrive - American Tower\\\\Desktop\\\\AIML\\\\new_dir')"
   ]
  },
  {
   "cell_type": "code",
   "execution_count": 60,
   "id": "59b8b8ca",
   "metadata": {},
   "outputs": [
    {
     "data": {
      "text/plain": [
       "['.ipynb_checkpoints',\n",
       " 'Hands_on_notebook_introduction_to_Python_PW.ipynb',\n",
       " 'Introduction to Python.ipynb',\n",
       " 'new_dir',\n",
       " 'OOP and OS in Python.ipynb']"
      ]
     },
     "execution_count": 60,
     "metadata": {},
     "output_type": "execute_result"
    }
   ],
   "source": [
    "os.listdir('.')"
   ]
  },
  {
   "cell_type": "code",
   "execution_count": 61,
   "id": "84543edc",
   "metadata": {},
   "outputs": [],
   "source": [
    "os.rename('C:\\\\Users\\\\Kennedy.Odunga\\\\OneDrive - American Tower\\\\Desktop\\\\AIML\\\\new_dir','C:\\\\Users\\\\Kennedy.Odunga\\\\OneDrive - American Tower\\\\Desktop\\\\AIML\\\\new_dir_2')"
   ]
  },
  {
   "cell_type": "code",
   "execution_count": 65,
   "id": "ed5ae8ed",
   "metadata": {},
   "outputs": [
    {
     "data": {
      "text/plain": [
       "['.ipynb_checkpoints',\n",
       " 'Hands_on_notebook_introduction_to_Python_PW.ipynb',\n",
       " 'Introduction to Python.ipynb',\n",
       " 'new_dir_2',\n",
       " 'OOP and OS in Python.ipynb']"
      ]
     },
     "execution_count": 65,
     "metadata": {},
     "output_type": "execute_result"
    }
   ],
   "source": [
    "os.listdir('.')"
   ]
  },
  {
   "cell_type": "markdown",
   "id": "03989018",
   "metadata": {},
   "source": [
    "#### Create and edit a file"
   ]
  },
  {
   "cell_type": "code",
   "execution_count": null,
   "id": "0948b2f0",
   "metadata": {},
   "outputs": [],
   "source": [
    "file = open('C:\\\\Users\\\\Kennedy.Odunga\\\\OneDrive - American Tower\\\\Desktop\\\\AIML\\\\new_dir2\\\\mytxtfile.txt','w')\n",
    "file.write('hello\\n')\n",
    "file.write('world')\n",
    "file.close()\n"
   ]
  },
  {
   "cell_type": "code",
   "execution_count": null,
   "id": "17fb2c8e",
   "metadata": {},
   "outputs": [],
   "source": []
  }
 ],
 "metadata": {
  "kernelspec": {
   "display_name": "Python 3 (ipykernel)",
   "language": "python",
   "name": "python3"
  },
  "language_info": {
   "codemirror_mode": {
    "name": "ipython",
    "version": 3
   },
   "file_extension": ".py",
   "mimetype": "text/x-python",
   "name": "python",
   "nbconvert_exporter": "python",
   "pygments_lexer": "ipython3",
   "version": "3.9.12"
  }
 },
 "nbformat": 4,
 "nbformat_minor": 5
}
