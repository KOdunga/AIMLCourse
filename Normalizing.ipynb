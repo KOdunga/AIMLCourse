{
  "nbformat": 4,
  "nbformat_minor": 0,
  "metadata": {
    "colab": {
      "provenance": [],
      "gpuType": "T4",
      "authorship_tag": "ABX9TyNSfv6d2qFKt2x3mEPb4h9R",
      "include_colab_link": true
    },
    "kernelspec": {
      "name": "python3",
      "display_name": "Python 3"
    },
    "language_info": {
      "name": "python"
    },
    "accelerator": "GPU"
  },
  "cells": [
    {
      "cell_type": "markdown",
      "metadata": {
        "id": "view-in-github",
        "colab_type": "text"
      },
      "source": [
        "<a href=\"https://colab.research.google.com/github/KOdunga/AIMLCourse/blob/main/Normalizing.ipynb\" target=\"_parent\"><img src=\"https://colab.research.google.com/assets/colab-badge.svg\" alt=\"Open In Colab\"/></a>"
      ]
    },
    {
      "cell_type": "code",
      "execution_count": 1,
      "metadata": {
        "id": "zVM92A1M-E4s"
      },
      "outputs": [],
      "source": [
        "import tensorflow as tf\n",
        "from tensorflow.keras.layers import Dense, Input, InputLayer\n",
        "from tensorflow.keras import layers\n",
        "\n",
        "import pandas as pd\n",
        "\n",
        "import matplotlib.pyplot as plt\n",
        "from matplotlib.pyplot import figure\n",
        "import seaborn as sns"
      ]
    },
    {
      "cell_type": "code",
      "source": [
        "from google.colab import drive\n",
        "drive.mount('/content/drive/')"
      ],
      "metadata": {
        "colab": {
          "base_uri": "https://localhost:8080/"
        },
        "id": "0TpRSPaQ-OgF",
        "outputId": "44d18411-f0a1-4035-e9f8-33f0d7937719"
      },
      "execution_count": 2,
      "outputs": [
        {
          "output_type": "stream",
          "name": "stdout",
          "text": [
            "Mounted at /content/drive/\n"
          ]
        }
      ]
    },
    {
      "cell_type": "code",
      "source": [
        "data = pd.read_csv(\"/content/auto-mpg.csv\", na_values='?', usecols=[\"Horsepower\",\"Acceleration\",\"MPG\"])\n",
        "data = data.dropna()\n",
        "data.head()"
      ],
      "metadata": {
        "colab": {
          "base_uri": "https://localhost:8080/",
          "height": 206
        },
        "id": "aEM-d5G3-RZ3",
        "outputId": "280ac9a4-b9b2-4cfc-b20b-7f571e8309af"
      },
      "execution_count": 4,
      "outputs": [
        {
          "output_type": "execute_result",
          "data": {
            "text/plain": [
              "    MPG  Horsepower  Acceleration\n",
              "0  18.0       130.0          12.0\n",
              "1  15.0       165.0          11.5\n",
              "2  18.0       150.0          11.0\n",
              "3  16.0       150.0          12.0\n",
              "4  17.0       140.0          10.5"
            ],
            "text/html": [
              "\n",
              "  <div id=\"df-cd3c4aac-bfc5-41d4-9705-65b636f000b6\" class=\"colab-df-container\">\n",
              "    <div>\n",
              "<style scoped>\n",
              "    .dataframe tbody tr th:only-of-type {\n",
              "        vertical-align: middle;\n",
              "    }\n",
              "\n",
              "    .dataframe tbody tr th {\n",
              "        vertical-align: top;\n",
              "    }\n",
              "\n",
              "    .dataframe thead th {\n",
              "        text-align: right;\n",
              "    }\n",
              "</style>\n",
              "<table border=\"1\" class=\"dataframe\">\n",
              "  <thead>\n",
              "    <tr style=\"text-align: right;\">\n",
              "      <th></th>\n",
              "      <th>MPG</th>\n",
              "      <th>Horsepower</th>\n",
              "      <th>Acceleration</th>\n",
              "    </tr>\n",
              "  </thead>\n",
              "  <tbody>\n",
              "    <tr>\n",
              "      <th>0</th>\n",
              "      <td>18.0</td>\n",
              "      <td>130.0</td>\n",
              "      <td>12.0</td>\n",
              "    </tr>\n",
              "    <tr>\n",
              "      <th>1</th>\n",
              "      <td>15.0</td>\n",
              "      <td>165.0</td>\n",
              "      <td>11.5</td>\n",
              "    </tr>\n",
              "    <tr>\n",
              "      <th>2</th>\n",
              "      <td>18.0</td>\n",
              "      <td>150.0</td>\n",
              "      <td>11.0</td>\n",
              "    </tr>\n",
              "    <tr>\n",
              "      <th>3</th>\n",
              "      <td>16.0</td>\n",
              "      <td>150.0</td>\n",
              "      <td>12.0</td>\n",
              "    </tr>\n",
              "    <tr>\n",
              "      <th>4</th>\n",
              "      <td>17.0</td>\n",
              "      <td>140.0</td>\n",
              "      <td>10.5</td>\n",
              "    </tr>\n",
              "  </tbody>\n",
              "</table>\n",
              "</div>\n",
              "    <div class=\"colab-df-buttons\">\n",
              "\n",
              "  <div class=\"colab-df-container\">\n",
              "    <button class=\"colab-df-convert\" onclick=\"convertToInteractive('df-cd3c4aac-bfc5-41d4-9705-65b636f000b6')\"\n",
              "            title=\"Convert this dataframe to an interactive table.\"\n",
              "            style=\"display:none;\">\n",
              "\n",
              "  <svg xmlns=\"http://www.w3.org/2000/svg\" height=\"24px\" viewBox=\"0 -960 960 960\">\n",
              "    <path d=\"M120-120v-720h720v720H120Zm60-500h600v-160H180v160Zm220 220h160v-160H400v160Zm0 220h160v-160H400v160ZM180-400h160v-160H180v160Zm440 0h160v-160H620v160ZM180-180h160v-160H180v160Zm440 0h160v-160H620v160Z\"/>\n",
              "  </svg>\n",
              "    </button>\n",
              "\n",
              "  <style>\n",
              "    .colab-df-container {\n",
              "      display:flex;\n",
              "      gap: 12px;\n",
              "    }\n",
              "\n",
              "    .colab-df-convert {\n",
              "      background-color: #E8F0FE;\n",
              "      border: none;\n",
              "      border-radius: 50%;\n",
              "      cursor: pointer;\n",
              "      display: none;\n",
              "      fill: #1967D2;\n",
              "      height: 32px;\n",
              "      padding: 0 0 0 0;\n",
              "      width: 32px;\n",
              "    }\n",
              "\n",
              "    .colab-df-convert:hover {\n",
              "      background-color: #E2EBFA;\n",
              "      box-shadow: 0px 1px 2px rgba(60, 64, 67, 0.3), 0px 1px 3px 1px rgba(60, 64, 67, 0.15);\n",
              "      fill: #174EA6;\n",
              "    }\n",
              "\n",
              "    .colab-df-buttons div {\n",
              "      margin-bottom: 4px;\n",
              "    }\n",
              "\n",
              "    [theme=dark] .colab-df-convert {\n",
              "      background-color: #3B4455;\n",
              "      fill: #D2E3FC;\n",
              "    }\n",
              "\n",
              "    [theme=dark] .colab-df-convert:hover {\n",
              "      background-color: #434B5C;\n",
              "      box-shadow: 0px 1px 3px 1px rgba(0, 0, 0, 0.15);\n",
              "      filter: drop-shadow(0px 1px 2px rgba(0, 0, 0, 0.3));\n",
              "      fill: #FFFFFF;\n",
              "    }\n",
              "  </style>\n",
              "\n",
              "    <script>\n",
              "      const buttonEl =\n",
              "        document.querySelector('#df-cd3c4aac-bfc5-41d4-9705-65b636f000b6 button.colab-df-convert');\n",
              "      buttonEl.style.display =\n",
              "        google.colab.kernel.accessAllowed ? 'block' : 'none';\n",
              "\n",
              "      async function convertToInteractive(key) {\n",
              "        const element = document.querySelector('#df-cd3c4aac-bfc5-41d4-9705-65b636f000b6');\n",
              "        const dataTable =\n",
              "          await google.colab.kernel.invokeFunction('convertToInteractive',\n",
              "                                                    [key], {});\n",
              "        if (!dataTable) return;\n",
              "\n",
              "        const docLinkHtml = 'Like what you see? Visit the ' +\n",
              "          '<a target=\"_blank\" href=https://colab.research.google.com/notebooks/data_table.ipynb>data table notebook</a>'\n",
              "          + ' to learn more about interactive tables.';\n",
              "        element.innerHTML = '';\n",
              "        dataTable['output_type'] = 'display_data';\n",
              "        await google.colab.output.renderOutput(dataTable, element);\n",
              "        const docLink = document.createElement('div');\n",
              "        docLink.innerHTML = docLinkHtml;\n",
              "        element.appendChild(docLink);\n",
              "      }\n",
              "    </script>\n",
              "  </div>\n",
              "\n",
              "\n",
              "<div id=\"df-38588488-8bb6-4171-87d7-65014e471ec0\">\n",
              "  <button class=\"colab-df-quickchart\" onclick=\"quickchart('df-38588488-8bb6-4171-87d7-65014e471ec0')\"\n",
              "            title=\"Suggest charts\"\n",
              "            style=\"display:none;\">\n",
              "\n",
              "<svg xmlns=\"http://www.w3.org/2000/svg\" height=\"24px\"viewBox=\"0 0 24 24\"\n",
              "     width=\"24px\">\n",
              "    <g>\n",
              "        <path d=\"M19 3H5c-1.1 0-2 .9-2 2v14c0 1.1.9 2 2 2h14c1.1 0 2-.9 2-2V5c0-1.1-.9-2-2-2zM9 17H7v-7h2v7zm4 0h-2V7h2v10zm4 0h-2v-4h2v4z\"/>\n",
              "    </g>\n",
              "</svg>\n",
              "  </button>\n",
              "\n",
              "<style>\n",
              "  .colab-df-quickchart {\n",
              "      --bg-color: #E8F0FE;\n",
              "      --fill-color: #1967D2;\n",
              "      --hover-bg-color: #E2EBFA;\n",
              "      --hover-fill-color: #174EA6;\n",
              "      --disabled-fill-color: #AAA;\n",
              "      --disabled-bg-color: #DDD;\n",
              "  }\n",
              "\n",
              "  [theme=dark] .colab-df-quickchart {\n",
              "      --bg-color: #3B4455;\n",
              "      --fill-color: #D2E3FC;\n",
              "      --hover-bg-color: #434B5C;\n",
              "      --hover-fill-color: #FFFFFF;\n",
              "      --disabled-bg-color: #3B4455;\n",
              "      --disabled-fill-color: #666;\n",
              "  }\n",
              "\n",
              "  .colab-df-quickchart {\n",
              "    background-color: var(--bg-color);\n",
              "    border: none;\n",
              "    border-radius: 50%;\n",
              "    cursor: pointer;\n",
              "    display: none;\n",
              "    fill: var(--fill-color);\n",
              "    height: 32px;\n",
              "    padding: 0;\n",
              "    width: 32px;\n",
              "  }\n",
              "\n",
              "  .colab-df-quickchart:hover {\n",
              "    background-color: var(--hover-bg-color);\n",
              "    box-shadow: 0 1px 2px rgba(60, 64, 67, 0.3), 0 1px 3px 1px rgba(60, 64, 67, 0.15);\n",
              "    fill: var(--button-hover-fill-color);\n",
              "  }\n",
              "\n",
              "  .colab-df-quickchart-complete:disabled,\n",
              "  .colab-df-quickchart-complete:disabled:hover {\n",
              "    background-color: var(--disabled-bg-color);\n",
              "    fill: var(--disabled-fill-color);\n",
              "    box-shadow: none;\n",
              "  }\n",
              "\n",
              "  .colab-df-spinner {\n",
              "    border: 2px solid var(--fill-color);\n",
              "    border-color: transparent;\n",
              "    border-bottom-color: var(--fill-color);\n",
              "    animation:\n",
              "      spin 1s steps(1) infinite;\n",
              "  }\n",
              "\n",
              "  @keyframes spin {\n",
              "    0% {\n",
              "      border-color: transparent;\n",
              "      border-bottom-color: var(--fill-color);\n",
              "      border-left-color: var(--fill-color);\n",
              "    }\n",
              "    20% {\n",
              "      border-color: transparent;\n",
              "      border-left-color: var(--fill-color);\n",
              "      border-top-color: var(--fill-color);\n",
              "    }\n",
              "    30% {\n",
              "      border-color: transparent;\n",
              "      border-left-color: var(--fill-color);\n",
              "      border-top-color: var(--fill-color);\n",
              "      border-right-color: var(--fill-color);\n",
              "    }\n",
              "    40% {\n",
              "      border-color: transparent;\n",
              "      border-right-color: var(--fill-color);\n",
              "      border-top-color: var(--fill-color);\n",
              "    }\n",
              "    60% {\n",
              "      border-color: transparent;\n",
              "      border-right-color: var(--fill-color);\n",
              "    }\n",
              "    80% {\n",
              "      border-color: transparent;\n",
              "      border-right-color: var(--fill-color);\n",
              "      border-bottom-color: var(--fill-color);\n",
              "    }\n",
              "    90% {\n",
              "      border-color: transparent;\n",
              "      border-bottom-color: var(--fill-color);\n",
              "    }\n",
              "  }\n",
              "</style>\n",
              "\n",
              "  <script>\n",
              "    async function quickchart(key) {\n",
              "      const quickchartButtonEl =\n",
              "        document.querySelector('#' + key + ' button');\n",
              "      quickchartButtonEl.disabled = true;  // To prevent multiple clicks.\n",
              "      quickchartButtonEl.classList.add('colab-df-spinner');\n",
              "      try {\n",
              "        const charts = await google.colab.kernel.invokeFunction(\n",
              "            'suggestCharts', [key], {});\n",
              "      } catch (error) {\n",
              "        console.error('Error during call to suggestCharts:', error);\n",
              "      }\n",
              "      quickchartButtonEl.classList.remove('colab-df-spinner');\n",
              "      quickchartButtonEl.classList.add('colab-df-quickchart-complete');\n",
              "    }\n",
              "    (() => {\n",
              "      let quickchartButtonEl =\n",
              "        document.querySelector('#df-38588488-8bb6-4171-87d7-65014e471ec0 button');\n",
              "      quickchartButtonEl.style.display =\n",
              "        google.colab.kernel.accessAllowed ? 'block' : 'none';\n",
              "    })();\n",
              "  </script>\n",
              "</div>\n",
              "\n",
              "    </div>\n",
              "  </div>\n"
            ]
          },
          "metadata": {},
          "execution_count": 4
        }
      ]
    },
    {
      "cell_type": "code",
      "source": [
        "sns.histplot(data['Acceleration'], color='#0B7CBB', linewidth=.1, label='Acceleration')\n",
        "sns.histplot(data['Horsepower'],   color='#DB3A34', linewidth=.1, label='Horsepower')\n",
        "plt.legend()\n",
        "plt.show()"
      ],
      "metadata": {
        "colab": {
          "base_uri": "https://localhost:8080/",
          "height": 449
        },
        "id": "u8E4HEQw-bN6",
        "outputId": "dd046928-eb85-403f-c344-6aaca608c672"
      },
      "execution_count": 6,
      "outputs": [
        {
          "output_type": "display_data",
          "data": {
            "text/plain": [
              "<Figure size 640x480 with 1 Axes>"
            ],
            "image/png": "[encoded data removed]"
          },
          "metadata": {}
        }
      ]
    },
    {
      "cell_type": "code",
      "source": [
        "plt.figure(figsize=(10, 10))\n",
        "plt.scatter(data['Acceleration'],data['Horsepower'], c = '#323031')\n",
        "plt.xlabel('Acceleration')\n",
        "plt.ylabel('Horsepower')\n",
        "plt.gca().set_aspect('equal', adjustable='box')"
      ],
      "metadata": {
        "colab": {
          "base_uri": "https://localhost:8080/",
          "height": 850
        },
        "id": "_Tvj2ZEl-q2L",
        "outputId": "c354d2e8-431c-4716-bd0b-0f91b6043454"
      },
      "execution_count": 7,
      "outputs": [
        {
          "output_type": "display_data",
          "data": {
            "text/plain": [
              "<Figure size 1000x1000 with 1 Axes>"
            ],
            "image/png": "[encoded data removed]"
          },
          "metadata": {}
        }
      ]
    },
    {
      "cell_type": "code",
      "source": [
        "# Split the data\n",
        "from sklearn.model_selection import train_test_split\n",
        "X_train, X_test, y_train, y_test = train_test_split(data[[\"Horsepower\",\"Acceleration\"]], data['MPG'], test_size=0.3, random_state=42)"
      ],
      "metadata": {
        "id": "gp3dEXLJ-ypN"
      },
      "execution_count": 9,
      "outputs": []
    },
    {
      "cell_type": "markdown",
      "source": [
        "**No Normalization**"
      ],
      "metadata": {
        "id": "YNPBWqvX-8B9"
      }
    },
    {
      "cell_type": "code",
      "source": [
        "model1 = tf.keras.Sequential()\n",
        "model1.add(InputLayer(input_shape=2))\n",
        "model1.add(Dense(64, activation = 'relu'))\n",
        "model1.add(Dense(64, activation = 'relu'))\n",
        "model1.add(Dense(1))"
      ],
      "metadata": {
        "id": "vyIbT2Lb-148"
      },
      "execution_count": 10,
      "outputs": []
    },
    {
      "cell_type": "code",
      "source": [
        "model1.compile(loss='mean_absolute_error', optimizer=tf.optimizers.Adam(learning_rate=0.001))"
      ],
      "metadata": {
        "id": "vkieqPZm_A1j"
      },
      "execution_count": 11,
      "outputs": []
    },
    {
      "cell_type": "code",
      "source": [
        "model1.fit(X_train, y_train,validation_split=0.2,verbose=1, epochs=50)"
      ],
      "metadata": {
        "colab": {
          "base_uri": "https://localhost:8080/"
        },
        "id": "g8E1cPxD_DNd",
        "outputId": "7ee6ba64-5a5e-4715-a401-f239993ec368"
      },
      "execution_count": 12,
      "outputs": [
        {
          "output_type": "stream",
          "name": "stdout",
          "text": [
            "Epoch 1/50\n",
            "7/7 [==============================] - 1s 38ms/step - loss: 31.6329 - val_loss: 24.9400\n",
            "Epoch 2/50\n",
            "7/7 [==============================] - 0s 8ms/step - loss: 17.4238 - val_loss: 15.5892\n",
            "Epoch 3/50\n",
            "7/7 [==============================] - 0s 10ms/step - loss: 12.4626 - val_loss: 12.8370\n",
            "Epoch 4/50\n",
            "7/7 [==============================] - 0s 8ms/step - loss: 12.4242 - val_loss: 12.1086\n",
            "Epoch 5/50\n",
            "7/7 [==============================] - 0s 8ms/step - loss: 12.3750 - val_loss: 12.1120\n",
            "Epoch 6/50\n",
            "7/7 [==============================] - 0s 10ms/step - loss: 11.7672 - val_loss: 12.5389\n",
            "Epoch 7/50\n",
            "7/7 [==============================] - 0s 8ms/step - loss: 11.5310 - val_loss: 12.9198\n",
            "Epoch 8/50\n",
            "7/7 [==============================] - 0s 7ms/step - loss: 11.3623 - val_loss: 12.7444\n",
            "Epoch 9/50\n",
            "7/7 [==============================] - 0s 7ms/step - loss: 11.1564 - val_loss: 12.2818\n",
            "Epoch 10/50\n",
            "7/7 [==============================] - 0s 10ms/step - loss: 10.9362 - val_loss: 11.9370\n",
            "Epoch 11/50\n",
            "7/7 [==============================] - 0s 8ms/step - loss: 10.7439 - val_loss: 11.7602\n",
            "Epoch 12/50\n",
            "7/7 [==============================] - 0s 10ms/step - loss: 10.5063 - val_loss: 11.6022\n",
            "Epoch 13/50\n",
            "7/7 [==============================] - 0s 10ms/step - loss: 10.2655 - val_loss: 11.3326\n",
            "Epoch 14/50\n",
            "7/7 [==============================] - 0s 9ms/step - loss: 10.0122 - val_loss: 11.1724\n",
            "Epoch 15/50\n",
            "7/7 [==============================] - 0s 7ms/step - loss: 9.7316 - val_loss: 11.0888\n",
            "Epoch 16/50\n",
            "7/7 [==============================] - 0s 7ms/step - loss: 9.4629 - val_loss: 10.9039\n",
            "Epoch 17/50\n",
            "7/7 [==============================] - 0s 10ms/step - loss: 9.1284 - val_loss: 10.2822\n",
            "Epoch 18/50\n",
            "7/7 [==============================] - 0s 7ms/step - loss: 8.7691 - val_loss: 10.0171\n",
            "Epoch 19/50\n",
            "7/7 [==============================] - 0s 8ms/step - loss: 8.3342 - val_loss: 9.6776\n",
            "Epoch 20/50\n",
            "7/7 [==============================] - 0s 8ms/step - loss: 7.9345 - val_loss: 9.1442\n",
            "Epoch 21/50\n",
            "7/7 [==============================] - 0s 7ms/step - loss: 7.4414 - val_loss: 8.3157\n",
            "Epoch 22/50\n",
            "7/7 [==============================] - 0s 10ms/step - loss: 6.9920 - val_loss: 8.0802\n",
            "Epoch 23/50\n",
            "7/7 [==============================] - 0s 8ms/step - loss: 6.6183 - val_loss: 7.3455\n",
            "Epoch 24/50\n",
            "7/7 [==============================] - 0s 10ms/step - loss: 6.1532 - val_loss: 6.9092\n",
            "Epoch 25/50\n",
            "7/7 [==============================] - 0s 7ms/step - loss: 5.8761 - val_loss: 6.4798\n",
            "Epoch 26/50\n",
            "7/7 [==============================] - 0s 10ms/step - loss: 5.6761 - val_loss: 6.1898\n",
            "Epoch 27/50\n",
            "7/7 [==============================] - 0s 10ms/step - loss: 5.6285 - val_loss: 6.0377\n",
            "Epoch 28/50\n",
            "7/7 [==============================] - 0s 12ms/step - loss: 5.3996 - val_loss: 6.0220\n",
            "Epoch 29/50\n",
            "7/7 [==============================] - 0s 7ms/step - loss: 5.2241 - val_loss: 5.9140\n",
            "Epoch 30/50\n",
            "7/7 [==============================] - 0s 8ms/step - loss: 5.3086 - val_loss: 5.9495\n",
            "Epoch 31/50\n",
            "7/7 [==============================] - 0s 8ms/step - loss: 5.1697 - val_loss: 5.8939\n",
            "Epoch 32/50\n",
            "7/7 [==============================] - 0s 7ms/step - loss: 5.2671 - val_loss: 5.8448\n",
            "Epoch 33/50\n",
            "7/7 [==============================] - 0s 11ms/step - loss: 5.1458 - val_loss: 5.7331\n",
            "Epoch 34/50\n",
            "7/7 [==============================] - 0s 7ms/step - loss: 5.1783 - val_loss: 5.7705\n",
            "Epoch 35/50\n",
            "7/7 [==============================] - 0s 11ms/step - loss: 5.1404 - val_loss: 5.7379\n",
            "Epoch 36/50\n",
            "7/7 [==============================] - 0s 10ms/step - loss: 5.1422 - val_loss: 5.8944\n",
            "Epoch 37/50\n",
            "7/7 [==============================] - 0s 10ms/step - loss: 5.2141 - val_loss: 5.7307\n",
            "Epoch 38/50\n",
            "7/7 [==============================] - 0s 10ms/step - loss: 5.1475 - val_loss: 5.8029\n",
            "Epoch 39/50\n",
            "7/7 [==============================] - 0s 10ms/step - loss: 5.1647 - val_loss: 5.7316\n",
            "Epoch 40/50\n",
            "7/7 [==============================] - 0s 10ms/step - loss: 5.2062 - val_loss: 5.8950\n",
            "Epoch 41/50\n",
            "7/7 [==============================] - 0s 10ms/step - loss: 5.1228 - val_loss: 5.8134\n",
            "Epoch 42/50\n",
            "7/7 [==============================] - 0s 11ms/step - loss: 5.0952 - val_loss: 5.8752\n",
            "Epoch 43/50\n",
            "7/7 [==============================] - 0s 12ms/step - loss: 5.0310 - val_loss: 5.7522\n",
            "Epoch 44/50\n",
            "7/7 [==============================] - 0s 10ms/step - loss: 5.0852 - val_loss: 5.9144\n",
            "Epoch 45/50\n",
            "7/7 [==============================] - 0s 8ms/step - loss: 5.0625 - val_loss: 5.7810\n",
            "Epoch 46/50\n",
            "7/7 [==============================] - 0s 8ms/step - loss: 5.0602 - val_loss: 5.9101\n",
            "Epoch 47/50\n",
            "7/7 [==============================] - 0s 10ms/step - loss: 5.0396 - val_loss: 5.7382\n",
            "Epoch 48/50\n",
            "7/7 [==============================] - 0s 7ms/step - loss: 5.0213 - val_loss: 5.7665\n",
            "Epoch 49/50\n",
            "7/7 [==============================] - 0s 10ms/step - loss: 4.9993 - val_loss: 5.7382\n",
            "Epoch 50/50\n",
            "7/7 [==============================] - 0s 10ms/step - loss: 5.0293 - val_loss: 5.7290\n"
          ]
        },
        {
          "output_type": "execute_result",
          "data": {
            "text/plain": [
              "<keras.src.callbacks.History at 0x7c98602c3ca0>"
            ]
          },
          "metadata": {},
          "execution_count": 12
        }
      ]
    },
    {
      "cell_type": "code",
      "source": [
        "# Accuracy (Root Mean Squared Error)\n",
        "y_pred = model1.predict(X_test)\n",
        "from sklearn.metrics import mean_squared_error\n",
        "mean_squared_error(y_test, y_pred, squared=False)"
      ],
      "metadata": {
        "colab": {
          "base_uri": "https://localhost:8080/"
        },
        "id": "VBNY5PB-_FUM",
        "outputId": "4f21e1cb-3614-4e52-a4c3-5cb8bbf40561"
      },
      "execution_count": 13,
      "outputs": [
        {
          "output_type": "stream",
          "name": "stdout",
          "text": [
            "4/4 [==============================] - 0s 6ms/step\n"
          ]
        },
        {
          "output_type": "execute_result",
          "data": {
            "text/plain": [
              "6.2612313389357945"
            ]
          },
          "metadata": {},
          "execution_count": 13
        }
      ]
    },
    {
      "cell_type": "markdown",
      "source": [
        "**With Normalization**"
      ],
      "metadata": {
        "id": "KkrF7B8U_QD1"
      }
    },
    {
      "cell_type": "code",
      "source": [
        "sns.histplot(data['Acceleration'], color='#0B7CBB', linewidth=.1, label='Acceleration')\n",
        "sns.histplot(data['Horsepower'],   color='#DB3A34', linewidth=.1, label='Horsepower')\n",
        "plt.legend()\n",
        "plt.show()"
      ],
      "metadata": {
        "colab": {
          "base_uri": "https://localhost:8080/",
          "height": 449
        },
        "id": "jGN4nWSu_Obs",
        "outputId": "37b6fcea-fbd4-4472-920d-245e8ad483a9"
      },
      "execution_count": 15,
      "outputs": [
        {
          "output_type": "display_data",
          "data": {
            "text/plain": [
              "<Figure size 640x480 with 1 Axes>"
            ],
            "image/png": "[encoded data removed]"
          },
          "metadata": {}
        }
      ]
    },
    {
      "cell_type": "code",
      "source": [
        "#Subtract the Mean\n",
        "X_train['Acceleration'] = X_train['Acceleration'] - X_train['Acceleration'].mean()\n",
        "X_train['Horsepower']   = X_train['Horsepower']   - X_train['Horsepower'].mean()\n",
        "\n",
        "sns.histplot(X_train['Acceleration'], color='#0B7CBB', linewidth=.1, label='Acceleration')\n",
        "sns.histplot(X_train['Horsepower'],   color='#DB3A34', linewidth=.1, label='Horsepower')\n",
        "plt.legend()\n",
        "plt.show()"
      ],
      "metadata": {
        "colab": {
          "base_uri": "https://localhost:8080/",
          "height": 449
        },
        "id": "vetG6oRf_TZV",
        "outputId": "67568127-37e6-44a0-e029-270fc1d65e4b"
      },
      "execution_count": 17,
      "outputs": [
        {
          "output_type": "display_data",
          "data": {
            "text/plain": [
              "<Figure size 640x480 with 1 Axes>"
            ],
            "image/png": "[encoded data removed]"
          },
          "metadata": {}
        }
      ]
    },
    {
      "cell_type": "code",
      "source": [
        "X_train['Acceleration'] = X_train['Acceleration']/X_train['Acceleration'].std()\n",
        "X_train['Horsepower']   = X_train['Horsepower']/X_train['Horsepower'].std()\n",
        "\n",
        "sns.histplot(X_train['Acceleration'], color='#0B7CBB', linewidth=.1, label='Acceleration')\n",
        "sns.histplot(X_train['Horsepower'],   color='#DB3A34', linewidth=.1, label='Horsepower')\n",
        "plt.legend()\n",
        "plt.show()"
      ],
      "metadata": {
        "colab": {
          "base_uri": "https://localhost:8080/",
          "height": 449
        },
        "id": "xX3z9WaQ_bMS",
        "outputId": "173b4902-0507-49eb-da35-a811c45c0112"
      },
      "execution_count": 18,
      "outputs": [
        {
          "output_type": "display_data",
          "data": {
            "text/plain": [
              "<Figure size 640x480 with 1 Axes>"
            ],
            "image/png": "[encoded data removed]"
          },
          "metadata": {}
        }
      ]
    },
    {
      "cell_type": "code",
      "source": [
        "X_train.describe().round()"
      ],
      "metadata": {
        "colab": {
          "base_uri": "https://localhost:8080/",
          "height": 300
        },
        "id": "u3Yc7DBU_qLJ",
        "outputId": "a9be4749-4d43-423f-e7bf-21ebd7c18c8c"
      },
      "execution_count": 19,
      "outputs": [
        {
          "output_type": "execute_result",
          "data": {
            "text/plain": [
              "       Horsepower  Acceleration\n",
              "count       274.0         274.0\n",
              "mean          0.0          -0.0\n",
              "std           1.0           1.0\n",
              "min          -1.0          -3.0\n",
              "25%          -1.0          -1.0\n",
              "50%          -0.0          -0.0\n",
              "75%           1.0           1.0\n",
              "max           3.0           3.0"
            ],
            "text/html": [
              "\n",
              "  <div id=\"df-8cb32806-c772-418b-936b-3f9b2606a3e5\" class=\"colab-df-container\">\n",
              "    <div>\n",
              "<style scoped>\n",
              "    .dataframe tbody tr th:only-of-type {\n",
              "        vertical-align: middle;\n",
              "    }\n",
              "\n",
              "    .dataframe tbody tr th {\n",
              "        vertical-align: top;\n",
              "    }\n",
              "\n",
              "    .dataframe thead th {\n",
              "        text-align: right;\n",
              "    }\n",
              "</style>\n",
              "<table border=\"1\" class=\"dataframe\">\n",
              "  <thead>\n",
              "    <tr style=\"text-align: right;\">\n",
              "      <th></th>\n",
              "      <th>Horsepower</th>\n",
              "      <th>Acceleration</th>\n",
              "    </tr>\n",
              "  </thead>\n",
              "  <tbody>\n",
              "    <tr>\n",
              "      <th>count</th>\n",
              "      <td>274.0</td>\n",
              "      <td>274.0</td>\n",
              "    </tr>\n",
              "    <tr>\n",
              "      <th>mean</th>\n",
              "      <td>0.0</td>\n",
              "      <td>-0.0</td>\n",
              "    </tr>\n",
              "    <tr>\n",
              "      <th>std</th>\n",
              "      <td>1.0</td>\n",
              "      <td>1.0</td>\n",
              "    </tr>\n",
              "    <tr>\n",
              "      <th>min</th>\n",
              "      <td>-1.0</td>\n",
              "      <td>-3.0</td>\n",
              "    </tr>\n",
              "    <tr>\n",
              "      <th>25%</th>\n",
              "      <td>-1.0</td>\n",
              "      <td>-1.0</td>\n",
              "    </tr>\n",
              "    <tr>\n",
              "      <th>50%</th>\n",
              "      <td>-0.0</td>\n",
              "      <td>-0.0</td>\n",
              "    </tr>\n",
              "    <tr>\n",
              "      <th>75%</th>\n",
              "      <td>1.0</td>\n",
              "      <td>1.0</td>\n",
              "    </tr>\n",
              "    <tr>\n",
              "      <th>max</th>\n",
              "      <td>3.0</td>\n",
              "      <td>3.0</td>\n",
              "    </tr>\n",
              "  </tbody>\n",
              "</table>\n",
              "</div>\n",
              "    <div class=\"colab-df-buttons\">\n",
              "\n",
              "  <div class=\"colab-df-container\">\n",
              "    <button class=\"colab-df-convert\" onclick=\"convertToInteractive('df-8cb32806-c772-418b-936b-3f9b2606a3e5')\"\n",
              "            title=\"Convert this dataframe to an interactive table.\"\n",
              "            style=\"display:none;\">\n",
              "\n",
              "  <svg xmlns=\"http://www.w3.org/2000/svg\" height=\"24px\" viewBox=\"0 -960 960 960\">\n",
              "    <path d=\"M120-120v-720h720v720H120Zm60-500h600v-160H180v160Zm220 220h160v-160H400v160Zm0 220h160v-160H400v160ZM180-400h160v-160H180v160Zm440 0h160v-160H620v160ZM180-180h160v-160H180v160Zm440 0h160v-160H620v160Z\"/>\n",
              "  </svg>\n",
              "    </button>\n",
              "\n",
              "  <style>\n",
              "    .colab-df-container {\n",
              "      display:flex;\n",
              "      gap: 12px;\n",
              "    }\n",
              "\n",
              "    .colab-df-convert {\n",
              "      background-color: #E8F0FE;\n",
              "      border: none;\n",
              "      border-radius: 50%;\n",
              "      cursor: pointer;\n",
              "      display: none;\n",
              "      fill: #1967D2;\n",
              "      height: 32px;\n",
              "      padding: 0 0 0 0;\n",
              "      width: 32px;\n",
              "    }\n",
              "\n",
              "    .colab-df-convert:hover {\n",
              "      background-color: #E2EBFA;\n",
              "      box-shadow: 0px 1px 2px rgba(60, 64, 67, 0.3), 0px 1px 3px 1px rgba(60, 64, 67, 0.15);\n",
              "      fill: #174EA6;\n",
              "    }\n",
              "\n",
              "    .colab-df-buttons div {\n",
              "      margin-bottom: 4px;\n",
              "    }\n",
              "\n",
              "    [theme=dark] .colab-df-convert {\n",
              "      background-color: #3B4455;\n",
              "      fill: #D2E3FC;\n",
              "    }\n",
              "\n",
              "    [theme=dark] .colab-df-convert:hover {\n",
              "      background-color: #434B5C;\n",
              "      box-shadow: 0px 1px 3px 1px rgba(0, 0, 0, 0.15);\n",
              "      filter: drop-shadow(0px 1px 2px rgba(0, 0, 0, 0.3));\n",
              "      fill: #FFFFFF;\n",
              "    }\n",
              "  </style>\n",
              "\n",
              "    <script>\n",
              "      const buttonEl =\n",
              "        document.querySelector('#df-8cb32806-c772-418b-936b-3f9b2606a3e5 button.colab-df-convert');\n",
              "      buttonEl.style.display =\n",
              "        google.colab.kernel.accessAllowed ? 'block' : 'none';\n",
              "\n",
              "      async function convertToInteractive(key) {\n",
              "        const element = document.querySelector('#df-8cb32806-c772-418b-936b-3f9b2606a3e5');\n",
              "        const dataTable =\n",
              "          await google.colab.kernel.invokeFunction('convertToInteractive',\n",
              "                                                    [key], {});\n",
              "        if (!dataTable) return;\n",
              "\n",
              "        const docLinkHtml = 'Like what you see? Visit the ' +\n",
              "          '<a target=\"_blank\" href=https://colab.research.google.com/notebooks/data_table.ipynb>data table notebook</a>'\n",
              "          + ' to learn more about interactive tables.';\n",
              "        element.innerHTML = '';\n",
              "        dataTable['output_type'] = 'display_data';\n",
              "        await google.colab.output.renderOutput(dataTable, element);\n",
              "        const docLink = document.createElement('div');\n",
              "        docLink.innerHTML = docLinkHtml;\n",
              "        element.appendChild(docLink);\n",
              "      }\n",
              "    </script>\n",
              "  </div>\n",
              "\n",
              "\n",
              "<div id=\"df-ae6afa77-315d-47f0-97be-bb0a6c04d02f\">\n",
              "  <button class=\"colab-df-quickchart\" onclick=\"quickchart('df-ae6afa77-315d-47f0-97be-bb0a6c04d02f')\"\n",
              "            title=\"Suggest charts\"\n",
              "            style=\"display:none;\">\n",
              "\n",
              "<svg xmlns=\"http://www.w3.org/2000/svg\" height=\"24px\"viewBox=\"0 0 24 24\"\n",
              "     width=\"24px\">\n",
              "    <g>\n",
              "        <path d=\"M19 3H5c-1.1 0-2 .9-2 2v14c0 1.1.9 2 2 2h14c1.1 0 2-.9 2-2V5c0-1.1-.9-2-2-2zM9 17H7v-7h2v7zm4 0h-2V7h2v10zm4 0h-2v-4h2v4z\"/>\n",
              "    </g>\n",
              "</svg>\n",
              "  </button>\n",
              "\n",
              "<style>\n",
              "  .colab-df-quickchart {\n",
              "      --bg-color: #E8F0FE;\n",
              "      --fill-color: #1967D2;\n",
              "      --hover-bg-color: #E2EBFA;\n",
              "      --hover-fill-color: #174EA6;\n",
              "      --disabled-fill-color: #AAA;\n",
              "      --disabled-bg-color: #DDD;\n",
              "  }\n",
              "\n",
              "  [theme=dark] .colab-df-quickchart {\n",
              "      --bg-color: #3B4455;\n",
              "      --fill-color: #D2E3FC;\n",
              "      --hover-bg-color: #434B5C;\n",
              "      --hover-fill-color: #FFFFFF;\n",
              "      --disabled-bg-color: #3B4455;\n",
              "      --disabled-fill-color: #666;\n",
              "  }\n",
              "\n",
              "  .colab-df-quickchart {\n",
              "    background-color: var(--bg-color);\n",
              "    border: none;\n",
              "    border-radius: 50%;\n",
              "    cursor: pointer;\n",
              "    display: none;\n",
              "    fill: var(--fill-color);\n",
              "    height: 32px;\n",
              "    padding: 0;\n",
              "    width: 32px;\n",
              "  }\n",
              "\n",
              "  .colab-df-quickchart:hover {\n",
              "    background-color: var(--hover-bg-color);\n",
              "    box-shadow: 0 1px 2px rgba(60, 64, 67, 0.3), 0 1px 3px 1px rgba(60, 64, 67, 0.15);\n",
              "    fill: var(--button-hover-fill-color);\n",
              "  }\n",
              "\n",
              "  .colab-df-quickchart-complete:disabled,\n",
              "  .colab-df-quickchart-complete:disabled:hover {\n",
              "    background-color: var(--disabled-bg-color);\n",
              "    fill: var(--disabled-fill-color);\n",
              "    box-shadow: none;\n",
              "  }\n",
              "\n",
              "  .colab-df-spinner {\n",
              "    border: 2px solid var(--fill-color);\n",
              "    border-color: transparent;\n",
              "    border-bottom-color: var(--fill-color);\n",
              "    animation:\n",
              "      spin 1s steps(1) infinite;\n",
              "  }\n",
              "\n",
              "  @keyframes spin {\n",
              "    0% {\n",
              "      border-color: transparent;\n",
              "      border-bottom-color: var(--fill-color);\n",
              "      border-left-color: var(--fill-color);\n",
              "    }\n",
              "    20% {\n",
              "      border-color: transparent;\n",
              "      border-left-color: var(--fill-color);\n",
              "      border-top-color: var(--fill-color);\n",
              "    }\n",
              "    30% {\n",
              "      border-color: transparent;\n",
              "      border-left-color: var(--fill-color);\n",
              "      border-top-color: var(--fill-color);\n",
              "      border-right-color: var(--fill-color);\n",
              "    }\n",
              "    40% {\n",
              "      border-color: transparent;\n",
              "      border-right-color: var(--fill-color);\n",
              "      border-top-color: var(--fill-color);\n",
              "    }\n",
              "    60% {\n",
              "      border-color: transparent;\n",
              "      border-right-color: var(--fill-color);\n",
              "    }\n",
              "    80% {\n",
              "      border-color: transparent;\n",
              "      border-right-color: var(--fill-color);\n",
              "      border-bottom-color: var(--fill-color);\n",
              "    }\n",
              "    90% {\n",
              "      border-color: transparent;\n",
              "      border-bottom-color: var(--fill-color);\n",
              "    }\n",
              "  }\n",
              "</style>\n",
              "\n",
              "  <script>\n",
              "    async function quickchart(key) {\n",
              "      const quickchartButtonEl =\n",
              "        document.querySelector('#' + key + ' button');\n",
              "      quickchartButtonEl.disabled = true;  // To prevent multiple clicks.\n",
              "      quickchartButtonEl.classList.add('colab-df-spinner');\n",
              "      try {\n",
              "        const charts = await google.colab.kernel.invokeFunction(\n",
              "            'suggestCharts', [key], {});\n",
              "      } catch (error) {\n",
              "        console.error('Error during call to suggestCharts:', error);\n",
              "      }\n",
              "      quickchartButtonEl.classList.remove('colab-df-spinner');\n",
              "      quickchartButtonEl.classList.add('colab-df-quickchart-complete');\n",
              "    }\n",
              "    (() => {\n",
              "      let quickchartButtonEl =\n",
              "        document.querySelector('#df-ae6afa77-315d-47f0-97be-bb0a6c04d02f button');\n",
              "      quickchartButtonEl.style.display =\n",
              "        google.colab.kernel.accessAllowed ? 'block' : 'none';\n",
              "    })();\n",
              "  </script>\n",
              "</div>\n",
              "\n",
              "    </div>\n",
              "  </div>\n"
            ]
          },
          "metadata": {},
          "execution_count": 19
        }
      ]
    },
    {
      "cell_type": "code",
      "source": [
        "plt.figure(figsize=(10, 10))\n",
        "plt.scatter(X_train['Acceleration'],X_train['Horsepower'], c = '#323031')\n",
        "plt.xlabel('Acceleration')\n",
        "plt.ylabel('Horsepower')\n",
        "plt.gca().set_aspect('equal', adjustable='box')"
      ],
      "metadata": {
        "colab": {
          "base_uri": "https://localhost:8080/",
          "height": 709
        },
        "id": "03qtsvbA_s1R",
        "outputId": "b665b7a6-28b7-484d-8d49-237c3c83f3e5"
      },
      "execution_count": 21,
      "outputs": [
        {
          "output_type": "display_data",
          "data": {
            "text/plain": [
              "<Figure size 1000x1000 with 1 Axes>"
            ],
            "image/png": "[encoded data removed]"
          },
          "metadata": {}
        }
      ]
    },
    {
      "cell_type": "code",
      "source": [
        "# Normalizing testing dataset\n",
        "X_test['Acceleration'] = X_test['Acceleration'] - X_test['Acceleration'].mean()\n",
        "X_test['Horsepower']   = X_test['Horsepower']   - X_test['Horsepower'].mean()\n",
        "\n",
        "X_test['Acceleration'] = X_test['Acceleration']/X_test['Acceleration'].std()\n",
        "X_test['Horsepower']   = X_test['Horsepower']/X_test['Horsepower'].std()"
      ],
      "metadata": {
        "id": "r_YSvA61_vXH"
      },
      "execution_count": 22,
      "outputs": []
    },
    {
      "cell_type": "code",
      "source": [
        "model2 = tf.keras.Sequential()\n",
        "model2.add(InputLayer(input_shape=2))\n",
        "model2.add(Dense(64, activation = 'relu'))\n",
        "model2.add(Dense(64, activation = 'relu'))\n",
        "model2.add(Dense(1))"
      ],
      "metadata": {
        "id": "ONxENqKZ_6zk"
      },
      "execution_count": 23,
      "outputs": []
    },
    {
      "cell_type": "code",
      "source": [
        "model2.compile(loss='mean_absolute_error', optimizer=tf.optimizers.Adam(learning_rate=0.001))"
      ],
      "metadata": {
        "id": "a7TjWlDxAA2d"
      },
      "execution_count": 24,
      "outputs": []
    },
    {
      "cell_type": "code",
      "source": [
        "model2.fit(X_train, y_train,validation_split=0.2,verbose=1, epochs=50)"
      ],
      "metadata": {
        "colab": {
          "base_uri": "https://localhost:8080/"
        },
        "id": "PNSrxhXEAGhY",
        "outputId": "e1cf1e3e-eb0f-4a83-9acf-96ffb25d961c"
      },
      "execution_count": 25,
      "outputs": [
        {
          "output_type": "stream",
          "name": "stdout",
          "text": [
            "Epoch 1/50\n",
            "7/7 [==============================] - 2s 37ms/step - loss: 23.1683 - val_loss: 25.3317\n",
            "Epoch 2/50\n",
            "7/7 [==============================] - 0s 7ms/step - loss: 22.8676 - val_loss: 25.0296\n",
            "Epoch 3/50\n",
            "7/7 [==============================] - 0s 10ms/step - loss: 22.5547 - val_loss: 24.6959\n",
            "Epoch 4/50\n",
            "7/7 [==============================] - 0s 11ms/step - loss: 22.1964 - val_loss: 24.3133\n",
            "Epoch 5/50\n",
            "7/7 [==============================] - 0s 7ms/step - loss: 21.7760 - val_loss: 23.8532\n",
            "Epoch 6/50\n",
            "7/7 [==============================] - 0s 10ms/step - loss: 21.2616 - val_loss: 23.2863\n",
            "Epoch 7/50\n",
            "7/7 [==============================] - 0s 10ms/step - loss: 20.6153 - val_loss: 22.5872\n",
            "Epoch 8/50\n",
            "7/7 [==============================] - 0s 14ms/step - loss: 19.8335 - val_loss: 21.7203\n",
            "Epoch 9/50\n",
            "7/7 [==============================] - 0s 13ms/step - loss: 18.8523 - val_loss: 20.6528\n",
            "Epoch 10/50\n",
            "7/7 [==============================] - 0s 12ms/step - loss: 17.6652 - val_loss: 19.3688\n",
            "Epoch 11/50\n",
            "7/7 [==============================] - 0s 11ms/step - loss: 16.2951 - val_loss: 17.9667\n",
            "Epoch 12/50\n",
            "7/7 [==============================] - 0s 14ms/step - loss: 14.8839 - val_loss: 16.3553\n",
            "Epoch 13/50\n",
            "7/7 [==============================] - 0s 10ms/step - loss: 13.4373 - val_loss: 14.6541\n",
            "Epoch 14/50\n",
            "7/7 [==============================] - 0s 14ms/step - loss: 12.1442 - val_loss: 12.8883\n",
            "Epoch 15/50\n",
            "7/7 [==============================] - 0s 14ms/step - loss: 10.7213 - val_loss: 11.1121\n",
            "Epoch 16/50\n",
            "7/7 [==============================] - 0s 12ms/step - loss: 9.4414 - val_loss: 9.3725\n",
            "Epoch 17/50\n",
            "7/7 [==============================] - 0s 12ms/step - loss: 8.3479 - val_loss: 7.9767\n",
            "Epoch 18/50\n",
            "7/7 [==============================] - 0s 13ms/step - loss: 7.4770 - val_loss: 6.8335\n",
            "Epoch 19/50\n",
            "7/7 [==============================] - 0s 13ms/step - loss: 6.7536 - val_loss: 6.2068\n",
            "Epoch 20/50\n",
            "7/7 [==============================] - 0s 12ms/step - loss: 6.2577 - val_loss: 5.8614\n",
            "Epoch 21/50\n",
            "7/7 [==============================] - 0s 10ms/step - loss: 5.7176 - val_loss: 5.4630\n",
            "Epoch 22/50\n",
            "7/7 [==============================] - 0s 12ms/step - loss: 5.2679 - val_loss: 4.9876\n",
            "Epoch 23/50\n",
            "7/7 [==============================] - 0s 13ms/step - loss: 4.8770 - val_loss: 4.5899\n",
            "Epoch 24/50\n",
            "7/7 [==============================] - 0s 16ms/step - loss: 4.5366 - val_loss: 4.2988\n",
            "Epoch 25/50\n",
            "7/7 [==============================] - 0s 13ms/step - loss: 4.2350 - val_loss: 4.0201\n",
            "Epoch 26/50\n",
            "7/7 [==============================] - 0s 11ms/step - loss: 3.9761 - val_loss: 3.7638\n",
            "Epoch 27/50\n",
            "7/7 [==============================] - 0s 12ms/step - loss: 3.7513 - val_loss: 3.5787\n",
            "Epoch 28/50\n",
            "7/7 [==============================] - 0s 9ms/step - loss: 3.5837 - val_loss: 3.4611\n",
            "Epoch 29/50\n",
            "7/7 [==============================] - 0s 13ms/step - loss: 3.4733 - val_loss: 3.3476\n",
            "Epoch 30/50\n",
            "7/7 [==============================] - 0s 13ms/step - loss: 3.3966 - val_loss: 3.3250\n",
            "Epoch 31/50\n",
            "7/7 [==============================] - 0s 11ms/step - loss: 3.3404 - val_loss: 3.3016\n",
            "Epoch 32/50\n",
            "7/7 [==============================] - 0s 13ms/step - loss: 3.2923 - val_loss: 3.2331\n",
            "Epoch 33/50\n",
            "7/7 [==============================] - 0s 11ms/step - loss: 3.2438 - val_loss: 3.2287\n",
            "Epoch 34/50\n",
            "7/7 [==============================] - 0s 13ms/step - loss: 3.2065 - val_loss: 3.2246\n",
            "Epoch 35/50\n",
            "7/7 [==============================] - 0s 13ms/step - loss: 3.1736 - val_loss: 3.2099\n",
            "Epoch 36/50\n",
            "7/7 [==============================] - 0s 16ms/step - loss: 3.1463 - val_loss: 3.1990\n",
            "Epoch 37/50\n",
            "7/7 [==============================] - 0s 12ms/step - loss: 3.1186 - val_loss: 3.2030\n",
            "Epoch 38/50\n",
            "7/7 [==============================] - 0s 15ms/step - loss: 3.0894 - val_loss: 3.1940\n",
            "Epoch 39/50\n",
            "7/7 [==============================] - 0s 12ms/step - loss: 3.0662 - val_loss: 3.1892\n",
            "Epoch 40/50\n",
            "7/7 [==============================] - 0s 13ms/step - loss: 3.0498 - val_loss: 3.2023\n",
            "Epoch 41/50\n",
            "7/7 [==============================] - 0s 14ms/step - loss: 3.0315 - val_loss: 3.1874\n",
            "Epoch 42/50\n",
            "7/7 [==============================] - 0s 13ms/step - loss: 3.0263 - val_loss: 3.1745\n",
            "Epoch 43/50\n",
            "7/7 [==============================] - 0s 14ms/step - loss: 2.9984 - val_loss: 3.1904\n",
            "Epoch 44/50\n",
            "7/7 [==============================] - 0s 10ms/step - loss: 2.9870 - val_loss: 3.2028\n",
            "Epoch 45/50\n",
            "7/7 [==============================] - 0s 14ms/step - loss: 2.9840 - val_loss: 3.2072\n",
            "Epoch 46/50\n",
            "7/7 [==============================] - 0s 11ms/step - loss: 2.9753 - val_loss: 3.1930\n",
            "Epoch 47/50\n",
            "7/7 [==============================] - 0s 14ms/step - loss: 2.9564 - val_loss: 3.2029\n",
            "Epoch 48/50\n",
            "7/7 [==============================] - 0s 9ms/step - loss: 2.9429 - val_loss: 3.2080\n",
            "Epoch 49/50\n",
            "7/7 [==============================] - 0s 9ms/step - loss: 2.9560 - val_loss: 3.2216\n",
            "Epoch 50/50\n",
            "7/7 [==============================] - 0s 11ms/step - loss: 2.9332 - val_loss: 3.2263\n"
          ]
        },
        {
          "output_type": "execute_result",
          "data": {
            "text/plain": [
              "<keras.src.callbacks.History at 0x7c9858cccd30>"
            ]
          },
          "metadata": {},
          "execution_count": 25
        }
      ]
    },
    {
      "cell_type": "code",
      "source": [
        "# Accuracy (Root Mean Squared Error)\n",
        "y_pred = model2.predict(X_test)\n",
        "from sklearn.metrics import mean_squared_error\n",
        "mean_squared_error(y_test, y_pred, squared=False)"
      ],
      "metadata": {
        "colab": {
          "base_uri": "https://localhost:8080/"
        },
        "id": "wsQM58PTAJf8",
        "outputId": "0aa9d739-db88-4b78-87b0-08723822b342"
      },
      "execution_count": 26,
      "outputs": [
        {
          "output_type": "stream",
          "name": "stdout",
          "text": [
            "4/4 [==============================] - 0s 4ms/step\n"
          ]
        },
        {
          "output_type": "execute_result",
          "data": {
            "text/plain": [
              "4.1804597422450875"
            ]
          },
          "metadata": {},
          "execution_count": 26
        }
      ]
    },
    {
      "cell_type": "code",
      "source": [
        "! pip install scikeras[tensorflow]"
      ],
      "metadata": {
        "colab": {
          "base_uri": "https://localhost:8080/",
          "height": 1000
        },
        "id": "az7YfSD6Feas",
        "outputId": "9cb026b9-93b6-487a-e425-651b02c26536"
      },
      "execution_count": 28,
      "outputs": [
        {
          "output_type": "stream",
          "name": "stdout",
          "text": [
            "Collecting scikeras[tensorflow]\n",
            "  Downloading scikeras-0.12.0-py3-none-any.whl (27 kB)\n",
            "Requirement already satisfied: packaging>=0.21 in /usr/local/lib/python3.10/dist-packages (from scikeras[tensorflow]) (23.2)\n",
            "Requirement already satisfied: scikit-learn>=1.0.0 in /usr/local/lib/python3.10/dist-packages (from scikeras[tensorflow]) (1.2.2)\n",
            "Collecting tensorflow<2.13.0,>=2.12.0 (from scikeras[tensorflow])\n",
            "  Downloading tensorflow-2.12.1-cp310-cp310-manylinux_2_17_x86_64.manylinux2014_x86_64.whl (585.9 MB)\n",
            "\u001b[2K     \u001b[90m━━━━━━━━━━━━━━━━━━━━━━━━━━━━━━━━━━━━━━━━\u001b[0m \u001b[32m585.9/585.9 MB\u001b[0m \u001b[31m1.1 MB/s\u001b[0m eta \u001b[36m0:00:00\u001b[0m\n",
            "\u001b[?25hRequirement already satisfied: numpy>=1.17.3 in /usr/local/lib/python3.10/dist-packages (from scikit-learn>=1.0.0->scikeras[tensorflow]) (1.25.2)\n",
            "Requirement already satisfied: scipy>=1.3.2 in /usr/local/lib/python3.10/dist-packages (from scikit-learn>=1.0.0->scikeras[tensorflow]) (1.11.4)\n",
            "Requirement already satisfied: joblib>=1.1.1 in /usr/local/lib/python3.10/dist-packages (from scikit-learn>=1.0.0->scikeras[tensorflow]) (1.3.2)\n",
            "Requirement already satisfied: threadpoolctl>=2.0.0 in /usr/local/lib/python3.10/dist-packages (from scikit-learn>=1.0.0->scikeras[tensorflow]) (3.2.0)\n",
            "Requirement already satisfied: absl-py>=1.0.0 in /usr/local/lib/python3.10/dist-packages (from tensorflow<2.13.0,>=2.12.0->scikeras[tensorflow]) (1.4.0)\n",
            "Requirement already satisfied: astunparse>=1.6.0 in /usr/local/lib/python3.10/dist-packages (from tensorflow<2.13.0,>=2.12.0->scikeras[tensorflow]) (1.6.3)\n",
            "Requirement already satisfied: flatbuffers>=2.0 in /usr/local/lib/python3.10/dist-packages (from tensorflow<2.13.0,>=2.12.0->scikeras[tensorflow]) (23.5.26)\n",
            "Collecting gast<=0.4.0,>=0.2.1 (from tensorflow<2.13.0,>=2.12.0->scikeras[tensorflow])\n",
            "  Downloading gast-0.4.0-py3-none-any.whl (9.8 kB)\n",
            "Requirement already satisfied: google-pasta>=0.1.1 in /usr/local/lib/python3.10/dist-packages (from tensorflow<2.13.0,>=2.12.0->scikeras[tensorflow]) (0.2.0)\n",
            "Requirement already satisfied: grpcio<2.0,>=1.24.3 in /usr/local/lib/python3.10/dist-packages (from tensorflow<2.13.0,>=2.12.0->scikeras[tensorflow]) (1.60.1)\n",
            "Requirement already satisfied: h5py>=2.9.0 in /usr/local/lib/python3.10/dist-packages (from tensorflow<2.13.0,>=2.12.0->scikeras[tensorflow]) (3.9.0)\n",
            "Requirement already satisfied: jax>=0.3.15 in /usr/local/lib/python3.10/dist-packages (from tensorflow<2.13.0,>=2.12.0->scikeras[tensorflow]) (0.4.23)\n",
            "Collecting keras<2.13,>=2.12.0 (from tensorflow<2.13.0,>=2.12.0->scikeras[tensorflow])\n",
            "  Downloading keras-2.12.0-py2.py3-none-any.whl (1.7 MB)\n",
            "\u001b[2K     \u001b[90m━━━━━━━━━━━━━━━━━━━━━━━━━━━━━━━━━━━━━━━━\u001b[0m \u001b[32m1.7/1.7 MB\u001b[0m \u001b[31m2.9 MB/s\u001b[0m eta \u001b[36m0:00:00\u001b[0m\n",
            "\u001b[?25hRequirement already satisfied: libclang>=13.0.0 in /usr/local/lib/python3.10/dist-packages (from tensorflow<2.13.0,>=2.12.0->scikeras[tensorflow]) (16.0.6)\n",
            "Collecting numpy>=1.17.3 (from scikit-learn>=1.0.0->scikeras[tensorflow])\n",
            "  Downloading numpy-1.24.3-cp310-cp310-manylinux_2_17_x86_64.manylinux2014_x86_64.whl (17.3 MB)\n",
            "\u001b[2K     \u001b[90m━━━━━━━━━━━━━━━━━━━━━━━━━━━━━━━━━━━━━━━━\u001b[0m \u001b[32m17.3/17.3 MB\u001b[0m \u001b[31m2.1 MB/s\u001b[0m eta \u001b[36m0:00:00\u001b[0m\n",
            "\u001b[?25hRequirement already satisfied: opt-einsum>=2.3.2 in /usr/local/lib/python3.10/dist-packages (from tensorflow<2.13.0,>=2.12.0->scikeras[tensorflow]) (3.3.0)\n",
            "Requirement already satisfied: protobuf!=4.21.0,!=4.21.1,!=4.21.2,!=4.21.3,!=4.21.4,!=4.21.5,<5.0.0dev,>=3.20.3 in /usr/local/lib/python3.10/dist-packages (from tensorflow<2.13.0,>=2.12.0->scikeras[tensorflow]) (3.20.3)\n",
            "Requirement already satisfied: setuptools in /usr/local/lib/python3.10/dist-packages (from tensorflow<2.13.0,>=2.12.0->scikeras[tensorflow]) (67.7.2)\n",
            "Requirement already satisfied: six>=1.12.0 in /usr/local/lib/python3.10/dist-packages (from tensorflow<2.13.0,>=2.12.0->scikeras[tensorflow]) (1.16.0)\n",
            "Collecting tensorboard<2.13,>=2.12 (from tensorflow<2.13.0,>=2.12.0->scikeras[tensorflow])\n",
            "  Downloading tensorboard-2.12.3-py3-none-any.whl (5.6 MB)\n",
            "\u001b[2K     \u001b[90m━━━━━━━━━━━━━━━━━━━━━━━━━━━━━━━━━━━━━━━━\u001b[0m \u001b[32m5.6/5.6 MB\u001b[0m \u001b[31m3.1 MB/s\u001b[0m eta \u001b[36m0:00:00\u001b[0m\n",
            "\u001b[?25hCollecting tensorflow-estimator<2.13,>=2.12.0 (from tensorflow<2.13.0,>=2.12.0->scikeras[tensorflow])\n",
            "  Downloading tensorflow_estimator-2.12.0-py2.py3-none-any.whl (440 kB)\n",
            "\u001b[2K     \u001b[90m━━━━━━━━━━━━━━━━━━━━━━━━━━━━━━━━━━━━━━━━\u001b[0m \u001b[32m440.7/440.7 kB\u001b[0m \u001b[31m2.1 MB/s\u001b[0m eta \u001b[36m0:00:00\u001b[0m\n",
            "\u001b[?25hRequirement already satisfied: termcolor>=1.1.0 in /usr/local/lib/python3.10/dist-packages (from tensorflow<2.13.0,>=2.12.0->scikeras[tensorflow]) (2.4.0)\n",
            "Collecting typing-extensions<4.6.0,>=3.6.6 (from tensorflow<2.13.0,>=2.12.0->scikeras[tensorflow])\n",
            "  Downloading typing_extensions-4.5.0-py3-none-any.whl (27 kB)\n",
            "Requirement already satisfied: wrapt<1.15,>=1.11.0 in /usr/local/lib/python3.10/dist-packages (from tensorflow<2.13.0,>=2.12.0->scikeras[tensorflow]) (1.14.1)\n",
            "Requirement already satisfied: tensorflow-io-gcs-filesystem>=0.23.1 in /usr/local/lib/python3.10/dist-packages (from tensorflow<2.13.0,>=2.12.0->scikeras[tensorflow]) (0.36.0)\n",
            "Requirement already satisfied: wheel<1.0,>=0.23.0 in /usr/local/lib/python3.10/dist-packages (from astunparse>=1.6.0->tensorflow<2.13.0,>=2.12.0->scikeras[tensorflow]) (0.42.0)\n",
            "Requirement already satisfied: ml-dtypes>=0.2.0 in /usr/local/lib/python3.10/dist-packages (from jax>=0.3.15->tensorflow<2.13.0,>=2.12.0->scikeras[tensorflow]) (0.2.0)\n",
            "Requirement already satisfied: google-auth<3,>=1.6.3 in /usr/local/lib/python3.10/dist-packages (from tensorboard<2.13,>=2.12->tensorflow<2.13.0,>=2.12.0->scikeras[tensorflow]) (2.27.0)\n",
            "Collecting google-auth-oauthlib<1.1,>=0.5 (from tensorboard<2.13,>=2.12->tensorflow<2.13.0,>=2.12.0->scikeras[tensorflow])\n",
            "  Downloading google_auth_oauthlib-1.0.0-py2.py3-none-any.whl (18 kB)\n",
            "Requirement already satisfied: markdown>=2.6.8 in /usr/local/lib/python3.10/dist-packages (from tensorboard<2.13,>=2.12->tensorflow<2.13.0,>=2.12.0->scikeras[tensorflow]) (3.5.2)\n",
            "Requirement already satisfied: requests<3,>=2.21.0 in /usr/local/lib/python3.10/dist-packages (from tensorboard<2.13,>=2.12->tensorflow<2.13.0,>=2.12.0->scikeras[tensorflow]) (2.31.0)\n",
            "Requirement already satisfied: tensorboard-data-server<0.8.0,>=0.7.0 in /usr/local/lib/python3.10/dist-packages (from tensorboard<2.13,>=2.12->tensorflow<2.13.0,>=2.12.0->scikeras[tensorflow]) (0.7.2)\n",
            "Requirement already satisfied: werkzeug>=1.0.1 in /usr/local/lib/python3.10/dist-packages (from tensorboard<2.13,>=2.12->tensorflow<2.13.0,>=2.12.0->scikeras[tensorflow]) (3.0.1)\n",
            "Requirement already satisfied: cachetools<6.0,>=2.0.0 in /usr/local/lib/python3.10/dist-packages (from google-auth<3,>=1.6.3->tensorboard<2.13,>=2.12->tensorflow<2.13.0,>=2.12.0->scikeras[tensorflow]) (5.3.2)\n",
            "Requirement already satisfied: pyasn1-modules>=0.2.1 in /usr/local/lib/python3.10/dist-packages (from google-auth<3,>=1.6.3->tensorboard<2.13,>=2.12->tensorflow<2.13.0,>=2.12.0->scikeras[tensorflow]) (0.3.0)\n",
            "Requirement already satisfied: rsa<5,>=3.1.4 in /usr/local/lib/python3.10/dist-packages (from google-auth<3,>=1.6.3->tensorboard<2.13,>=2.12->tensorflow<2.13.0,>=2.12.0->scikeras[tensorflow]) (4.9)\n",
            "Requirement already satisfied: requests-oauthlib>=0.7.0 in /usr/local/lib/python3.10/dist-packages (from google-auth-oauthlib<1.1,>=0.5->tensorboard<2.13,>=2.12->tensorflow<2.13.0,>=2.12.0->scikeras[tensorflow]) (1.3.1)\n",
            "Requirement already satisfied: charset-normalizer<4,>=2 in /usr/local/lib/python3.10/dist-packages (from requests<3,>=2.21.0->tensorboard<2.13,>=2.12->tensorflow<2.13.0,>=2.12.0->scikeras[tensorflow]) (3.3.2)\n",
            "Requirement already satisfied: idna<4,>=2.5 in /usr/local/lib/python3.10/dist-packages (from requests<3,>=2.21.0->tensorboard<2.13,>=2.12->tensorflow<2.13.0,>=2.12.0->scikeras[tensorflow]) (3.6)\n",
            "Requirement already satisfied: urllib3<3,>=1.21.1 in /usr/local/lib/python3.10/dist-packages (from requests<3,>=2.21.0->tensorboard<2.13,>=2.12->tensorflow<2.13.0,>=2.12.0->scikeras[tensorflow]) (2.0.7)\n",
            "Requirement already satisfied: certifi>=2017.4.17 in /usr/local/lib/python3.10/dist-packages (from requests<3,>=2.21.0->tensorboard<2.13,>=2.12->tensorflow<2.13.0,>=2.12.0->scikeras[tensorflow]) (2024.2.2)\n",
            "Requirement already satisfied: MarkupSafe>=2.1.1 in /usr/local/lib/python3.10/dist-packages (from werkzeug>=1.0.1->tensorboard<2.13,>=2.12->tensorflow<2.13.0,>=2.12.0->scikeras[tensorflow]) (2.1.5)\n",
            "Requirement already satisfied: pyasn1<0.6.0,>=0.4.6 in /usr/local/lib/python3.10/dist-packages (from pyasn1-modules>=0.2.1->google-auth<3,>=1.6.3->tensorboard<2.13,>=2.12->tensorflow<2.13.0,>=2.12.0->scikeras[tensorflow]) (0.5.1)\n",
            "Requirement already satisfied: oauthlib>=3.0.0 in /usr/local/lib/python3.10/dist-packages (from requests-oauthlib>=0.7.0->google-auth-oauthlib<1.1,>=0.5->tensorboard<2.13,>=2.12->tensorflow<2.13.0,>=2.12.0->scikeras[tensorflow]) (3.2.2)\n",
            "Installing collected packages: typing-extensions, tensorflow-estimator, numpy, keras, gast, google-auth-oauthlib, tensorboard, scikeras, tensorflow\n",
            "  Attempting uninstall: typing-extensions\n",
            "    Found existing installation: typing_extensions 4.9.0\n",
            "    Uninstalling typing_extensions-4.9.0:\n",
            "      Successfully uninstalled typing_extensions-4.9.0\n",
            "  Attempting uninstall: tensorflow-estimator\n",
            "    Found existing installation: tensorflow-estimator 2.15.0\n",
            "    Uninstalling tensorflow-estimator-2.15.0:\n",
            "      Successfully uninstalled tensorflow-estimator-2.15.0\n",
            "  Attempting uninstall: numpy\n",
            "    Found existing installation: numpy 1.25.2\n",
            "    Uninstalling numpy-1.25.2:\n",
            "      Successfully uninstalled numpy-1.25.2\n",
            "  Attempting uninstall: keras\n",
            "    Found existing installation: keras 2.15.0\n",
            "    Uninstalling keras-2.15.0:\n",
            "      Successfully uninstalled keras-2.15.0\n",
            "  Attempting uninstall: gast\n",
            "    Found existing installation: gast 0.5.4\n",
            "    Uninstalling gast-0.5.4:\n",
            "      Successfully uninstalled gast-0.5.4\n",
            "  Attempting uninstall: google-auth-oauthlib\n",
            "    Found existing installation: google-auth-oauthlib 1.2.0\n",
            "    Uninstalling google-auth-oauthlib-1.2.0:\n",
            "      Successfully uninstalled google-auth-oauthlib-1.2.0\n",
            "  Attempting uninstall: tensorboard\n",
            "    Found existing installation: tensorboard 2.15.2\n",
            "    Uninstalling tensorboard-2.15.2:\n",
            "      Successfully uninstalled tensorboard-2.15.2\n",
            "  Attempting uninstall: tensorflow\n",
            "    Found existing installation: tensorflow 2.15.0\n",
            "    Uninstalling tensorflow-2.15.0:\n",
            "      Successfully uninstalled tensorflow-2.15.0\n",
            "\u001b[31mERROR: pip's dependency resolver does not currently take into account all the packages that are installed. This behaviour is the source of the following dependency conflicts.\n",
            "lida 0.0.10 requires fastapi, which is not installed.\n",
            "lida 0.0.10 requires kaleido, which is not installed.\n",
            "lida 0.0.10 requires python-multipart, which is not installed.\n",
            "lida 0.0.10 requires uvicorn, which is not installed.\n",
            "sqlalchemy 2.0.25 requires typing-extensions>=4.6.0, but you have typing-extensions 4.5.0 which is incompatible.\n",
            "pydantic 2.6.1 requires typing-extensions>=4.6.1, but you have typing-extensions 4.5.0 which is incompatible.\n",
            "pydantic-core 2.16.2 requires typing-extensions!=4.7.0,>=4.6.0, but you have typing-extensions 4.5.0 which is incompatible.\u001b[0m\u001b[31m\n",
            "\u001b[0mSuccessfully installed gast-0.4.0 google-auth-oauthlib-1.0.0 keras-2.12.0 numpy-1.24.3 scikeras-0.12.0 tensorboard-2.12.3 tensorflow-2.12.1 tensorflow-estimator-2.12.0 typing-extensions-4.5.0\n"
          ]
        },
        {
          "output_type": "display_data",
          "data": {
            "application/vnd.colab-display-data+json": {
              "pip_warning": {
                "packages": [
                  "gast",
                  "keras",
                  "numpy",
                  "tensorboard",
                  "tensorflow"
                ]
              }
            }
          },
          "metadata": {}
        }
      ]
    },
    {
      "cell_type": "code",
      "source": [
        "#import numpy as np\n",
        "import pandas as pd\n",
        "\n",
        "import tensorflow as tf\n",
        "from tensorflow.keras.layers import Dense, Input, InputLayer\n",
        "from tensorflow.keras.optimizers import Adam\n",
        "\n",
        "#from tensorflow.keras import initializers\n",
        "\n",
        "from sklearn.metrics import accuracy_score#confusion_matrix,\n",
        "#import seaborn as sns\n",
        "import matplotlib.pyplot as plt\n",
        "\n",
        "from sklearn.model_selection import GridSearchCV\n",
        "#from keras.models import Sequential\n",
        "#from keras.layers import Dense\n",
        "from scikeras.wrappers import KerasClassifier,KerasRegressor # for this line work first execute  pip install scikeras[tensorflow]\n"
      ],
      "metadata": {
        "id": "Buuncx9rAQOG"
      },
      "execution_count": 1,
      "outputs": []
    },
    {
      "cell_type": "code",
      "source": [
        "import pandas as pd\n",
        "data = pd.read_csv(\"/content/auto-mpg.csv\", na_values='?', usecols=[\"MPG\",\"Cylinders\",\"Displacement\",\"Horsepower\",\"Weight\",\"Acceleration\",\"Model year\"])\n",
        "data = data.dropna()\n",
        "data.head()"
      ],
      "metadata": {
        "colab": {
          "base_uri": "https://localhost:8080/",
          "height": 206
        },
        "id": "Fp-voEWkFb2D",
        "outputId": "019f78ef-6275-492f-bb88-67dcaae5be4a"
      },
      "execution_count": 2,
      "outputs": [
        {
          "output_type": "execute_result",
          "data": {
            "text/plain": [
              "    MPG  Cylinders  Displacement  Horsepower  Weight  Acceleration  Model year\n",
              "0  18.0          8         307.0       130.0    3504          12.0          70\n",
              "1  15.0          8         350.0       165.0    3693          11.5          70\n",
              "2  18.0          8         318.0       150.0    3436          11.0          70\n",
              "3  16.0          8         304.0       150.0    3433          12.0          70\n",
              "4  17.0          8         302.0       140.0    3449          10.5          70"
            ],
            "text/html": [
              "\n",
              "  <div id=\"df-ac38102e-48ef-4b96-b764-a2a6f935529b\" class=\"colab-df-container\">\n",
              "    <div>\n",
              "<style scoped>\n",
              "    .dataframe tbody tr th:only-of-type {\n",
              "        vertical-align: middle;\n",
              "    }\n",
              "\n",
              "    .dataframe tbody tr th {\n",
              "        vertical-align: top;\n",
              "    }\n",
              "\n",
              "    .dataframe thead th {\n",
              "        text-align: right;\n",
              "    }\n",
              "</style>\n",
              "<table border=\"1\" class=\"dataframe\">\n",
              "  <thead>\n",
              "    <tr style=\"text-align: right;\">\n",
              "      <th></th>\n",
              "      <th>MPG</th>\n",
              "      <th>Cylinders</th>\n",
              "      <th>Displacement</th>\n",
              "      <th>Horsepower</th>\n",
              "      <th>Weight</th>\n",
              "      <th>Acceleration</th>\n",
              "      <th>Model year</th>\n",
              "    </tr>\n",
              "  </thead>\n",
              "  <tbody>\n",
              "    <tr>\n",
              "      <th>0</th>\n",
              "      <td>18.0</td>\n",
              "      <td>8</td>\n",
              "      <td>307.0</td>\n",
              "      <td>130.0</td>\n",
              "      <td>3504</td>\n",
              "      <td>12.0</td>\n",
              "      <td>70</td>\n",
              "    </tr>\n",
              "    <tr>\n",
              "      <th>1</th>\n",
              "      <td>15.0</td>\n",
              "      <td>8</td>\n",
              "      <td>350.0</td>\n",
              "      <td>165.0</td>\n",
              "      <td>3693</td>\n",
              "      <td>11.5</td>\n",
              "      <td>70</td>\n",
              "    </tr>\n",
              "    <tr>\n",
              "      <th>2</th>\n",
              "      <td>18.0</td>\n",
              "      <td>8</td>\n",
              "      <td>318.0</td>\n",
              "      <td>150.0</td>\n",
              "      <td>3436</td>\n",
              "      <td>11.0</td>\n",
              "      <td>70</td>\n",
              "    </tr>\n",
              "    <tr>\n",
              "      <th>3</th>\n",
              "      <td>16.0</td>\n",
              "      <td>8</td>\n",
              "      <td>304.0</td>\n",
              "      <td>150.0</td>\n",
              "      <td>3433</td>\n",
              "      <td>12.0</td>\n",
              "      <td>70</td>\n",
              "    </tr>\n",
              "    <tr>\n",
              "      <th>4</th>\n",
              "      <td>17.0</td>\n",
              "      <td>8</td>\n",
              "      <td>302.0</td>\n",
              "      <td>140.0</td>\n",
              "      <td>3449</td>\n",
              "      <td>10.5</td>\n",
              "      <td>70</td>\n",
              "    </tr>\n",
              "  </tbody>\n",
              "</table>\n",
              "</div>\n",
              "    <div class=\"colab-df-buttons\">\n",
              "\n",
              "  <div class=\"colab-df-container\">\n",
              "    <button class=\"colab-df-convert\" onclick=\"convertToInteractive('df-ac38102e-48ef-4b96-b764-a2a6f935529b')\"\n",
              "            title=\"Convert this dataframe to an interactive table.\"\n",
              "            style=\"display:none;\">\n",
              "\n",
              "  <svg xmlns=\"http://www.w3.org/2000/svg\" height=\"24px\" viewBox=\"0 -960 960 960\">\n",
              "    <path d=\"M120-120v-720h720v720H120Zm60-500h600v-160H180v160Zm220 220h160v-160H400v160Zm0 220h160v-160H400v160ZM180-400h160v-160H180v160Zm440 0h160v-160H620v160ZM180-180h160v-160H180v160Zm440 0h160v-160H620v160Z\"/>\n",
              "  </svg>\n",
              "    </button>\n",
              "\n",
              "  <style>\n",
              "    .colab-df-container {\n",
              "      display:flex;\n",
              "      gap: 12px;\n",
              "    }\n",
              "\n",
              "    .colab-df-convert {\n",
              "      background-color: #E8F0FE;\n",
              "      border: none;\n",
              "      border-radius: 50%;\n",
              "      cursor: pointer;\n",
              "      display: none;\n",
              "      fill: #1967D2;\n",
              "      height: 32px;\n",
              "      padding: 0 0 0 0;\n",
              "      width: 32px;\n",
              "    }\n",
              "\n",
              "    .colab-df-convert:hover {\n",
              "      background-color: #E2EBFA;\n",
              "      box-shadow: 0px 1px 2px rgba(60, 64, 67, 0.3), 0px 1px 3px 1px rgba(60, 64, 67, 0.15);\n",
              "      fill: #174EA6;\n",
              "    }\n",
              "\n",
              "    .colab-df-buttons div {\n",
              "      margin-bottom: 4px;\n",
              "    }\n",
              "\n",
              "    [theme=dark] .colab-df-convert {\n",
              "      background-color: #3B4455;\n",
              "      fill: #D2E3FC;\n",
              "    }\n",
              "\n",
              "    [theme=dark] .colab-df-convert:hover {\n",
              "      background-color: #434B5C;\n",
              "      box-shadow: 0px 1px 3px 1px rgba(0, 0, 0, 0.15);\n",
              "      filter: drop-shadow(0px 1px 2px rgba(0, 0, 0, 0.3));\n",
              "      fill: #FFFFFF;\n",
              "    }\n",
              "  </style>\n",
              "\n",
              "    <script>\n",
              "      const buttonEl =\n",
              "        document.querySelector('#df-ac38102e-48ef-4b96-b764-a2a6f935529b button.colab-df-convert');\n",
              "      buttonEl.style.display =\n",
              "        google.colab.kernel.accessAllowed ? 'block' : 'none';\n",
              "\n",
              "      async function convertToInteractive(key) {\n",
              "        const element = document.querySelector('#df-ac38102e-48ef-4b96-b764-a2a6f935529b');\n",
              "        const dataTable =\n",
              "          await google.colab.kernel.invokeFunction('convertToInteractive',\n",
              "                                                    [key], {});\n",
              "        if (!dataTable) return;\n",
              "\n",
              "        const docLinkHtml = 'Like what you see? Visit the ' +\n",
              "          '<a target=\"_blank\" href=https://colab.research.google.com/notebooks/data_table.ipynb>data table notebook</a>'\n",
              "          + ' to learn more about interactive tables.';\n",
              "        element.innerHTML = '';\n",
              "        dataTable['output_type'] = 'display_data';\n",
              "        await google.colab.output.renderOutput(dataTable, element);\n",
              "        const docLink = document.createElement('div');\n",
              "        docLink.innerHTML = docLinkHtml;\n",
              "        element.appendChild(docLink);\n",
              "      }\n",
              "    </script>\n",
              "  </div>\n",
              "\n",
              "\n",
              "<div id=\"df-d7840f2b-387a-495a-b06d-691f716cc02a\">\n",
              "  <button class=\"colab-df-quickchart\" onclick=\"quickchart('df-d7840f2b-387a-495a-b06d-691f716cc02a')\"\n",
              "            title=\"Suggest charts\"\n",
              "            style=\"display:none;\">\n",
              "\n",
              "<svg xmlns=\"http://www.w3.org/2000/svg\" height=\"24px\"viewBox=\"0 0 24 24\"\n",
              "     width=\"24px\">\n",
              "    <g>\n",
              "        <path d=\"M19 3H5c-1.1 0-2 .9-2 2v14c0 1.1.9 2 2 2h14c1.1 0 2-.9 2-2V5c0-1.1-.9-2-2-2zM9 17H7v-7h2v7zm4 0h-2V7h2v10zm4 0h-2v-4h2v4z\"/>\n",
              "    </g>\n",
              "</svg>\n",
              "  </button>\n",
              "\n",
              "<style>\n",
              "  .colab-df-quickchart {\n",
              "      --bg-color: #E8F0FE;\n",
              "      --fill-color: #1967D2;\n",
              "      --hover-bg-color: #E2EBFA;\n",
              "      --hover-fill-color: #174EA6;\n",
              "      --disabled-fill-color: #AAA;\n",
              "      --disabled-bg-color: #DDD;\n",
              "  }\n",
              "\n",
              "  [theme=dark] .colab-df-quickchart {\n",
              "      --bg-color: #3B4455;\n",
              "      --fill-color: #D2E3FC;\n",
              "      --hover-bg-color: #434B5C;\n",
              "      --hover-fill-color: #FFFFFF;\n",
              "      --disabled-bg-color: #3B4455;\n",
              "      --disabled-fill-color: #666;\n",
              "  }\n",
              "\n",
              "  .colab-df-quickchart {\n",
              "    background-color: var(--bg-color);\n",
              "    border: none;\n",
              "    border-radius: 50%;\n",
              "    cursor: pointer;\n",
              "    display: none;\n",
              "    fill: var(--fill-color);\n",
              "    height: 32px;\n",
              "    padding: 0;\n",
              "    width: 32px;\n",
              "  }\n",
              "\n",
              "  .colab-df-quickchart:hover {\n",
              "    background-color: var(--hover-bg-color);\n",
              "    box-shadow: 0 1px 2px rgba(60, 64, 67, 0.3), 0 1px 3px 1px rgba(60, 64, 67, 0.15);\n",
              "    fill: var(--button-hover-fill-color);\n",
              "  }\n",
              "\n",
              "  .colab-df-quickchart-complete:disabled,\n",
              "  .colab-df-quickchart-complete:disabled:hover {\n",
              "    background-color: var(--disabled-bg-color);\n",
              "    fill: var(--disabled-fill-color);\n",
              "    box-shadow: none;\n",
              "  }\n",
              "\n",
              "  .colab-df-spinner {\n",
              "    border: 2px solid var(--fill-color);\n",
              "    border-color: transparent;\n",
              "    border-bottom-color: var(--fill-color);\n",
              "    animation:\n",
              "      spin 1s steps(1) infinite;\n",
              "  }\n",
              "\n",
              "  @keyframes spin {\n",
              "    0% {\n",
              "      border-color: transparent;\n",
              "      border-bottom-color: var(--fill-color);\n",
              "      border-left-color: var(--fill-color);\n",
              "    }\n",
              "    20% {\n",
              "      border-color: transparent;\n",
              "      border-left-color: var(--fill-color);\n",
              "      border-top-color: var(--fill-color);\n",
              "    }\n",
              "    30% {\n",
              "      border-color: transparent;\n",
              "      border-left-color: var(--fill-color);\n",
              "      border-top-color: var(--fill-color);\n",
              "      border-right-color: var(--fill-color);\n",
              "    }\n",
              "    40% {\n",
              "      border-color: transparent;\n",
              "      border-right-color: var(--fill-color);\n",
              "      border-top-color: var(--fill-color);\n",
              "    }\n",
              "    60% {\n",
              "      border-color: transparent;\n",
              "      border-right-color: var(--fill-color);\n",
              "    }\n",
              "    80% {\n",
              "      border-color: transparent;\n",
              "      border-right-color: var(--fill-color);\n",
              "      border-bottom-color: var(--fill-color);\n",
              "    }\n",
              "    90% {\n",
              "      border-color: transparent;\n",
              "      border-bottom-color: var(--fill-color);\n",
              "    }\n",
              "  }\n",
              "</style>\n",
              "\n",
              "  <script>\n",
              "    async function quickchart(key) {\n",
              "      const quickchartButtonEl =\n",
              "        document.querySelector('#' + key + ' button');\n",
              "      quickchartButtonEl.disabled = true;  // To prevent multiple clicks.\n",
              "      quickchartButtonEl.classList.add('colab-df-spinner');\n",
              "      try {\n",
              "        const charts = await google.colab.kernel.invokeFunction(\n",
              "            'suggestCharts', [key], {});\n",
              "      } catch (error) {\n",
              "        console.error('Error during call to suggestCharts:', error);\n",
              "      }\n",
              "      quickchartButtonEl.classList.remove('colab-df-spinner');\n",
              "      quickchartButtonEl.classList.add('colab-df-quickchart-complete');\n",
              "    }\n",
              "    (() => {\n",
              "      let quickchartButtonEl =\n",
              "        document.querySelector('#df-d7840f2b-387a-495a-b06d-691f716cc02a button');\n",
              "      quickchartButtonEl.style.display =\n",
              "        google.colab.kernel.accessAllowed ? 'block' : 'none';\n",
              "    })();\n",
              "  </script>\n",
              "</div>\n",
              "\n",
              "    </div>\n",
              "  </div>\n"
            ]
          },
          "metadata": {},
          "execution_count": 2
        }
      ]
    },
    {
      "cell_type": "code",
      "source": [
        "data.shape"
      ],
      "metadata": {
        "colab": {
          "base_uri": "https://localhost:8080/"
        },
        "id": "bTnw57DpFqu-",
        "outputId": "5c6286e4-590f-4c2f-b808-909658bca791"
      },
      "execution_count": 3,
      "outputs": [
        {
          "output_type": "execute_result",
          "data": {
            "text/plain": [
              "(392, 7)"
            ]
          },
          "metadata": {},
          "execution_count": 3
        }
      ]
    },
    {
      "cell_type": "code",
      "source": [
        "from sklearn.model_selection import train_test_split\n",
        "X_train, X_test, y_train, y_test = train_test_split(data.drop('MPG', axis=1), data['MPG'], test_size=0.3, random_state=42)"
      ],
      "metadata": {
        "id": "rfvzPzsmFsit"
      },
      "execution_count": 4,
      "outputs": []
    },
    {
      "cell_type": "code",
      "source": [
        "X_test, X_val, y_test, y_val = train_test_split(X_test, y_test, test_size = 0.5)"
      ],
      "metadata": {
        "id": "0eE4-0HmFtRt"
      },
      "execution_count": 5,
      "outputs": []
    },
    {
      "cell_type": "code",
      "source": [
        "#Z-score Normalizing\n",
        "from sklearn import preprocessing\n",
        "X_train = preprocessing.scale(X_train)\n",
        "X_val = preprocessing.scale(X_val)\n",
        "X_test = preprocessing.scale(X_test)"
      ],
      "metadata": {
        "id": "aLHua2FIFwuM"
      },
      "execution_count": 6,
      "outputs": []
    },
    {
      "cell_type": "markdown",
      "source": [
        "## Learning Curve"
      ],
      "metadata": {
        "id": "a2P2q-7JFy7c"
      }
    },
    {
      "cell_type": "code",
      "source": [
        "model = tf.keras.Sequential()\n",
        "model.add(InputLayer(input_shape=X_train.shape[1]))\n",
        "model.add(Dense(4, activation = 'relu')) # kernel_initializer= initializers.glorot_uniform(seed=42)\n",
        "model.add(Dense(2, activation = 'relu')) # 64, kernel_initializer= initializers.glorot_uniform(seed=42)\n",
        "model.add(Dense(1, activation='relu'))"
      ],
      "metadata": {
        "id": "IkQg_62fF0RZ"
      },
      "execution_count": 7,
      "outputs": []
    },
    {
      "cell_type": "code",
      "source": [
        "model.compile(loss=\"mean_absolute_error\")"
      ],
      "metadata": {
        "id": "xI1p8fVwF78s"
      },
      "execution_count": 8,
      "outputs": []
    },
    {
      "cell_type": "code",
      "source": [
        "history = model.fit(X_train, y_train, epochs=20, validation_data=(X_val,y_val))"
      ],
      "metadata": {
        "colab": {
          "base_uri": "https://localhost:8080/"
        },
        "id": "rjW5-3X5F-Vd",
        "outputId": "f284279e-9fe5-445b-e1d5-bb8d459062c7"
      },
      "execution_count": 9,
      "outputs": [
        {
          "output_type": "stream",
          "name": "stdout",
          "text": [
            "Epoch 1/20\n",
            "9/9 [==============================] - 2s 50ms/step - loss: 23.6231 - val_loss: 22.5019\n",
            "Epoch 2/20\n",
            "9/9 [==============================] - 0s 24ms/step - loss: 23.6074 - val_loss: 22.4883\n",
            "Epoch 3/20\n",
            "9/9 [==============================] - 0s 19ms/step - loss: 23.5929 - val_loss: 22.4739\n",
            "Epoch 4/20\n",
            "9/9 [==============================] - 0s 19ms/step - loss: 23.5783 - val_loss: 22.4591\n",
            "Epoch 5/20\n",
            "9/9 [==============================] - 0s 23ms/step - loss: 23.5639 - val_loss: 22.4437\n",
            "Epoch 6/20\n",
            "9/9 [==============================] - 0s 16ms/step - loss: 23.5491 - val_loss: 22.4280\n",
            "Epoch 7/20\n",
            "9/9 [==============================] - 0s 11ms/step - loss: 23.5338 - val_loss: 22.4117\n",
            "Epoch 8/20\n",
            "9/9 [==============================] - 0s 8ms/step - loss: 23.5180 - val_loss: 22.3956\n",
            "Epoch 9/20\n",
            "9/9 [==============================] - 0s 6ms/step - loss: 23.5020 - val_loss: 22.3789\n",
            "Epoch 10/20\n",
            "9/9 [==============================] - 0s 6ms/step - loss: 23.4855 - val_loss: 22.3609\n",
            "Epoch 11/20\n",
            "9/9 [==============================] - 0s 8ms/step - loss: 23.4680 - val_loss: 22.3416\n",
            "Epoch 12/20\n",
            "9/9 [==============================] - 0s 6ms/step - loss: 23.4493 - val_loss: 22.3218\n",
            "Epoch 13/20\n",
            "9/9 [==============================] - 0s 7ms/step - loss: 23.4302 - val_loss: 22.3012\n",
            "Epoch 14/20\n",
            "9/9 [==============================] - 0s 6ms/step - loss: 23.4102 - val_loss: 22.2803\n",
            "Epoch 15/20\n",
            "9/9 [==============================] - 0s 6ms/step - loss: 23.3891 - val_loss: 22.2584\n",
            "Epoch 16/20\n",
            "9/9 [==============================] - 0s 8ms/step - loss: 23.3675 - val_loss: 22.2363\n",
            "Epoch 17/20\n",
            "9/9 [==============================] - 0s 7ms/step - loss: 23.3445 - val_loss: 22.2127\n",
            "Epoch 18/20\n",
            "9/9 [==============================] - 0s 8ms/step - loss: 23.3199 - val_loss: 22.1888\n",
            "Epoch 19/20\n",
            "9/9 [==============================] - 0s 8ms/step - loss: 23.2946 - val_loss: 22.1635\n",
            "Epoch 20/20\n",
            "9/9 [==============================] - 0s 6ms/step - loss: 23.2682 - val_loss: 22.1371\n"
          ]
        }
      ]
    },
    {
      "cell_type": "code",
      "source": [
        "# plot training history\n",
        "plt.plot(history.history['loss'], label='train')\n",
        "plt.plot(history.history['val_loss'], label='validate')\n",
        "plt.xlabel(\"epochs\")\n",
        "plt.ylabel(\"Loss\")\n",
        "plt.legend()\n",
        "plt.show()"
      ],
      "metadata": {
        "colab": {
          "base_uri": "https://localhost:8080/",
          "height": 449
        },
        "id": "CAmdNkQoG_5r",
        "outputId": "fad1cac3-573d-46f9-bd7e-2582cdf892ae"
      },
      "execution_count": 10,
      "outputs": [
        {
          "output_type": "display_data",
          "data": {
            "text/plain": [
              "<Figure size 640x480 with 1 Axes>"
            ],
            "image/png": "[encoded data removed]"
          },
          "metadata": {}
        }
      ]
    },
    {
      "cell_type": "code",
      "source": [
        "# Accuracy (Root Mean Squared Error)\n",
        "y_pred = model.predict(X_test)\n",
        "from sklearn.metrics import mean_squared_error\n",
        "mean_squared_error(y_test, y_pred, squared=False)"
      ],
      "metadata": {
        "colab": {
          "base_uri": "https://localhost:8080/"
        },
        "id": "gPlX259HHDNh",
        "outputId": "f0007ed0-d1a7-459c-899a-8bb940618175"
      },
      "execution_count": 11,
      "outputs": [
        {
          "output_type": "stream",
          "name": "stdout",
          "text": [
            "2/2 [==============================] - 0s 12ms/step\n"
          ]
        },
        {
          "output_type": "execute_result",
          "data": {
            "text/plain": [
              "24.235386701081524"
            ]
          },
          "metadata": {},
          "execution_count": 11
        }
      ]
    },
    {
      "cell_type": "markdown",
      "source": [
        "## Hyper Parameter Tuning"
      ],
      "metadata": {
        "id": "owG_j3txHI6c"
      }
    },
    {
      "cell_type": "code",
      "source": [
        "# Function to create model, required for KerasClassifier\n",
        "def create_model(learn_rate,hidden_unit1,hidden_unit2):\n",
        "  # create model\n",
        "  model = tf.keras.Sequential()\n",
        "  model.add(InputLayer(input_shape=X_train.shape[1]))\n",
        "  model.add(Dense(hidden_unit1, activation = 'relu'))\n",
        "  model.add(Dense(hidden_unit1, activation = 'relu'))\n",
        "  model.add(Dense(1, activation='relu'))\n",
        "\n",
        "\t# Compile model\n",
        "  optimizer = Adam(learning_rate=learn_rate)\n",
        "  model.compile(loss='mean_absolute_error', optimizer= optimizer, metrics=[tf.keras.metrics.MeanSquaredError()])\n",
        "  return model"
      ],
      "metadata": {
        "id": "IcYbsQuBHF2u"
      },
      "execution_count": 12,
      "outputs": []
    },
    {
      "cell_type": "code",
      "source": [
        "# define the grid search parameters\n",
        "hidden_unit1=[4,32]\n",
        "hidden_unit2=[2,16]\n",
        "learn_rate = [0.001, 0.01]\n",
        "hyperparameters = dict(learn_rate = learn_rate,\n",
        "                       hidden_unit1=hidden_unit1,\n",
        "                       hidden_unit2=hidden_unit2)"
      ],
      "metadata": {
        "id": "nagfvb4tHPla"
      },
      "execution_count": 13,
      "outputs": []
    },
    {
      "cell_type": "code",
      "source": [
        "hyperparameters"
      ],
      "metadata": {
        "colab": {
          "base_uri": "https://localhost:8080/"
        },
        "id": "xxBj83SZHR6E",
        "outputId": "f3b53d55-b92e-4c14-a63d-d4e6c3134797"
      },
      "execution_count": 14,
      "outputs": [
        {
          "output_type": "execute_result",
          "data": {
            "text/plain": [
              "{'learn_rate': [0.001, 0.01], 'hidden_unit1': [4, 32], 'hidden_unit2': [2, 16]}"
            ]
          },
          "metadata": {},
          "execution_count": 14
        }
      ]
    },
    {
      "cell_type": "code",
      "source": [
        "# Wrap model so it can be used by scikit-learn\n",
        "neural_network = KerasRegressor(model=create_model,hidden_unit1=hidden_unit1,hidden_unit2=hidden_unit2,learn_rate=learn_rate)"
      ],
      "metadata": {
        "id": "BKSrnbnzHUT4"
      },
      "execution_count": 15,
      "outputs": []
    },
    {
      "cell_type": "code",
      "source": [
        "# Conduct Grid Search\n",
        "\n",
        "# Create grid search\n",
        "grid = GridSearchCV(estimator=neural_network, param_grid=hyperparameters, n_jobs=-1, cv=5)\n",
        "\n",
        "# Fit grid search\n",
        "grid_result = grid.fit(X_train, y_train)"
      ],
      "metadata": {
        "colab": {
          "base_uri": "https://localhost:8080/"
        },
        "id": "K22xbq7lHYZl",
        "outputId": "6ca3ca40-28ec-4835-ef28-845504d28881"
      },
      "execution_count": 16,
      "outputs": [
        {
          "output_type": "stream",
          "name": "stdout",
          "text": [
            "9/9 [==============================] - 1s 3ms/step - loss: 21.8670 - mean_squared_error: 552.7739\n"
          ]
        }
      ]
    },
    {
      "cell_type": "code",
      "source": [
        "neural_network.get_params().keys()"
      ],
      "metadata": {
        "colab": {
          "base_uri": "https://localhost:8080/"
        },
        "id": "X14sh2ZjHdC9",
        "outputId": "ee85a2d0-2737-4e97-e889-244c344cfd2b"
      },
      "execution_count": 17,
      "outputs": [
        {
          "output_type": "execute_result",
          "data": {
            "text/plain": [
              "dict_keys(['model', 'build_fn', 'warm_start', 'random_state', 'optimizer', 'loss', 'metrics', 'batch_size', 'validation_batch_size', 'verbose', 'callbacks', 'validation_split', 'shuffle', 'run_eagerly', 'epochs', 'hidden_unit1', 'hidden_unit2', 'learn_rate'])"
            ]
          },
          "metadata": {},
          "execution_count": 17
        }
      ]
    },
    {
      "cell_type": "code",
      "source": [
        "# Find best model's hyperparameters\n",
        "means = grid_result.cv_results_['mean_test_score']\n",
        "stds = grid_result.cv_results_['std_test_score']\n",
        "params = grid_result.cv_results_['params']\n",
        "\n",
        "for mean, stdev, param in zip(means, stds, params):\n",
        "    print(\"%f (%f) with: %r\" % (mean, stdev, param))\n",
        "\n",
        "print(\"\\nBest: %f using %s\" % (grid_result.best_score_, grid_result.best_params_))"
      ],
      "metadata": {
        "colab": {
          "base_uri": "https://localhost:8080/"
        },
        "id": "yeWnPdHJHgEt",
        "outputId": "b7f665d2-2b04-43fe-b44f-ad483ea3a220"
      },
      "execution_count": 18,
      "outputs": [
        {
          "output_type": "stream",
          "name": "stdout",
          "text": [
            "-9.051934 (1.536707) with: {'hidden_unit1': 4, 'hidden_unit2': 2, 'learn_rate': 0.001}\n",
            "-8.872349 (1.363386) with: {'hidden_unit1': 4, 'hidden_unit2': 2, 'learn_rate': 0.01}\n",
            "-9.069192 (1.418024) with: {'hidden_unit1': 4, 'hidden_unit2': 16, 'learn_rate': 0.001}\n",
            "-8.444935 (1.372247) with: {'hidden_unit1': 4, 'hidden_unit2': 16, 'learn_rate': 0.01}\n",
            "-9.018899 (1.582399) with: {'hidden_unit1': 32, 'hidden_unit2': 2, 'learn_rate': 0.001}\n",
            "-7.971452 (1.347596) with: {'hidden_unit1': 32, 'hidden_unit2': 2, 'learn_rate': 0.01}\n",
            "-8.901877 (1.474904) with: {'hidden_unit1': 32, 'hidden_unit2': 16, 'learn_rate': 0.001}\n",
            "-6.740154 (0.940619) with: {'hidden_unit1': 32, 'hidden_unit2': 16, 'learn_rate': 0.01}\n",
            "\n",
            "Best: -6.740154 using {'hidden_unit1': 32, 'hidden_unit2': 16, 'learn_rate': 0.01}\n"
          ]
        }
      ]
    },
    {
      "cell_type": "markdown",
      "source": [
        "## Create Final Model"
      ],
      "metadata": {
        "id": "4KBap9vqHyEW"
      }
    },
    {
      "cell_type": "code",
      "source": [
        "# create model\n",
        "model = tf.keras.Sequential()\n",
        "model.add(InputLayer(input_shape=X_train.shape[1]))\n",
        "model.add(Dense(grid_result.best_params_['hidden_unit1'], activation = 'relu'))\n",
        "model.add(Dense(grid_result.best_params_['hidden_unit2'], activation = 'relu'))\n",
        "model.add(Dense(1, activation='relu'))\n",
        "\n",
        "# Compile model\n",
        "optimizer = Adam(learning_rate=grid_result.best_params_['learn_rate'])\n",
        "model.compile(loss='mean_squared_error', optimizer='adam', metrics=[tf.keras.metrics.MeanSquaredError()])\n",
        "history = model.fit(X_train, y_train, epochs = 100, verbose = 1, validation_data=(X_val,y_val)) # batch_size = grid_result.best_params_['batch_size']"
      ],
      "metadata": {
        "colab": {
          "base_uri": "https://localhost:8080/"
        },
        "id": "KkD3PUBJHrn4",
        "outputId": "c37ed68c-3843-4216-e166-40d85e5479d2"
      },
      "execution_count": 19,
      "outputs": [
        {
          "output_type": "stream",
          "name": "stdout",
          "text": [
            "Epoch 1/100\n",
            "9/9 [==============================] - 3s 96ms/step - loss: 616.8810 - mean_squared_error: 616.8810 - val_loss: 547.4583 - val_mean_squared_error: 547.4583\n",
            "Epoch 2/100\n",
            "9/9 [==============================] - 0s 22ms/step - loss: 610.5256 - mean_squared_error: 610.5256 - val_loss: 541.0950 - val_mean_squared_error: 541.0950\n",
            "Epoch 3/100\n",
            "9/9 [==============================] - 0s 39ms/step - loss: 602.6124 - mean_squared_error: 602.6124 - val_loss: 532.7651 - val_mean_squared_error: 532.7651\n",
            "Epoch 4/100\n",
            "9/9 [==============================] - 0s 26ms/step - loss: 592.3864 - mean_squared_error: 592.3864 - val_loss: 521.4838 - val_mean_squared_error: 521.4838\n",
            "Epoch 5/100\n",
            "9/9 [==============================] - 0s 35ms/step - loss: 579.0819 - mean_squared_error: 579.0819 - val_loss: 507.8989 - val_mean_squared_error: 507.8989\n",
            "Epoch 6/100\n",
            "9/9 [==============================] - 0s 29ms/step - loss: 563.1417 - mean_squared_error: 563.1417 - val_loss: 491.6837 - val_mean_squared_error: 491.6837\n",
            "Epoch 7/100\n",
            "9/9 [==============================] - 0s 31ms/step - loss: 544.5716 - mean_squared_error: 544.5716 - val_loss: 472.3660 - val_mean_squared_error: 472.3660\n",
            "Epoch 8/100\n",
            "9/9 [==============================] - 0s 33ms/step - loss: 522.7444 - mean_squared_error: 522.7444 - val_loss: 449.9373 - val_mean_squared_error: 449.9373\n",
            "Epoch 9/100\n",
            "9/9 [==============================] - 0s 32ms/step - loss: 496.9177 - mean_squared_error: 496.9177 - val_loss: 424.4275 - val_mean_squared_error: 424.4275\n",
            "Epoch 10/100\n",
            "9/9 [==============================] - 0s 26ms/step - loss: 467.6803 - mean_squared_error: 467.6803 - val_loss: 395.7007 - val_mean_squared_error: 395.7007\n",
            "Epoch 11/100\n",
            "9/9 [==============================] - 0s 36ms/step - loss: 435.4038 - mean_squared_error: 435.4038 - val_loss: 363.3799 - val_mean_squared_error: 363.3799\n",
            "Epoch 12/100\n",
            "9/9 [==============================] - 0s 21ms/step - loss: 399.4275 - mean_squared_error: 399.4275 - val_loss: 328.3074 - val_mean_squared_error: 328.3074\n",
            "Epoch 13/100\n",
            "9/9 [==============================] - 0s 13ms/step - loss: 359.7493 - mean_squared_error: 359.7493 - val_loss: 290.9060 - val_mean_squared_error: 290.9060\n",
            "Epoch 14/100\n",
            "9/9 [==============================] - 0s 12ms/step - loss: 317.8031 - mean_squared_error: 317.8031 - val_loss: 251.2963 - val_mean_squared_error: 251.2963\n",
            "Epoch 15/100\n",
            "9/9 [==============================] - 0s 12ms/step - loss: 274.5067 - mean_squared_error: 274.5067 - val_loss: 211.0276 - val_mean_squared_error: 211.0276\n",
            "Epoch 16/100\n",
            "9/9 [==============================] - 0s 15ms/step - loss: 229.7742 - mean_squared_error: 229.7742 - val_loss: 172.4747 - val_mean_squared_error: 172.4747\n",
            "Epoch 17/100\n",
            "9/9 [==============================] - 0s 16ms/step - loss: 188.5501 - mean_squared_error: 188.5501 - val_loss: 135.8196 - val_mean_squared_error: 135.8196\n",
            "Epoch 18/100\n",
            "9/9 [==============================] - 0s 15ms/step - loss: 149.3470 - mean_squared_error: 149.3470 - val_loss: 104.3287 - val_mean_squared_error: 104.3287\n",
            "Epoch 19/100\n",
            "9/9 [==============================] - 0s 14ms/step - loss: 114.8035 - mean_squared_error: 114.8035 - val_loss: 79.4155 - val_mean_squared_error: 79.4155\n",
            "Epoch 20/100\n",
            "9/9 [==============================] - 0s 13ms/step - loss: 88.3089 - mean_squared_error: 88.3089 - val_loss: 60.6201 - val_mean_squared_error: 60.6201\n",
            "Epoch 21/100\n",
            "9/9 [==============================] - 0s 13ms/step - loss: 68.5592 - mean_squared_error: 68.5592 - val_loss: 48.3440 - val_mean_squared_error: 48.3440\n",
            "Epoch 22/100\n",
            "9/9 [==============================] - 0s 11ms/step - loss: 55.0257 - mean_squared_error: 55.0257 - val_loss: 41.5315 - val_mean_squared_error: 41.5315\n",
            "Epoch 23/100\n",
            "9/9 [==============================] - 0s 8ms/step - loss: 47.2103 - mean_squared_error: 47.2103 - val_loss: 38.1096 - val_mean_squared_error: 38.1096\n",
            "Epoch 24/100\n",
            "9/9 [==============================] - 0s 9ms/step - loss: 42.6066 - mean_squared_error: 42.6066 - val_loss: 36.4513 - val_mean_squared_error: 36.4513\n",
            "Epoch 25/100\n",
            "9/9 [==============================] - 0s 11ms/step - loss: 39.8682 - mean_squared_error: 39.8682 - val_loss: 35.2286 - val_mean_squared_error: 35.2286\n",
            "Epoch 26/100\n",
            "9/9 [==============================] - 0s 13ms/step - loss: 37.7041 - mean_squared_error: 37.7041 - val_loss: 33.8531 - val_mean_squared_error: 33.8531\n",
            "Epoch 27/100\n",
            "9/9 [==============================] - 0s 9ms/step - loss: 35.7725 - mean_squared_error: 35.7725 - val_loss: 32.3603 - val_mean_squared_error: 32.3603\n",
            "Epoch 28/100\n",
            "9/9 [==============================] - 0s 10ms/step - loss: 33.9749 - mean_squared_error: 33.9749 - val_loss: 30.9284 - val_mean_squared_error: 30.9284\n",
            "Epoch 29/100\n",
            "9/9 [==============================] - 0s 9ms/step - loss: 32.3998 - mean_squared_error: 32.3998 - val_loss: 29.4003 - val_mean_squared_error: 29.4003\n",
            "Epoch 30/100\n",
            "9/9 [==============================] - 0s 8ms/step - loss: 30.9494 - mean_squared_error: 30.9494 - val_loss: 28.0385 - val_mean_squared_error: 28.0385\n",
            "Epoch 31/100\n",
            "9/9 [==============================] - 0s 11ms/step - loss: 29.5962 - mean_squared_error: 29.5962 - val_loss: 26.7864 - val_mean_squared_error: 26.7864\n",
            "Epoch 32/100\n",
            "9/9 [==============================] - 0s 8ms/step - loss: 28.3643 - mean_squared_error: 28.3643 - val_loss: 25.8249 - val_mean_squared_error: 25.8249\n",
            "Epoch 33/100\n",
            "9/9 [==============================] - 0s 8ms/step - loss: 27.1545 - mean_squared_error: 27.1545 - val_loss: 24.7702 - val_mean_squared_error: 24.7702\n",
            "Epoch 34/100\n",
            "9/9 [==============================] - 0s 9ms/step - loss: 26.0994 - mean_squared_error: 26.0994 - val_loss: 23.9441 - val_mean_squared_error: 23.9441\n",
            "Epoch 35/100\n",
            "9/9 [==============================] - 0s 9ms/step - loss: 25.0881 - mean_squared_error: 25.0881 - val_loss: 22.9811 - val_mean_squared_error: 22.9811\n",
            "Epoch 36/100\n",
            "9/9 [==============================] - 0s 13ms/step - loss: 24.1303 - mean_squared_error: 24.1303 - val_loss: 22.3382 - val_mean_squared_error: 22.3382\n",
            "Epoch 37/100\n",
            "9/9 [==============================] - 0s 8ms/step - loss: 23.3148 - mean_squared_error: 23.3148 - val_loss: 21.4860 - val_mean_squared_error: 21.4860\n",
            "Epoch 38/100\n",
            "9/9 [==============================] - 0s 8ms/step - loss: 22.4878 - mean_squared_error: 22.4878 - val_loss: 20.6783 - val_mean_squared_error: 20.6783\n",
            "Epoch 39/100\n",
            "9/9 [==============================] - 0s 11ms/step - loss: 21.7461 - mean_squared_error: 21.7461 - val_loss: 20.0514 - val_mean_squared_error: 20.0514\n",
            "Epoch 40/100\n",
            "9/9 [==============================] - 0s 12ms/step - loss: 21.0540 - mean_squared_error: 21.0540 - val_loss: 19.3091 - val_mean_squared_error: 19.3091\n",
            "Epoch 41/100\n",
            "9/9 [==============================] - 0s 10ms/step - loss: 20.3575 - mean_squared_error: 20.3575 - val_loss: 18.7227 - val_mean_squared_error: 18.7227\n",
            "Epoch 42/100\n",
            "9/9 [==============================] - 0s 11ms/step - loss: 19.7784 - mean_squared_error: 19.7784 - val_loss: 18.0433 - val_mean_squared_error: 18.0433\n",
            "Epoch 43/100\n",
            "9/9 [==============================] - 0s 27ms/step - loss: 19.1579 - mean_squared_error: 19.1579 - val_loss: 17.5799 - val_mean_squared_error: 17.5799\n",
            "Epoch 44/100\n",
            "9/9 [==============================] - 0s 16ms/step - loss: 18.6140 - mean_squared_error: 18.6140 - val_loss: 17.1761 - val_mean_squared_error: 17.1761\n",
            "Epoch 45/100\n",
            "9/9 [==============================] - 0s 35ms/step - loss: 18.0922 - mean_squared_error: 18.0922 - val_loss: 16.7373 - val_mean_squared_error: 16.7373\n",
            "Epoch 46/100\n",
            "9/9 [==============================] - 0s 28ms/step - loss: 17.6037 - mean_squared_error: 17.6037 - val_loss: 16.3025 - val_mean_squared_error: 16.3025\n",
            "Epoch 47/100\n",
            "9/9 [==============================] - 0s 24ms/step - loss: 17.1281 - mean_squared_error: 17.1281 - val_loss: 15.7597 - val_mean_squared_error: 15.7597\n",
            "Epoch 48/100\n",
            "9/9 [==============================] - 0s 18ms/step - loss: 16.7162 - mean_squared_error: 16.7162 - val_loss: 15.4950 - val_mean_squared_error: 15.4950\n",
            "Epoch 49/100\n",
            "9/9 [==============================] - 0s 13ms/step - loss: 16.3139 - mean_squared_error: 16.3139 - val_loss: 15.0071 - val_mean_squared_error: 15.0071\n",
            "Epoch 50/100\n",
            "9/9 [==============================] - 0s 19ms/step - loss: 15.9502 - mean_squared_error: 15.9502 - val_loss: 14.6941 - val_mean_squared_error: 14.6941\n",
            "Epoch 51/100\n",
            "9/9 [==============================] - 0s 15ms/step - loss: 15.5938 - mean_squared_error: 15.5938 - val_loss: 14.2265 - val_mean_squared_error: 14.2265\n",
            "Epoch 52/100\n",
            "9/9 [==============================] - 0s 17ms/step - loss: 15.2465 - mean_squared_error: 15.2465 - val_loss: 14.0568 - val_mean_squared_error: 14.0568\n",
            "Epoch 53/100\n",
            "9/9 [==============================] - 0s 18ms/step - loss: 14.9378 - mean_squared_error: 14.9378 - val_loss: 13.9611 - val_mean_squared_error: 13.9611\n",
            "Epoch 54/100\n",
            "9/9 [==============================] - 0s 13ms/step - loss: 14.6012 - mean_squared_error: 14.6012 - val_loss: 13.6512 - val_mean_squared_error: 13.6512\n",
            "Epoch 55/100\n",
            "9/9 [==============================] - 0s 11ms/step - loss: 14.3447 - mean_squared_error: 14.3447 - val_loss: 13.4242 - val_mean_squared_error: 13.4242\n",
            "Epoch 56/100\n",
            "9/9 [==============================] - 0s 12ms/step - loss: 14.0481 - mean_squared_error: 14.0481 - val_loss: 13.1109 - val_mean_squared_error: 13.1109\n",
            "Epoch 57/100\n",
            "9/9 [==============================] - 0s 23ms/step - loss: 13.8065 - mean_squared_error: 13.8065 - val_loss: 12.7559 - val_mean_squared_error: 12.7559\n",
            "Epoch 58/100\n",
            "9/9 [==============================] - 0s 25ms/step - loss: 13.5593 - mean_squared_error: 13.5593 - val_loss: 12.5492 - val_mean_squared_error: 12.5492\n",
            "Epoch 59/100\n",
            "9/9 [==============================] - 0s 25ms/step - loss: 13.3351 - mean_squared_error: 13.3351 - val_loss: 12.4027 - val_mean_squared_error: 12.4027\n",
            "Epoch 60/100\n",
            "9/9 [==============================] - 0s 6ms/step - loss: 13.1247 - mean_squared_error: 13.1247 - val_loss: 12.1292 - val_mean_squared_error: 12.1292\n",
            "Epoch 61/100\n",
            "9/9 [==============================] - 0s 8ms/step - loss: 12.9112 - mean_squared_error: 12.9112 - val_loss: 11.9626 - val_mean_squared_error: 11.9626\n",
            "Epoch 62/100\n",
            "9/9 [==============================] - 0s 7ms/step - loss: 12.7152 - mean_squared_error: 12.7152 - val_loss: 12.0165 - val_mean_squared_error: 12.0165\n",
            "Epoch 63/100\n",
            "9/9 [==============================] - 0s 6ms/step - loss: 12.5108 - mean_squared_error: 12.5108 - val_loss: 11.8600 - val_mean_squared_error: 11.8600\n",
            "Epoch 64/100\n",
            "9/9 [==============================] - 0s 8ms/step - loss: 12.3320 - mean_squared_error: 12.3320 - val_loss: 11.6111 - val_mean_squared_error: 11.6111\n",
            "Epoch 65/100\n",
            "9/9 [==============================] - 0s 9ms/step - loss: 12.1672 - mean_squared_error: 12.1672 - val_loss: 11.4409 - val_mean_squared_error: 11.4409\n",
            "Epoch 66/100\n",
            "9/9 [==============================] - 0s 10ms/step - loss: 12.0147 - mean_squared_error: 12.0147 - val_loss: 11.2595 - val_mean_squared_error: 11.2595\n",
            "Epoch 67/100\n",
            "9/9 [==============================] - 0s 7ms/step - loss: 11.8432 - mean_squared_error: 11.8432 - val_loss: 11.0588 - val_mean_squared_error: 11.0588\n",
            "Epoch 68/100\n",
            "9/9 [==============================] - 0s 9ms/step - loss: 11.7123 - mean_squared_error: 11.7123 - val_loss: 10.9425 - val_mean_squared_error: 10.9425\n",
            "Epoch 69/100\n",
            "9/9 [==============================] - 0s 6ms/step - loss: 11.5713 - mean_squared_error: 11.5713 - val_loss: 10.9196 - val_mean_squared_error: 10.9196\n",
            "Epoch 70/100\n",
            "9/9 [==============================] - 0s 8ms/step - loss: 11.4261 - mean_squared_error: 11.4261 - val_loss: 10.8497 - val_mean_squared_error: 10.8497\n",
            "Epoch 71/100\n",
            "9/9 [==============================] - 0s 8ms/step - loss: 11.3104 - mean_squared_error: 11.3104 - val_loss: 10.9187 - val_mean_squared_error: 10.9187\n",
            "Epoch 72/100\n",
            "9/9 [==============================] - 0s 6ms/step - loss: 11.2133 - mean_squared_error: 11.2133 - val_loss: 10.5614 - val_mean_squared_error: 10.5614\n",
            "Epoch 73/100\n",
            "9/9 [==============================] - 0s 8ms/step - loss: 11.0438 - mean_squared_error: 11.0438 - val_loss: 10.6516 - val_mean_squared_error: 10.6516\n",
            "Epoch 74/100\n",
            "9/9 [==============================] - 0s 7ms/step - loss: 10.9511 - mean_squared_error: 10.9511 - val_loss: 10.7763 - val_mean_squared_error: 10.7763\n",
            "Epoch 75/100\n",
            "9/9 [==============================] - 0s 8ms/step - loss: 10.8387 - mean_squared_error: 10.8387 - val_loss: 10.5895 - val_mean_squared_error: 10.5895\n",
            "Epoch 76/100\n",
            "9/9 [==============================] - 0s 6ms/step - loss: 10.7077 - mean_squared_error: 10.7077 - val_loss: 10.4089 - val_mean_squared_error: 10.4089\n",
            "Epoch 77/100\n",
            "9/9 [==============================] - 0s 8ms/step - loss: 10.6146 - mean_squared_error: 10.6146 - val_loss: 10.2039 - val_mean_squared_error: 10.2039\n",
            "Epoch 78/100\n",
            "9/9 [==============================] - 0s 6ms/step - loss: 10.5256 - mean_squared_error: 10.5256 - val_loss: 10.1389 - val_mean_squared_error: 10.1389\n",
            "Epoch 79/100\n",
            "9/9 [==============================] - 0s 7ms/step - loss: 10.4171 - mean_squared_error: 10.4171 - val_loss: 10.2262 - val_mean_squared_error: 10.2262\n",
            "Epoch 80/100\n",
            "9/9 [==============================] - 0s 6ms/step - loss: 10.3243 - mean_squared_error: 10.3243 - val_loss: 10.1568 - val_mean_squared_error: 10.1568\n",
            "Epoch 81/100\n",
            "9/9 [==============================] - 0s 9ms/step - loss: 10.2532 - mean_squared_error: 10.2532 - val_loss: 10.2556 - val_mean_squared_error: 10.2556\n",
            "Epoch 82/100\n",
            "9/9 [==============================] - 0s 6ms/step - loss: 10.1442 - mean_squared_error: 10.1442 - val_loss: 10.2227 - val_mean_squared_error: 10.2227\n",
            "Epoch 83/100\n",
            "9/9 [==============================] - 0s 6ms/step - loss: 10.0397 - mean_squared_error: 10.0397 - val_loss: 10.0280 - val_mean_squared_error: 10.0280\n",
            "Epoch 84/100\n",
            "9/9 [==============================] - 0s 7ms/step - loss: 9.9690 - mean_squared_error: 9.9690 - val_loss: 10.0589 - val_mean_squared_error: 10.0589\n",
            "Epoch 85/100\n",
            "9/9 [==============================] - 0s 9ms/step - loss: 9.8902 - mean_squared_error: 9.8902 - val_loss: 9.8205 - val_mean_squared_error: 9.8205\n",
            "Epoch 86/100\n",
            "9/9 [==============================] - 0s 8ms/step - loss: 9.8112 - mean_squared_error: 9.8112 - val_loss: 9.8345 - val_mean_squared_error: 9.8345\n",
            "Epoch 87/100\n",
            "9/9 [==============================] - 0s 6ms/step - loss: 9.7339 - mean_squared_error: 9.7339 - val_loss: 9.8226 - val_mean_squared_error: 9.8226\n",
            "Epoch 88/100\n",
            "9/9 [==============================] - 0s 9ms/step - loss: 9.6581 - mean_squared_error: 9.6581 - val_loss: 9.8822 - val_mean_squared_error: 9.8822\n",
            "Epoch 89/100\n",
            "9/9 [==============================] - 0s 7ms/step - loss: 9.5827 - mean_squared_error: 9.5827 - val_loss: 9.8142 - val_mean_squared_error: 9.8142\n",
            "Epoch 90/100\n",
            "9/9 [==============================] - 0s 9ms/step - loss: 9.5135 - mean_squared_error: 9.5135 - val_loss: 9.8056 - val_mean_squared_error: 9.8056\n",
            "Epoch 91/100\n",
            "9/9 [==============================] - 0s 7ms/step - loss: 9.4733 - mean_squared_error: 9.4733 - val_loss: 9.9329 - val_mean_squared_error: 9.9329\n",
            "Epoch 92/100\n",
            "9/9 [==============================] - 0s 7ms/step - loss: 9.3656 - mean_squared_error: 9.3656 - val_loss: 9.7713 - val_mean_squared_error: 9.7713\n",
            "Epoch 93/100\n",
            "9/9 [==============================] - 0s 7ms/step - loss: 9.3120 - mean_squared_error: 9.3120 - val_loss: 9.7428 - val_mean_squared_error: 9.7428\n",
            "Epoch 94/100\n",
            "9/9 [==============================] - 0s 8ms/step - loss: 9.2450 - mean_squared_error: 9.2450 - val_loss: 9.6254 - val_mean_squared_error: 9.6254\n",
            "Epoch 95/100\n",
            "9/9 [==============================] - 0s 9ms/step - loss: 9.1865 - mean_squared_error: 9.1865 - val_loss: 9.6580 - val_mean_squared_error: 9.6580\n",
            "Epoch 96/100\n",
            "9/9 [==============================] - 0s 7ms/step - loss: 9.1339 - mean_squared_error: 9.1339 - val_loss: 9.6092 - val_mean_squared_error: 9.6092\n",
            "Epoch 97/100\n",
            "9/9 [==============================] - 0s 7ms/step - loss: 9.0623 - mean_squared_error: 9.0623 - val_loss: 9.6032 - val_mean_squared_error: 9.6032\n",
            "Epoch 98/100\n",
            "9/9 [==============================] - 0s 9ms/step - loss: 9.0031 - mean_squared_error: 9.0031 - val_loss: 9.6457 - val_mean_squared_error: 9.6457\n",
            "Epoch 99/100\n",
            "9/9 [==============================] - 0s 6ms/step - loss: 8.9497 - mean_squared_error: 8.9497 - val_loss: 9.6929 - val_mean_squared_error: 9.6929\n",
            "Epoch 100/100\n",
            "9/9 [==============================] - 0s 8ms/step - loss: 8.9201 - mean_squared_error: 8.9201 - val_loss: 9.5100 - val_mean_squared_error: 9.5100\n"
          ]
        }
      ]
    },
    {
      "cell_type": "code",
      "source": [
        "# Accuracy (Root Mean Squared Error)\n",
        "y_pred = model.predict(X_test)\n",
        "from sklearn.metrics import mean_squared_error\n",
        "mean_squared_error(y_test, y_pred, squared=False)"
      ],
      "metadata": {
        "colab": {
          "base_uri": "https://localhost:8080/"
        },
        "id": "g7FGWcHLH1j4",
        "outputId": "67e8758a-e1d8-4009-e812-4c808d42d2ba"
      },
      "execution_count": 20,
      "outputs": [
        {
          "output_type": "stream",
          "name": "stdout",
          "text": [
            "2/2 [==============================] - 0s 10ms/step\n"
          ]
        },
        {
          "output_type": "execute_result",
          "data": {
            "text/plain": [
              "2.8399796077508466"
            ]
          },
          "metadata": {},
          "execution_count": 20
        }
      ]
    },
    {
      "cell_type": "code",
      "source": [],
      "metadata": {
        "id": "6BV2gi2_H68J"
      },
      "execution_count": null,
      "outputs": []
    }
  ]
}